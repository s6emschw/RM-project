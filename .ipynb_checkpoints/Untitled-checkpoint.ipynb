{
 "cells": [
  {
   "cell_type": "code",
   "execution_count": 1,
   "id": "b0ab9203",
   "metadata": {},
   "outputs": [],
   "source": [
    "import numpy as np \n",
    "import pandas as pd \n",
    "from sklearn.linear_model import LinearRegression, Ridge, ElasticNet, Lasso\n",
    "from sklearn.preprocessing import StandardScaler\n",
    "from functools import reduce  \n",
    "import matplotlib.pyplot as plt\n",
    "import statsmodels.api as sm\n",
    "import seaborn as sns\n",
    "from mlxtend.evaluate import bias_variance_decomp\n",
    "from sklearn import metrics\n",
    "from sklearn.model_selection import train_test_split\n",
    "\n",
    "import warnings\n",
    "warnings.filterwarnings('ignore')"
   ]
  },
  {
   "cell_type": "code",
   "execution_count": 2,
   "id": "0361ac62",
   "metadata": {},
   "outputs": [],
   "source": [
    "def get_predictions(n, true_betas, iterations, alphas, cor_factor, X_test): \n",
    "\n",
    "    store_predictions_list_ridge = []\n",
    "    store_predictions_list_lasso = []\n",
    "    store_predictions_list_elnet_20 = []\n",
    "    store_predictions_list_elnet_50 = []\n",
    "    store_predictions_list_elnet_70 = []\n",
    "\n",
    "    for i in range(iterations):\n",
    "    \n",
    "        store_predictions_ridge = []\n",
    "        store_predictions_lasso = []\n",
    "        store_predictions_elnet_20 = []\n",
    "        store_predictions_elnet_50 = []\n",
    "        store_predictions_elnet_70 = []\n",
    "    \n",
    "        y_train, X_train, df_train = get_sim_data(n, p, cor_factor, true_betas) # get test data \n",
    "\n",
    "        for a in alphas: \n",
    "\n",
    "            ridge = Ridge(alpha=a).fit(X_train, y_train)\n",
    "            ridge_predict = ridge.predict(X_test)\n",
    "            ridge_predict_select = ridge_predict[14]\n",
    "            store_predictions_ridge.append(ridge_predict_select) \n",
    "        \n",
    "            lasso = Lasso(alpha=a).fit(X_train, y_train)\n",
    "            lasso_predict = lasso.predict(X_test)\n",
    "            lasso_predict_select = lasso_predict[14]\n",
    "            store_predictions_lasso.append(lasso_predict_select) \n",
    "        \n",
    "            elnet_20 = ElasticNet(alpha=a, l1_ratio=0.2).fit(X_train, y_train)\n",
    "            elnet_20_predict = elnet_20.predict(X_test)\n",
    "            elnet_20_predict_select = elnet_20_predict[14]\n",
    "            store_predictions_elnet_20.append(elnet_20_predict_select)\n",
    "        \n",
    "            elnet_50 = ElasticNet(alpha=a, l1_ratio=0.5).fit(X_train, y_train)\n",
    "            elnet_50_predict = elnet_50.predict(X_test)\n",
    "            elnet_50_predict_select = elnet_50_predict[14]\n",
    "            store_predictions_elnet_50.append(elnet_50_predict_select)\n",
    "        \n",
    "            elnet_70 = ElasticNet(alpha=a, l1_ratio=0.7).fit(X_train, y_train)\n",
    "            elnet_70_predict = elnet_70.predict(X_test)\n",
    "            elnet_70_predict_select = elnet_70_predict[14]\n",
    "            store_predictions_elnet_70.append(elnet_70_predict_select)\n",
    "    \n",
    "        store_predictions_list_ridge.append(store_predictions_ridge)\n",
    "        store_predictions_list_lasso.append(store_predictions_lasso)\n",
    "        store_predictions_list_elnet_20.append(store_predictions_elnet_20)\n",
    "        store_predictions_list_elnet_50.append(store_predictions_elnet_50)\n",
    "        store_predictions_list_elnet_70.append(store_predictions_elnet_70)\n",
    "        \n",
    "        store_predictions_df_ridge = pd.DataFrame(store_predictions_list_ridge)\n",
    "        store_predictions_df_lasso = pd.DataFrame(store_predictions_list_lasso)\n",
    "        store_predictions_df_elnet_20 = pd.DataFrame(store_predictions_list_elnet_20)\n",
    "        store_predictions_df_elnet_50 = pd.DataFrame(store_predictions_list_elnet_50)\n",
    "        store_predictions_df_elnet_70 = pd.DataFrame(store_predictions_list_elnet_70)\n",
    "        \n",
    "    predictions_dfs = [store_predictions_df_ridge, store_predictions_df_lasso, store_predictions_df_elnet_20,\n",
    "                           store_predictions_df_elnet_50, store_predictions_df_elnet_70]\n",
    "        \n",
    "    return predictions_dfs\n",
    "\n",
    "\n"
   ]
  },
  {
   "cell_type": "code",
   "execution_count": 3,
   "id": "40834654",
   "metadata": {},
   "outputs": [],
   "source": [
    "def compute_mse(predictions_df_list, y_test):\n",
    "\n",
    "    store_mse_lists = []\n",
    "    store_variance_lists = []\n",
    "    store_bias_sq_lists = []\n",
    "\n",
    "    for df in enumerate(predictions_df_list):\n",
    "    \n",
    "        store_mse = []\n",
    "        store_variance = []\n",
    "        store_bias_sq = []\n",
    "    \n",
    "        for i in df[1].columns: \n",
    "\n",
    "            mse = np.sum((np.asarray(df[1].iloc[:,i]) - y_test.iloc[14])**2) / iterations\n",
    "            variance = np.mean((np.mean(df[1].iloc[:,i]) - np.asarray(df[1].iloc[:,i]))**2)\n",
    "            bias_squared = (np.mean(df[1].iloc[:,i]) - y_test.iloc[14])**2\n",
    "    \n",
    "            store_mse.append(mse)\n",
    "            store_variance.append(variance)\n",
    "            store_bias_sq.append(bias_squared)\n",
    "    \n",
    "        store_mse_lists.append(store_mse)\n",
    "        store_variance_lists.append(store_variance)\n",
    "        store_bias_sq_lists.append(store_bias_sq)\n",
    "    \n",
    "    return store_mse_lists, store_variance_lists, store_bias_sq_lists"
   ]
  },
  {
   "cell_type": "code",
   "execution_count": 4,
   "id": "682f53b5",
   "metadata": {},
   "outputs": [],
   "source": [
    "def get_sim_data(n, p, cor_factor, true_betas):\n",
    "    \n",
    "    sd_vec = np.ones(p) \n",
    "    mean = np.zeros(p)\n",
    "    \n",
    "    \n",
    "    cor_matrix = np.zeros([p,p])\n",
    "    store_corr = []\n",
    "\n",
    "    for i in list(range(1, p)):\n",
    "    \n",
    "        for j in list(range(i + 1, p + 1)): \n",
    "            \n",
    "            corr = cor_factor ** abs(i - j)\n",
    "            store_corr.append(corr)\n",
    "\n",
    "    cor_matrix[np.triu_indices(p, 1)] = store_corr\n",
    "    cor_matrix[np.tril_indices(p, -1)] = cor_matrix.T[np.tril_indices(p, -1)]\n",
    "    np.fill_diagonal(cor_matrix, 1)\n",
    "    \n",
    "    D = np.diag(sd_vec)\n",
    "    sigma = D.dot(cor_matrix).dot(D)\n",
    "    \n",
    "    X = np.random.multivariate_normal(mean, sigma, n)\n",
    "    \n",
    "    eps = np.random.normal(0, 1, n)\n",
    "\n",
    "    y = X.dot(true_betas) + eps \n",
    "    \n",
    "    y = pd.Series(y, name = \"y\")\n",
    "    \n",
    "    column_names = []\n",
    "    \n",
    "    for value in range(1, p + 1): \n",
    "        \n",
    "        column = f\"X_{value}\"\n",
    "        column_names.append(column)\n",
    "        \n",
    "    \n",
    "    X = pd.DataFrame(X, columns = column_names)\n",
    "    \n",
    "    df = pd.concat([y, X], axis = 1)\n",
    "    \n",
    "    return y, X, df\n"
   ]
  },
  {
   "cell_type": "code",
   "execution_count": 5,
   "id": "ea050d8a",
   "metadata": {},
   "outputs": [],
   "source": [
    "def generate_true_betas(non_zero_betas, zero_betas):\n",
    "\n",
    "    store_true_betas = []\n",
    "\n",
    "    for i, j in zip(non_zero_betas, zero_betas): \n",
    "    \n",
    "        non_zeros = np.repeat(2, i)\n",
    "        zeros = np.repeat(0, j)\n",
    "    \n",
    "        true_betas = np.concatenate([non_zeros, zeros])\n",
    "        store_true_betas.append(true_betas)\n",
    "        \n",
    "    return store_true_betas\n",
    "    \n",
    "\n"
   ]
  },
  {
   "cell_type": "code",
   "execution_count": 6,
   "id": "e785cc3b",
   "metadata": {},
   "outputs": [],
   "source": [
    "#np.random.seed(123)\n",
    "#np.random.seed(190)\n",
    "#np.random.seed(200)\n",
    "np.random.seed(210)\n",
    "#np.random.seed(66)\n",
    "\n",
    "\n",
    "n = 20 \n",
    "p = 8 \n",
    "true_betas = [3, 1.5, 0, 0, 2, 0, 0, 0]\n",
    "cor_factor = [0, 0.1, 0.3, 0.5, 0.7, 0.8]\n",
    "iterations = 500\n",
    "alphas = np.logspace(-4,1,200)\n",
    "\n",
    "store_X_test = []\n",
    "store_y_test = []\n",
    "\n",
    "\n",
    "for i in cor_factor: \n",
    "\n",
    "    y_test, X_test, df_test= get_sim_data(n, p, i, true_betas) # get training data\n",
    "    store_X_test.append(X_test)\n",
    "    store_y_test.append(y_test)\n",
    "\n",
    "df_predictions_1 = get_predictions(n, true_betas, iterations, alphas, cor_factor[0], store_X_test[0])\n",
    "df_predictions_2 = get_predictions(n, true_betas, iterations, alphas, cor_factor[1], store_X_test[1])\n",
    "df_predictions_3 = get_predictions(n, true_betas, iterations, alphas, cor_factor[2], store_X_test[2])\n",
    "df_predictions_4 = get_predictions(n, true_betas, iterations, alphas, cor_factor[3], store_X_test[3])\n",
    "df_predictions_5 = get_predictions(n, true_betas, iterations, alphas, cor_factor[4], store_X_test[4])\n",
    "df_predictions_6 = get_predictions(n, true_betas, iterations, alphas, cor_factor[5], store_X_test[5])\n",
    "\n",
    "\n",
    "store_mse_1, store_variance_1, store_bias_sq_1 = compute_mse(df_predictions_1, store_y_test[0])\n",
    "store_mse_2, store_variance_2, store_bias_sq_2 = compute_mse(df_predictions_2, store_y_test[1])\n",
    "store_mse_3, store_variance_3, store_bias_sq_3 = compute_mse(df_predictions_3, store_y_test[2])\n",
    "store_mse_4, store_variance_4, store_bias_sq_4 = compute_mse(df_predictions_4, store_y_test[3])\n",
    "store_mse_5, store_variance_5, store_bias_sq_5 = compute_mse(df_predictions_5, store_y_test[4])\n",
    "store_mse_6, store_variance_6, store_bias_sq_6 = compute_mse(df_predictions_6, store_y_test[5])\n",
    "\n"
   ]
  },
  {
   "cell_type": "code",
   "execution_count": 7,
   "id": "16763b51",
   "metadata": {},
   "outputs": [
    {
     "name": "stdout",
     "output_type": "stream",
     "text": [
      "1.294973556133842 0\n",
      "1.2951180617502536 0\n",
      "1.2962359060542044 0\n",
      "1.2958158266056012 0\n",
      "1.2951455563509326 0\n"
     ]
    }
   ],
   "source": [
    "for i in store_mse_1: \n",
    "    \n",
    "    print(min(i), np.argmin(i))"
   ]
  },
  {
   "cell_type": "code",
   "execution_count": 8,
   "id": "78b1ed94",
   "metadata": {},
   "outputs": [
    {
     "name": "stdout",
     "output_type": "stream",
     "text": [
      "1.2380474762671343 151\n",
      "0.5989540600341798 125\n",
      "1.160345900187367 106\n",
      "0.9793690331635143 116\n",
      "0.6130707112546397 125\n"
     ]
    }
   ],
   "source": [
    "for i in store_mse_2: \n",
    "    \n",
    "    print(min(i), np.argmin(i))"
   ]
  },
  {
   "cell_type": "code",
   "execution_count": 9,
   "id": "f137939f",
   "metadata": {},
   "outputs": [
    {
     "name": "stdout",
     "output_type": "stream",
     "text": [
      "2.0706833810097005 128\n",
      "1.3398163289517586 132\n",
      "2.0337815376364103 91\n",
      "1.8967791340267053 107\n",
      "1.3696791518626947 132\n"
     ]
    }
   ],
   "source": [
    "for i in store_mse_3: \n",
    "    \n",
    "    print(min(i), np.argmin(i))"
   ]
  },
  {
   "cell_type": "code",
   "execution_count": 10,
   "id": "1f82542e",
   "metadata": {},
   "outputs": [
    {
     "name": "stdout",
     "output_type": "stream",
     "text": [
      "0.6754013861143037 170\n",
      "0.6269705722939336 135\n",
      "0.631904903217388 120\n",
      "0.5794044196240361 125\n",
      "0.6188576862400641 134\n"
     ]
    }
   ],
   "source": [
    "#only setting where elastic net outperforms lasso and ridge. (for l1 = 0.5 and 0.7)\n",
    "\n",
    "for i in store_mse_4: \n",
    "    \n",
    "    print(min(i), np.argmin(i))"
   ]
  },
  {
   "cell_type": "code",
   "execution_count": 11,
   "id": "90e76061",
   "metadata": {},
   "outputs": [
    {
     "name": "stdout",
     "output_type": "stream",
     "text": [
      "0.9047012166206374 151\n",
      "0.8286202879153189 111\n",
      "0.8893109032297652 101\n",
      "0.8644077122487904 105\n",
      "0.8295943841382927 111\n"
     ]
    }
   ],
   "source": [
    "for i in store_mse_5: \n",
    "    \n",
    "    print(min(i), np.argmin(i))"
   ]
  },
  {
   "cell_type": "code",
   "execution_count": 12,
   "id": "14148bc2",
   "metadata": {},
   "outputs": [
    {
     "name": "stdout",
     "output_type": "stream",
     "text": [
      "0.6731623057226193 164\n",
      "0.521129891650058 125\n",
      "0.6376483053664417 114\n",
      "0.5839160663984087 117\n",
      "0.521873694062772 125\n"
     ]
    }
   ],
   "source": [
    "for i in store_mse_6: \n",
    "    \n",
    "    print(min(i), np.argmin(i))"
   ]
  },
  {
   "cell_type": "code",
   "execution_count": 13,
   "id": "d9d22512",
   "metadata": {},
   "outputs": [],
   "source": [
    "\"\"\"ridge should do best here in all cases\"\"\"\n",
    "\n",
    "np.random.seed(123)\n",
    "#np.random.seed(190)\n",
    "#np.random.seed(200)\n",
    "#np.random.seed(210)\n",
    "#np.random.seed(66)\n",
    "\n",
    "\n",
    "n = 20 \n",
    "p = 8 \n",
    "true_betas = np.repeat(0.85, 8)\n",
    "cor_factor = [0, 0.1, 0.3, 0.5, 0.7, 0.8]\n",
    "iterations = 500\n",
    "alphas = np.logspace(-4,1,200)\n",
    "\n",
    "store_X_test = []\n",
    "store_y_test = []\n",
    "\n",
    "\n",
    "for i in cor_factor: \n",
    "\n",
    "    y_test, X_test, df_test= get_sim_data(n, p, i, true_betas) # get training data\n",
    "    store_X_test.append(X_test)\n",
    "    store_y_test.append(y_test)\n",
    "\n",
    "df_predictions_ls_1 = get_predictions(n, true_betas, iterations, alphas, cor_factor[0], store_X_test[0])\n",
    "df_predictions_ls_2 = get_predictions(n, true_betas, iterations, alphas, cor_factor[1], store_X_test[1])\n",
    "df_predictions_ls_3 = get_predictions(n, true_betas, iterations, alphas, cor_factor[2], store_X_test[2])\n",
    "df_predictions_ls_4 = get_predictions(n, true_betas, iterations, alphas, cor_factor[3], store_X_test[3])\n",
    "df_predictions_ls_5 = get_predictions(n, true_betas, iterations, alphas, cor_factor[4], store_X_test[4])\n",
    "df_predictions_ls_6 = get_predictions(n, true_betas, iterations, alphas, cor_factor[5], store_X_test[5])\n",
    "\n",
    "\n",
    "store_mse_ls_1, store_variance_ls_1, store_bias_sq_ls_1 = compute_mse(df_predictions_ls_1, store_y_test[0])\n",
    "store_mse_ls_2, store_variance_ls_2, store_bias_sq_ls_2 = compute_mse(df_predictions_ls_2, store_y_test[1])\n",
    "store_mse_ls_3, store_variance_ls_3, store_bias_sq_ls_3 = compute_mse(df_predictions_ls_3, store_y_test[2])\n",
    "store_mse_ls_4, store_variance_ls_4, store_bias_sq_ls_4 = compute_mse(df_predictions_ls_4, store_y_test[3])\n",
    "store_mse_ls_5, store_variance_ls_5, store_bias_sq_ls_5 = compute_mse(df_predictions_ls_5, store_y_test[4])\n",
    "store_mse_ls_6, store_variance_ls_6, store_bias_sq_ls_6 = compute_mse(df_predictions_ls_6, store_y_test[5])\n",
    "\n",
    "\n"
   ]
  },
  {
   "cell_type": "code",
   "execution_count": 14,
   "id": "82890eb8",
   "metadata": {},
   "outputs": [
    {
     "name": "stdout",
     "output_type": "stream",
     "text": [
      "0.6328685732064164 199\n",
      "0.4157596358523855 181\n",
      "0.41282818752350364 192\n",
      "0.4161886833783439 193\n",
      "0.4160358786171014 187\n"
     ]
    }
   ],
   "source": [
    "for i in store_mse_ls_1: \n",
    "    \n",
    "    print(min(i), np.argmin(i))"
   ]
  },
  {
   "cell_type": "code",
   "execution_count": 15,
   "id": "bfe8ae42",
   "metadata": {},
   "outputs": [
    {
     "name": "stdout",
     "output_type": "stream",
     "text": [
      "2.4708848617041204 155\n",
      "2.547768294838287 0\n",
      "2.506256624737217 96\n",
      "2.5418651874153566 79\n",
      "2.5475430695676624 0\n"
     ]
    }
   ],
   "source": [
    "for i in store_mse_ls_2: \n",
    "    \n",
    "    print(min(i), np.argmin(i))"
   ]
  },
  {
   "cell_type": "code",
   "execution_count": 16,
   "id": "c50646d3",
   "metadata": {},
   "outputs": [
    {
     "name": "stdout",
     "output_type": "stream",
     "text": [
      "0.5214577708046586 199\n",
      "1.532239001309111 134\n",
      "0.585327762543371 153\n",
      "0.8819700161134203 147\n",
      "1.1238047450280437 143\n"
     ]
    }
   ],
   "source": [
    "for i in store_mse_ls_3: \n",
    "    \n",
    "    print(min(i), np.argmin(i))"
   ]
  },
  {
   "cell_type": "code",
   "execution_count": 17,
   "id": "fa0192a4",
   "metadata": {},
   "outputs": [
    {
     "name": "stdout",
     "output_type": "stream",
     "text": [
      "0.30673624106238695 194\n",
      "0.69148109757708 106\n",
      "0.35408706097896225 140\n",
      "0.45618938410309 135\n",
      "0.5566821256918226 129\n"
     ]
    }
   ],
   "source": [
    "for i in store_mse_ls_4: \n",
    "    \n",
    "    print(min(i), np.argmin(i))"
   ]
  },
  {
   "cell_type": "code",
   "execution_count": 18,
   "id": "824dfcb7",
   "metadata": {},
   "outputs": [
    {
     "name": "stdout",
     "output_type": "stream",
     "text": [
      "0.7364908724774366 166\n",
      "0.9055901649901404 81\n",
      "0.7721661835330006 112\n",
      "0.8317379452284769 105\n",
      "0.8669102900869129 98\n"
     ]
    }
   ],
   "source": [
    "for i in store_mse_ls_5: \n",
    "    \n",
    "    print(min(i), np.argmin(i))"
   ]
  },
  {
   "cell_type": "code",
   "execution_count": 19,
   "id": "38a48c58",
   "metadata": {},
   "outputs": [
    {
     "name": "stdout",
     "output_type": "stream",
     "text": [
      "0.1425766264124557 193\n",
      "0.5245712202852323 125\n",
      "0.1628614311142402 140\n",
      "0.21961946470192778 137\n",
      "0.2992716975351493 135\n"
     ]
    }
   ],
   "source": [
    "for i in store_mse_ls_6: \n",
    "    \n",
    "    print(min(i), np.argmin(i))"
   ]
  },
  {
   "cell_type": "code",
   "execution_count": null,
   "id": "2db21da5",
   "metadata": {},
   "outputs": [],
   "source": []
  },
  {
   "cell_type": "code",
   "execution_count": null,
   "id": "ae82102e",
   "metadata": {},
   "outputs": [],
   "source": []
  },
  {
   "cell_type": "code",
   "execution_count": 5,
   "id": "77c813d0",
   "metadata": {},
   "outputs": [],
   "source": [
    "np.random.seed(123)\n",
    "#np.random.seed(190)\n",
    "#np.random.seed(200)\n",
    "#np.random.seed(210)\n",
    "#np.random.seed(66)\n",
    "\n",
    "\n",
    "n = 20 \n",
    "p = 8 \n",
    "true_betas = [3, 1.5, 0, 0, 2, 0, 0, 0]\n",
    "cor_factor = 0\n",
    "iterations = 500\n",
    "alphas = np.logspace(-4,1,200)\n",
    "\n",
    "\n",
    "\n",
    "y_test, X_test, df_test= get_sim_data(n, p, cor_factor, true_betas) # get training data\n",
    "    \n",
    "\n",
    "df_predictions = get_predictions(n, true_betas, iterations, alphas, cor_factor, X_test)\n",
    "store_mse, store_variance, store_bias_sq = compute_mse(df_predictions, y_test)\n",
    "\n",
    "\n",
    "\n",
    "\n",
    "#y, X, df = get_sim_data(n, p, cor_factor, true_betas)"
   ]
  },
  {
   "cell_type": "code",
   "execution_count": 6,
   "id": "8f732abc",
   "metadata": {},
   "outputs": [
    {
     "name": "stdout",
     "output_type": "stream",
     "text": [
      "1.0373120636389146 164\n",
      "0.4471576085506193 131\n",
      "0.9227872022170516 117\n",
      "0.7158751211699762 124\n",
      "0.5892222001071664 127\n"
     ]
    }
   ],
   "source": [
    "for i in store_mse: \n",
    "    \n",
    "    print(min(i), np.argmin(i))"
   ]
  },
  {
   "cell_type": "code",
   "execution_count": 7,
   "id": "b4aa1f69",
   "metadata": {},
   "outputs": [
    {
     "data": {
      "text/html": [
       "<div>\n",
       "<style scoped>\n",
       "    .dataframe tbody tr th:only-of-type {\n",
       "        vertical-align: middle;\n",
       "    }\n",
       "\n",
       "    .dataframe tbody tr th {\n",
       "        vertical-align: top;\n",
       "    }\n",
       "\n",
       "    .dataframe thead th {\n",
       "        text-align: right;\n",
       "    }\n",
       "</style>\n",
       "<table border=\"1\" class=\"dataframe\">\n",
       "  <thead>\n",
       "    <tr style=\"text-align: right;\">\n",
       "      <th></th>\n",
       "      <th>X_1</th>\n",
       "      <th>X_2</th>\n",
       "      <th>X_3</th>\n",
       "      <th>X_4</th>\n",
       "      <th>X_5</th>\n",
       "      <th>X_6</th>\n",
       "      <th>X_7</th>\n",
       "      <th>X_8</th>\n",
       "    </tr>\n",
       "  </thead>\n",
       "  <tbody>\n",
       "    <tr>\n",
       "      <th>X_1</th>\n",
       "      <td>1.000000</td>\n",
       "      <td>0.399211</td>\n",
       "      <td>-0.034945</td>\n",
       "      <td>0.177210</td>\n",
       "      <td>0.083332</td>\n",
       "      <td>0.243926</td>\n",
       "      <td>-0.258732</td>\n",
       "      <td>0.058009</td>\n",
       "    </tr>\n",
       "    <tr>\n",
       "      <th>X_2</th>\n",
       "      <td>0.399211</td>\n",
       "      <td>1.000000</td>\n",
       "      <td>0.346084</td>\n",
       "      <td>-0.150646</td>\n",
       "      <td>-0.138666</td>\n",
       "      <td>0.436940</td>\n",
       "      <td>-0.234178</td>\n",
       "      <td>0.045517</td>\n",
       "    </tr>\n",
       "    <tr>\n",
       "      <th>X_3</th>\n",
       "      <td>-0.034945</td>\n",
       "      <td>0.346084</td>\n",
       "      <td>1.000000</td>\n",
       "      <td>0.030880</td>\n",
       "      <td>-0.334731</td>\n",
       "      <td>0.198793</td>\n",
       "      <td>-0.055639</td>\n",
       "      <td>-0.073571</td>\n",
       "    </tr>\n",
       "    <tr>\n",
       "      <th>X_4</th>\n",
       "      <td>0.177210</td>\n",
       "      <td>-0.150646</td>\n",
       "      <td>0.030880</td>\n",
       "      <td>1.000000</td>\n",
       "      <td>-0.064106</td>\n",
       "      <td>0.075042</td>\n",
       "      <td>0.280153</td>\n",
       "      <td>-0.198846</td>\n",
       "    </tr>\n",
       "    <tr>\n",
       "      <th>X_5</th>\n",
       "      <td>0.083332</td>\n",
       "      <td>-0.138666</td>\n",
       "      <td>-0.334731</td>\n",
       "      <td>-0.064106</td>\n",
       "      <td>1.000000</td>\n",
       "      <td>-0.297760</td>\n",
       "      <td>-0.080714</td>\n",
       "      <td>0.517108</td>\n",
       "    </tr>\n",
       "    <tr>\n",
       "      <th>X_6</th>\n",
       "      <td>0.243926</td>\n",
       "      <td>0.436940</td>\n",
       "      <td>0.198793</td>\n",
       "      <td>0.075042</td>\n",
       "      <td>-0.297760</td>\n",
       "      <td>1.000000</td>\n",
       "      <td>-0.309259</td>\n",
       "      <td>-0.080190</td>\n",
       "    </tr>\n",
       "    <tr>\n",
       "      <th>X_7</th>\n",
       "      <td>-0.258732</td>\n",
       "      <td>-0.234178</td>\n",
       "      <td>-0.055639</td>\n",
       "      <td>0.280153</td>\n",
       "      <td>-0.080714</td>\n",
       "      <td>-0.309259</td>\n",
       "      <td>1.000000</td>\n",
       "      <td>0.045083</td>\n",
       "    </tr>\n",
       "    <tr>\n",
       "      <th>X_8</th>\n",
       "      <td>0.058009</td>\n",
       "      <td>0.045517</td>\n",
       "      <td>-0.073571</td>\n",
       "      <td>-0.198846</td>\n",
       "      <td>0.517108</td>\n",
       "      <td>-0.080190</td>\n",
       "      <td>0.045083</td>\n",
       "      <td>1.000000</td>\n",
       "    </tr>\n",
       "  </tbody>\n",
       "</table>\n",
       "</div>"
      ],
      "text/plain": [
       "          X_1       X_2       X_3       X_4       X_5       X_6       X_7  \\\n",
       "X_1  1.000000  0.399211 -0.034945  0.177210  0.083332  0.243926 -0.258732   \n",
       "X_2  0.399211  1.000000  0.346084 -0.150646 -0.138666  0.436940 -0.234178   \n",
       "X_3 -0.034945  0.346084  1.000000  0.030880 -0.334731  0.198793 -0.055639   \n",
       "X_4  0.177210 -0.150646  0.030880  1.000000 -0.064106  0.075042  0.280153   \n",
       "X_5  0.083332 -0.138666 -0.334731 -0.064106  1.000000 -0.297760 -0.080714   \n",
       "X_6  0.243926  0.436940  0.198793  0.075042 -0.297760  1.000000 -0.309259   \n",
       "X_7 -0.258732 -0.234178 -0.055639  0.280153 -0.080714 -0.309259  1.000000   \n",
       "X_8  0.058009  0.045517 -0.073571 -0.198846  0.517108 -0.080190  0.045083   \n",
       "\n",
       "          X_8  \n",
       "X_1  0.058009  \n",
       "X_2  0.045517  \n",
       "X_3 -0.073571  \n",
       "X_4 -0.198846  \n",
       "X_5  0.517108  \n",
       "X_6 -0.080190  \n",
       "X_7  0.045083  \n",
       "X_8  1.000000  "
      ]
     },
     "execution_count": 7,
     "metadata": {},
     "output_type": "execute_result"
    }
   ],
   "source": [
    "X_test.corr()"
   ]
  },
  {
   "cell_type": "code",
   "execution_count": 8,
   "id": "fcc036f5",
   "metadata": {},
   "outputs": [],
   "source": [
    "np.random.seed(123)\n",
    "#np.random.seed(190)\n",
    "#np.random.seed(200)\n",
    "#np.random.seed(210)\n",
    "#np.random.seed(66)\n",
    "\n",
    "n = 20 \n",
    "p = 8 \n",
    "true_betas = [3, 1.5, 0, 0, 2, 0, 0, 0]\n",
    "cor_factor = 0.1\n",
    "iterations = 500\n",
    "alphas = np.logspace(-4,1,200)\n",
    "\n",
    "\n",
    "\n",
    "y_test, X_test, df_test= get_sim_data(n, p, cor_factor, true_betas) # get training data\n",
    "    \n",
    "\n",
    "df_predictions = get_predictions(n, true_betas, iterations, alphas, cor_factor, X_test)\n",
    "store_mse, store_variance, store_bias_sq = compute_mse(df_predictions, y_test)\n",
    "\n",
    "\n",
    "\n",
    "\n",
    "#y, X, df = get_sim_data(n, p, cor_factor, true_betas)"
   ]
  },
  {
   "cell_type": "code",
   "execution_count": 9,
   "id": "22ed4196",
   "metadata": {},
   "outputs": [
    {
     "name": "stdout",
     "output_type": "stream",
     "text": [
      "1.2148682339366823 156\n",
      "0.5728647290499886 131\n",
      "1.119064902174663 112\n",
      "0.9323886853782712 121\n",
      "0.7887306831835047 126\n"
     ]
    }
   ],
   "source": [
    "for i in store_mse: \n",
    "    \n",
    "    print(min(i), np.argmin(i))"
   ]
  },
  {
   "cell_type": "code",
   "execution_count": 10,
   "id": "f9f24ad9",
   "metadata": {},
   "outputs": [],
   "source": [
    "np.random.seed(123)\n",
    "#np.random.seed(190)\n",
    "#np.random.seed(200)\n",
    "#np.random.seed(210)\n",
    "#np.random.seed(66)\n",
    "\n",
    "n = 20 \n",
    "p = 8 \n",
    "true_betas = [3, 1.5, 0, 0, 2, 0, 0, 0]\n",
    "cor_factor = 0.15\n",
    "iterations = 500\n",
    "alphas = np.logspace(-4,1,200)\n",
    "\n",
    "\n",
    "\n",
    "y_test, X_test, df_test= get_sim_data(n, p, cor_factor, true_betas) # get training data\n",
    "    \n",
    "\n",
    "df_predictions = get_predictions(n, true_betas, iterations, alphas, cor_factor, X_test)\n",
    "store_mse, store_variance, store_bias_sq = compute_mse(df_predictions, y_test)"
   ]
  },
  {
   "cell_type": "code",
   "execution_count": 11,
   "id": "0e29fc16",
   "metadata": {},
   "outputs": [
    {
     "name": "stdout",
     "output_type": "stream",
     "text": [
      "1.34582120303462 103\n",
      "1.2714946618066127 96\n",
      "1.342254069249426 65\n",
      "1.329097589613071 79\n",
      "1.3126677056434068 86\n"
     ]
    }
   ],
   "source": [
    "for i in store_mse: \n",
    "    \n",
    "    print(min(i), np.argmin(i))"
   ]
  },
  {
   "cell_type": "code",
   "execution_count": 12,
   "id": "c819a420",
   "metadata": {},
   "outputs": [],
   "source": [
    "np.random.seed(123)\n",
    "#np.random.seed(190)\n",
    "#np.random.seed(200)\n",
    "#np.random.seed(210)\n",
    "#np.random.seed(66)\n",
    "\n",
    "n = 20 \n",
    "p = 8 \n",
    "true_betas = [3, 1.5, 0, 0, 2, 0, 0, 0]\n",
    "cor_factor = 0.2\n",
    "iterations = 500\n",
    "alphas = np.logspace(-4,1,200)\n",
    "\n",
    "\n",
    "\n",
    "y_test, X_test, df_test= get_sim_data(n, p, cor_factor, true_betas) # get training data\n",
    "    \n",
    "\n",
    "df_predictions = get_predictions(n, true_betas, iterations, alphas, cor_factor, X_test)\n",
    "store_mse, store_variance, store_bias_sq = compute_mse(df_predictions, y_test)"
   ]
  },
  {
   "cell_type": "code",
   "execution_count": 13,
   "id": "9ade63b4",
   "metadata": {},
   "outputs": [
    {
     "name": "stdout",
     "output_type": "stream",
     "text": [
      "1.3453177751712506 105\n",
      "1.2673694707965402 96\n",
      "1.341230095148846 66\n",
      "1.3268585166617417 79\n",
      "1.3096213410321111 86\n"
     ]
    }
   ],
   "source": [
    "for i in store_mse: \n",
    "    \n",
    "    print(min(i), np.argmin(i))"
   ]
  },
  {
   "cell_type": "code",
   "execution_count": 14,
   "id": "76c33255",
   "metadata": {},
   "outputs": [],
   "source": [
    "np.random.seed(123)\n",
    "#np.random.seed(190)\n",
    "#np.random.seed(200)\n",
    "#np.random.seed(210)\n",
    "#np.random.seed(66)\n",
    "\n",
    "n = 20 \n",
    "p = 8 \n",
    "true_betas = [3, 1.5, 0, 0, 2, 0, 0, 0]\n",
    "cor_factor = 0.3\n",
    "iterations = 500\n",
    "alphas = np.logspace(-4,1,200)\n",
    "\n",
    "\n",
    "\n",
    "y_test, X_test, df_test= get_sim_data(n, p, cor_factor, true_betas) # get training data\n",
    "    \n",
    "\n",
    "df_predictions = get_predictions(n, true_betas, iterations, alphas, cor_factor, X_test)\n",
    "store_mse, store_variance, store_bias_sq = compute_mse(df_predictions, y_test)"
   ]
  },
  {
   "cell_type": "code",
   "execution_count": 15,
   "id": "ac584d21",
   "metadata": {},
   "outputs": [
    {
     "name": "stdout",
     "output_type": "stream",
     "text": [
      "1.3435548967924682 110\n",
      "1.2586324124196622 97\n",
      "1.3380758792671414 69\n",
      "1.3214066300246878 80\n",
      "1.303044142803241 87\n"
     ]
    }
   ],
   "source": [
    "for i in store_mse: \n",
    "    \n",
    "    print(min(i), np.argmin(i))\n"
   ]
  },
  {
   "cell_type": "code",
   "execution_count": 16,
   "id": "d211d5b8",
   "metadata": {},
   "outputs": [
    {
     "data": {
      "text/html": [
       "<div>\n",
       "<style scoped>\n",
       "    .dataframe tbody tr th:only-of-type {\n",
       "        vertical-align: middle;\n",
       "    }\n",
       "\n",
       "    .dataframe tbody tr th {\n",
       "        vertical-align: top;\n",
       "    }\n",
       "\n",
       "    .dataframe thead th {\n",
       "        text-align: right;\n",
       "    }\n",
       "</style>\n",
       "<table border=\"1\" class=\"dataframe\">\n",
       "  <thead>\n",
       "    <tr style=\"text-align: right;\">\n",
       "      <th></th>\n",
       "      <th>X_1</th>\n",
       "      <th>X_2</th>\n",
       "      <th>X_3</th>\n",
       "      <th>X_4</th>\n",
       "      <th>X_5</th>\n",
       "      <th>X_6</th>\n",
       "      <th>X_7</th>\n",
       "      <th>X_8</th>\n",
       "    </tr>\n",
       "  </thead>\n",
       "  <tbody>\n",
       "    <tr>\n",
       "      <th>X_1</th>\n",
       "      <td>1.000000</td>\n",
       "      <td>-0.188385</td>\n",
       "      <td>0.158507</td>\n",
       "      <td>-0.016293</td>\n",
       "      <td>-0.030042</td>\n",
       "      <td>-0.404724</td>\n",
       "      <td>-0.144438</td>\n",
       "      <td>-0.337785</td>\n",
       "    </tr>\n",
       "    <tr>\n",
       "      <th>X_2</th>\n",
       "      <td>-0.188385</td>\n",
       "      <td>1.000000</td>\n",
       "      <td>0.053836</td>\n",
       "      <td>0.175233</td>\n",
       "      <td>-0.019451</td>\n",
       "      <td>0.205784</td>\n",
       "      <td>0.216478</td>\n",
       "      <td>0.181493</td>\n",
       "    </tr>\n",
       "    <tr>\n",
       "      <th>X_3</th>\n",
       "      <td>0.158507</td>\n",
       "      <td>0.053836</td>\n",
       "      <td>1.000000</td>\n",
       "      <td>0.466260</td>\n",
       "      <td>0.034806</td>\n",
       "      <td>-0.136054</td>\n",
       "      <td>-0.198228</td>\n",
       "      <td>0.091746</td>\n",
       "    </tr>\n",
       "    <tr>\n",
       "      <th>X_4</th>\n",
       "      <td>-0.016293</td>\n",
       "      <td>0.175233</td>\n",
       "      <td>0.466260</td>\n",
       "      <td>1.000000</td>\n",
       "      <td>0.305983</td>\n",
       "      <td>0.039375</td>\n",
       "      <td>-0.080952</td>\n",
       "      <td>-0.043376</td>\n",
       "    </tr>\n",
       "    <tr>\n",
       "      <th>X_5</th>\n",
       "      <td>-0.030042</td>\n",
       "      <td>-0.019451</td>\n",
       "      <td>0.034806</td>\n",
       "      <td>0.305983</td>\n",
       "      <td>1.000000</td>\n",
       "      <td>0.287845</td>\n",
       "      <td>0.478582</td>\n",
       "      <td>0.216042</td>\n",
       "    </tr>\n",
       "    <tr>\n",
       "      <th>X_6</th>\n",
       "      <td>-0.404724</td>\n",
       "      <td>0.205784</td>\n",
       "      <td>-0.136054</td>\n",
       "      <td>0.039375</td>\n",
       "      <td>0.287845</td>\n",
       "      <td>1.000000</td>\n",
       "      <td>0.614460</td>\n",
       "      <td>0.512387</td>\n",
       "    </tr>\n",
       "    <tr>\n",
       "      <th>X_7</th>\n",
       "      <td>-0.144438</td>\n",
       "      <td>0.216478</td>\n",
       "      <td>-0.198228</td>\n",
       "      <td>-0.080952</td>\n",
       "      <td>0.478582</td>\n",
       "      <td>0.614460</td>\n",
       "      <td>1.000000</td>\n",
       "      <td>0.683644</td>\n",
       "    </tr>\n",
       "    <tr>\n",
       "      <th>X_8</th>\n",
       "      <td>-0.337785</td>\n",
       "      <td>0.181493</td>\n",
       "      <td>0.091746</td>\n",
       "      <td>-0.043376</td>\n",
       "      <td>0.216042</td>\n",
       "      <td>0.512387</td>\n",
       "      <td>0.683644</td>\n",
       "      <td>1.000000</td>\n",
       "    </tr>\n",
       "  </tbody>\n",
       "</table>\n",
       "</div>"
      ],
      "text/plain": [
       "          X_1       X_2       X_3       X_4       X_5       X_6       X_7  \\\n",
       "X_1  1.000000 -0.188385  0.158507 -0.016293 -0.030042 -0.404724 -0.144438   \n",
       "X_2 -0.188385  1.000000  0.053836  0.175233 -0.019451  0.205784  0.216478   \n",
       "X_3  0.158507  0.053836  1.000000  0.466260  0.034806 -0.136054 -0.198228   \n",
       "X_4 -0.016293  0.175233  0.466260  1.000000  0.305983  0.039375 -0.080952   \n",
       "X_5 -0.030042 -0.019451  0.034806  0.305983  1.000000  0.287845  0.478582   \n",
       "X_6 -0.404724  0.205784 -0.136054  0.039375  0.287845  1.000000  0.614460   \n",
       "X_7 -0.144438  0.216478 -0.198228 -0.080952  0.478582  0.614460  1.000000   \n",
       "X_8 -0.337785  0.181493  0.091746 -0.043376  0.216042  0.512387  0.683644   \n",
       "\n",
       "          X_8  \n",
       "X_1 -0.337785  \n",
       "X_2  0.181493  \n",
       "X_3  0.091746  \n",
       "X_4 -0.043376  \n",
       "X_5  0.216042  \n",
       "X_6  0.512387  \n",
       "X_7  0.683644  \n",
       "X_8  1.000000  "
      ]
     },
     "execution_count": 16,
     "metadata": {},
     "output_type": "execute_result"
    }
   ],
   "source": [
    "X_test.corr()"
   ]
  },
  {
   "cell_type": "code",
   "execution_count": 17,
   "id": "ea8ce4af",
   "metadata": {},
   "outputs": [],
   "source": [
    "np.random.seed(123)\n",
    "#np.random.seed(190)\n",
    "#np.random.seed(200)\n",
    "#np.random.seed(210)\n",
    "#np.random.seed(66)\n",
    "\n",
    "n = 20 \n",
    "p = 8 \n",
    "true_betas = [3, 1.5, 0, 0, 2, 0, 0, 0]\n",
    "cor_factor = 0.5\n",
    "iterations = 500\n",
    "alphas = np.logspace(-4,1,200)\n",
    "\n",
    "\n",
    "\n",
    "y_test, X_test, df_test= get_sim_data(n, p, cor_factor, true_betas) # get training data\n",
    "    \n",
    "\n",
    "df_predictions = get_predictions(n, true_betas, iterations, alphas, cor_factor, X_test)\n",
    "store_mse, store_variance, store_bias_sq = compute_mse(df_predictions, y_test)"
   ]
  },
  {
   "cell_type": "code",
   "execution_count": 18,
   "id": "5123ee01",
   "metadata": {},
   "outputs": [
    {
     "name": "stdout",
     "output_type": "stream",
     "text": [
      "0.7141672027832446 173\n",
      "0.5208295404148077 131\n",
      "0.6490810112643433 124\n",
      "0.5575327135425395 130\n",
      "0.5183260290041167 132\n"
     ]
    }
   ],
   "source": [
    "for i in store_mse: \n",
    "    \n",
    "    print(min(i), np.argmin(i))"
   ]
  },
  {
   "cell_type": "code",
   "execution_count": 19,
   "id": "2f656554",
   "metadata": {},
   "outputs": [
    {
     "data": {
      "text/html": [
       "<div>\n",
       "<style scoped>\n",
       "    .dataframe tbody tr th:only-of-type {\n",
       "        vertical-align: middle;\n",
       "    }\n",
       "\n",
       "    .dataframe tbody tr th {\n",
       "        vertical-align: top;\n",
       "    }\n",
       "\n",
       "    .dataframe thead th {\n",
       "        text-align: right;\n",
       "    }\n",
       "</style>\n",
       "<table border=\"1\" class=\"dataframe\">\n",
       "  <thead>\n",
       "    <tr style=\"text-align: right;\">\n",
       "      <th></th>\n",
       "      <th>X_1</th>\n",
       "      <th>X_2</th>\n",
       "      <th>X_3</th>\n",
       "      <th>X_4</th>\n",
       "      <th>X_5</th>\n",
       "      <th>X_6</th>\n",
       "      <th>X_7</th>\n",
       "      <th>X_8</th>\n",
       "    </tr>\n",
       "  </thead>\n",
       "  <tbody>\n",
       "    <tr>\n",
       "      <th>X_1</th>\n",
       "      <td>1.000000</td>\n",
       "      <td>0.539375</td>\n",
       "      <td>0.412470</td>\n",
       "      <td>-0.067962</td>\n",
       "      <td>0.100296</td>\n",
       "      <td>-0.010962</td>\n",
       "      <td>0.050399</td>\n",
       "      <td>-0.128751</td>\n",
       "    </tr>\n",
       "    <tr>\n",
       "      <th>X_2</th>\n",
       "      <td>0.539375</td>\n",
       "      <td>1.000000</td>\n",
       "      <td>0.334538</td>\n",
       "      <td>-0.153082</td>\n",
       "      <td>-0.227143</td>\n",
       "      <td>-0.080527</td>\n",
       "      <td>-0.166714</td>\n",
       "      <td>-0.159227</td>\n",
       "    </tr>\n",
       "    <tr>\n",
       "      <th>X_3</th>\n",
       "      <td>0.412470</td>\n",
       "      <td>0.334538</td>\n",
       "      <td>1.000000</td>\n",
       "      <td>0.330921</td>\n",
       "      <td>0.193921</td>\n",
       "      <td>0.335070</td>\n",
       "      <td>0.182977</td>\n",
       "      <td>0.334739</td>\n",
       "    </tr>\n",
       "    <tr>\n",
       "      <th>X_4</th>\n",
       "      <td>-0.067962</td>\n",
       "      <td>-0.153082</td>\n",
       "      <td>0.330921</td>\n",
       "      <td>1.000000</td>\n",
       "      <td>0.596353</td>\n",
       "      <td>0.678753</td>\n",
       "      <td>0.520633</td>\n",
       "      <td>0.396095</td>\n",
       "    </tr>\n",
       "    <tr>\n",
       "      <th>X_5</th>\n",
       "      <td>0.100296</td>\n",
       "      <td>-0.227143</td>\n",
       "      <td>0.193921</td>\n",
       "      <td>0.596353</td>\n",
       "      <td>1.000000</td>\n",
       "      <td>0.558257</td>\n",
       "      <td>0.554436</td>\n",
       "      <td>0.237172</td>\n",
       "    </tr>\n",
       "    <tr>\n",
       "      <th>X_6</th>\n",
       "      <td>-0.010962</td>\n",
       "      <td>-0.080527</td>\n",
       "      <td>0.335070</td>\n",
       "      <td>0.678753</td>\n",
       "      <td>0.558257</td>\n",
       "      <td>1.000000</td>\n",
       "      <td>0.773588</td>\n",
       "      <td>0.573990</td>\n",
       "    </tr>\n",
       "    <tr>\n",
       "      <th>X_7</th>\n",
       "      <td>0.050399</td>\n",
       "      <td>-0.166714</td>\n",
       "      <td>0.182977</td>\n",
       "      <td>0.520633</td>\n",
       "      <td>0.554436</td>\n",
       "      <td>0.773588</td>\n",
       "      <td>1.000000</td>\n",
       "      <td>0.721378</td>\n",
       "    </tr>\n",
       "    <tr>\n",
       "      <th>X_8</th>\n",
       "      <td>-0.128751</td>\n",
       "      <td>-0.159227</td>\n",
       "      <td>0.334739</td>\n",
       "      <td>0.396095</td>\n",
       "      <td>0.237172</td>\n",
       "      <td>0.573990</td>\n",
       "      <td>0.721378</td>\n",
       "      <td>1.000000</td>\n",
       "    </tr>\n",
       "  </tbody>\n",
       "</table>\n",
       "</div>"
      ],
      "text/plain": [
       "          X_1       X_2       X_3       X_4       X_5       X_6       X_7  \\\n",
       "X_1  1.000000  0.539375  0.412470 -0.067962  0.100296 -0.010962  0.050399   \n",
       "X_2  0.539375  1.000000  0.334538 -0.153082 -0.227143 -0.080527 -0.166714   \n",
       "X_3  0.412470  0.334538  1.000000  0.330921  0.193921  0.335070  0.182977   \n",
       "X_4 -0.067962 -0.153082  0.330921  1.000000  0.596353  0.678753  0.520633   \n",
       "X_5  0.100296 -0.227143  0.193921  0.596353  1.000000  0.558257  0.554436   \n",
       "X_6 -0.010962 -0.080527  0.335070  0.678753  0.558257  1.000000  0.773588   \n",
       "X_7  0.050399 -0.166714  0.182977  0.520633  0.554436  0.773588  1.000000   \n",
       "X_8 -0.128751 -0.159227  0.334739  0.396095  0.237172  0.573990  0.721378   \n",
       "\n",
       "          X_8  \n",
       "X_1 -0.128751  \n",
       "X_2 -0.159227  \n",
       "X_3  0.334739  \n",
       "X_4  0.396095  \n",
       "X_5  0.237172  \n",
       "X_6  0.573990  \n",
       "X_7  0.721378  \n",
       "X_8  1.000000  "
      ]
     },
     "execution_count": 19,
     "metadata": {},
     "output_type": "execute_result"
    }
   ],
   "source": [
    "X_test.corr()"
   ]
  },
  {
   "cell_type": "code",
   "execution_count": 20,
   "id": "e106a4b3",
   "metadata": {},
   "outputs": [],
   "source": [
    "np.random.seed(123)\n",
    "#np.random.seed(190)\n",
    "#np.random.seed(200)\n",
    "#np.random.seed(210)\n",
    "#np.random.seed(66)\n",
    "\n",
    "n = 20 \n",
    "p = 8 \n",
    "true_betas = [3, 1.5, 0, 0, 2, 0, 0, 0]\n",
    "cor_factor = 0.7\n",
    "iterations = 500\n",
    "alphas = np.logspace(-4,1,200)\n",
    "\n",
    "\n",
    "\n",
    "y_test, X_test, df_test= get_sim_data(n, p, cor_factor, true_betas) # get training data\n",
    "    \n",
    "\n",
    "df_predictions = get_predictions(n, true_betas, iterations, alphas, cor_factor, X_test)\n",
    "store_mse, store_variance, store_bias_sq = compute_mse(df_predictions, y_test)"
   ]
  },
  {
   "cell_type": "code",
   "execution_count": 21,
   "id": "aedfa5ae",
   "metadata": {},
   "outputs": [
    {
     "name": "stdout",
     "output_type": "stream",
     "text": [
      "0.5251125848952942 199\n",
      "0.4907306107108244 129\n",
      "0.49010181498603234 152\n",
      "0.468954651593961 138\n",
      "0.45759848794791524 133\n"
     ]
    }
   ],
   "source": [
    "for i in store_mse: \n",
    "    \n",
    "    print(min(i), np.argmin(i))"
   ]
  },
  {
   "cell_type": "code",
   "execution_count": 22,
   "id": "d48ffa74",
   "metadata": {},
   "outputs": [],
   "source": [
    "np.random.seed(123)\n",
    "#np.random.seed(190)\n",
    "#np.random.seed(200)\n",
    "#np.random.seed(210)\n",
    "#np.random.seed(66)\n",
    "\n",
    "n = 20 \n",
    "p = 8 \n",
    "true_betas = [3, 1.5, 0, 0, 2, 0, 0, 0]\n",
    "cor_factor = 0.8\n",
    "iterations = 500\n",
    "alphas = np.logspace(-4,1,200)\n",
    "\n",
    "\n",
    "\n",
    "y_test, X_test, df_test= get_sim_data(n, p, cor_factor, true_betas) # get training data\n",
    "    \n",
    "\n",
    "df_predictions = get_predictions(n, true_betas, iterations, alphas, cor_factor, X_test)\n",
    "store_mse, store_variance, store_bias_sq = compute_mse(df_predictions, y_test)"
   ]
  },
  {
   "cell_type": "code",
   "execution_count": 23,
   "id": "6f3372a9",
   "metadata": {},
   "outputs": [
    {
     "name": "stdout",
     "output_type": "stream",
     "text": [
      "0.3699761897013376 191\n",
      "0.3900069385407727 124\n",
      "0.3761568259297662 138\n",
      "0.3965915134278802 129\n",
      "0.3956910507538307 126\n"
     ]
    }
   ],
   "source": [
    "for i in store_mse: \n",
    "    \n",
    "    print(min(i), np.argmin(i))"
   ]
  },
  {
   "cell_type": "code",
   "execution_count": 24,
   "id": "3b47a6f7",
   "metadata": {},
   "outputs": [],
   "source": [
    "np.random.seed(123)\n",
    "#np.random.seed(190)\n",
    "#np.random.seed(200)\n",
    "#np.random.seed(210)\n",
    "#np.random.seed(66)\n",
    "\n",
    "n = 20 \n",
    "p = 8 \n",
    "true_betas = [3, 1.5, 0, 0, 2, 0, 0, 0]\n",
    "cor_factor = 0.9\n",
    "iterations = 500\n",
    "alphas = np.logspace(-4,1,200)\n",
    "\n",
    "\n",
    "\n",
    "y_test, X_test, df_test= get_sim_data(n, p, cor_factor, true_betas) # get training data\n",
    "    \n",
    "\n",
    "df_predictions = get_predictions(n, true_betas, iterations, alphas, cor_factor, X_test)\n",
    "store_mse, store_variance, store_bias_sq = compute_mse(df_predictions, y_test)"
   ]
  },
  {
   "cell_type": "code",
   "execution_count": 25,
   "id": "b48af801",
   "metadata": {},
   "outputs": [
    {
     "name": "stdout",
     "output_type": "stream",
     "text": [
      "0.26337345900594267 187\n",
      "0.36302860429737327 122\n",
      "0.2698215976584662 135\n",
      "0.30735051357883675 131\n",
      "0.33626012842753356 126\n"
     ]
    }
   ],
   "source": [
    "for i in store_mse: \n",
    "    \n",
    "    print(min(i), np.argmin(i))"
   ]
  },
  {
   "cell_type": "code",
   "execution_count": 26,
   "id": "0c307830",
   "metadata": {},
   "outputs": [],
   "source": [
    "np.random.seed(123)\n",
    "#np.random.seed(190)\n",
    "#np.random.seed(200)\n",
    "#np.random.seed(210)\n",
    "#np.random.seed(66)\n",
    "\n",
    "n = 20 \n",
    "p = 8 \n",
    "true_betas = [3, 1.5, 0, 0, 2, 0, 0, 0]\n",
    "cor_factor = 0.95\n",
    "iterations = 500\n",
    "alphas = np.logspace(-4,1,200)\n",
    "\n",
    "\n",
    "\n",
    "y_test, X_test, df_test= get_sim_data(n, p, cor_factor, true_betas) # get training data\n",
    "    \n",
    "\n",
    "df_predictions = get_predictions(n, true_betas, iterations, alphas, cor_factor, X_test)\n",
    "store_mse, store_variance, store_bias_sq = compute_mse(df_predictions, y_test)"
   ]
  },
  {
   "cell_type": "code",
   "execution_count": 27,
   "id": "6e9c868b",
   "metadata": {},
   "outputs": [
    {
     "name": "stdout",
     "output_type": "stream",
     "text": [
      "0.21212007537686547 184\n",
      "0.33654440899963983 117\n",
      "0.21958100715012147 130\n",
      "0.25154789104467923 127\n",
      "0.28237869667491666 123\n"
     ]
    }
   ],
   "source": [
    "for i in store_mse: \n",
    "    \n",
    "    print(min(i), np.argmin(i))"
   ]
  },
  {
   "cell_type": "code",
   "execution_count": 28,
   "id": "0aba3ad7",
   "metadata": {},
   "outputs": [],
   "source": [
    "np.random.seed(123)\n",
    "#np.random.seed(190)\n",
    "#np.random.seed(200)\n",
    "#np.random.seed(210)\n",
    "#np.random.seed(66)\n",
    "\n",
    "n = 20 \n",
    "p = 8 \n",
    "true_betas = [3, 1.5, 0, 0, 2, 0, 0, 0]\n",
    "cor_factor = 0.97\n",
    "iterations = 500\n",
    "alphas = np.logspace(-4,1,200)\n",
    "\n",
    "\n",
    "\n",
    "y_test, X_test, df_test= get_sim_data(n, p, cor_factor, true_betas) # get training data\n",
    "    \n",
    "\n",
    "df_predictions = get_predictions(n, true_betas, iterations, alphas, cor_factor, X_test)\n",
    "store_mse, store_variance, store_bias_sq = compute_mse(df_predictions, y_test)"
   ]
  },
  {
   "cell_type": "code",
   "execution_count": 29,
   "id": "6ce680b7",
   "metadata": {},
   "outputs": [
    {
     "name": "stdout",
     "output_type": "stream",
     "text": [
      "0.19247958966465994 181\n",
      "0.31613970944297776 114\n",
      "0.2012723161259833 126\n",
      "0.22804059755591463 124\n",
      "0.2547486214524229 120\n"
     ]
    }
   ],
   "source": [
    "for i in store_mse: \n",
    "    \n",
    "    print(min(i), np.argmin(i))"
   ]
  },
  {
   "cell_type": "code",
   "execution_count": 30,
   "id": "7f790092",
   "metadata": {},
   "outputs": [
    {
     "data": {
      "text/html": [
       "<div>\n",
       "<style scoped>\n",
       "    .dataframe tbody tr th:only-of-type {\n",
       "        vertical-align: middle;\n",
       "    }\n",
       "\n",
       "    .dataframe tbody tr th {\n",
       "        vertical-align: top;\n",
       "    }\n",
       "\n",
       "    .dataframe thead th {\n",
       "        text-align: right;\n",
       "    }\n",
       "</style>\n",
       "<table border=\"1\" class=\"dataframe\">\n",
       "  <thead>\n",
       "    <tr style=\"text-align: right;\">\n",
       "      <th></th>\n",
       "      <th>X_1</th>\n",
       "      <th>X_2</th>\n",
       "      <th>X_3</th>\n",
       "      <th>X_4</th>\n",
       "      <th>X_5</th>\n",
       "      <th>X_6</th>\n",
       "      <th>X_7</th>\n",
       "      <th>X_8</th>\n",
       "    </tr>\n",
       "  </thead>\n",
       "  <tbody>\n",
       "    <tr>\n",
       "      <th>X_1</th>\n",
       "      <td>1.000000</td>\n",
       "      <td>0.988159</td>\n",
       "      <td>0.975294</td>\n",
       "      <td>0.969167</td>\n",
       "      <td>0.941142</td>\n",
       "      <td>0.910324</td>\n",
       "      <td>0.868551</td>\n",
       "      <td>0.823665</td>\n",
       "    </tr>\n",
       "    <tr>\n",
       "      <th>X_2</th>\n",
       "      <td>0.988159</td>\n",
       "      <td>1.000000</td>\n",
       "      <td>0.981532</td>\n",
       "      <td>0.968949</td>\n",
       "      <td>0.954697</td>\n",
       "      <td>0.920528</td>\n",
       "      <td>0.885171</td>\n",
       "      <td>0.844819</td>\n",
       "    </tr>\n",
       "    <tr>\n",
       "      <th>X_3</th>\n",
       "      <td>0.975294</td>\n",
       "      <td>0.981532</td>\n",
       "      <td>1.000000</td>\n",
       "      <td>0.971480</td>\n",
       "      <td>0.949859</td>\n",
       "      <td>0.909114</td>\n",
       "      <td>0.867255</td>\n",
       "      <td>0.827288</td>\n",
       "    </tr>\n",
       "    <tr>\n",
       "      <th>X_4</th>\n",
       "      <td>0.969167</td>\n",
       "      <td>0.968949</td>\n",
       "      <td>0.971480</td>\n",
       "      <td>1.000000</td>\n",
       "      <td>0.970779</td>\n",
       "      <td>0.934431</td>\n",
       "      <td>0.875247</td>\n",
       "      <td>0.835929</td>\n",
       "    </tr>\n",
       "    <tr>\n",
       "      <th>X_5</th>\n",
       "      <td>0.941142</td>\n",
       "      <td>0.954697</td>\n",
       "      <td>0.949859</td>\n",
       "      <td>0.970779</td>\n",
       "      <td>1.000000</td>\n",
       "      <td>0.974280</td>\n",
       "      <td>0.942135</td>\n",
       "      <td>0.896957</td>\n",
       "    </tr>\n",
       "    <tr>\n",
       "      <th>X_6</th>\n",
       "      <td>0.910324</td>\n",
       "      <td>0.920528</td>\n",
       "      <td>0.909114</td>\n",
       "      <td>0.934431</td>\n",
       "      <td>0.974280</td>\n",
       "      <td>1.000000</td>\n",
       "      <td>0.973853</td>\n",
       "      <td>0.948604</td>\n",
       "    </tr>\n",
       "    <tr>\n",
       "      <th>X_7</th>\n",
       "      <td>0.868551</td>\n",
       "      <td>0.885171</td>\n",
       "      <td>0.867255</td>\n",
       "      <td>0.875247</td>\n",
       "      <td>0.942135</td>\n",
       "      <td>0.973853</td>\n",
       "      <td>1.000000</td>\n",
       "      <td>0.976752</td>\n",
       "    </tr>\n",
       "    <tr>\n",
       "      <th>X_8</th>\n",
       "      <td>0.823665</td>\n",
       "      <td>0.844819</td>\n",
       "      <td>0.827288</td>\n",
       "      <td>0.835929</td>\n",
       "      <td>0.896957</td>\n",
       "      <td>0.948604</td>\n",
       "      <td>0.976752</td>\n",
       "      <td>1.000000</td>\n",
       "    </tr>\n",
       "  </tbody>\n",
       "</table>\n",
       "</div>"
      ],
      "text/plain": [
       "          X_1       X_2       X_3       X_4       X_5       X_6       X_7  \\\n",
       "X_1  1.000000  0.988159  0.975294  0.969167  0.941142  0.910324  0.868551   \n",
       "X_2  0.988159  1.000000  0.981532  0.968949  0.954697  0.920528  0.885171   \n",
       "X_3  0.975294  0.981532  1.000000  0.971480  0.949859  0.909114  0.867255   \n",
       "X_4  0.969167  0.968949  0.971480  1.000000  0.970779  0.934431  0.875247   \n",
       "X_5  0.941142  0.954697  0.949859  0.970779  1.000000  0.974280  0.942135   \n",
       "X_6  0.910324  0.920528  0.909114  0.934431  0.974280  1.000000  0.973853   \n",
       "X_7  0.868551  0.885171  0.867255  0.875247  0.942135  0.973853  1.000000   \n",
       "X_8  0.823665  0.844819  0.827288  0.835929  0.896957  0.948604  0.976752   \n",
       "\n",
       "          X_8  \n",
       "X_1  0.823665  \n",
       "X_2  0.844819  \n",
       "X_3  0.827288  \n",
       "X_4  0.835929  \n",
       "X_5  0.896957  \n",
       "X_6  0.948604  \n",
       "X_7  0.976752  \n",
       "X_8  1.000000  "
      ]
     },
     "execution_count": 30,
     "metadata": {},
     "output_type": "execute_result"
    }
   ],
   "source": [
    "X_test.corr()"
   ]
  },
  {
   "cell_type": "markdown",
   "id": "d573a110",
   "metadata": {},
   "source": [
    "# High Dimensionality, sparsity, varying correlation"
   ]
  },
  {
   "cell_type": "code",
   "execution_count": 6,
   "id": "4005d7ad",
   "metadata": {},
   "outputs": [
    {
     "data": {
      "text/plain": [
       "35"
      ]
     },
     "execution_count": 6,
     "metadata": {},
     "output_type": "execute_result"
    }
   ],
   "source": [
    "non_zero_betas = [10]\n",
    "zero_betas = [25]\n",
    "true_betas_hd = generate_true_betas(non_zero_betas, zero_betas)\n",
    "\n",
    "len(true_betas_hd[0])"
   ]
  },
  {
   "cell_type": "code",
   "execution_count": 7,
   "id": "519c736d",
   "metadata": {},
   "outputs": [],
   "source": [
    "#np.random.seed(123) works fine! \n",
    "np.random.seed(190)\n",
    "#np.random.seed(200)\n",
    "#np.random.seed(210)\n",
    "#np.random.seed(66)\n",
    "\n",
    "non_zero_betas = [10]\n",
    "zero_betas = [25]\n",
    "true_betas_hd = generate_true_betas(non_zero_betas, zero_betas)\n",
    "\n",
    "n = 30\n",
    "p = 35 \n",
    "cor_factor = [0, 0.1, 0.3, 0.5, 0.6, 0.7, 0.75, 0.8, 0.9]\n",
    "iterations = 500\n",
    "alphas = np.logspace(-4,1,200)\n",
    "\n",
    "store_X_test = []\n",
    "store_y_test = []\n",
    "\n",
    "\n",
    "for i in cor_factor: \n",
    "\n",
    "    y_test, X_test, df_test= get_sim_data(n, p, i, true_betas_hd[0]) # get training data\n",
    "    store_X_test.append(X_test)\n",
    "    store_y_test.append(y_test)\n",
    "\n",
    "df_predictions_hd_1 = get_predictions(n, true_betas_hd[0], iterations, alphas, cor_factor[0], store_X_test[0])\n",
    "df_predictions_hd_2 = get_predictions(n, true_betas_hd[0], iterations, alphas, cor_factor[1], store_X_test[1])\n",
    "df_predictions_hd_3 = get_predictions(n, true_betas_hd[0], iterations, alphas, cor_factor[2], store_X_test[2])\n",
    "df_predictions_hd_4 = get_predictions(n, true_betas_hd[0], iterations, alphas, cor_factor[3], store_X_test[3])\n",
    "df_predictions_hd_5 = get_predictions(n, true_betas_hd[0], iterations, alphas, cor_factor[4], store_X_test[4])\n",
    "df_predictions_hd_6 = get_predictions(n, true_betas_hd[0], iterations, alphas, cor_factor[5], store_X_test[5])\n",
    "df_predictions_hd_7 = get_predictions(n, true_betas_hd[0], iterations, alphas, cor_factor[6], store_X_test[6])\n",
    "df_predictions_hd_8 = get_predictions(n, true_betas_hd[0], iterations, alphas, cor_factor[7], store_X_test[7])\n",
    "df_predictions_hd_9 = get_predictions(n, true_betas_hd[0], iterations, alphas, cor_factor[8], store_X_test[8])\n",
    "\n",
    "\n",
    "store_mse_hd_1, store_variance_hd_1, store_bias_sq_hd_1 = compute_mse(df_predictions_hd_1, store_y_test[0])\n",
    "store_mse_hd_2, store_variance_hd_2, store_bias_sq_hd_2 = compute_mse(df_predictions_hd_2, store_y_test[1])\n",
    "store_mse_hd_3, store_variance_hd_3, store_bias_sq_hd_3 = compute_mse(df_predictions_hd_3, store_y_test[2])\n",
    "store_mse_hd_4, store_variance_hd_4, store_bias_sq_hd_4 = compute_mse(df_predictions_hd_4, store_y_test[3])\n",
    "store_mse_hd_5, store_variance_hd_5, store_bias_sq_hd_5 = compute_mse(df_predictions_hd_5, store_y_test[4])\n",
    "store_mse_hd_6, store_variance_hd_6, store_bias_sq_hd_6 = compute_mse(df_predictions_hd_6, store_y_test[5])\n",
    "store_mse_hd_7, store_variance_hd_7, store_bias_sq_hd_7 = compute_mse(df_predictions_hd_7, store_y_test[6])\n",
    "store_mse_hd_8, store_variance_hd_8, store_bias_sq_hd_8 = compute_mse(df_predictions_hd_8, store_y_test[7])\n",
    "store_mse_hd_9, store_variance_hd_9, store_bias_sq_hd_9 = compute_mse(df_predictions_hd_9, store_y_test[8])\n",
    "\n",
    "\n",
    "\n",
    "\n"
   ]
  },
  {
   "cell_type": "code",
   "execution_count": 8,
   "id": "e6e65375",
   "metadata": {},
   "outputs": [
    {
     "name": "stdout",
     "output_type": "stream",
     "text": [
      "5.722529553607648 189\n",
      "1.9477681259102655 120\n",
      "2.668716815920924 117\n",
      "2.527584930575625 116\n",
      "2.392261614975107 117\n"
     ]
    }
   ],
   "source": [
    "#2.98\n",
    "\n",
    "for i in store_mse_hd_1: \n",
    "    \n",
    "    print(min(i), np.argmin(i))"
   ]
  },
  {
   "cell_type": "code",
   "execution_count": 9,
   "id": "ae6e0037",
   "metadata": {},
   "outputs": [
    {
     "name": "stdout",
     "output_type": "stream",
     "text": [
      "9.411593333421497 169\n",
      "4.078711445913463 119\n",
      "5.1215344065827 113\n",
      "4.89542862809702 114\n",
      "4.679578911904398 115\n"
     ]
    }
   ],
   "source": [
    "# 5.07\n",
    "\n",
    "for i in store_mse_hd_2: \n",
    "    \n",
    "    print(min(i), np.argmin(i))"
   ]
  },
  {
   "cell_type": "code",
   "execution_count": 10,
   "id": "cdee64f1",
   "metadata": {},
   "outputs": [
    {
     "name": "stdout",
     "output_type": "stream",
     "text": [
      "15.714047611249931 135\n",
      "6.57466636625762 103\n",
      "8.569909531192156 97\n",
      "8.209360473522 97\n",
      "7.843196459203529 100\n"
     ]
    }
   ],
   "source": [
    "#9.42\n",
    "\n",
    "for i in store_mse_hd_3: \n",
    "    \n",
    "    print(min(i), np.argmin(i))"
   ]
  },
  {
   "cell_type": "code",
   "execution_count": 11,
   "id": "01f847c7",
   "metadata": {},
   "outputs": [
    {
     "name": "stdout",
     "output_type": "stream",
     "text": [
      "4.973013440888867 176\n",
      "1.6970645917525118 128\n",
      "2.0390959927532215 131\n",
      "1.937973364776967 130\n",
      "1.8545534128001808 130\n"
     ]
    }
   ],
   "source": [
    "#2.18\n",
    "\n",
    "for i in store_mse_hd_4: \n",
    "    \n",
    "    print(min(i), np.argmin(i))"
   ]
  },
  {
   "cell_type": "code",
   "execution_count": 12,
   "id": "5cca8975",
   "metadata": {},
   "outputs": [
    {
     "name": "stdout",
     "output_type": "stream",
     "text": [
      "2.6407831326971545 168\n",
      "1.346996941609988 122\n",
      "1.2995911852931374 120\n",
      "1.273022669903418 120\n",
      "1.2596878836300784 121\n"
     ]
    }
   ],
   "source": [
    "# 1.33 \n",
    "\n",
    "for i in store_mse_hd_5: \n",
    "    \n",
    "    print(min(i), np.argmin(i))"
   ]
  },
  {
   "cell_type": "code",
   "execution_count": 13,
   "id": "41ce5c9a",
   "metadata": {},
   "outputs": [
    {
     "name": "stdout",
     "output_type": "stream",
     "text": [
      "3.2632563671166532 164\n",
      "1.7160947171621663 123\n",
      "1.588781290366569 122\n",
      "1.547647480773165 123\n",
      "1.5198960301867455 123\n"
     ]
    }
   ],
   "source": [
    "#1.48\n",
    "\n",
    "for i in store_mse_hd_6: \n",
    "    \n",
    "    print(min(i), np.argmin(i))"
   ]
  },
  {
   "cell_type": "code",
   "execution_count": 14,
   "id": "8307f3aa",
   "metadata": {},
   "outputs": [
    {
     "name": "stdout",
     "output_type": "stream",
     "text": [
      "1.0757929804698305 182\n",
      "0.7343055682549087 128\n",
      "0.4921354430580525 132\n",
      "0.49673141668469367 132\n",
      "0.5096643746121451 132\n"
     ]
    }
   ],
   "source": [
    "# 0.40\n",
    "\n",
    "for i in store_mse_hd_7: \n",
    "    \n",
    "    print(min(i), np.argmin(i))"
   ]
  },
  {
   "cell_type": "code",
   "execution_count": 15,
   "id": "8093ff47",
   "metadata": {},
   "outputs": [
    {
     "name": "stdout",
     "output_type": "stream",
     "text": [
      "1.976905220337567 175\n",
      "1.2760203084945747 128\n",
      "1.045683234003479 130\n",
      "1.04319399110841 130\n",
      "1.050630253141762 131\n"
     ]
    }
   ],
   "source": [
    "for i in store_mse_hd_8: \n",
    "    \n",
    "    print(min(i), np.argmin(i))"
   ]
  },
  {
   "cell_type": "code",
   "execution_count": 16,
   "id": "66be2614",
   "metadata": {},
   "outputs": [
    {
     "name": "stdout",
     "output_type": "stream",
     "text": [
      "1.3562858581845878 180\n",
      "1.7139667625002597 120\n",
      "0.8605410173064758 139\n",
      "0.9228001966573318 138\n",
      "1.0048390110511627 135\n"
     ]
    }
   ],
   "source": [
    "for i in store_mse_hd_9: \n",
    "    \n",
    "    print(min(i), np.argmin(i))"
   ]
  },
  {
   "cell_type": "code",
   "execution_count": null,
   "id": "b369d862",
   "metadata": {},
   "outputs": [],
   "source": []
  }
 ],
 "metadata": {
  "kernelspec": {
   "display_name": "Python 3",
   "language": "python",
   "name": "python3"
  },
  "language_info": {
   "codemirror_mode": {
    "name": "ipython",
    "version": 3
   },
   "file_extension": ".py",
   "mimetype": "text/x-python",
   "name": "python",
   "nbconvert_exporter": "python",
   "pygments_lexer": "ipython3",
   "version": "3.8.8"
  }
 },
 "nbformat": 4,
 "nbformat_minor": 5
}
