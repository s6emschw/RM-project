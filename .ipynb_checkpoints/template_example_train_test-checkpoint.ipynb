{
 "cells": [
  {
   "cell_type": "code",
   "execution_count": 1,
   "id": "GTmlzICrz9yP",
   "metadata": {
    "id": "GTmlzICrz9yP"
   },
   "outputs": [],
   "source": [
    "import numpy as np \n",
    "import pandas as pd \n",
    "from sklearn.linear_model import LinearRegression, Ridge,RidgeCV, Lasso, LassoCV, ElasticNet, ElasticNetCV\n",
    "from sklearn.model_selection import train_test_split\n",
    "import matplotlib.pyplot as plt\n",
    "from sklearn.model_selection import cross_val_score\n",
    "import sklearn.metrics\n",
    "import seaborn as sns\n",
    "from statsmodels.stats.outliers_influence import variance_inflation_factor"
   ]
  },
  {
   "cell_type": "markdown",
   "id": "482a3406",
   "metadata": {},
   "source": [
    "# DGP to account for multicollinearity among a subset of regressors"
   ]
  },
  {
   "cell_type": "code",
   "execution_count": 74,
   "id": "469e45ae",
   "metadata": {},
   "outputs": [],
   "source": [
    "#p is the number of correlated regressors\n",
    "#q is the number of uncorrelated regressors\n",
    "#p+q= tot number of regressros\n",
    "def get_sim_data(p, q, n, min_cor, max_cor, true_betas):\n",
    "    \n",
    "    sd_vec = np.ones(p) \n",
    "    mean = np.zeros(p)\n",
    "    cor_matrix = np.zeros((p,p))\n",
    "\n",
    "    correlation = np.random.uniform(min_cor, max_cor, int(p * (p - 1) / 2))\n",
    "    cor_matrix[np.triu_indices(p, 1)] = correlation\n",
    "    cor_matrix[np.tril_indices(p, -1)] = cor_matrix.T[np.tril_indices(p, -1)]\n",
    "    np.fill_diagonal(cor_matrix, 1)\n",
    "\n",
    "\n",
    "    D = np.diag(sd_vec)\n",
    "    sigma = D.dot(cor_matrix).dot(D)\n",
    "\n",
    "    X_corr = np.random.multivariate_normal(mean, sigma, n)\n",
    "    if q>0:\n",
    "        X_uncorr = np.random.multivariate_normal(np.zeros(q), np.identity(q), n)\n",
    "        X = np.concatenate([X_corr, X_uncorr], axis=1) #X = pd.concat([X_corr, X_uncorr], axis=1)\n",
    "    else:\n",
    "        X = X_corr\n",
    "        \n",
    "    eps = np.random.normal(0, 1, n)\n",
    "\n",
    "    y = X.dot(true_betas) + eps \n",
    "    \n",
    "    y = pd.Series(y, name = \"y\")\n",
    "    \n",
    "    column_names = []\n",
    "    \n",
    "    for value in range(1, p+q + 1): \n",
    "        \n",
    "        column = f\"X_{value}\"\n",
    "        column_names.append(column)\n",
    "        \n",
    "    \n",
    "    X = pd.DataFrame(X, columns = column_names)\n",
    "    \n",
    "    df = pd.concat([y, X], axis = 1)\n",
    "    \n",
    "    return y, X, df"
   ]
  },
  {
   "cell_type": "code",
   "execution_count": 75,
   "id": "d4a64ecb",
   "metadata": {},
   "outputs": [
    {
     "name": "stderr",
     "output_type": "stream",
     "text": [
      "<ipython-input-74-62b9627eb889>:19: RuntimeWarning: covariance is not positive-semidefinite.\n",
      "  X_corr = np.random.multivariate_normal(mean, sigma, n)\n"
     ]
    }
   ],
   "source": [
    "p = 7\n",
    "q = 3\n",
    "n = 100\n",
    "min_cor = 0\n",
    "max_cor = 0.8 #change it to 0.8, for example, to have issue of multicollinearity\n",
    "true_betas = np.array([0,1,2,3,4,5,6,7,8,9])\n",
    "\n",
    "y, X, df = get_sim_data(p, q, n, min_cor, max_cor, true_betas)"
   ]
  },
  {
   "cell_type": "code",
   "execution_count": 76,
   "id": "e7623a96",
   "metadata": {},
   "outputs": [
    {
     "data": {
      "text/html": [
       "<div>\n",
       "<style scoped>\n",
       "    .dataframe tbody tr th:only-of-type {\n",
       "        vertical-align: middle;\n",
       "    }\n",
       "\n",
       "    .dataframe tbody tr th {\n",
       "        vertical-align: top;\n",
       "    }\n",
       "\n",
       "    .dataframe thead th {\n",
       "        text-align: right;\n",
       "    }\n",
       "</style>\n",
       "<table border=\"1\" class=\"dataframe\">\n",
       "  <thead>\n",
       "    <tr style=\"text-align: right;\">\n",
       "      <th></th>\n",
       "      <th>y</th>\n",
       "      <th>X_1</th>\n",
       "      <th>X_2</th>\n",
       "      <th>X_3</th>\n",
       "      <th>X_4</th>\n",
       "      <th>X_5</th>\n",
       "      <th>X_6</th>\n",
       "      <th>X_7</th>\n",
       "      <th>X_8</th>\n",
       "      <th>X_9</th>\n",
       "      <th>X_10</th>\n",
       "    </tr>\n",
       "  </thead>\n",
       "  <tbody>\n",
       "    <tr>\n",
       "      <th>0</th>\n",
       "      <td>-17.151256</td>\n",
       "      <td>1.884898</td>\n",
       "      <td>-0.694793</td>\n",
       "      <td>0.189510</td>\n",
       "      <td>-0.704514</td>\n",
       "      <td>0.952030</td>\n",
       "      <td>-0.855775</td>\n",
       "      <td>-1.120571</td>\n",
       "      <td>-0.218510</td>\n",
       "      <td>-0.370454</td>\n",
       "      <td>-0.266952</td>\n",
       "    </tr>\n",
       "    <tr>\n",
       "      <th>1</th>\n",
       "      <td>-11.268463</td>\n",
       "      <td>-0.797108</td>\n",
       "      <td>-0.221718</td>\n",
       "      <td>1.594171</td>\n",
       "      <td>-0.322099</td>\n",
       "      <td>0.246466</td>\n",
       "      <td>0.568949</td>\n",
       "      <td>0.277396</td>\n",
       "      <td>-0.445560</td>\n",
       "      <td>-1.420300</td>\n",
       "      <td>-0.370089</td>\n",
       "    </tr>\n",
       "    <tr>\n",
       "      <th>2</th>\n",
       "      <td>54.627955</td>\n",
       "      <td>1.350270</td>\n",
       "      <td>1.946411</td>\n",
       "      <td>1.883361</td>\n",
       "      <td>1.522717</td>\n",
       "      <td>2.199023</td>\n",
       "      <td>0.190171</td>\n",
       "      <td>1.614910</td>\n",
       "      <td>0.398753</td>\n",
       "      <td>0.940889</td>\n",
       "      <td>1.533168</td>\n",
       "    </tr>\n",
       "    <tr>\n",
       "      <th>3</th>\n",
       "      <td>-4.765590</td>\n",
       "      <td>0.025801</td>\n",
       "      <td>-0.381655</td>\n",
       "      <td>-0.047578</td>\n",
       "      <td>0.287382</td>\n",
       "      <td>-0.182177</td>\n",
       "      <td>0.501541</td>\n",
       "      <td>0.288404</td>\n",
       "      <td>-1.156837</td>\n",
       "      <td>1.124925</td>\n",
       "      <td>-1.025387</td>\n",
       "    </tr>\n",
       "    <tr>\n",
       "      <th>4</th>\n",
       "      <td>10.775359</td>\n",
       "      <td>0.424756</td>\n",
       "      <td>0.953633</td>\n",
       "      <td>-1.232784</td>\n",
       "      <td>-1.094042</td>\n",
       "      <td>-0.214036</td>\n",
       "      <td>1.369585</td>\n",
       "      <td>1.871983</td>\n",
       "      <td>0.003293</td>\n",
       "      <td>0.497547</td>\n",
       "      <td>-0.593740</td>\n",
       "    </tr>\n",
       "    <tr>\n",
       "      <th>...</th>\n",
       "      <td>...</td>\n",
       "      <td>...</td>\n",
       "      <td>...</td>\n",
       "      <td>...</td>\n",
       "      <td>...</td>\n",
       "      <td>...</td>\n",
       "      <td>...</td>\n",
       "      <td>...</td>\n",
       "      <td>...</td>\n",
       "      <td>...</td>\n",
       "      <td>...</td>\n",
       "    </tr>\n",
       "    <tr>\n",
       "      <th>95</th>\n",
       "      <td>11.557482</td>\n",
       "      <td>1.170317</td>\n",
       "      <td>0.435377</td>\n",
       "      <td>1.525403</td>\n",
       "      <td>-0.299512</td>\n",
       "      <td>0.878952</td>\n",
       "      <td>0.233030</td>\n",
       "      <td>-0.858309</td>\n",
       "      <td>-0.299442</td>\n",
       "      <td>0.730875</td>\n",
       "      <td>0.671224</td>\n",
       "    </tr>\n",
       "    <tr>\n",
       "      <th>96</th>\n",
       "      <td>-3.231321</td>\n",
       "      <td>1.423283</td>\n",
       "      <td>-0.269781</td>\n",
       "      <td>-1.434036</td>\n",
       "      <td>-0.336114</td>\n",
       "      <td>0.939045</td>\n",
       "      <td>-0.533431</td>\n",
       "      <td>0.265664</td>\n",
       "      <td>-0.247358</td>\n",
       "      <td>-0.037766</td>\n",
       "      <td>-0.088911</td>\n",
       "    </tr>\n",
       "    <tr>\n",
       "      <th>97</th>\n",
       "      <td>-25.618599</td>\n",
       "      <td>0.327371</td>\n",
       "      <td>-0.572847</td>\n",
       "      <td>-1.773332</td>\n",
       "      <td>-1.366395</td>\n",
       "      <td>0.353600</td>\n",
       "      <td>-1.032304</td>\n",
       "      <td>0.808950</td>\n",
       "      <td>0.256033</td>\n",
       "      <td>-0.428390</td>\n",
       "      <td>-1.851868</td>\n",
       "    </tr>\n",
       "    <tr>\n",
       "      <th>98</th>\n",
       "      <td>-6.141638</td>\n",
       "      <td>0.472690</td>\n",
       "      <td>0.094925</td>\n",
       "      <td>0.428607</td>\n",
       "      <td>-0.147614</td>\n",
       "      <td>2.367809</td>\n",
       "      <td>-2.553674</td>\n",
       "      <td>-0.369093</td>\n",
       "      <td>-1.046969</td>\n",
       "      <td>0.196502</td>\n",
       "      <td>0.432229</td>\n",
       "    </tr>\n",
       "    <tr>\n",
       "      <th>99</th>\n",
       "      <td>34.438747</td>\n",
       "      <td>-1.490223</td>\n",
       "      <td>1.083660</td>\n",
       "      <td>0.271784</td>\n",
       "      <td>1.161109</td>\n",
       "      <td>-0.419176</td>\n",
       "      <td>1.518187</td>\n",
       "      <td>1.177478</td>\n",
       "      <td>-0.457095</td>\n",
       "      <td>1.527955</td>\n",
       "      <td>0.779718</td>\n",
       "    </tr>\n",
       "  </tbody>\n",
       "</table>\n",
       "<p>100 rows × 11 columns</p>\n",
       "</div>"
      ],
      "text/plain": [
       "            y       X_1       X_2       X_3       X_4       X_5       X_6  \\\n",
       "0  -17.151256  1.884898 -0.694793  0.189510 -0.704514  0.952030 -0.855775   \n",
       "1  -11.268463 -0.797108 -0.221718  1.594171 -0.322099  0.246466  0.568949   \n",
       "2   54.627955  1.350270  1.946411  1.883361  1.522717  2.199023  0.190171   \n",
       "3   -4.765590  0.025801 -0.381655 -0.047578  0.287382 -0.182177  0.501541   \n",
       "4   10.775359  0.424756  0.953633 -1.232784 -1.094042 -0.214036  1.369585   \n",
       "..        ...       ...       ...       ...       ...       ...       ...   \n",
       "95  11.557482  1.170317  0.435377  1.525403 -0.299512  0.878952  0.233030   \n",
       "96  -3.231321  1.423283 -0.269781 -1.434036 -0.336114  0.939045 -0.533431   \n",
       "97 -25.618599  0.327371 -0.572847 -1.773332 -1.366395  0.353600 -1.032304   \n",
       "98  -6.141638  0.472690  0.094925  0.428607 -0.147614  2.367809 -2.553674   \n",
       "99  34.438747 -1.490223  1.083660  0.271784  1.161109 -0.419176  1.518187   \n",
       "\n",
       "         X_7       X_8       X_9      X_10  \n",
       "0  -1.120571 -0.218510 -0.370454 -0.266952  \n",
       "1   0.277396 -0.445560 -1.420300 -0.370089  \n",
       "2   1.614910  0.398753  0.940889  1.533168  \n",
       "3   0.288404 -1.156837  1.124925 -1.025387  \n",
       "4   1.871983  0.003293  0.497547 -0.593740  \n",
       "..       ...       ...       ...       ...  \n",
       "95 -0.858309 -0.299442  0.730875  0.671224  \n",
       "96  0.265664 -0.247358 -0.037766 -0.088911  \n",
       "97  0.808950  0.256033 -0.428390 -1.851868  \n",
       "98 -0.369093 -1.046969  0.196502  0.432229  \n",
       "99  1.177478 -0.457095  1.527955  0.779718  \n",
       "\n",
       "[100 rows x 11 columns]"
      ]
     },
     "execution_count": 76,
     "metadata": {},
     "output_type": "execute_result"
    }
   ],
   "source": [
    "df"
   ]
  },
  {
   "cell_type": "code",
   "execution_count": 77,
   "id": "6a136d77",
   "metadata": {},
   "outputs": [
    {
     "data": {
      "text/html": [
       "<div>\n",
       "<style scoped>\n",
       "    .dataframe tbody tr th:only-of-type {\n",
       "        vertical-align: middle;\n",
       "    }\n",
       "\n",
       "    .dataframe tbody tr th {\n",
       "        vertical-align: top;\n",
       "    }\n",
       "\n",
       "    .dataframe thead th {\n",
       "        text-align: right;\n",
       "    }\n",
       "</style>\n",
       "<table border=\"1\" class=\"dataframe\">\n",
       "  <thead>\n",
       "    <tr style=\"text-align: right;\">\n",
       "      <th></th>\n",
       "      <th>feature</th>\n",
       "      <th>VIF</th>\n",
       "    </tr>\n",
       "  </thead>\n",
       "  <tbody>\n",
       "    <tr>\n",
       "      <th>0</th>\n",
       "      <td>X_1</td>\n",
       "      <td>2.861774</td>\n",
       "    </tr>\n",
       "    <tr>\n",
       "      <th>1</th>\n",
       "      <td>X_2</td>\n",
       "      <td>1.658912</td>\n",
       "    </tr>\n",
       "    <tr>\n",
       "      <th>2</th>\n",
       "      <td>X_3</td>\n",
       "      <td>3.842537</td>\n",
       "    </tr>\n",
       "    <tr>\n",
       "      <th>3</th>\n",
       "      <td>X_4</td>\n",
       "      <td>2.234508</td>\n",
       "    </tr>\n",
       "    <tr>\n",
       "      <th>4</th>\n",
       "      <td>X_5</td>\n",
       "      <td>4.425542</td>\n",
       "    </tr>\n",
       "    <tr>\n",
       "      <th>5</th>\n",
       "      <td>X_6</td>\n",
       "      <td>4.475830</td>\n",
       "    </tr>\n",
       "    <tr>\n",
       "      <th>6</th>\n",
       "      <td>X_7</td>\n",
       "      <td>3.506767</td>\n",
       "    </tr>\n",
       "    <tr>\n",
       "      <th>7</th>\n",
       "      <td>X_8</td>\n",
       "      <td>1.031412</td>\n",
       "    </tr>\n",
       "    <tr>\n",
       "      <th>8</th>\n",
       "      <td>X_9</td>\n",
       "      <td>1.069788</td>\n",
       "    </tr>\n",
       "    <tr>\n",
       "      <th>9</th>\n",
       "      <td>X_10</td>\n",
       "      <td>1.129565</td>\n",
       "    </tr>\n",
       "  </tbody>\n",
       "</table>\n",
       "</div>"
      ],
      "text/plain": [
       "  feature       VIF\n",
       "0     X_1  2.861774\n",
       "1     X_2  1.658912\n",
       "2     X_3  3.842537\n",
       "3     X_4  2.234508\n",
       "4     X_5  4.425542\n",
       "5     X_6  4.475830\n",
       "6     X_7  3.506767\n",
       "7     X_8  1.031412\n",
       "8     X_9  1.069788\n",
       "9    X_10  1.129565"
      ]
     },
     "execution_count": 77,
     "metadata": {},
     "output_type": "execute_result"
    }
   ],
   "source": [
    "vif_data = pd.DataFrame()\n",
    "vif_data[\"feature\"] = X.columns\n",
    "  \n",
    "# calculating VIF for each feature\n",
    "vif_data[\"VIF\"] = [variance_inflation_factor(X.values, i)\n",
    "                          for i in range(len(X.columns))]\n",
    "  \n",
    "vif_data"
   ]
  },
  {
   "cell_type": "markdown",
   "id": "b2428562",
   "metadata": {},
   "source": [
    "# EXAMPLE OF Variance Inflation Factor (to check whether multicolinnearity is actually present or not)"
   ]
  },
  {
   "cell_type": "code",
   "execution_count": 78,
   "id": "8d960f72",
   "metadata": {},
   "outputs": [],
   "source": [
    "p = 7\n",
    "q=0\n",
    "n = 100\n",
    "min_cor = 0\n",
    "max_cor = 0.1 #change it to 0.8, for example, to have issue of multicollinearity\n",
    "true_betas = np.array([0,1,2,3,4,5,6])"
   ]
  },
  {
   "cell_type": "code",
   "execution_count": 79,
   "id": "be83cb45",
   "metadata": {},
   "outputs": [],
   "source": [
    "y, X, df = get_sim_data(p,q, n, min_cor, max_cor, true_betas)"
   ]
  },
  {
   "cell_type": "code",
   "execution_count": 80,
   "id": "d3a26589",
   "metadata": {},
   "outputs": [
    {
     "data": {
      "text/html": [
       "<div>\n",
       "<style scoped>\n",
       "    .dataframe tbody tr th:only-of-type {\n",
       "        vertical-align: middle;\n",
       "    }\n",
       "\n",
       "    .dataframe tbody tr th {\n",
       "        vertical-align: top;\n",
       "    }\n",
       "\n",
       "    .dataframe thead th {\n",
       "        text-align: right;\n",
       "    }\n",
       "</style>\n",
       "<table border=\"1\" class=\"dataframe\">\n",
       "  <thead>\n",
       "    <tr style=\"text-align: right;\">\n",
       "      <th></th>\n",
       "      <th>feature</th>\n",
       "      <th>VIF</th>\n",
       "    </tr>\n",
       "  </thead>\n",
       "  <tbody>\n",
       "    <tr>\n",
       "      <th>0</th>\n",
       "      <td>X_1</td>\n",
       "      <td>1.088180</td>\n",
       "    </tr>\n",
       "    <tr>\n",
       "      <th>1</th>\n",
       "      <td>X_2</td>\n",
       "      <td>1.034375</td>\n",
       "    </tr>\n",
       "    <tr>\n",
       "      <th>2</th>\n",
       "      <td>X_3</td>\n",
       "      <td>1.018255</td>\n",
       "    </tr>\n",
       "    <tr>\n",
       "      <th>3</th>\n",
       "      <td>X_4</td>\n",
       "      <td>1.108087</td>\n",
       "    </tr>\n",
       "    <tr>\n",
       "      <th>4</th>\n",
       "      <td>X_5</td>\n",
       "      <td>1.055617</td>\n",
       "    </tr>\n",
       "    <tr>\n",
       "      <th>5</th>\n",
       "      <td>X_6</td>\n",
       "      <td>1.054612</td>\n",
       "    </tr>\n",
       "    <tr>\n",
       "      <th>6</th>\n",
       "      <td>X_7</td>\n",
       "      <td>1.072201</td>\n",
       "    </tr>\n",
       "  </tbody>\n",
       "</table>\n",
       "</div>"
      ],
      "text/plain": [
       "  feature       VIF\n",
       "0     X_1  1.088180\n",
       "1     X_2  1.034375\n",
       "2     X_3  1.018255\n",
       "3     X_4  1.108087\n",
       "4     X_5  1.055617\n",
       "5     X_6  1.054612\n",
       "6     X_7  1.072201"
      ]
     },
     "execution_count": 80,
     "metadata": {},
     "output_type": "execute_result"
    }
   ],
   "source": [
    "# Rule of thumb: Generally, a VIF above 5 indicates a high multicollinearity.\n",
    "\n",
    "vif_data = pd.DataFrame()\n",
    "vif_data[\"feature\"] = X.columns\n",
    "  \n",
    "# calculating VIF for each feature\n",
    "vif_data[\"VIF\"] = [variance_inflation_factor(X.values, i)\n",
    "                          for i in range(len(X.columns))]\n",
    "  \n",
    "vif_data"
   ]
  },
  {
   "cell_type": "markdown",
   "id": "09ed8211",
   "metadata": {},
   "source": [
    "# EXAMPLE OF RIDGE COEFFICIENTS AS A FUNCTION OF THE REGULARIZATION"
   ]
  },
  {
   "cell_type": "code",
   "execution_count": 81,
   "id": "Qz3OKQucpjke",
   "metadata": {
    "id": "Qz3OKQucpjke"
   },
   "outputs": [],
   "source": [
    "p = 50\n",
    "q=0\n",
    "n = 200\n",
    "true_betas = np.repeat(5, p)\n",
    "#true_betas = np.array([0,1,2,3,4,5,6])\n",
    "min_cor = 0 \n",
    "max_cor = 0\n",
    "\n",
    "y, X, df = get_sim_data(p,q, n, min_cor, max_cor, true_betas)\n",
    "\n",
    "n, m = X.shape\n",
    "I = np.identity(m)\n",
    "\n",
    "\n",
    "\n",
    "alphas = np.array([0, 0.0001, 0.001, 0.01, 0.1, 0.2, 0.5, 1, 2, 3, 5, 10, 15, 20])\n",
    "\n",
    "matr_var = []\n",
    "matr_beta = []\n",
    "\n",
    "for a in alphas: \n",
    "\n",
    "    ridge_beta = np.dot(np.dot(np.linalg.inv(np.dot(X.T, X) + a * I), X.T), y)\n",
    "    matr_beta.append(ridge_beta)\n",
    "    \n",
    "    ridge_var_cov = np.dot(np.dot(np.linalg.inv(np.dot(X.T, X) + a * I), np.dot(X.T, X)), np.linalg.inv(np.dot(X.T, X) + a * I))\n",
    "    ridge_var = ridge_var_cov.diagonal()\n",
    "    matr_var.append(ridge_var)\n",
    "\n",
    "beta_var_names = []\n",
    "ridge_beta_names = []\n",
    "    \n",
    "for value in range(1, p + 1): \n",
    "    \n",
    "    column_betas_var = f\"beta_var_{value}\"\n",
    "    column_betas = f\"beta_{value}\"\n",
    "    beta_var_names.append(column_betas_var)\n",
    "    ridge_beta_names.append(column_betas)"
   ]
  },
  {
   "cell_type": "code",
   "execution_count": 28,
   "id": "QqQM6jjXppqJ",
   "metadata": {
    "colab": {
     "base_uri": "https://localhost:8080/",
     "height": 299
    },
    "id": "QqQM6jjXppqJ",
    "outputId": "4907aa10-19b5-49a4-a676-7556bd0ef709"
   },
   "outputs": [
    {
     "data": {
      "image/png": "[encoded data removed]",
      "text/plain": [
       "<Figure size 640x480 with 1 Axes>"
      ]
     },
     "metadata": {},
     "output_type": "display_data"
    }
   ],
   "source": [
    "ax = plt.gca()\n",
    "\n",
    "ax.plot(alphas, matr_beta)\n",
    "ax.set_xscale(\"log\")\n",
    "ax.set_xlim(ax.get_xlim()[::-1])  # reverse axis\n",
    "plt.xlabel(\"alpha\")\n",
    "plt.ylabel(\"weights\")\n",
    "plt.title(\"Ridge coefficients as a function of the regularization\")\n",
    "plt.axis(\"tight\")\n",
    "plt.show()"
   ]
  },
  {
   "cell_type": "markdown",
   "id": "KeGP55zLqJgJ",
   "metadata": {
    "id": "KeGP55zLqJgJ"
   },
   "source": [
    "# Template example Ridge,Lasso,ElasticNet (p=7, n=100, correlation among regressor= Yes)"
   ]
  },
  {
   "cell_type": "code",
   "execution_count": 82,
   "id": "8zUbT2-kz9_u",
   "metadata": {
    "id": "8zUbT2-kz9_u"
   },
   "outputs": [],
   "source": [
    "p = 7\n",
    "q=0\n",
    "n = 100\n",
    "min_cor = 0\n",
    "max_cor = 0.1\n",
    "\n",
    "true_betas = np.array([0,1,2,3,4,5,6])"
   ]
  },
  {
   "cell_type": "code",
   "execution_count": 85,
   "id": "agT-cXoJDzh9",
   "metadata": {
    "id": "agT-cXoJDzh9"
   },
   "outputs": [],
   "source": []
  },
  {
   "cell_type": "code",
   "execution_count": 84,
   "id": "SCNdsr4hzHKz",
   "metadata": {
    "id": "SCNdsr4hzHKz"
   },
   "outputs": [],
   "source": [
    "y, X, df = get_sim_data(p,q, n, min_cor, max_cor, true_betas)"
   ]
  },
  {
   "cell_type": "code",
   "execution_count": 87,
   "id": "4fb40627",
   "metadata": {
    "colab": {
     "base_uri": "https://localhost:8080/",
     "height": 424
    },
    "id": "4fb40627",
    "outputId": "b482e0a6-7d4f-4701-a569-3a87ef70901d"
   },
   "outputs": [
    {
     "data": {
      "text/html": [
       "<div>\n",
       "<style scoped>\n",
       "    .dataframe tbody tr th:only-of-type {\n",
       "        vertical-align: middle;\n",
       "    }\n",
       "\n",
       "    .dataframe tbody tr th {\n",
       "        vertical-align: top;\n",
       "    }\n",
       "\n",
       "    .dataframe thead th {\n",
       "        text-align: right;\n",
       "    }\n",
       "</style>\n",
       "<table border=\"1\" class=\"dataframe\">\n",
       "  <thead>\n",
       "    <tr style=\"text-align: right;\">\n",
       "      <th></th>\n",
       "      <th>y</th>\n",
       "      <th>X_1</th>\n",
       "      <th>X_2</th>\n",
       "      <th>X_3</th>\n",
       "      <th>X_4</th>\n",
       "      <th>X_5</th>\n",
       "      <th>X_6</th>\n",
       "      <th>X_7</th>\n",
       "    </tr>\n",
       "  </thead>\n",
       "  <tbody>\n",
       "    <tr>\n",
       "      <th>0</th>\n",
       "      <td>7.872523</td>\n",
       "      <td>-0.641879</td>\n",
       "      <td>-0.325007</td>\n",
       "      <td>-0.481135</td>\n",
       "      <td>0.844707</td>\n",
       "      <td>0.454520</td>\n",
       "      <td>-0.688381</td>\n",
       "      <td>1.202604</td>\n",
       "    </tr>\n",
       "    <tr>\n",
       "      <th>1</th>\n",
       "      <td>0.532621</td>\n",
       "      <td>-0.763962</td>\n",
       "      <td>-1.415041</td>\n",
       "      <td>-1.385395</td>\n",
       "      <td>0.467763</td>\n",
       "      <td>0.730782</td>\n",
       "      <td>0.695764</td>\n",
       "      <td>-0.418291</td>\n",
       "    </tr>\n",
       "    <tr>\n",
       "      <th>2</th>\n",
       "      <td>-5.956033</td>\n",
       "      <td>0.476562</td>\n",
       "      <td>1.794948</td>\n",
       "      <td>1.476425</td>\n",
       "      <td>-0.105568</td>\n",
       "      <td>1.011789</td>\n",
       "      <td>-2.288877</td>\n",
       "      <td>-0.500827</td>\n",
       "    </tr>\n",
       "    <tr>\n",
       "      <th>3</th>\n",
       "      <td>-13.058186</td>\n",
       "      <td>1.351495</td>\n",
       "      <td>0.739971</td>\n",
       "      <td>-1.487673</td>\n",
       "      <td>-1.280872</td>\n",
       "      <td>-0.833252</td>\n",
       "      <td>0.813126</td>\n",
       "      <td>-1.442953</td>\n",
       "    </tr>\n",
       "    <tr>\n",
       "      <th>4</th>\n",
       "      <td>12.500306</td>\n",
       "      <td>1.276370</td>\n",
       "      <td>-1.103531</td>\n",
       "      <td>0.642105</td>\n",
       "      <td>0.919067</td>\n",
       "      <td>-0.506443</td>\n",
       "      <td>0.407351</td>\n",
       "      <td>1.365017</td>\n",
       "    </tr>\n",
       "    <tr>\n",
       "      <th>...</th>\n",
       "      <td>...</td>\n",
       "      <td>...</td>\n",
       "      <td>...</td>\n",
       "      <td>...</td>\n",
       "      <td>...</td>\n",
       "      <td>...</td>\n",
       "      <td>...</td>\n",
       "      <td>...</td>\n",
       "    </tr>\n",
       "    <tr>\n",
       "      <th>95</th>\n",
       "      <td>8.554284</td>\n",
       "      <td>0.651034</td>\n",
       "      <td>2.576933</td>\n",
       "      <td>-0.811444</td>\n",
       "      <td>1.421952</td>\n",
       "      <td>0.337077</td>\n",
       "      <td>0.865778</td>\n",
       "      <td>-0.130843</td>\n",
       "    </tr>\n",
       "    <tr>\n",
       "      <th>96</th>\n",
       "      <td>-7.573047</td>\n",
       "      <td>0.720860</td>\n",
       "      <td>-0.688574</td>\n",
       "      <td>1.576647</td>\n",
       "      <td>-1.150782</td>\n",
       "      <td>-1.474210</td>\n",
       "      <td>-0.357616</td>\n",
       "      <td>0.205265</td>\n",
       "    </tr>\n",
       "    <tr>\n",
       "      <th>97</th>\n",
       "      <td>-9.176277</td>\n",
       "      <td>0.811387</td>\n",
       "      <td>0.648183</td>\n",
       "      <td>0.142571</td>\n",
       "      <td>-0.887999</td>\n",
       "      <td>-1.719209</td>\n",
       "      <td>1.207269</td>\n",
       "      <td>-1.111301</td>\n",
       "    </tr>\n",
       "    <tr>\n",
       "      <th>98</th>\n",
       "      <td>-1.497513</td>\n",
       "      <td>-2.415334</td>\n",
       "      <td>0.329029</td>\n",
       "      <td>-0.731738</td>\n",
       "      <td>0.113236</td>\n",
       "      <td>1.265507</td>\n",
       "      <td>-1.746319</td>\n",
       "      <td>0.558615</td>\n",
       "    </tr>\n",
       "    <tr>\n",
       "      <th>99</th>\n",
       "      <td>5.060242</td>\n",
       "      <td>0.911712</td>\n",
       "      <td>-0.019625</td>\n",
       "      <td>0.314659</td>\n",
       "      <td>0.702710</td>\n",
       "      <td>0.452781</td>\n",
       "      <td>0.400940</td>\n",
       "      <td>-0.443908</td>\n",
       "    </tr>\n",
       "  </tbody>\n",
       "</table>\n",
       "<p>100 rows × 8 columns</p>\n",
       "</div>"
      ],
      "text/plain": [
       "            y       X_1       X_2  ...       X_5       X_6       X_7\n",
       "0    7.872523 -0.641879 -0.325007  ...  0.454520 -0.688381  1.202604\n",
       "1    0.532621 -0.763962 -1.415041  ...  0.730782  0.695764 -0.418291\n",
       "2   -5.956033  0.476562  1.794948  ...  1.011789 -2.288877 -0.500827\n",
       "3  -13.058186  1.351495  0.739971  ... -0.833252  0.813126 -1.442953\n",
       "4   12.500306  1.276370 -1.103531  ... -0.506443  0.407351  1.365017\n",
       "..        ...       ...       ...  ...       ...       ...       ...\n",
       "95   8.554284  0.651034  2.576933  ...  0.337077  0.865778 -0.130843\n",
       "96  -7.573047  0.720860 -0.688574  ... -1.474210 -0.357616  0.205265\n",
       "97  -9.176277  0.811387  0.648183  ... -1.719209  1.207269 -1.111301\n",
       "98  -1.497513 -2.415334  0.329029  ...  1.265507 -1.746319  0.558615\n",
       "99   5.060242  0.911712 -0.019625  ...  0.452781  0.400940 -0.443908\n",
       "\n",
       "[100 rows x 8 columns]"
      ]
     },
     "execution_count": 87,
     "metadata": {},
     "output_type": "execute_result"
    }
   ],
   "source": [
    "df"
   ]
  },
  {
   "cell_type": "code",
   "execution_count": 19,
   "id": "XgU_kpl7zWe8",
   "metadata": {
    "colab": {
     "base_uri": "https://localhost:8080/",
     "height": 206
    },
    "id": "XgU_kpl7zWe8",
    "outputId": "f3917981-8582-4f89-ca19-1cd4f91c3e6e"
   },
   "outputs": [
    {
     "data": {
      "text/html": [
       "<div>\n",
       "<style scoped>\n",
       "    .dataframe tbody tr th:only-of-type {\n",
       "        vertical-align: middle;\n",
       "    }\n",
       "\n",
       "    .dataframe tbody tr th {\n",
       "        vertical-align: top;\n",
       "    }\n",
       "\n",
       "    .dataframe thead th {\n",
       "        text-align: right;\n",
       "    }\n",
       "</style>\n",
       "<table border=\"1\" class=\"dataframe\">\n",
       "  <thead>\n",
       "    <tr style=\"text-align: right;\">\n",
       "      <th></th>\n",
       "      <th>X_1</th>\n",
       "      <th>X_2</th>\n",
       "      <th>X_3</th>\n",
       "      <th>X_4</th>\n",
       "      <th>X_5</th>\n",
       "      <th>X_6</th>\n",
       "      <th>X_7</th>\n",
       "    </tr>\n",
       "  </thead>\n",
       "  <tbody>\n",
       "    <tr>\n",
       "      <th>37</th>\n",
       "      <td>0.505722</td>\n",
       "      <td>0.058454</td>\n",
       "      <td>0.216431</td>\n",
       "      <td>2.600500</td>\n",
       "      <td>-0.918824</td>\n",
       "      <td>-0.865101</td>\n",
       "      <td>2.382768</td>\n",
       "    </tr>\n",
       "    <tr>\n",
       "      <th>44</th>\n",
       "      <td>0.518309</td>\n",
       "      <td>1.640108</td>\n",
       "      <td>0.673090</td>\n",
       "      <td>1.049520</td>\n",
       "      <td>1.663908</td>\n",
       "      <td>-1.696971</td>\n",
       "      <td>0.460376</td>\n",
       "    </tr>\n",
       "    <tr>\n",
       "      <th>55</th>\n",
       "      <td>0.557263</td>\n",
       "      <td>-0.702953</td>\n",
       "      <td>0.006014</td>\n",
       "      <td>-1.712030</td>\n",
       "      <td>1.006507</td>\n",
       "      <td>-1.031450</td>\n",
       "      <td>1.119989</td>\n",
       "    </tr>\n",
       "    <tr>\n",
       "      <th>66</th>\n",
       "      <td>-0.658940</td>\n",
       "      <td>-1.054516</td>\n",
       "      <td>0.247059</td>\n",
       "      <td>1.278887</td>\n",
       "      <td>1.154393</td>\n",
       "      <td>0.822295</td>\n",
       "      <td>-0.919463</td>\n",
       "    </tr>\n",
       "    <tr>\n",
       "      <th>82</th>\n",
       "      <td>-0.056314</td>\n",
       "      <td>-0.880263</td>\n",
       "      <td>0.415966</td>\n",
       "      <td>-1.220262</td>\n",
       "      <td>-1.622508</td>\n",
       "      <td>0.404499</td>\n",
       "      <td>0.441649</td>\n",
       "    </tr>\n",
       "  </tbody>\n",
       "</table>\n",
       "</div>"
      ],
      "text/plain": [
       "         X_1       X_2       X_3       X_4       X_5       X_6       X_7\n",
       "37  0.505722  0.058454  0.216431  2.600500 -0.918824 -0.865101  2.382768\n",
       "44  0.518309  1.640108  0.673090  1.049520  1.663908 -1.696971  0.460376\n",
       "55  0.557263 -0.702953  0.006014 -1.712030  1.006507 -1.031450  1.119989\n",
       "66 -0.658940 -1.054516  0.247059  1.278887  1.154393  0.822295 -0.919463\n",
       "82 -0.056314 -0.880263  0.415966 -1.220262 -1.622508  0.404499  0.441649"
      ]
     },
     "execution_count": 19,
     "metadata": {},
     "output_type": "execute_result"
    }
   ],
   "source": [
    "#splitting data\n",
    "y = df['y']\n",
    "X = df.drop('y', axis=1) \n",
    "\n",
    "X_train, X_test, y_train, y_test = train_test_split(X, y, test_size=0.2, random_state=1000)\n",
    "X_train.head()"
   ]
  },
  {
   "cell_type": "code",
   "execution_count": 20,
   "id": "aJ3Iu5GF0Jx8",
   "metadata": {
    "id": "aJ3Iu5GF0Jx8"
   },
   "outputs": [],
   "source": [
    "model_linear = LinearRegression()\n",
    "model_ridge = Ridge()\n",
    "model_lasso = Lasso()\n",
    "model_net = ElasticNet()"
   ]
  },
  {
   "cell_type": "code",
   "execution_count": 21,
   "id": "PTBndMZd1egd",
   "metadata": {
    "id": "PTBndMZd1egd"
   },
   "outputs": [],
   "source": [
    "y_hat_linear= model_linear.fit(X_train, y_train).predict(X_test)\n",
    "y_hat_ridge = model_ridge.fit(X_train, y_train).predict(X_test)\n",
    "y_hat_lasso = model_lasso.fit(X_train, y_train).predict(X_test)\n",
    "y_hat_net   = model_net.fit(X_train, y_train).predict(X_test)"
   ]
  },
  {
   "cell_type": "code",
   "execution_count": 22,
   "id": "tGx0xh6T1fQ1",
   "metadata": {
    "colab": {
     "base_uri": "https://localhost:8080/",
     "height": 206
    },
    "id": "tGx0xh6T1fQ1",
    "outputId": "cd95eea8-e7d0-4412-a1fb-2076ef68c73d"
   },
   "outputs": [
    {
     "data": {
      "text/html": [
       "<div>\n",
       "<style scoped>\n",
       "    .dataframe tbody tr th:only-of-type {\n",
       "        vertical-align: middle;\n",
       "    }\n",
       "\n",
       "    .dataframe tbody tr th {\n",
       "        vertical-align: top;\n",
       "    }\n",
       "\n",
       "    .dataframe thead th {\n",
       "        text-align: right;\n",
       "    }\n",
       "</style>\n",
       "<table border=\"1\" class=\"dataframe\">\n",
       "  <thead>\n",
       "    <tr style=\"text-align: right;\">\n",
       "      <th></th>\n",
       "      <th>y_test</th>\n",
       "      <th>y_hat_linear</th>\n",
       "      <th>y_hat_ridge</th>\n",
       "      <th>y_hat_lasso</th>\n",
       "      <th>y_hat_net</th>\n",
       "    </tr>\n",
       "  </thead>\n",
       "  <tbody>\n",
       "    <tr>\n",
       "      <th>88</th>\n",
       "      <td>6.397831</td>\n",
       "      <td>6.300488</td>\n",
       "      <td>6.204528</td>\n",
       "      <td>6.499738</td>\n",
       "      <td>4.276902</td>\n",
       "    </tr>\n",
       "    <tr>\n",
       "      <th>4</th>\n",
       "      <td>-1.264402</td>\n",
       "      <td>-0.651106</td>\n",
       "      <td>-0.619805</td>\n",
       "      <td>0.269641</td>\n",
       "      <td>0.386287</td>\n",
       "    </tr>\n",
       "    <tr>\n",
       "      <th>62</th>\n",
       "      <td>-11.936858</td>\n",
       "      <td>-12.612302</td>\n",
       "      <td>-12.363873</td>\n",
       "      <td>-7.635630</td>\n",
       "      <td>-5.858188</td>\n",
       "    </tr>\n",
       "    <tr>\n",
       "      <th>63</th>\n",
       "      <td>4.025552</td>\n",
       "      <td>2.502529</td>\n",
       "      <td>2.540984</td>\n",
       "      <td>2.026286</td>\n",
       "      <td>2.709086</td>\n",
       "    </tr>\n",
       "    <tr>\n",
       "      <th>48</th>\n",
       "      <td>-7.290285</td>\n",
       "      <td>-8.356808</td>\n",
       "      <td>-8.179447</td>\n",
       "      <td>-5.508134</td>\n",
       "      <td>-3.233872</td>\n",
       "    </tr>\n",
       "  </tbody>\n",
       "</table>\n",
       "</div>"
      ],
      "text/plain": [
       "       y_test  y_hat_linear  y_hat_ridge  y_hat_lasso  y_hat_net\n",
       "88   6.397831      6.300488     6.204528     6.499738   4.276902\n",
       "4   -1.264402     -0.651106    -0.619805     0.269641   0.386287\n",
       "62 -11.936858    -12.612302   -12.363873    -7.635630  -5.858188\n",
       "63   4.025552      2.502529     2.540984     2.026286   2.709086\n",
       "48  -7.290285     -8.356808    -8.179447    -5.508134  -3.233872"
      ]
     },
     "execution_count": 22,
     "metadata": {},
     "output_type": "execute_result"
    }
   ],
   "source": [
    "df_predictions = pd.DataFrame({'y_test':y_test,\n",
    "                               'y_hat_linear':y_hat_linear,\n",
    "                               'y_hat_ridge':y_hat_ridge,\n",
    "                               'y_hat_lasso':y_hat_lasso,\n",
    "                               'y_hat_net':y_hat_net})\n",
    "df_predictions.head()"
   ]
  },
  {
   "cell_type": "code",
   "execution_count": 23,
   "id": "apTqCRPI1h_t",
   "metadata": {
    "colab": {
     "base_uri": "https://localhost:8080/"
    },
    "id": "apTqCRPI1h_t",
    "outputId": "0329c98a-e527-47a9-ee22-3b9e54d9f2ce"
   },
   "outputs": [
    {
     "data": {
      "text/plain": [
       "Index(['X_1', 'X_2', 'X_3', 'X_4', 'X_5', 'X_6', 'X_7'], dtype='object')"
      ]
     },
     "execution_count": 23,
     "metadata": {},
     "output_type": "execute_result"
    }
   ],
   "source": [
    "df.drop('y', axis=1, inplace=False).columns"
   ]
  },
  {
   "cell_type": "code",
   "execution_count": 24,
   "id": "_dMvITYn19aS",
   "metadata": {
    "colab": {
     "base_uri": "https://localhost:8080/",
     "height": 269
    },
    "id": "_dMvITYn19aS",
    "outputId": "9668dac8-ad72-454d-f476-fe81b4a1ad6b"
   },
   "outputs": [
    {
     "data": {
      "text/html": [
       "<div>\n",
       "<style scoped>\n",
       "    .dataframe tbody tr th:only-of-type {\n",
       "        vertical-align: middle;\n",
       "    }\n",
       "\n",
       "    .dataframe tbody tr th {\n",
       "        vertical-align: top;\n",
       "    }\n",
       "\n",
       "    .dataframe thead th {\n",
       "        text-align: right;\n",
       "    }\n",
       "</style>\n",
       "<table border=\"1\" class=\"dataframe\">\n",
       "  <thead>\n",
       "    <tr style=\"text-align: right;\">\n",
       "      <th></th>\n",
       "      <th>Features</th>\n",
       "      <th>model_lin</th>\n",
       "      <th>model_ridge</th>\n",
       "      <th>model_lasso</th>\n",
       "      <th>model_net</th>\n",
       "    </tr>\n",
       "  </thead>\n",
       "  <tbody>\n",
       "    <tr>\n",
       "      <th>0</th>\n",
       "      <td>X_1</td>\n",
       "      <td>0.047800</td>\n",
       "      <td>0.060401</td>\n",
       "      <td>0.000000</td>\n",
       "      <td>0.000000</td>\n",
       "    </tr>\n",
       "    <tr>\n",
       "      <th>1</th>\n",
       "      <td>X_2</td>\n",
       "      <td>0.963568</td>\n",
       "      <td>0.952729</td>\n",
       "      <td>0.205576</td>\n",
       "      <td>0.492864</td>\n",
       "    </tr>\n",
       "    <tr>\n",
       "      <th>2</th>\n",
       "      <td>X_3</td>\n",
       "      <td>1.881429</td>\n",
       "      <td>1.882305</td>\n",
       "      <td>1.337182</td>\n",
       "      <td>1.390349</td>\n",
       "    </tr>\n",
       "    <tr>\n",
       "      <th>3</th>\n",
       "      <td>X_4</td>\n",
       "      <td>3.177416</td>\n",
       "      <td>3.157492</td>\n",
       "      <td>2.613163</td>\n",
       "      <td>2.255569</td>\n",
       "    </tr>\n",
       "    <tr>\n",
       "      <th>4</th>\n",
       "      <td>X_5</td>\n",
       "      <td>4.055992</td>\n",
       "      <td>4.004755</td>\n",
       "      <td>3.290621</td>\n",
       "      <td>2.492920</td>\n",
       "    </tr>\n",
       "    <tr>\n",
       "      <th>5</th>\n",
       "      <td>X_6</td>\n",
       "      <td>5.105892</td>\n",
       "      <td>5.002305</td>\n",
       "      <td>3.650679</td>\n",
       "      <td>2.435877</td>\n",
       "    </tr>\n",
       "    <tr>\n",
       "      <th>6</th>\n",
       "      <td>X_7</td>\n",
       "      <td>5.695248</td>\n",
       "      <td>5.601138</td>\n",
       "      <td>4.265601</td>\n",
       "      <td>2.987167</td>\n",
       "    </tr>\n",
       "  </tbody>\n",
       "</table>\n",
       "</div>"
      ],
      "text/plain": [
       "  Features  model_lin  model_ridge  model_lasso  model_net\n",
       "0      X_1   0.047800     0.060401     0.000000   0.000000\n",
       "1      X_2   0.963568     0.952729     0.205576   0.492864\n",
       "2      X_3   1.881429     1.882305     1.337182   1.390349\n",
       "3      X_4   3.177416     3.157492     2.613163   2.255569\n",
       "4      X_5   4.055992     4.004755     3.290621   2.492920\n",
       "5      X_6   5.105892     5.002305     3.650679   2.435877\n",
       "6      X_7   5.695248     5.601138     4.265601   2.987167"
      ]
     },
     "execution_count": 24,
     "metadata": {},
     "output_type": "execute_result"
    }
   ],
   "source": [
    "coefficients = pd.DataFrame({'Features':df.drop('y', axis=1, inplace=False).columns})\n",
    "coefficients['model_lin']= model_linear.coef_\n",
    "coefficients['model_ridge']= model_ridge.coef_\n",
    "coefficients['model_lasso']= model_lasso.coef_\n",
    "coefficients['model_net']= model_net.coef_\n",
    "coefficients"
   ]
  },
  {
   "cell_type": "code",
   "execution_count": 25,
   "id": "GhaeS1Nq3VqA",
   "metadata": {
    "colab": {
     "base_uri": "https://localhost:8080/"
    },
    "id": "GhaeS1Nq3VqA",
    "outputId": "b4d0a08f-c4d2-4a7f-a88d-5341d2b3ad86"
   },
   "outputs": [
    {
     "data": {
      "text/plain": [
       "1.23"
      ]
     },
     "execution_count": 25,
     "metadata": {},
     "output_type": "execute_result"
    }
   ],
   "source": [
    "#performance in test set\n",
    "MSE_test = np.mean(np.square(df_predictions['y_test'] - df_predictions['y_hat_linear']))\n",
    "RMSE_test = np.sqrt(MSE_test)\n",
    "np.round(RMSE_test,3)"
   ]
  },
  {
   "cell_type": "code",
   "execution_count": 26,
   "id": "wtxzAIyh4FI8",
   "metadata": {
    "colab": {
     "base_uri": "https://localhost:8080/"
    },
    "id": "wtxzAIyh4FI8",
    "outputId": "a7034edb-472b-45d5-b357-74731d5d7a03"
   },
   "outputs": [
    {
     "data": {
      "text/plain": [
       "1.2"
      ]
     },
     "execution_count": 26,
     "metadata": {},
     "output_type": "execute_result"
    }
   ],
   "source": [
    "MSE_test = np.mean(np.square(df_predictions['y_test'] - df_predictions['y_hat_ridge']))\n",
    "RMSE_test = np.sqrt(MSE_test)\n",
    "np.round(RMSE_test,3)"
   ]
  },
  {
   "cell_type": "code",
   "execution_count": 27,
   "id": "QW9OH4MY40hQ",
   "metadata": {
    "colab": {
     "base_uri": "https://localhost:8080/"
    },
    "id": "QW9OH4MY40hQ",
    "outputId": "4a096ece-24ff-4420-e67a-6cc81c2e3812"
   },
   "outputs": [
    {
     "data": {
      "text/plain": [
       "2.737"
      ]
     },
     "execution_count": 27,
     "metadata": {},
     "output_type": "execute_result"
    }
   ],
   "source": [
    "MSE_test = np.mean(np.square(df_predictions['y_test'] - df_predictions['y_hat_lasso']))\n",
    "RMSE_test = np.sqrt(MSE_test)\n",
    "np.round(RMSE_test,3)"
   ]
  },
  {
   "cell_type": "code",
   "execution_count": 28,
   "id": "trRQgoAd41AB",
   "metadata": {
    "colab": {
     "base_uri": "https://localhost:8080/"
    },
    "id": "trRQgoAd41AB",
    "outputId": "5fd79678-e4f2-4cba-fda6-9032c2ee5ded"
   },
   "outputs": [
    {
     "data": {
      "text/plain": [
       "4.422"
      ]
     },
     "execution_count": 28,
     "metadata": {},
     "output_type": "execute_result"
    }
   ],
   "source": [
    "MSE_test = np.mean(np.square(df_predictions['y_test'] - df_predictions['y_hat_net']))\n",
    "RMSE_test = np.sqrt(MSE_test)\n",
    "np.round(RMSE_test,3)"
   ]
  },
  {
   "cell_type": "code",
   "execution_count": 29,
   "id": "tbbxqvwR43Ua",
   "metadata": {
    "colab": {
     "base_uri": "https://localhost:8080/"
    },
    "id": "tbbxqvwR43Ua",
    "outputId": "3b1cdc21-da2d-4fc2-e62d-cf35323dd88e"
   },
   "outputs": [
    {
     "data": {
      "text/plain": [
       "(100, 7)"
      ]
     },
     "execution_count": 29,
     "metadata": {},
     "output_type": "execute_result"
    }
   ],
   "source": [
    "alphas = 10**np.linspace(-2,4,100)\n",
    "\n",
    "ridge = Ridge()\n",
    "coefs_ridge = []\n",
    "\n",
    "for i in alphas:\n",
    "    ridge.set_params(alpha = i)\n",
    "    ridge.fit(X_train, y_train)\n",
    "    coefs_ridge.append(ridge.coef_)\n",
    "    \n",
    "np.shape(coefs_ridge)"
   ]
  },
  {
   "cell_type": "code",
   "execution_count": 30,
   "id": "OZ28Hh2z5aUE",
   "metadata": {
    "colab": {
     "base_uri": "https://localhost:8080/",
     "height": 625
    },
    "id": "OZ28Hh2z5aUE",
    "outputId": "5cfec16d-ed15-43f1-b610-234324482a0e"
   },
   "outputs": [
    {
     "data": {
      "image/png": "[encoded data removed]",
      "text/plain": [
       "<Figure size 864x720 with 1 Axes>"
      ]
     },
     "metadata": {
      "needs_background": "light"
     },
     "output_type": "display_data"
    }
   ],
   "source": [
    "plt.figure(figsize=(12,10))\n",
    "ax = plt.gca()\n",
    "ax.plot(alphas, coefs_ridge)\n",
    "ax.set_xscale('log')\n",
    "plt.axis('tight')\n",
    "plt.xlabel('alpha')\n",
    "plt.ylabel('weights: scaled coefficients')\n",
    "plt.title('Ridge regression coefficients Vs. alpha')\n",
    "plt.legend(df.drop('y',axis=1, inplace=False).columns)\n",
    "\n",
    "plt.show()"
   ]
  },
  {
   "cell_type": "code",
   "execution_count": 31,
   "id": "uLsnvqCf5lA5",
   "metadata": {
    "colab": {
     "base_uri": "https://localhost:8080/"
    },
    "id": "uLsnvqCf5lA5",
    "outputId": "45eb4995-1efb-403c-9676-8b7116a3bf34"
   },
   "outputs": [
    {
     "data": {
      "text/plain": [
       "(100, 7)"
      ]
     },
     "execution_count": 31,
     "metadata": {},
     "output_type": "execute_result"
    }
   ],
   "source": [
    "lasso = Lasso()\n",
    "coefs_lasso = []\n",
    "\n",
    "for i in alphas:\n",
    "    lasso.set_params(alpha = i)\n",
    "    lasso.fit(X_train, y_train)\n",
    "    coefs_lasso.append(lasso.coef_)\n",
    "    \n",
    "np.shape(coefs_lasso)"
   ]
  },
  {
   "cell_type": "code",
   "execution_count": 32,
   "id": "xTmsFWxH6RuO",
   "metadata": {
    "colab": {
     "base_uri": "https://localhost:8080/",
     "height": 625
    },
    "id": "xTmsFWxH6RuO",
    "outputId": "f585fced-1eab-47ed-cb3e-c3e9f8c664e3"
   },
   "outputs": [
    {
     "data": {
      "image/png": "[encoded data removed]",
      "text/plain": [
       "<Figure size 864x720 with 1 Axes>"
      ]
     },
     "metadata": {
      "needs_background": "light"
     },
     "output_type": "display_data"
    }
   ],
   "source": [
    "plt.figure(figsize=(12,10))\n",
    "ax = plt.gca()\n",
    "ax.plot(alphas, coefs_lasso)\n",
    "ax.set_xscale('log')\n",
    "plt.axis('tight')\n",
    "plt.xlabel('alpha')\n",
    "plt.ylabel('weights: scaled coefficients')\n",
    "plt.title('Lasso regression coefficients Vs. alpha')\n",
    "plt.legend(df.drop('y',axis=1, inplace=False).columns)\n",
    "\n",
    "plt.show()"
   ]
  },
  {
   "cell_type": "code",
   "execution_count": 33,
   "id": "W1haPYDn6V6V",
   "metadata": {
    "colab": {
     "base_uri": "https://localhost:8080/"
    },
    "id": "W1haPYDn6V6V",
    "outputId": "5492d49b-0fc0-4c2f-9dd8-9ec0c0c09d00"
   },
   "outputs": [
    {
     "data": {
      "text/plain": [
       "(100, 7)"
      ]
     },
     "execution_count": 33,
     "metadata": {},
     "output_type": "execute_result"
    }
   ],
   "source": [
    "elasticnet = ElasticNet()\n",
    "coefs_elasticnet = []\n",
    "\n",
    "for i in alphas:\n",
    "    elasticnet.set_params(alpha = i)\n",
    "    elasticnet.fit(X_train, y_train)\n",
    "    coefs_elasticnet.append(elasticnet.coef_)\n",
    "    \n",
    "np.shape(coefs_elasticnet)"
   ]
  },
  {
   "cell_type": "code",
   "execution_count": 34,
   "id": "-Vfad49p6d4O",
   "metadata": {
    "colab": {
     "base_uri": "https://localhost:8080/",
     "height": 625
    },
    "id": "-Vfad49p6d4O",
    "outputId": "2b09c604-c002-4e3c-c77b-13a9087b9603"
   },
   "outputs": [
    {
     "data": {
      "image/png": "[encoded data removed]",
      "text/plain": [
       "<Figure size 864x720 with 1 Axes>"
      ]
     },
     "metadata": {
      "needs_background": "light"
     },
     "output_type": "display_data"
    }
   ],
   "source": [
    "plt.figure(figsize=(12,10))\n",
    "ax = plt.gca()\n",
    "ax.plot(alphas, coefs_elasticnet)\n",
    "ax.set_xscale('log')\n",
    "plt.axis('tight')\n",
    "plt.xlabel('alpha')\n",
    "plt.ylabel('weights: scaled coefficients')\n",
    "plt.title('Elastic Net regression coefficients Vs. alpha')\n",
    "plt.legend(df.drop('y',axis=1, inplace=False).columns)\n",
    "\n",
    "plt.show()"
   ]
  },
  {
   "cell_type": "code",
   "execution_count": 35,
   "id": "Kswro8AJ6pTg",
   "metadata": {
    "id": "Kswro8AJ6pTg"
   },
   "outputs": [],
   "source": [
    "#cross validation\n",
    "ridgecv = RidgeCV()\n",
    "ridgecv.fit(X_train, y_train)\n",
    "ridgecv.alpha_\n",
    "alpha_ridge_opt = ridgecv.alpha_\n",
    "\n",
    "lassocv = LassoCV()\n",
    "lassocv.fit(X_train, y_train)\n",
    "lassocv.alpha_\n",
    "alpha_lasso_opt = lassocv.alpha_\n",
    "\n",
    "elasticnetcv = ElasticNetCV()\n",
    "elasticnetcv.fit(X_train, y_train)\n",
    "elasticnetcv.alpha_\n",
    "elasticnetcv.l1_ratio_ #0.5\n",
    "alpha_elasticnet_opt = elasticnetcv.alpha_\n"
   ]
  },
  {
   "cell_type": "code",
   "execution_count": 65,
   "id": "D2NN7aHY_5b-",
   "metadata": {
    "colab": {
     "base_uri": "https://localhost:8080/",
     "height": 964
    },
    "id": "D2NN7aHY_5b-",
    "outputId": "669549d4-45b3-4b77-e3ee-63cd8a9fb451"
   },
   "outputs": [
    {
     "name": "stderr",
     "output_type": "stream",
     "text": [
      "/usr/local/lib/python3.7/dist-packages/sklearn/model_selection/_validation.py:681: UserWarning: With alpha=0, this algorithm does not converge well. You are advised to use the LinearRegression estimator\n",
      "  estimator.fit(X_train, y_train, **fit_params)\n",
      "/usr/local/lib/python3.7/dist-packages/sklearn/linear_model/_coordinate_descent.py:648: UserWarning: Coordinate descent with no regularization may lead to unexpected results and is discouraged.\n",
      "  coef_, l1_reg, l2_reg, X, y, max_iter, tol, rng, random, positive\n",
      "/usr/local/lib/python3.7/dist-packages/sklearn/linear_model/_coordinate_descent.py:648: ConvergenceWarning: Objective did not converge. You might want to increase the number of iterations, check the scale of the features or consider increasing regularisation. Duality gap: 2.160e+01, tolerance: 6.217e-01 Linear regression models with null weight for the l1 regularization term are more efficiently fitted using one of the solvers implemented in sklearn.linear_model.Ridge/RidgeCV instead.\n",
      "  coef_, l1_reg, l2_reg, X, y, max_iter, tol, rng, random, positive\n",
      "/usr/local/lib/python3.7/dist-packages/sklearn/model_selection/_validation.py:681: UserWarning: With alpha=0, this algorithm does not converge well. You are advised to use the LinearRegression estimator\n",
      "  estimator.fit(X_train, y_train, **fit_params)\n",
      "/usr/local/lib/python3.7/dist-packages/sklearn/linear_model/_coordinate_descent.py:648: UserWarning: Coordinate descent with no regularization may lead to unexpected results and is discouraged.\n",
      "  coef_, l1_reg, l2_reg, X, y, max_iter, tol, rng, random, positive\n",
      "/usr/local/lib/python3.7/dist-packages/sklearn/linear_model/_coordinate_descent.py:648: ConvergenceWarning: Objective did not converge. You might want to increase the number of iterations, check the scale of the features or consider increasing regularisation. Duality gap: 2.622e+01, tolerance: 5.197e-01 Linear regression models with null weight for the l1 regularization term are more efficiently fitted using one of the solvers implemented in sklearn.linear_model.Ridge/RidgeCV instead.\n",
      "  coef_, l1_reg, l2_reg, X, y, max_iter, tol, rng, random, positive\n",
      "/usr/local/lib/python3.7/dist-packages/sklearn/model_selection/_validation.py:681: UserWarning: With alpha=0, this algorithm does not converge well. You are advised to use the LinearRegression estimator\n",
      "  estimator.fit(X_train, y_train, **fit_params)\n",
      "/usr/local/lib/python3.7/dist-packages/sklearn/linear_model/_coordinate_descent.py:648: UserWarning: Coordinate descent with no regularization may lead to unexpected results and is discouraged.\n",
      "  coef_, l1_reg, l2_reg, X, y, max_iter, tol, rng, random, positive\n",
      "/usr/local/lib/python3.7/dist-packages/sklearn/linear_model/_coordinate_descent.py:648: ConvergenceWarning: Objective did not converge. You might want to increase the number of iterations, check the scale of the features or consider increasing regularisation. Duality gap: 2.638e+01, tolerance: 3.635e-01 Linear regression models with null weight for the l1 regularization term are more efficiently fitted using one of the solvers implemented in sklearn.linear_model.Ridge/RidgeCV instead.\n",
      "  coef_, l1_reg, l2_reg, X, y, max_iter, tol, rng, random, positive\n",
      "/usr/local/lib/python3.7/dist-packages/sklearn/model_selection/_validation.py:681: UserWarning: With alpha=0, this algorithm does not converge well. You are advised to use the LinearRegression estimator\n",
      "  estimator.fit(X_train, y_train, **fit_params)\n",
      "/usr/local/lib/python3.7/dist-packages/sklearn/linear_model/_coordinate_descent.py:648: UserWarning: Coordinate descent with no regularization may lead to unexpected results and is discouraged.\n",
      "  coef_, l1_reg, l2_reg, X, y, max_iter, tol, rng, random, positive\n",
      "/usr/local/lib/python3.7/dist-packages/sklearn/linear_model/_coordinate_descent.py:648: ConvergenceWarning: Objective did not converge. You might want to increase the number of iterations, check the scale of the features or consider increasing regularisation. Duality gap: 2.129e+01, tolerance: 6.369e-01 Linear regression models with null weight for the l1 regularization term are more efficiently fitted using one of the solvers implemented in sklearn.linear_model.Ridge/RidgeCV instead.\n",
      "  coef_, l1_reg, l2_reg, X, y, max_iter, tol, rng, random, positive\n",
      "/usr/local/lib/python3.7/dist-packages/sklearn/model_selection/_validation.py:681: UserWarning: With alpha=0, this algorithm does not converge well. You are advised to use the LinearRegression estimator\n",
      "  estimator.fit(X_train, y_train, **fit_params)\n",
      "/usr/local/lib/python3.7/dist-packages/sklearn/linear_model/_coordinate_descent.py:648: UserWarning: Coordinate descent with no regularization may lead to unexpected results and is discouraged.\n",
      "  coef_, l1_reg, l2_reg, X, y, max_iter, tol, rng, random, positive\n",
      "/usr/local/lib/python3.7/dist-packages/sklearn/linear_model/_coordinate_descent.py:648: ConvergenceWarning: Objective did not converge. You might want to increase the number of iterations, check the scale of the features or consider increasing regularisation. Duality gap: 2.483e+01, tolerance: 5.861e-01 Linear regression models with null weight for the l1 regularization term are more efficiently fitted using one of the solvers implemented in sklearn.linear_model.Ridge/RidgeCV instead.\n",
      "  coef_, l1_reg, l2_reg, X, y, max_iter, tol, rng, random, positive\n"
     ]
    },
    {
     "data": {
      "text/html": [
       "<div>\n",
       "<style scoped>\n",
       "    .dataframe tbody tr th:only-of-type {\n",
       "        vertical-align: middle;\n",
       "    }\n",
       "\n",
       "    .dataframe tbody tr th {\n",
       "        vertical-align: top;\n",
       "    }\n",
       "\n",
       "    .dataframe thead th {\n",
       "        text-align: right;\n",
       "    }\n",
       "</style>\n",
       "<table border=\"1\" class=\"dataframe\">\n",
       "  <thead>\n",
       "    <tr style=\"text-align: right;\">\n",
       "      <th></th>\n",
       "      <th>lambda_ElasticNet</th>\n",
       "      <th>RMSE_CV</th>\n",
       "    </tr>\n",
       "  </thead>\n",
       "  <tbody>\n",
       "    <tr>\n",
       "      <th>0</th>\n",
       "      <td>0.000</td>\n",
       "      <td>1.029961</td>\n",
       "    </tr>\n",
       "    <tr>\n",
       "      <th>1</th>\n",
       "      <td>0.001</td>\n",
       "      <td>1.029186</td>\n",
       "    </tr>\n",
       "    <tr>\n",
       "      <th>2</th>\n",
       "      <td>0.002</td>\n",
       "      <td>1.028484</td>\n",
       "    </tr>\n",
       "    <tr>\n",
       "      <th>3</th>\n",
       "      <td>0.003</td>\n",
       "      <td>1.027855</td>\n",
       "    </tr>\n",
       "    <tr>\n",
       "      <th>4</th>\n",
       "      <td>0.004</td>\n",
       "      <td>1.027299</td>\n",
       "    </tr>\n",
       "    <tr>\n",
       "      <th>...</th>\n",
       "      <td>...</td>\n",
       "      <td>...</td>\n",
       "    </tr>\n",
       "    <tr>\n",
       "      <th>495</th>\n",
       "      <td>0.495</td>\n",
       "      <td>2.894926</td>\n",
       "    </tr>\n",
       "    <tr>\n",
       "      <th>496</th>\n",
       "      <td>0.496</td>\n",
       "      <td>2.898608</td>\n",
       "    </tr>\n",
       "    <tr>\n",
       "      <th>497</th>\n",
       "      <td>0.497</td>\n",
       "      <td>2.902286</td>\n",
       "    </tr>\n",
       "    <tr>\n",
       "      <th>498</th>\n",
       "      <td>0.498</td>\n",
       "      <td>2.905962</td>\n",
       "    </tr>\n",
       "    <tr>\n",
       "      <th>499</th>\n",
       "      <td>0.499</td>\n",
       "      <td>2.909634</td>\n",
       "    </tr>\n",
       "  </tbody>\n",
       "</table>\n",
       "<p>500 rows × 2 columns</p>\n",
       "</div>"
      ],
      "text/plain": [
       "     lambda_ElasticNet   RMSE_CV\n",
       "0                0.000  1.029961\n",
       "1                0.001  1.029186\n",
       "2                0.002  1.028484\n",
       "3                0.003  1.027855\n",
       "4                0.004  1.027299\n",
       "..                 ...       ...\n",
       "495              0.495  2.894926\n",
       "496              0.496  2.898608\n",
       "497              0.497  2.902286\n",
       "498              0.498  2.905962\n",
       "499              0.499  2.909634\n",
       "\n",
       "[500 rows x 2 columns]"
      ]
     },
     "execution_count": 65,
     "metadata": {},
     "output_type": "execute_result"
    }
   ],
   "source": [
    "RMSE_CV=[]\n",
    "alphas= np.arange(0.0,0.5,0.001)\n",
    "for i in alphas:\n",
    "    MSE = -cross_val_score(estimator = ElasticNet(alpha=i), X = X_train, y = y_train, cv = 5 , scoring=\"neg_mean_squared_error\" )\n",
    "    RMSE_CV.append(np.sqrt(MSE).mean())\n",
    "    \n",
    "output = pd.DataFrame(list(alphas), columns=['lambda_ElasticNet'])\n",
    "output['RMSE_CV']=RMSE_CV\n",
    "\n",
    "output.head()"
   ]
  },
  {
   "cell_type": "code",
   "execution_count": 66,
   "id": "H9NTb7gtAFXk",
   "metadata": {
    "colab": {
     "base_uri": "https://localhost:8080/"
    },
    "id": "H9NTb7gtAFXk",
    "outputId": "47c3aad3-6d91-4a1a-f717-f0c1c95baac5"
   },
   "outputs": [
    {
     "data": {
      "text/plain": [
       "11"
      ]
     },
     "execution_count": 66,
     "metadata": {},
     "output_type": "execute_result"
    }
   ],
   "source": [
    "output['RMSE_CV'].idxmin()"
   ]
  },
  {
   "cell_type": "code",
   "execution_count": 67,
   "id": "neaWvyY7AN9B",
   "metadata": {
    "colab": {
     "base_uri": "https://localhost:8080/"
    },
    "id": "neaWvyY7AN9B",
    "outputId": "8c5d353e-1a21-4a46-80ce-12ac4d2d678d"
   },
   "outputs": [
    {
     "data": {
      "text/plain": [
       "0.011"
      ]
     },
     "execution_count": 67,
     "metadata": {},
     "output_type": "execute_result"
    }
   ],
   "source": [
    "output['lambda_ElasticNet'][output['RMSE_CV'].idxmin()]"
   ]
  },
  {
   "cell_type": "code",
   "execution_count": 68,
   "id": "FNCUQkLSAT39",
   "metadata": {
    "colab": {
     "base_uri": "https://localhost:8080/",
     "height": 284
    },
    "id": "FNCUQkLSAT39",
    "outputId": "cf9635aa-6e29-4af8-d1e2-6e793b65f7e7"
   },
   "outputs": [
    {
     "data": {
      "image/png": "[encoded data removed]",
      "text/plain": [
       "<Figure size 432x288 with 1 Axes>"
      ]
     },
     "metadata": {
      "needs_background": "light"
     },
     "output_type": "display_data"
    }
   ],
   "source": [
    "sns.lineplot(x='lambda_ElasticNet', y='RMSE_CV', data=output , color='r', label=\"RMSE_CV vs lambda_elasticnet\")\n",
    "plt.show()"
   ]
  },
  {
   "cell_type": "code",
   "execution_count": 69,
   "id": "rwNwcQcK_SiO",
   "metadata": {
    "colab": {
     "base_uri": "https://localhost:8080/",
     "height": 280
    },
    "id": "rwNwcQcK_SiO",
    "outputId": "d3217b07-a492-4acc-d5ba-9a7f58801771"
   },
   "outputs": [
    {
     "data": {
      "image/png": "[encoded data removed]",
      "text/plain": [
       "<Figure size 432x288 with 1 Axes>"
      ]
     },
     "metadata": {
      "needs_background": "light"
     },
     "output_type": "display_data"
    }
   ],
   "source": [
    "RMSE_CV=[]\n",
    "#iterator= np.arange(0.0,0.02,0.001)\n",
    "for i in alphas:\n",
    "    MSE = -cross_val_score(estimator = Ridge(alpha=i), X = X_train, y = y_train, cv = 5 , scoring=\"neg_mean_squared_error\" )\n",
    "    RMSE_CV.append(np.sqrt(MSE).mean())\n",
    "    \n",
    "output = pd.DataFrame(list(alphas), columns=['lambda_Ridge'])\n",
    "output['RMSE_CV']=RMSE_CV\n",
    "\n",
    "sns.lineplot(x='lambda_Ridge', y='RMSE_CV', data=output , color='r', label=\"RMSE_CV vs lambda_ridge\")\n",
    "plt.show()"
   ]
  },
  {
   "cell_type": "code",
   "execution_count": 72,
   "id": "PgDsXaHGB5re",
   "metadata": {
    "colab": {
     "base_uri": "https://localhost:8080/",
     "height": 821
    },
    "id": "PgDsXaHGB5re",
    "outputId": "77e886e1-7e81-493b-8963-4ae20e01628e"
   },
   "outputs": [
    {
     "name": "stderr",
     "output_type": "stream",
     "text": [
      "/usr/local/lib/python3.7/dist-packages/sklearn/model_selection/_validation.py:681: UserWarning: With alpha=0, this algorithm does not converge well. You are advised to use the LinearRegression estimator\n",
      "  estimator.fit(X_train, y_train, **fit_params)\n",
      "/usr/local/lib/python3.7/dist-packages/sklearn/linear_model/_coordinate_descent.py:648: UserWarning: Coordinate descent with no regularization may lead to unexpected results and is discouraged.\n",
      "  coef_, l1_reg, l2_reg, X, y, max_iter, tol, rng, random, positive\n",
      "/usr/local/lib/python3.7/dist-packages/sklearn/linear_model/_coordinate_descent.py:648: ConvergenceWarning: Objective did not converge. You might want to increase the number of iterations, check the scale of the features or consider increasing regularisation. Duality gap: 2.160e+01, tolerance: 6.217e-01 Linear regression models with null weight for the l1 regularization term are more efficiently fitted using one of the solvers implemented in sklearn.linear_model.Ridge/RidgeCV instead.\n",
      "  coef_, l1_reg, l2_reg, X, y, max_iter, tol, rng, random, positive\n",
      "/usr/local/lib/python3.7/dist-packages/sklearn/model_selection/_validation.py:681: UserWarning: With alpha=0, this algorithm does not converge well. You are advised to use the LinearRegression estimator\n",
      "  estimator.fit(X_train, y_train, **fit_params)\n",
      "/usr/local/lib/python3.7/dist-packages/sklearn/linear_model/_coordinate_descent.py:648: UserWarning: Coordinate descent with no regularization may lead to unexpected results and is discouraged.\n",
      "  coef_, l1_reg, l2_reg, X, y, max_iter, tol, rng, random, positive\n",
      "/usr/local/lib/python3.7/dist-packages/sklearn/linear_model/_coordinate_descent.py:648: ConvergenceWarning: Objective did not converge. You might want to increase the number of iterations, check the scale of the features or consider increasing regularisation. Duality gap: 2.622e+01, tolerance: 5.197e-01 Linear regression models with null weight for the l1 regularization term are more efficiently fitted using one of the solvers implemented in sklearn.linear_model.Ridge/RidgeCV instead.\n",
      "  coef_, l1_reg, l2_reg, X, y, max_iter, tol, rng, random, positive\n",
      "/usr/local/lib/python3.7/dist-packages/sklearn/model_selection/_validation.py:681: UserWarning: With alpha=0, this algorithm does not converge well. You are advised to use the LinearRegression estimator\n",
      "  estimator.fit(X_train, y_train, **fit_params)\n",
      "/usr/local/lib/python3.7/dist-packages/sklearn/linear_model/_coordinate_descent.py:648: UserWarning: Coordinate descent with no regularization may lead to unexpected results and is discouraged.\n",
      "  coef_, l1_reg, l2_reg, X, y, max_iter, tol, rng, random, positive\n",
      "/usr/local/lib/python3.7/dist-packages/sklearn/linear_model/_coordinate_descent.py:648: ConvergenceWarning: Objective did not converge. You might want to increase the number of iterations, check the scale of the features or consider increasing regularisation. Duality gap: 2.638e+01, tolerance: 3.635e-01 Linear regression models with null weight for the l1 regularization term are more efficiently fitted using one of the solvers implemented in sklearn.linear_model.Ridge/RidgeCV instead.\n",
      "  coef_, l1_reg, l2_reg, X, y, max_iter, tol, rng, random, positive\n",
      "/usr/local/lib/python3.7/dist-packages/sklearn/model_selection/_validation.py:681: UserWarning: With alpha=0, this algorithm does not converge well. You are advised to use the LinearRegression estimator\n",
      "  estimator.fit(X_train, y_train, **fit_params)\n",
      "/usr/local/lib/python3.7/dist-packages/sklearn/linear_model/_coordinate_descent.py:648: UserWarning: Coordinate descent with no regularization may lead to unexpected results and is discouraged.\n",
      "  coef_, l1_reg, l2_reg, X, y, max_iter, tol, rng, random, positive\n",
      "/usr/local/lib/python3.7/dist-packages/sklearn/linear_model/_coordinate_descent.py:648: ConvergenceWarning: Objective did not converge. You might want to increase the number of iterations, check the scale of the features or consider increasing regularisation. Duality gap: 2.129e+01, tolerance: 6.369e-01 Linear regression models with null weight for the l1 regularization term are more efficiently fitted using one of the solvers implemented in sklearn.linear_model.Ridge/RidgeCV instead.\n",
      "  coef_, l1_reg, l2_reg, X, y, max_iter, tol, rng, random, positive\n",
      "/usr/local/lib/python3.7/dist-packages/sklearn/model_selection/_validation.py:681: UserWarning: With alpha=0, this algorithm does not converge well. You are advised to use the LinearRegression estimator\n",
      "  estimator.fit(X_train, y_train, **fit_params)\n",
      "/usr/local/lib/python3.7/dist-packages/sklearn/linear_model/_coordinate_descent.py:648: UserWarning: Coordinate descent with no regularization may lead to unexpected results and is discouraged.\n",
      "  coef_, l1_reg, l2_reg, X, y, max_iter, tol, rng, random, positive\n",
      "/usr/local/lib/python3.7/dist-packages/sklearn/linear_model/_coordinate_descent.py:648: ConvergenceWarning: Objective did not converge. You might want to increase the number of iterations, check the scale of the features or consider increasing regularisation. Duality gap: 2.483e+01, tolerance: 5.861e-01 Linear regression models with null weight for the l1 regularization term are more efficiently fitted using one of the solvers implemented in sklearn.linear_model.Ridge/RidgeCV instead.\n",
      "  coef_, l1_reg, l2_reg, X, y, max_iter, tol, rng, random, positive\n"
     ]
    },
    {
     "data": {
      "image/png": "[encoded data removed]",
      "text/plain": [
       "<Figure size 432x288 with 1 Axes>"
      ]
     },
     "metadata": {
      "needs_background": "light"
     },
     "output_type": "display_data"
    }
   ],
   "source": [
    "RMSE_CV=[]\n",
    "#iterator= np.arange(0.0,0.02,0.001)\n",
    "for i in alphas:\n",
    "    MSE = -cross_val_score(estimator = Lasso(alpha=i), X = X_train, y = y_train, cv = 5 , scoring=\"neg_mean_squared_error\" )\n",
    "    RMSE_CV.append(np.sqrt(MSE).mean())\n",
    "    \n",
    "output = pd.DataFrame(list(alphas), columns=['lambda_Lasso'])\n",
    "output['RMSE_CV']=RMSE_CV\n",
    "\n",
    "sns.lineplot(x='lambda_Lasso', y='RMSE_CV', data=output , color='r', label=\"RMSE_CV vs lambda_lasso\")\n",
    "plt.show()"
   ]
  },
  {
   "cell_type": "code",
   "execution_count": 42,
   "id": "f8W883I8CgBW",
   "metadata": {
    "id": "f8W883I8CgBW"
   },
   "outputs": [],
   "source": [
    "#and now refit the models with the optimal alphas\n",
    "model_ridge = Ridge(alpha=alpha_ridge_opt)\n",
    "model_lasso = Lasso(alpha=alpha_lasso_opt)\n",
    "model_net = ElasticNet(alpha=alpha_elasticnet_opt)"
   ]
  }
 ],
 "metadata": {
  "colab": {
   "collapsed_sections": [],
   "name": "template_example_train_test.ipynb",
   "provenance": []
  },
  "kernelspec": {
   "display_name": "Python 3",
   "language": "python",
   "name": "python3"
  },
  "language_info": {
   "codemirror_mode": {
    "name": "ipython",
    "version": 3
   },
   "file_extension": ".py",
   "mimetype": "text/x-python",
   "name": "python",
   "nbconvert_exporter": "python",
   "pygments_lexer": "ipython3",
   "version": "3.8.8"
  }
 },
 "nbformat": 4,
 "nbformat_minor": 5
}
