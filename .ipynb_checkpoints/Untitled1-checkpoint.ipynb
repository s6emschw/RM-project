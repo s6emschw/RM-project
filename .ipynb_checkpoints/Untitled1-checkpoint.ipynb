{
 "cells": [
  {
   "cell_type": "code",
   "execution_count": 1,
   "id": "f6376836",
   "metadata": {},
   "outputs": [],
   "source": [
    "import matplotlib.pyplot as plt\n",
    "import numpy as np\n",
    "import pandas as pd\n",
    "import seaborn as sns\n",
    "from sklearn import linear_model\n",
    "from sklearn.linear_model import Ridge, RidgeCV, Lasso, LassoCV, ElasticNet, ElasticNetCV\n",
    "from sklearn.model_selection import GridSearchCV\n",
    "from sklearn.preprocessing import StandardScaler\n",
    "from statsmodels.stats.outliers_influence import variance_inflation_factor\n",
    "from sklearn.model_selection import validation_curve\n",
    "import warnings\n",
    "warnings.filterwarnings(action='ignore')\n",
    "from sklearn.model_selection import cross_val_score"
   ]
  },
  {
   "cell_type": "code",
   "execution_count": 2,
   "id": "f1d0356d",
   "metadata": {},
   "outputs": [],
   "source": [
    "from auxiliary_files.auxiliary_plots import * \n",
    "from auxiliary_files.auxiliary_analysis import * \n",
    "from auxiliary_files.auxiliary_tables import *"
   ]
  },
  {
   "cell_type": "code",
   "execution_count": null,
   "id": "196bc574",
   "metadata": {},
   "outputs": [],
   "source": [
    "np.random.seed(135)\n",
    "\n",
    "n = 30\n",
    "p = 35\n",
    "true_betas = generate_true_betas([10], [25], 2)\n",
    "cor_factor = 0\n",
    "iterations = 1500\n",
    "alphas = np.logspace(-4,1,200)\n",
    "\n",
    "\n",
    "y_test, X_test, df_test= get_sim_data(n, p, cor_factor, true_betas[0])\n",
    "\n",
    "df_predictions_1 = get_predictions(n, p, true_betas[0], cor_factor, iterations, alphas, X_test)\n",
    "store_mse_1, store_variance_1, store_bias_sq_1 = compute_mse(df_predictions_1, y_test, iterations)\n",
    "\n",
    "y_train, X_train, df_train = get_sim_data(n, p, cor_factor, true_betas[0])  "
   ]
  },
  {
   "cell_type": "code",
   "execution_count": null,
   "id": "9b134171",
   "metadata": {},
   "outputs": [],
   "source": [
    "# ridge CV-10\n",
    "\n",
    "train_scores_ridge, val_scores_ridge = validation_curve(Ridge(),\n",
    "                                  X_train, y_train, param_name=\"alpha\", param_range=alphas,\n",
    "                                  cv=10, scoring='neg_mean_squared_error')\n",
    "train_scores_ridge = -(train_scores_ridge)\n",
    "val_scores_ridge = -(val_scores_ridge)\n",
    "val_mean_ridge = np.mean(val_scores_ridge, axis=1)\n",
    "val_std_ridge = np.std(val_scores_ridge, axis=1)"
   ]
  },
  {
   "cell_type": "code",
   "execution_count": null,
   "id": "6996c91a",
   "metadata": {},
   "outputs": [],
   "source": [
    "# ridge LOOCV\n",
    "\n",
    "train_scores_ridge_loo, val_scores_ridge_loo = validation_curve(Ridge(),\n",
    "                                  X_train, y_train, param_name=\"alpha\", param_range=alphas,\n",
    "                                  cv=n, scoring='neg_mean_squared_error')\n",
    "train_scores_ridge_loo = -(train_scores_ridge_loo)\n",
    "val_scores_ridge_loo = -(val_scores_ridge_loo)\n",
    "val_mean_ridge_loo = np.mean(val_scores_ridge_loo, axis=1)\n",
    "val_std_ridge_loo = np.std(val_scores_ridge_loo, axis=1)"
   ]
  },
  {
   "cell_type": "code",
   "execution_count": null,
   "id": "72e4088e",
   "metadata": {},
   "outputs": [],
   "source": [
    "# lasso CV-10\n",
    "\n",
    "train_scores_lasso, val_scores_lasso = validation_curve(Lasso(),\n",
    "                                  X_train, y_train, param_name=\"alpha\", param_range=alphas,\n",
    "                                  cv=10, scoring='neg_mean_squared_error')\n",
    "train_scores_lasso = -(train_scores_lasso)\n",
    "val_scores_lasso = -(val_scores_lasso)\n",
    "val_mean_lasso = np.mean(val_scores_lasso, axis=1)\n",
    "val_std_lasso = np.std(val_scores_lasso, axis=1)"
   ]
  },
  {
   "cell_type": "code",
   "execution_count": null,
   "id": "2e605533",
   "metadata": {},
   "outputs": [],
   "source": [
    "# lasso LOOCV\n",
    "\n",
    "train_scores_lasso_loo, val_scores_lasso_loo = validation_curve(Lasso(),\n",
    "                                  X_train, y_train, param_name=\"alpha\", param_range=alphas,\n",
    "                                  cv=n, scoring='neg_mean_squared_error')\n",
    "train_scores_lasso_loo = -(train_scores_lasso_loo)\n",
    "val_scores_lasso_loo = -(val_scores_lasso_loo)\n",
    "val_mean_lasso_loo = np.mean(val_scores_lasso_loo, axis=1)\n",
    "val_std_lasso_loo = np.std(val_scores_lasso_loo, axis=1)"
   ]
  },
  {
   "cell_type": "code",
   "execution_count": null,
   "id": "5e607114",
   "metadata": {},
   "outputs": [],
   "source": [
    "#train_scores_elnet, val_scores = validation_curve(ElasticNet(),\n",
    "                                  #X_train, y_train, param_name=\"alpha\", param_range=alphas,\n",
    "                                  #cv=10, scoring='neg_mean_squared_error')\n",
    "#train_scores = -(train_scores)\n",
    "#val_scores = -(val_scores)\n",
    "#val_mean = np.mean(val_scores, axis=1)\n",
    "#val_std = np.std(val_scores, axis=1)\n"
   ]
  },
  {
   "cell_type": "code",
   "execution_count": null,
   "id": "71831a55",
   "metadata": {},
   "outputs": [],
   "source": [
    "for i in store_mse_1: \n",
    "    \n",
    "    print(min(i), np.argmin(i))"
   ]
  },
  {
   "cell_type": "code",
   "execution_count": null,
   "id": "03121e77",
   "metadata": {},
   "outputs": [],
   "source": [
    "plot_cv_sim()"
   ]
  },
  {
   "cell_type": "code",
   "execution_count": null,
   "id": "4bf4689e",
   "metadata": {},
   "outputs": [],
   "source": [
    "print(alphas[np.argmin(store_mse_1[0])], alphas[np.argmin(val_mean_ridge)], alphas[np.argmin(val_mean_ridge_loo)])\n",
    "\n"
   ]
  },
  {
   "cell_type": "code",
   "execution_count": null,
   "id": "bbb3838c",
   "metadata": {},
   "outputs": [],
   "source": [
    "print(alphas[np.argmin(store_mse_1[1])], alphas[np.argmin(val_mean_lasso)], alphas[np.argmin(val_mean_lasso_loo)])\n",
    "\n"
   ]
  },
  {
   "cell_type": "markdown",
   "id": "9cd6d05e",
   "metadata": {},
   "source": [
    "# Delete everything below. "
   ]
  },
  {
   "cell_type": "code",
   "execution_count": null,
   "id": "4e50e2aa",
   "metadata": {},
   "outputs": [],
   "source": [
    "def plot_cv_distributions(store_optimal_alpha, store_min_mse): \n",
    "\n",
    "    sns.set(style=\"white\", palette=\"muted\", color_codes=True)\n",
    "\n",
    "    # Set up the matplotlib figure\n",
    "    f, axes = plt.subplots(1, 2, figsize = (30,10))\n",
    "\n",
    "    fig_1=sns.kdeplot(data=store_optimal_alpha, ax=axes[0])\n",
    "    fig_1.legend([],[], frameon=False)\n",
    "    fig_1.axvline(x=np.mean(store_optimal_alpha), color='black', linestyle='--')\n",
    "    fig_1.spines[\"bottom\"].set_linestyle(\"dotted\")\n",
    "    fig_1.title.set_text(f\"Distribution of Selected Lambdas from CV\")\n",
    "\n",
    "    fig_2=sns.kdeplot(data=store_min_mse, ax=axes[1])\n",
    "    fig_2.legend([],[], frameon=False)\n",
    "    fig_2.axvline(x=np.mean(store_min_mse), color='black', linestyle='--')\n",
    "    fig_2.axvline(x=ridge_min_mse, color='red', linestyle='--')\n",
    "    fig_2.spines[\"bottom\"].set_linestyle(\"dotted\")\n",
    "    fig_2.title.set_text(f\"Distribution  of Min MSEs from CV\")"
   ]
  },
  {
   "cell_type": "code",
   "execution_count": null,
   "id": "37cf8e18",
   "metadata": {},
   "outputs": [],
   "source": [
    "np.random.seed(357)\n",
    "\n",
    "y_test, X_test, df_test= get_sim_data(n, p, cor_factor, true_betas[0]) # get training data\n",
    "\n",
    "store_optimal_alpha_ridge = []\n",
    "store_optimal_alpha_ridge_loo = []\n",
    "store_min_mse_ridge = []\n",
    "store_min_mse_ridge_loo = []\n",
    "\n",
    "store_predictions_list_ridge = []\n",
    "store_predictions_list_lasso = []\n",
    "\n",
    "\n",
    "for i in range(iterations):\n",
    "    \n",
    "    y_train, X_train, df_train = get_sim_data(n, p, cor_factor, true_betas[0])\n",
    "    \n",
    "\n",
    "    train_scores_ridge, val_scores_ridge = validation_curve(Ridge(), X_train, y_train, param_name=\"alpha\", \n",
    "                                                            param_range=alphas, cv=10, \n",
    "                                                            scoring='neg_mean_squared_error')\n",
    "    \n",
    "    train_scores_ridge_loo, val_scores_ridge_loo = validation_curve(Ridge(), X_train, y_train, param_name=\"alpha\",\n",
    "                                                                    param_range=alphas, cv=n,\n",
    "                                                                    scoring='neg_mean_squared_error')\n",
    "    \n",
    "    train_scores_ridge = -(train_scores_ridge)\n",
    "    val_scores_ridge = -(val_scores_ridge)\n",
    "    val_mean_ridge = np.mean(val_scores_ridge, axis=1)\n",
    "    optimal_alpha_ridge = alphas[np.argmin(val_mean_ridge)]\n",
    "    min_mse_ridge = np.min(val_mean_ridge)\n",
    "    store_optimal_alpha_ridge.append(optimal_alpha_ridge)\n",
    "    store_min_mse_ridge.append(min_mse_ridge)\n",
    "    \n",
    "    train_scores_ridge_loo = -(train_scores_ridge_loo)\n",
    "    val_scores_ridge_loo = -(val_scores_ridge_loo)\n",
    "    val_mean_ridge_loo = np.mean(val_scores_ridge_loo, axis=1)\n",
    "    optimal_alpha_ridge_loo = alphas[np.argmin(val_mean_ridge_loo)]\n",
    "    min_mse_ridge_loo = np.min(val_mean_ridge_loo)\n",
    "    store_optimal_alpha_ridge_loo.append(optimal_alpha_ridge_loo)\n",
    "    store_min_mse_ridge_loo.append(min_mse_ridge_loo)\n",
    "    \n",
    "    store_predictions_ridge = []\n",
    "    store_predictions_lasso = []\n",
    "    \n",
    "    \n",
    "    for a in alphas: \n",
    "\n",
    "        ridge = Ridge(alpha=a).fit(X_train, y_train)\n",
    "        ridge_predict = ridge.predict(X_test)\n",
    "        ridge_predict_select = ridge_predict[14]\n",
    "        store_predictions_ridge.append(ridge_predict_select) \n",
    "        \n",
    "        lasso = Lasso(alpha=a).fit(X_train, y_train)\n",
    "        lasso_predict = lasso.predict(X_test)\n",
    "        lasso_predict_select = lasso_predict[14]\n",
    "        store_predictions_lasso.append(lasso_predict_select) \n",
    "            \n",
    "    store_predictions_list_ridge.append(store_predictions_ridge)\n",
    "    store_predictions_list_lasso.append(store_predictions_lasso)\n",
    "          \n",
    "    store_predictions_df_ridge = pd.DataFrame(store_predictions_list_ridge)\n",
    "    store_predictions_df_lasso = pd.DataFrame(store_predictions_list_lasso)\n",
    "\n",
    "predictions_dfs = [store_predictions_df_ridge, store_predictions_df_lasso]\n",
    "    "
   ]
  },
  {
   "cell_type": "code",
   "execution_count": null,
   "id": "ffd881a6",
   "metadata": {},
   "outputs": [],
   "source": [
    "store_mse_2, store_variance_2, store_bias_sq_2 = compute_mse(predictions_dfs, y_test)"
   ]
  },
  {
   "cell_type": "code",
   "execution_count": null,
   "id": "6949b626",
   "metadata": {},
   "outputs": [],
   "source": [
    "for i in store_mse_2: \n",
    "    \n",
    "    print(min(i), np.argmin(i))\n",
    "\n"
   ]
  },
  {
   "cell_type": "code",
   "execution_count": null,
   "id": "625cd140",
   "metadata": {},
   "outputs": [],
   "source": [
    "ridge_min_mse = np.min(store_mse_2[0])"
   ]
  },
  {
   "cell_type": "code",
   "execution_count": null,
   "id": "3e80a86e",
   "metadata": {},
   "outputs": [],
   "source": [
    "plot_cv_distributions(store_optimal_alpha_ridge, store_min_mse_ridge)"
   ]
  },
  {
   "cell_type": "code",
   "execution_count": null,
   "id": "e3b1ced8",
   "metadata": {},
   "outputs": [],
   "source": [
    "plot_cv_distributions(store_optimal_alpha_ridge_loo, store_min_mse_ridge_loo)"
   ]
  },
  {
   "cell_type": "code",
   "execution_count": null,
   "id": "9fde3c68",
   "metadata": {},
   "outputs": [],
   "source": [
    "f, axes = plt.subplots(1, 1)\n",
    "\n",
    "fig_1=sns.kdeplot(data=store_min_mse_ridge)\n",
    "fig_1.legend([],[], frameon=False)\n",
    "fig_1.axvline(x=np.mean(store_min_mse_ridge), color='black', linestyle='--')\n",
    "fig_1.axvline(x=ridge_min_mse, color='red', linestyle='--')\n",
    "fig_1.spines[\"bottom\"].set_linestyle(\"dotted\")\n",
    "fig_1.title.set_text(f\"Distribution of Min MSEs from CV\")"
   ]
  },
  {
   "cell_type": "code",
   "execution_count": null,
   "id": "9669c349",
   "metadata": {},
   "outputs": [],
   "source": [
    "f, axes = plt.subplots(1, 1)\n",
    "\n",
    "fig_1=sns.kdeplot(data=store_min_mse_ridge_loo)\n",
    "fig_1.legend([],[], frameon=False)\n",
    "fig_1.axvline(x=np.mean(store_min_mse_ridge_loo), color='black', linestyle='--')\n",
    "fig_1.axvline(x=ridge_min_mse, color='red', linestyle='--')\n",
    "fig_1.spines[\"bottom\"].set_linestyle(\"dotted\")\n",
    "fig_1.title.set_text(f\"Distribution of Min MSEs from CV\")"
   ]
  },
  {
   "cell_type": "code",
   "execution_count": null,
   "id": "1e565c8b",
   "metadata": {},
   "outputs": [],
   "source": [
    "np.var(store_min_mse_ridge_loo)"
   ]
  },
  {
   "cell_type": "code",
   "execution_count": null,
   "id": "b9d9248f",
   "metadata": {},
   "outputs": [],
   "source": [
    "np.var(store_min_mse_ridge)"
   ]
  },
  {
   "cell_type": "code",
   "execution_count": null,
   "id": "779cb673",
   "metadata": {},
   "outputs": [],
   "source": []
  }
 ],
 "metadata": {
  "kernelspec": {
   "display_name": "Python 3",
   "language": "python",
   "name": "python3"
  },
  "language_info": {
   "codemirror_mode": {
    "name": "ipython",
    "version": 3
   },
   "file_extension": ".py",
   "mimetype": "text/x-python",
   "name": "python",
   "nbconvert_exporter": "python",
   "pygments_lexer": "ipython3",
   "version": "3.8.8"
  }
 },
 "nbformat": 4,
 "nbformat_minor": 5
}
