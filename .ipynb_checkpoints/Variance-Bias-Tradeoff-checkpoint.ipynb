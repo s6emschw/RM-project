{
 "cells": [
  {
   "cell_type": "code",
   "execution_count": 1,
   "id": "e5641480",
   "metadata": {},
   "outputs": [],
   "source": [
    "import numpy as np \n",
    "import pandas as pd \n",
    "from sklearn.linear_model import LinearRegression, Ridge, ElasticNet, Lasso\n",
    "from sklearn.preprocessing import StandardScaler\n",
    "from functools import reduce  \n",
    "import matplotlib.pyplot as plt\n",
    "import statsmodels.api as sm\n",
    "import seaborn as sns\n",
    "from mlxtend.evaluate import bias_variance_decomp\n",
    "from sklearn import metrics\n",
    "from sklearn.model_selection import train_test_split\n",
    "\n",
    "import warnings\n",
    "warnings.filterwarnings('ignore')"
   ]
  },
  {
   "cell_type": "code",
   "execution_count": 2,
   "id": "8e34779e",
   "metadata": {},
   "outputs": [],
   "source": [
    "from auxiliary_files.auxiliary_analysis import * \n",
    "from auxiliary_files.auxiliary_plots import * "
   ]
  },
  {
   "cell_type": "code",
   "execution_count": 3,
   "id": "1542a25f",
   "metadata": {},
   "outputs": [],
   "source": [
    "def get_predictions(n, p, q, min_cor, max_cor, true_betas, iterations, alphas, X_test): \n",
    "\n",
    "    store_predictions_list_ridge = []\n",
    "    store_predictions_list_lasso = []\n",
    "    store_predictions_list_elnet_20 = []\n",
    "    store_predictions_list_elnet_50 = []\n",
    "    store_predictions_list_elnet_70 = []\n",
    "\n",
    "    for i in range(iterations):\n",
    "    \n",
    "        store_predictions_ridge = []\n",
    "        store_predictions_lasso = []\n",
    "        store_predictions_elnet_20 = []\n",
    "        store_predictions_elnet_50 = []\n",
    "        store_predictions_elnet_70 = []\n",
    "    \n",
    "        y_train, X_train, df_train = get_sim_data(n, p, q, min_cor, max_cor, true_betas) # get test data \n",
    "\n",
    "        for a in alphas: \n",
    "\n",
    "            ridge = Ridge(alpha=a, fit_intercept=False).fit(X_train, y_train)\n",
    "            ridge_predict = ridge.predict(X_test)\n",
    "            ridge_predict_select = ridge_predict[14]\n",
    "            store_predictions_ridge.append(ridge_predict_select) \n",
    "        \n",
    "            lasso = Lasso(alpha=a, fit_intercept=False).fit(X_train, y_train)\n",
    "            lasso_predict = lasso.predict(X_test)\n",
    "            lasso_predict_select = lasso_predict[14]\n",
    "            store_predictions_lasso.append(lasso_predict_select) \n",
    "        \n",
    "            elnet_20 = ElasticNet(alpha=a, l1_ratio=0.2, fit_intercept=False).fit(X_train, y_train)\n",
    "            elnet_20_predict = elnet_20.predict(X_test)\n",
    "            elnet_20_predict_select = elnet_20_predict[14]\n",
    "            store_predictions_elnet_20.append(elnet_20_predict_select)\n",
    "        \n",
    "            elnet_50 = ElasticNet(alpha=a, l1_ratio=0.5, fit_intercept=False).fit(X_train, y_train)\n",
    "            elnet_50_predict = elnet_50.predict(X_test)\n",
    "            elnet_50_predict_select = elnet_50_predict[14]\n",
    "            store_predictions_elnet_50.append(elnet_50_predict_select)\n",
    "        \n",
    "            elnet_70 = ElasticNet(alpha=a, l1_ratio=0.7, fit_intercept=False).fit(X_train, y_train)\n",
    "            elnet_70_predict = elnet_70.predict(X_test)\n",
    "            elnet_70_predict_select = elnet_70_predict[14]\n",
    "            store_predictions_elnet_70.append(elnet_70_predict_select)\n",
    "    \n",
    "        store_predictions_list_ridge.append(store_predictions_ridge)\n",
    "        store_predictions_list_lasso.append(store_predictions_lasso)\n",
    "        store_predictions_list_elnet_20.append(store_predictions_elnet_20)\n",
    "        store_predictions_list_elnet_50.append(store_predictions_elnet_50)\n",
    "        store_predictions_list_elnet_70.append(store_predictions_elnet_70)\n",
    "        \n",
    "        store_predictions_df_ridge = pd.DataFrame(store_predictions_list_ridge)\n",
    "        store_predictions_df_lasso = pd.DataFrame(store_predictions_list_lasso)\n",
    "        store_predictions_df_elnet_20 = pd.DataFrame(store_predictions_list_elnet_20)\n",
    "        store_predictions_df_elnet_50 = pd.DataFrame(store_predictions_list_elnet_50)\n",
    "        store_predictions_df_elnet_70 = pd.DataFrame(store_predictions_list_elnet_70)\n",
    "        \n",
    "    predictions_dfs = [store_predictions_df_ridge, store_predictions_df_lasso, store_predictions_df_elnet_20,\n",
    "                           store_predictions_df_elnet_50, store_predictions_df_elnet_70]\n",
    "        \n",
    "    return predictions_dfs\n",
    "\n"
   ]
  },
  {
   "cell_type": "code",
   "execution_count": 4,
   "id": "e7420ba5",
   "metadata": {},
   "outputs": [],
   "source": [
    "def compute_mse(predictions_df_list, y_test):\n",
    "\n",
    "    store_mse_lists = []\n",
    "    store_variance_lists = []\n",
    "    store_bias_sq_lists = []\n",
    "\n",
    "    for df in enumerate(predictions_df_list):\n",
    "    \n",
    "        store_mse = []\n",
    "        store_variance = []\n",
    "        store_bias_sq = []\n",
    "    \n",
    "        for i in df[1].columns: \n",
    "\n",
    "            mse = np.sum((np.asarray(df[1].iloc[:,i]) - y_test.iloc[14])**2) / iterations\n",
    "            variance = np.mean((np.mean(df[1].iloc[:,i]) - np.asarray(df[1].iloc[:,i]))**2)\n",
    "            bias_squared = (np.mean(df[1].iloc[:,i]) - y_test.iloc[14])**2\n",
    "    \n",
    "            store_mse.append(mse)\n",
    "            store_variance.append(variance)\n",
    "            store_bias_sq.append(bias_squared)\n",
    "    \n",
    "        store_mse_lists.append(store_mse)\n",
    "        store_variance_lists.append(store_variance)\n",
    "        store_bias_sq_lists.append(store_bias_sq)\n",
    "    \n",
    "    return store_mse_lists, store_variance_lists, store_bias_sq_lists"
   ]
  },
  {
   "cell_type": "code",
   "execution_count": 5,
   "id": "131f2f2e",
   "metadata": {},
   "outputs": [],
   "source": [
    "def generate_true_betas(non_zero_betas, zero_betas):\n",
    "\n",
    "    store_true_betas = []\n",
    "\n",
    "    for i, j in zip(non_zero_betas, zero_betas): \n",
    "    \n",
    "        non_zeros = np.repeat(5, i)\n",
    "        zeros = np.repeat(0, j)\n",
    "    \n",
    "        true_betas = np.concatenate([non_zeros, zeros])\n",
    "        store_true_betas.append(true_betas)\n",
    "        \n",
    "    return store_true_betas\n",
    "    \n"
   ]
  },
  {
   "cell_type": "markdown",
   "id": "ea5a84a9",
   "metadata": {},
   "source": [
    "# High Dimensionality, No Multicollinearity. \n",
    "\n",
    "Decreasing sparsity. We expect lasso to initially do better first. As sparsity declines ridge will begin doing better. "
   ]
  },
  {
   "cell_type": "code",
   "execution_count": 6,
   "id": "b1fbb7c1",
   "metadata": {},
   "outputs": [],
   "source": [
    "non_zero_betas = [5, 10, 20, 30, 35]\n",
    "zero_betas = [30, 25, 15, 5, 0]\n",
    "\n",
    "true_betas_list = generate_true_betas(non_zero_betas, zero_betas)\n"
   ]
  },
  {
   "cell_type": "code",
   "execution_count": 7,
   "id": "79a171bf",
   "metadata": {},
   "outputs": [],
   "source": [
    "np.random.seed(900)\n",
    "\n",
    "n = 30\n",
    "p = 35\n",
    "q = 0\n",
    "min_cor = 0  # we have not included multicollinearity in our analysis yet.\n",
    "max_cor = 0 \n",
    "#true_betas_35 = np.repeat(5, p) \n",
    "iterations = 500\n",
    "alphas = np.logspace(-4,1,200)\n",
    "\n",
    "store_X_test = []\n",
    "store_y_test = []\n",
    "\n",
    "\n",
    "for i in true_betas_list: \n",
    "        \n",
    "    y_test, X_test, df_test= get_sim_data(n, p, q, min_cor, max_cor, i) # get training data\n",
    "    store_X_test.append(X_test)\n",
    "    store_y_test.append(y_test)\n",
    "    \n",
    "\n",
    "df_predictions_5 = get_predictions(n, p, q, min_cor, max_cor, true_betas_list[0], iterations, alphas, store_X_test[0])\n",
    "df_predictions_10 = get_predictions(n, p, q, min_cor, max_cor, true_betas_list[1], iterations, alphas, store_X_test[1])\n",
    "df_predictions_20 = get_predictions(n, p, q, min_cor, max_cor, true_betas_list[2], iterations, alphas, store_X_test[2])\n",
    "df_predictions_30 = get_predictions(n, p, q, min_cor, max_cor, true_betas_list[3], iterations, alphas, store_X_test[3])\n",
    "df_predictions_35 = get_predictions(n, p, q, min_cor, max_cor, true_betas_list[4], iterations, alphas, store_X_test[4])\n"
   ]
  },
  {
   "cell_type": "code",
   "execution_count": 8,
   "id": "27a5f1e4",
   "metadata": {},
   "outputs": [],
   "source": [
    "store_mse_lists_5, store_variance_lists_5, store_bias_sq_lists_5 = compute_mse(df_predictions_5, store_y_test[0])\n",
    "store_mse_lists_10, store_variance_lists_10, store_bias_sq_lists_10 = compute_mse(df_predictions_10, store_y_test[1])\n",
    "store_mse_lists_20, store_variance_lists_20, store_bias_sq_lists_20 = compute_mse(df_predictions_20, store_y_test[2])\n",
    "store_mse_lists_30, store_variance_lists_30, store_bias_sq_lists_30 = compute_mse(df_predictions_30, store_y_test[3])\n",
    "store_mse_lists_35, store_variance_lists_35, store_bias_sq_lists_35 = compute_mse(df_predictions_35, store_y_test[4])"
   ]
  },
  {
   "cell_type": "code",
   "execution_count": 9,
   "id": "a079294f",
   "metadata": {},
   "outputs": [
    {
     "data": {
      "image/png": "[encoded data removed]",
      "text/plain": [
       "<Figure size 432x288 with 1 Axes>"
      ]
     },
     "metadata": {
      "needs_background": "light"
     },
     "output_type": "display_data"
    }
   ],
   "source": [
    "for i in store_mse_lists_20:\n",
    "\n",
    "    ax = plt.subplot(1,1,1)\n",
    "#variance = ax.plot(alphas, store_variance)\n",
    "    mse = ax.plot(alphas, i)\n",
    "#bias = ax.plot(alphas, store_bias_sq)\n",
    "#ax.legend([\"variance\",\"mse\",\"bias\"])"
   ]
  },
  {
   "cell_type": "code",
   "execution_count": 10,
   "id": "d3e42e97",
   "metadata": {},
   "outputs": [
    {
     "data": {
      "text/plain": [
       "<matplotlib.legend.Legend at 0x7ff06c200130>"
      ]
     },
     "execution_count": 10,
     "metadata": {},
     "output_type": "execute_result"
    },
    {
     "data": {
      "image/png": "[encoded data removed]",
      "text/plain": [
       "<Figure size 432x288 with 1 Axes>"
      ]
     },
     "metadata": {
      "needs_background": "light"
     },
     "output_type": "display_data"
    }
   ],
   "source": [
    "ax = plt.subplot(1,1,1)\n",
    "#variance = ax.plot(alphas, store_variance)\n",
    "mse_1 = ax.plot(alphas, store_mse_lists_20[1])\n",
    "mse_2 = ax.plot(alphas, store_mse_lists_20[0])\n",
    "#var = ax.plot(alphas, store_variance_lists_20[1])\n",
    "#bias = ax.plot(alphas, store_bias_sq_lists_20[1])\n",
    "ax.legend([\"mse_1\",\"mse_2\"])\n"
   ]
  },
  {
   "cell_type": "code",
   "execution_count": 11,
   "id": "4810a6f0",
   "metadata": {},
   "outputs": [
    {
     "name": "stdout",
     "output_type": "stream",
     "text": [
      "21.45671238596563\n",
      "4.192876683730928\n",
      "12.055425175301657\n",
      "11.120565439639382\n",
      "7.915755449406404\n"
     ]
    }
   ],
   "source": [
    "# lasso does best, which is what we expect!\n",
    "\n",
    "for i in store_mse_lists_5: \n",
    "    \n",
    "    print(min(i))\n"
   ]
  },
  {
   "cell_type": "code",
   "execution_count": 12,
   "id": "e2d3c755",
   "metadata": {},
   "outputs": [
    {
     "name": "stdout",
     "output_type": "stream",
     "text": [
      "48.64635317425697\n",
      "8.952664648046397\n",
      "28.373732189420938\n",
      "25.69860618920145\n",
      "22.050881021860953\n"
     ]
    }
   ],
   "source": [
    "# lasso does best, which is what we expect!\n",
    "\n",
    "for i in store_mse_lists_10: \n",
    "    \n",
    "    print(min(i))\n",
    "\n"
   ]
  },
  {
   "cell_type": "code",
   "execution_count": 13,
   "id": "80011436",
   "metadata": {},
   "outputs": [
    {
     "name": "stdout",
     "output_type": "stream",
     "text": [
      "74.8575280743784\n",
      "70.99479878721648\n",
      "62.91606178620193\n",
      "62.17305056192883\n",
      "61.874972860444785\n"
     ]
    }
   ],
   "source": [
    "# lasso starts doing not so well as sparsity decreases. Here, one of the elastic net models would be best. \n",
    "\n",
    "for i in store_mse_lists_20: \n",
    "    \n",
    "    print(min(i))\n",
    "\n"
   ]
  },
  {
   "cell_type": "code",
   "execution_count": 14,
   "id": "a04c9a7d",
   "metadata": {},
   "outputs": [
    {
     "name": "stdout",
     "output_type": "stream",
     "text": [
      "91.6460435466273\n",
      "98.53275366624116\n",
      "73.28240619921033\n",
      "78.41612922564798\n",
      "81.12778511741452\n"
     ]
    }
   ],
   "source": [
    "# lasso starts doing not so well as sparsity decreases. Here, one of the elastic net models would be best. \n",
    "\n",
    "for i in store_mse_lists_30: \n",
    "    \n",
    "    print(min(i))\n",
    "\n"
   ]
  },
  {
   "cell_type": "code",
   "execution_count": 15,
   "id": "58a95194",
   "metadata": {},
   "outputs": [
    {
     "name": "stdout",
     "output_type": "stream",
     "text": [
      "132.5511191985624\n",
      "255.75461797184795\n",
      "143.05211848320067\n",
      "163.8853472937536\n",
      "189.88389043988963\n"
     ]
    }
   ],
   "source": [
    "# ridge does best as we would expect!\n",
    "\n",
    "for i in store_mse_lists_35: \n",
    "    \n",
    "    print(min(i))\n",
    "\n",
    "\n"
   ]
  },
  {
   "cell_type": "code",
   "execution_count": 16,
   "id": "7da86725",
   "metadata": {},
   "outputs": [
    {
     "data": {
      "image/png": "[encoded data removed]",
      "text/plain": [
       "<Figure size 432x288 with 1 Axes>"
      ]
     },
     "metadata": {
      "needs_background": "light"
     },
     "output_type": "display_data"
    }
   ],
   "source": [
    "for i in store_mse_lists_20:\n",
    "\n",
    "    ax = plt.subplot(1,1,1)\n",
    "#variance = ax.plot(alphas, store_variance)\n",
    "    mse = ax.plot(alphas, i)\n",
    "#bias = ax.plot(alphas, store_bias_sq)\n",
    "#ax.legend([\"variance\",\"mse\",\"bias\"])"
   ]
  },
  {
   "cell_type": "markdown",
   "id": "a8053e22",
   "metadata": {},
   "source": [
    "# Low Dimensionality, Moderate to High Multicollineary \n",
    "\n",
    "Only consider lasso and ridge here. Elastic net does not perform best in any of the below cases for low dimensionality and high multicollinearity. "
   ]
  },
  {
   "cell_type": "code",
   "execution_count": 7,
   "id": "35fe0b8c",
   "metadata": {},
   "outputs": [
    {
     "data": {
      "text/plain": [
       "[array([5, 5, 0, 0, 0, 0, 0, 0, 0, 0]),\n",
       " array([5, 5, 5, 5, 5, 0, 0, 0, 0, 0]),\n",
       " array([5, 5, 5, 5, 5, 5, 5, 5, 5, 5])]"
      ]
     },
     "execution_count": 7,
     "metadata": {},
     "output_type": "execute_result"
    }
   ],
   "source": [
    "non_zero_betas_2 = [2, 5, 10]\n",
    "zero_betas_2 = [8, 5, 0]\n",
    "\n",
    "true_betas_list_2 = generate_true_betas(non_zero_betas_2, zero_betas_2)\n",
    "true_betas_list_2"
   ]
  },
  {
   "cell_type": "code",
   "execution_count": 18,
   "id": "374774e7",
   "metadata": {},
   "outputs": [],
   "source": [
    "np.random.seed(900)\n",
    "\n",
    "n = 30\n",
    "p = 10\n",
    "q = 0\n",
    "min_cor = 0.40  \n",
    "max_cor = 0.80\n",
    "iterations = 500\n",
    "alphas = np.logspace(-4,1,200)\n",
    "\n",
    "store_X_test = []\n",
    "store_y_test = []\n",
    "\n",
    "\n",
    "for i in true_betas_list_2: \n",
    "        \n",
    "    y_test, X_test, df_test= get_sim_data(n, p, q, min_cor, max_cor, i) # get training data\n",
    "    store_X_test.append(X_test)\n",
    "    store_y_test.append(y_test)\n",
    "    \n",
    "\n",
    "df_predictions_mc_2 = get_predictions(n, p, q, min_cor, max_cor, true_betas_list_2[0], iterations, alphas, store_X_test[0])\n",
    "df_predictions_mc_5 = get_predictions(n, p, q, min_cor, max_cor, true_betas_list_2[1], iterations, alphas, store_X_test[1])\n",
    "df_predictions_mc_10 = get_predictions(n, p, q, min_cor, max_cor, true_betas_list_2[2], iterations, alphas, store_X_test[2])\n"
   ]
  },
  {
   "cell_type": "code",
   "execution_count": 19,
   "id": "712b7ce5",
   "metadata": {},
   "outputs": [],
   "source": [
    "store_mse_lists_mc_2, store_variance_lists_mc_2, store_bias_sq_lists_mc_2 = compute_mse(df_predictions_mc_2, store_y_test[0])\n",
    "store_mse_lists_mc_5, store_variance_lists_mc_5, store_bias_sq_lists_mc_5 = compute_mse(df_predictions_mc_5, store_y_test[1])\n",
    "store_mse_lists_mc_10, store_variance_lists_mc_10, store_bias_sq_lists_mc_10 = compute_mse(df_predictions_mc_10, store_y_test[2])\n"
   ]
  },
  {
   "cell_type": "code",
   "execution_count": 20,
   "id": "91ee4738",
   "metadata": {},
   "outputs": [
    {
     "data": {
      "image/png": "[encoded data removed]",
      "text/plain": [
       "<Figure size 432x288 with 1 Axes>"
      ]
     },
     "metadata": {
      "needs_background": "light"
     },
     "output_type": "display_data"
    }
   ],
   "source": [
    "for i in store_mse_lists_mc_2:\n",
    "\n",
    "    ax = plt.subplot(1,1,1)\n",
    "#variance = ax.plot(alphas, store_variance)\n",
    "    mse = ax.plot(alphas, i)\n",
    "#bias = ax.plot(alphas, store_bias_sq)\n",
    "#ax.legend([\"variance\",\"mse\",\"bias\"])"
   ]
  },
  {
   "cell_type": "code",
   "execution_count": 21,
   "id": "040e0553",
   "metadata": {},
   "outputs": [
    {
     "name": "stdout",
     "output_type": "stream",
     "text": [
      "0.9008292434301938\n",
      "0.08689436023649623\n",
      "0.7787716446950246\n",
      "0.5363372769073128\n",
      "0.3404939823070254\n"
     ]
    }
   ],
   "source": [
    "# lasso does best as we would expect!\n",
    "\n",
    "for i in store_mse_lists_mc_2: \n",
    "    \n",
    "    print(min(i))"
   ]
  },
  {
   "cell_type": "code",
   "execution_count": 22,
   "id": "9b8de4e0",
   "metadata": {},
   "outputs": [
    {
     "name": "stdout",
     "output_type": "stream",
     "text": [
      "0.6371384363313495\n",
      "0.238784520183789\n",
      "0.5846616285815971\n",
      "0.47228419199601146\n",
      "0.3807819748329948\n"
     ]
    }
   ],
   "source": [
    "# lasso still does well here. \n",
    "\n",
    "for i in store_mse_lists_mc_5: \n",
    "    \n",
    "    print(min(i))"
   ]
  },
  {
   "cell_type": "code",
   "execution_count": 23,
   "id": "5660bc5a",
   "metadata": {},
   "outputs": [
    {
     "name": "stdout",
     "output_type": "stream",
     "text": [
      "0.619676885037042\n",
      "3.0388176949485732\n",
      "0.642545110048292\n",
      "0.7064685920555003\n",
      "0.8072868409725035\n"
     ]
    }
   ],
   "source": [
    "# ridge does best here, as we would expect! \n",
    "\n",
    "for i in store_mse_lists_mc_10: \n",
    "    \n",
    "    print(min(i))"
   ]
  },
  {
   "cell_type": "markdown",
   "id": "705c1157",
   "metadata": {},
   "source": [
    "# Low Dimensionality, High Sparsity, Varying Degrees of Multicollineary "
   ]
  },
  {
   "cell_type": "code",
   "execution_count": 10,
   "id": "f8c98a92",
   "metadata": {},
   "outputs": [
    {
     "data": {
      "text/plain": [
       "[array([5, 5, 5, 0, 0, 0, 0, 0, 0, 0])]"
      ]
     },
     "execution_count": 10,
     "metadata": {},
     "output_type": "execute_result"
    }
   ],
   "source": [
    "non_zero_betas_3 = [3]\n",
    "zero_betas_3 = [7]\n",
    "\n",
    "true_betas_high_spar = generate_true_betas(non_zero_betas_3, zero_betas_3)\n",
    "true_betas_high_spar"
   ]
  },
  {
   "cell_type": "code",
   "execution_count": 34,
   "id": "ca68a60a",
   "metadata": {},
   "outputs": [],
   "source": [
    "np.random.seed(900)\n",
    "\n",
    "n = 30\n",
    "p = 10\n",
    "q = 0\n",
    "min_cor = [0, 0.1, 0.3, 0.5, 0.7, 0.9] \n",
    "max_cor = [0, 0.2, 0.4, 0.6, 0.8, 0.95]\n",
    "iterations = 500\n",
    "alphas = np.logspace(-4,1,200)\n",
    "\n",
    "store_X_test = []\n",
    "store_y_test = []\n",
    "\n",
    "\n",
    "for mini, maxi in zip(min_cor, max_cor): \n",
    "        \n",
    "    y_test, X_test, df_test= get_sim_data(n, p, q, mini, maxi, true_betas_high_spar[0]) # get training data\n",
    "    store_X_test.append(X_test)\n",
    "    store_y_test.append(y_test)\n",
    "    \n",
    "\n",
    "df_predictions_mc_diff1 = get_predictions(n, p, q, min_cor[0], max_cor[0], true_betas_high_spar[0], iterations, alphas, store_X_test[0])\n",
    "df_predictions_mc_diff2 = get_predictions(n, p, q, min_cor[1], max_cor[1], true_betas_high_spar[0], iterations, alphas, store_X_test[1])\n",
    "df_predictions_mc_diff3 = get_predictions(n, p, q, min_cor[2], max_cor[2], true_betas_high_spar[0], iterations, alphas, store_X_test[2])\n",
    "df_predictions_mc_diff4 = get_predictions(n, p, q, min_cor[3], max_cor[3], true_betas_high_spar[0], iterations, alphas, store_X_test[3])\n",
    "df_predictions_mc_diff5 = get_predictions(n, p, q, min_cor[4], max_cor[4], true_betas_high_spar[0], iterations, alphas, store_X_test[4])\n",
    "df_predictions_mc_diff6 = get_predictions(n, p, q, min_cor[5], max_cor[5], true_betas_high_spar[0], iterations, alphas, store_X_test[5])\n",
    "\n",
    "\n"
   ]
  },
  {
   "cell_type": "code",
   "execution_count": 35,
   "id": "0e1aa728",
   "metadata": {},
   "outputs": [],
   "source": [
    "store_mse_lists_mc_diff1, store_variance_lists_mc_diff1, store_bias_sq_lists_mc_diff1 = compute_mse(df_predictions_mc_diff1, store_y_test[0])\n",
    "store_mse_lists_mc_diff2, store_variance_lists_mc_diff2, store_bias_sq_lists_mc_diff2 = compute_mse(df_predictions_mc_diff2, store_y_test[1])\n",
    "store_mse_lists_mc_diff3, store_variance_lists_mc_diff3, store_bias_sq_lists_mc_diff3 = compute_mse(df_predictions_mc_diff3, store_y_test[2])\n",
    "store_mse_lists_mc_diff4, store_variance_lists_mc_diff4, store_bias_sq_lists_mc_diff4 = compute_mse(df_predictions_mc_diff4, store_y_test[3])\n",
    "store_mse_lists_mc_diff5, store_variance_lists_mc_diff5, store_bias_sq_lists_mc_diff5 = compute_mse(df_predictions_mc_diff5, store_y_test[4])\n",
    "store_mse_lists_mc_diff6, store_variance_lists_mc_diff6, store_bias_sq_lists_mc_diff6 = compute_mse(df_predictions_mc_diff6, store_y_test[5])\n",
    "\n",
    "\n",
    "\n"
   ]
  },
  {
   "cell_type": "code",
   "execution_count": 13,
   "id": "9cc705b4",
   "metadata": {},
   "outputs": [
    {
     "name": "stdout",
     "output_type": "stream",
     "text": [
      "0.6714549925480221\n",
      "0.242551891321985\n",
      "0.6617740389762291\n",
      "0.5952018140293167\n",
      "0.4804630199335653\n"
     ]
    }
   ],
   "source": [
    "# No luck. Lasso seems to be best in all cases for this exercise. \n",
    "\n",
    "for i in store_mse_lists_mc_diff1: \n",
    "    \n",
    "    print(min(i))"
   ]
  },
  {
   "cell_type": "code",
   "execution_count": 14,
   "id": "5fdcaeae",
   "metadata": {},
   "outputs": [
    {
     "name": "stdout",
     "output_type": "stream",
     "text": [
      "0.5287186132901515\n",
      "0.03378229487804432\n",
      "0.44766991058116107\n",
      "0.4557924211871066\n",
      "0.3282417578167389\n"
     ]
    }
   ],
   "source": [
    "# \n",
    "\n",
    "for i in store_mse_lists_mc_diff2: \n",
    "    \n",
    "    print(min(i))"
   ]
  },
  {
   "cell_type": "code",
   "execution_count": 15,
   "id": "def8b5cd",
   "metadata": {},
   "outputs": [
    {
     "name": "stdout",
     "output_type": "stream",
     "text": [
      "0.7150322143074482\n",
      "0.3163417854529702\n",
      "0.681489523921907\n",
      "0.5923313176518575\n",
      "0.49142156377542356\n"
     ]
    }
   ],
   "source": [
    "# \n",
    "\n",
    "for i in store_mse_lists_mc_diff3: \n",
    "    \n",
    "    print(min(i))"
   ]
  },
  {
   "cell_type": "code",
   "execution_count": 16,
   "id": "78accfcc",
   "metadata": {},
   "outputs": [
    {
     "name": "stdout",
     "output_type": "stream",
     "text": [
      "2.6376411068101873\n",
      "0.4499119373081547\n",
      "2.055300253095418\n",
      "1.2625974930448676\n",
      "0.819412011608659\n"
     ]
    }
   ],
   "source": [
    "# \n",
    "\n",
    "for i in store_mse_lists_mc_diff4: \n",
    "    \n",
    "    print(min(i))"
   ]
  },
  {
   "cell_type": "code",
   "execution_count": 17,
   "id": "3a4c71d5",
   "metadata": {},
   "outputs": [
    {
     "name": "stdout",
     "output_type": "stream",
     "text": [
      "0.6386502092035107\n",
      "1.1467858153371953\n",
      "0.6370882314343469\n",
      "0.7093533201877799\n",
      "0.866392848852416\n"
     ]
    }
   ],
   "source": [
    "\n",
    "for i in store_mse_lists_mc_diff5: \n",
    "    \n",
    "    print(min(i))"
   ]
  },
  {
   "cell_type": "code",
   "execution_count": 37,
   "id": "445be65e",
   "metadata": {},
   "outputs": [
    {
     "name": "stdout",
     "output_type": "stream",
     "text": [
      "0.6241286099316737\n",
      "0.3691354928311009\n",
      "0.6048467771713582\n",
      "0.5587367873283094\n",
      "0.5068057856730301\n"
     ]
    }
   ],
   "source": [
    "# for 1000 sim  \n",
    "\n",
    "for i in store_mse_lists_mc_diff6: \n",
    "    \n",
    "    print(min(i))"
   ]
  },
  {
   "cell_type": "code",
   "execution_count": 33,
   "id": "461a8558",
   "metadata": {},
   "outputs": [
    {
     "data": {
      "image/png": "[encoded data removed]",
      "text/plain": [
       "<Figure size 432x288 with 1 Axes>"
      ]
     },
     "metadata": {
      "needs_background": "light"
     },
     "output_type": "display_data"
    }
   ],
   "source": [
    "store_mse_lists_mc_diff1\n",
    "ax = plt.subplot(1,1,1)\n",
    "#variance = ax.plot(alphas, store_variance)\n",
    "mse = ax.plot(alphas, store_mse_lists_mc_diff1[4])"
   ]
  },
  {
   "cell_type": "markdown",
   "id": "0c028c00",
   "metadata": {},
   "source": [
    "# Low Dimensionality, High Sparsity, Varying Degrees of Grouped Multicollineary "
   ]
  },
  {
   "cell_type": "code",
   "execution_count": 38,
   "id": "080f2787",
   "metadata": {},
   "outputs": [
    {
     "data": {
      "text/plain": [
       "[array([5, 5, 5, 5, 0, 0, 0, 0, 0, 0])]"
      ]
     },
     "execution_count": 38,
     "metadata": {},
     "output_type": "execute_result"
    }
   ],
   "source": [
    "non_zero_betas_4 = [4]\n",
    "zero_betas_4 = [6]\n",
    "\n",
    "true_betas_high_spar = generate_true_betas(non_zero_betas_4, zero_betas_4)\n",
    "true_betas_high_spar"
   ]
  },
  {
   "cell_type": "code",
   "execution_count": 39,
   "id": "c831b328",
   "metadata": {},
   "outputs": [],
   "source": [
    "np.random.seed(900)\n",
    "\n",
    "n = 30\n",
    "p = 3\n",
    "q = 7\n",
    "min_cor = [0, 0.1, 0.3, 0.5, 0.7] \n",
    "max_cor = [0, 0.2, 0.4, 0.6, 0.8]\n",
    "iterations = 500\n",
    "alphas = np.logspace(-4,1,200)\n",
    "\n",
    "store_X_test = []\n",
    "store_y_test = []\n",
    "\n",
    "\n",
    "for mini, maxi in zip(min_cor, max_cor): \n",
    "        \n",
    "    y_test, X_test, df_test= get_sim_data(n, p, q, mini, maxi, true_betas_high_spar[0]) # get training data\n",
    "    store_X_test.append(X_test)\n",
    "    store_y_test.append(y_test)\n",
    "    \n",
    "\n",
    "df_predictions_mc_grouped1 = get_predictions(n, p, q, min_cor[0], max_cor[0], true_betas_high_spar[0], iterations, alphas, store_X_test[0])\n",
    "df_predictions_mc_grouped2 = get_predictions(n, p, q, min_cor[1], max_cor[1], true_betas_high_spar[0], iterations, alphas, store_X_test[1])\n",
    "df_predictions_mc_grouped3 = get_predictions(n, p, q, min_cor[2], max_cor[2], true_betas_high_spar[0], iterations, alphas, store_X_test[2])\n",
    "df_predictions_mc_grouped4 = get_predictions(n, p, q, min_cor[3], max_cor[3], true_betas_high_spar[0], iterations, alphas, store_X_test[3])\n",
    "df_predictions_mc_grouped5 = get_predictions(n, p, q, min_cor[4], max_cor[4], true_betas_high_spar[0], iterations, alphas, store_X_test[4])\n",
    "\n",
    "\n"
   ]
  },
  {
   "cell_type": "code",
   "execution_count": 46,
   "id": "8b681335",
   "metadata": {},
   "outputs": [
    {
     "data": {
      "text/plain": [
       "array([5, 5, 5, 5, 0, 0, 0, 0, 0, 0])"
      ]
     },
     "execution_count": 46,
     "metadata": {},
     "output_type": "execute_result"
    }
   ],
   "source": [
    "store_mse_lists_mc_grouped1, store_variance_lists_mc_grouped1, store_bias_sq_lists_mc_grouped1 = compute_mse(df_predictions_mc_grouped1, store_y_test[0])\n",
    "store_mse_lists_mc_grouped2, store_variance_lists_mc_grouped2, store_bias_sq_lists_mc_grouped2 = compute_mse(df_predictions_mc_grouped2, store_y_test[1])\n",
    "store_mse_lists_mc_grouped3, store_variance_lists_mc_grouped3, store_bias_sq_lists_mc_grouped3 = compute_mse(df_predictions_mc_grouped3, store_y_test[2])\n",
    "store_mse_lists_mc_grouped4, store_variance_lists_mc_grouped4, store_bias_sq_lists_mc_grouped4 = compute_mse(df_predictions_mc_grouped4, store_y_test[3])\n",
    "store_mse_lists_mc_grouped5, store_variance_lists_mc_grouped5, store_bias_sq_lists_mc_grouped5 = compute_mse(df_predictions_mc_grouped5, store_y_test[4])\n",
    "\n"
   ]
  },
  {
   "cell_type": "code",
   "execution_count": 41,
   "id": "2a4aa59b",
   "metadata": {},
   "outputs": [
    {
     "name": "stdout",
     "output_type": "stream",
     "text": [
      "1.5079825018563888\n",
      "1.5085804438031991\n",
      "1.512030766023864\n",
      "1.51073501390637\n",
      "1.5098700593951802\n"
     ]
    }
   ],
   "source": [
    "# also no luck here. Elastic net does not outperform lasso in the cases for high sparsity and varying degrees of\n",
    "# grouped multicollinearity. \n",
    "\n",
    "for i in store_mse_lists_mc_grouped1: \n",
    "    \n",
    "    print(min(i))"
   ]
  },
  {
   "cell_type": "code",
   "execution_count": 42,
   "id": "0725fd8e",
   "metadata": {},
   "outputs": [
    {
     "name": "stdout",
     "output_type": "stream",
     "text": [
      "0.6190505497504919\n",
      "0.2900600041182155\n",
      "0.5912273696085731\n",
      "0.5031305490962589\n",
      "0.40759942445110325\n"
     ]
    }
   ],
   "source": [
    "\n",
    "\n",
    "for i in store_mse_lists_mc_grouped2: \n",
    "    \n",
    "    print(min(i))"
   ]
  },
  {
   "cell_type": "code",
   "execution_count": 43,
   "id": "3a48db5c",
   "metadata": {},
   "outputs": [
    {
     "name": "stdout",
     "output_type": "stream",
     "text": [
      "0.5288688680337925\n",
      "0.11164667081931308\n",
      "0.47851698508885526\n",
      "0.35257741350785826\n",
      "0.22093858280402828\n"
     ]
    }
   ],
   "source": [
    "  \n",
    "\n",
    "for i in store_mse_lists_mc_grouped3: \n",
    "    \n",
    "    print(min(i))"
   ]
  },
  {
   "cell_type": "code",
   "execution_count": 44,
   "id": "c9701cc1",
   "metadata": {},
   "outputs": [
    {
     "name": "stdout",
     "output_type": "stream",
     "text": [
      "0.45067505699370075\n",
      "0.3272637972896269\n",
      "0.4447828413459175\n",
      "0.4291421527922762\n",
      "0.4079553824302181\n"
     ]
    }
   ],
   "source": [
    "\n",
    "for i in store_mse_lists_mc_grouped4: \n",
    "    \n",
    "    print(min(i))"
   ]
  },
  {
   "cell_type": "code",
   "execution_count": 45,
   "id": "a42069fc",
   "metadata": {},
   "outputs": [
    {
     "name": "stdout",
     "output_type": "stream",
     "text": [
      "0.4617293767472888\n",
      "0.04310480019041403\n",
      "0.429942118261538\n",
      "0.3167613264493138\n",
      "0.17962121712489132\n"
     ]
    }
   ],
   "source": [
    "\n",
    "for i in store_mse_lists_mc_grouped5: \n",
    "    \n",
    "    print(min(i))"
   ]
  },
  {
   "cell_type": "markdown",
   "id": "db42c495",
   "metadata": {},
   "source": [
    "# High Dimensionality, Moderate to High Multicollinearity \n"
   ]
  },
  {
   "cell_type": "code",
   "execution_count": 24,
   "id": "d0a820a0",
   "metadata": {},
   "outputs": [],
   "source": [
    "np.random.seed(900)\n",
    "\n",
    "n = 30\n",
    "p = 35\n",
    "q = 0\n",
    "min_cor = 0.40  \n",
    "max_cor = 0.80\n",
    "iterations = 500\n",
    "alphas = np.logspace(-4,1,200)\n",
    "\n",
    "store_X_test = []\n",
    "store_y_test = []\n",
    "\n",
    "\n",
    "for i in true_betas_list: \n",
    "        \n",
    "    y_test, X_test, df_test= get_sim_data(n, p, q, min_cor, max_cor, i) # get training data\n",
    "    store_X_test.append(X_test)\n",
    "    store_y_test.append(y_test)\n",
    "    \n",
    "\n",
    "df_predictions_hd_mc_5 = get_predictions(n, p, q, min_cor, max_cor, true_betas_list[0], iterations, alphas, store_X_test[0])\n",
    "df_predictions_hd_mc_10 = get_predictions(n, p, q, min_cor, max_cor, true_betas_list[1], iterations, alphas, store_X_test[1])\n",
    "df_predictions_hd_mc_20 = get_predictions(n, p, q, min_cor, max_cor, true_betas_list[2], iterations, alphas, store_X_test[2])\n",
    "df_predictions_hd_mc_30 = get_predictions(n, p, q, min_cor, max_cor, true_betas_list[3], iterations, alphas, store_X_test[3])\n",
    "df_predictions_hd_mc_35 = get_predictions(n, p, q, min_cor, max_cor, true_betas_list[4], iterations, alphas, store_X_test[4])\n",
    "\n",
    "\n"
   ]
  },
  {
   "cell_type": "code",
   "execution_count": 25,
   "id": "1d6ebab4",
   "metadata": {},
   "outputs": [],
   "source": [
    "store_mse_lists_hd_mc_5, store_variance_lists_hd_mc_5, store_bias_sq_lists_hd_mc_5 = compute_mse(df_predictions_hd_mc_5, store_y_test[0])\n",
    "store_mse_lists_hd_mc_10, store_variance_lists_hd_mc_10, store_bias_sq_lists_hd_mc_10 = compute_mse(df_predictions_hd_mc_10, store_y_test[1])\n",
    "store_mse_lists_hd_mc_20, store_variance_lists_hd_mc_20, store_bias_sq_lists_hd_mc_20 = compute_mse(df_predictions_hd_mc_20, store_y_test[2])\n",
    "store_mse_lists_hd_mc_30, store_variance_lists_hd_mc_30, store_bias_sq_lists_hd_mc_30 = compute_mse(df_predictions_hd_mc_30, store_y_test[3])\n",
    "store_mse_lists_hd_mc_35, store_variance_lists_hd_mc_35, store_bias_sq_lists_hd_mc_35 = compute_mse(df_predictions_hd_mc_35, store_y_test[4])"
   ]
  },
  {
   "cell_type": "code",
   "execution_count": 26,
   "id": "cc761896",
   "metadata": {},
   "outputs": [
    {
     "name": "stdout",
     "output_type": "stream",
     "text": [
      "20.74978198091433\n",
      "5.01488643619309\n",
      "12.613200560731046\n",
      "12.20543238554771\n",
      "9.66666653077193\n"
     ]
    }
   ],
   "source": [
    "# Lasso does best, as expected given the presence of high sparsity.\n",
    "\n",
    "for i in store_mse_lists_hd_mc_5: \n",
    "    \n",
    "    print(min(i))"
   ]
  },
  {
   "cell_type": "code",
   "execution_count": 27,
   "id": "781a521e",
   "metadata": {},
   "outputs": [
    {
     "name": "stdout",
     "output_type": "stream",
     "text": [
      "20.886642270492608\n",
      "2.243522214690988\n",
      "15.751620679850237\n",
      "13.951468920642673\n",
      "8.552970610831492\n"
     ]
    }
   ],
   "source": [
    "# Lasso still doing best given high sparsity. \n",
    "\n",
    "for i in store_mse_lists_hd_mc_10: \n",
    "    \n",
    "    print(min(i))"
   ]
  },
  {
   "cell_type": "code",
   "execution_count": 28,
   "id": "6309e4fe",
   "metadata": {},
   "outputs": [
    {
     "name": "stdout",
     "output_type": "stream",
     "text": [
      "26.61969065920452\n",
      "30.20008363021399\n",
      "25.62920464645905\n",
      "23.44771627521411\n",
      "21.752699512284977\n"
     ]
    }
   ],
   "source": [
    "# With lower levels of sparsity, lasso outperformed by elastic net with ratio 0f 0.70. \n",
    "\n",
    "for i in store_mse_lists_hd_mc_20: \n",
    "    \n",
    "    print(min(i))"
   ]
  },
  {
   "cell_type": "code",
   "execution_count": 29,
   "id": "67af384a",
   "metadata": {},
   "outputs": [
    {
     "name": "stdout",
     "output_type": "stream",
     "text": [
      "30.74547393455749\n",
      "128.30014351758945\n",
      "16.796438164548643\n",
      "21.409799822626034\n",
      "31.303672610456598\n"
     ]
    }
   ],
   "source": [
    "# For decreasing sparsity, we see how lasso struggles compared with the other models. Elastic net with ratio of 0.20\n",
    "# does best. We see here how a combination of ridge and lasso constraints provide higher prediction accuracy in the \n",
    "# presence of multicollinearity and high dimensionality. \n",
    "\n",
    "for i in store_mse_lists_hd_mc_30: \n",
    "    \n",
    "    print(min(i))"
   ]
  },
  {
   "cell_type": "code",
   "execution_count": 30,
   "id": "adf5ee33",
   "metadata": {},
   "outputs": [
    {
     "name": "stdout",
     "output_type": "stream",
     "text": [
      "3.3909708811542356\n",
      "168.6756454715113\n",
      "3.60445946336617\n",
      "4.253563019195883\n",
      "5.551047308345918\n"
     ]
    }
   ],
   "source": [
    "# Lasso really struggles while ridge provides the lowest MSE and all elastic net models perform comparatively \n",
    "# well compared to ridge. \n",
    "\n",
    "for i in store_mse_lists_hd_mc_35: \n",
    "    \n",
    "    print(min(i))"
   ]
  },
  {
   "cell_type": "code",
   "execution_count": 31,
   "id": "da6a3e88",
   "metadata": {},
   "outputs": [
    {
     "data": {
      "image/png": "[encoded data removed]",
      "text/plain": [
       "<Figure size 432x288 with 1 Axes>"
      ]
     },
     "metadata": {
      "needs_background": "light"
     },
     "output_type": "display_data"
    }
   ],
   "source": [
    "for i in store_mse_lists_hd_mc_5:\n",
    "\n",
    "    ax = plt.subplot(1,1,1)\n",
    "#variance = ax.plot(alphas, store_variance)\n",
    "    mse = ax.plot(alphas, i)"
   ]
  },
  {
   "cell_type": "code",
   "execution_count": 32,
   "id": "34abae8a",
   "metadata": {},
   "outputs": [
    {
     "data": {
      "image/png": "[encoded data removed]",
      "text/plain": [
       "<Figure size 432x288 with 1 Axes>"
      ]
     },
     "metadata": {
      "needs_background": "light"
     },
     "output_type": "display_data"
    }
   ],
   "source": [
    "ax = plt.subplot(1,1,1)\n",
    "#variance = ax.plot(alphas, store_variance)\n",
    "mse = ax.plot(alphas, store_mse_lists_hd_mc_20[0])"
   ]
  },
  {
   "cell_type": "markdown",
   "id": "4ebdb0e6",
   "metadata": {},
   "source": [
    "# Grouped Moderate to High Multicollinearity \n"
   ]
  },
  {
   "cell_type": "code",
   "execution_count": 33,
   "id": "a3488099",
   "metadata": {},
   "outputs": [],
   "source": [
    "\"\"\"example 1\"\"\"\n",
    "\n",
    "np.random.seed(900)\n",
    "\n",
    "n = 30\n",
    "p = 7\n",
    "q = 28\n",
    "min_cor = 0.60  \n",
    "max_cor = 0.80\n",
    "iterations = 500\n",
    "alphas = np.logspace(-4,1,200)\n",
    "\n",
    "store_X_test = []\n",
    "store_y_test = []\n",
    "\n",
    "\n",
    "for i in true_betas_list: \n",
    "        \n",
    "    y_test, X_test, df_test= get_sim_data(n, p, q, min_cor, max_cor, i) # get training data\n",
    "    store_X_test.append(X_test)\n",
    "    store_y_test.append(y_test)\n",
    "    \n",
    "\n",
    "df_predictions_hd_gmc_5 = get_predictions(n, p, q, min_cor, max_cor, true_betas_list[0], iterations, alphas, store_X_test[0])\n",
    "df_predictions_hd_gmc_10 = get_predictions(n, p, q, min_cor, max_cor, true_betas_list[1], iterations, alphas, store_X_test[1])\n",
    "df_predictions_hd_gmc_20 = get_predictions(n, p, q, min_cor, max_cor, true_betas_list[2], iterations, alphas, store_X_test[2])\n",
    "df_predictions_hd_gmc_30 = get_predictions(n, p, q, min_cor, max_cor, true_betas_list[3], iterations, alphas, store_X_test[3])\n",
    "df_predictions_hd_gmc_35 = get_predictions(n, p, q, min_cor, max_cor, true_betas_list[4], iterations, alphas, store_X_test[4])\n",
    "\n",
    "\n",
    "\n"
   ]
  },
  {
   "cell_type": "code",
   "execution_count": 35,
   "id": "9b53292a",
   "metadata": {},
   "outputs": [],
   "source": [
    "store_mse_lists_hd_gmc_5, store_variance_lists_hd_gmc_5, store_bias_sq_lists_hd_gmc_5 = compute_mse(df_predictions_hd_gmc_5, store_y_test[0])\n",
    "store_mse_lists_hd_gmc_10, store_variance_lists_hd_gmc_10, store_bias_sq_lists_hd_gmc_10 = compute_mse(df_predictions_hd_gmc_10, store_y_test[1])\n",
    "store_mse_lists_hd_gmc_20, store_variance_lists_hd_gmc_20, store_bias_sq_lists_hd_gmc_20 = compute_mse(df_predictions_hd_gmc_20, store_y_test[2])\n",
    "store_mse_lists_hd_gmc_30, store_variance_lists_hd_gmc_30, store_bias_sq_lists_hd_gmc_30 = compute_mse(df_predictions_hd_gmc_30, store_y_test[3])\n",
    "store_mse_lists_hd_gmc_35, store_variance_lists_hd_gmc_35, store_bias_sq_lists_hd_gmc_35 = compute_mse(df_predictions_hd_gmc_35, store_y_test[4])"
   ]
  },
  {
   "cell_type": "code",
   "execution_count": 36,
   "id": "02fc50be",
   "metadata": {},
   "outputs": [
    {
     "name": "stdout",
     "output_type": "stream",
     "text": [
      "12.010473416731969\n",
      "0.8473931450892512\n",
      "9.378724373219233\n",
      "4.913967471484541\n",
      "2.336790769277568\n"
     ]
    }
   ],
   "source": [
    "# Lasso does best, as expected given high sparsity. \n",
    "\n",
    "for i in store_mse_lists_hd_gmc_5: \n",
    "    \n",
    "    print(min(i))"
   ]
  },
  {
   "cell_type": "code",
   "execution_count": 37,
   "id": "afe98492",
   "metadata": {},
   "outputs": [
    {
     "name": "stdout",
     "output_type": "stream",
     "text": [
      "30.50012824126937\n",
      "6.440042908737286\n",
      "23.881658898025947\n",
      "19.05632171312177\n",
      "13.79733875144383\n"
     ]
    }
   ],
   "source": [
    "# Lasso does best here also, given high sparsity. \n",
    "\n",
    "for i in store_mse_lists_hd_gmc_10: \n",
    "    \n",
    "    print(min(i))"
   ]
  },
  {
   "cell_type": "code",
   "execution_count": 38,
   "id": "1cba1316",
   "metadata": {},
   "outputs": [
    {
     "name": "stdout",
     "output_type": "stream",
     "text": [
      "63.81565638256879\n",
      "76.3677061099084\n",
      "62.94025875998325\n",
      "60.853925780797375\n",
      "58.99961035000636\n"
     ]
    }
   ],
   "source": [
    "# with decreasing sparsity, elastic net with 0.70 ratio does better than lasso or ridge. \n",
    "\n",
    "for i in store_mse_lists_hd_gmc_20: \n",
    "    \n",
    "    print(min(i))"
   ]
  },
  {
   "cell_type": "code",
   "execution_count": 39,
   "id": "d77018df",
   "metadata": {},
   "outputs": [
    {
     "name": "stdout",
     "output_type": "stream",
     "text": [
      "75.44374512596133\n",
      "185.86798112396897\n",
      "73.05633695173334\n",
      "82.42488292704144\n",
      "96.64870458867914\n"
     ]
    }
   ],
   "source": [
    "# with decreasing sparsity, elastic net with 0.20 ratio does better than lasso or ridge. \n",
    "\n",
    "for i in store_mse_lists_hd_gmc_30: \n",
    "    \n",
    "    print(min(i))"
   ]
  },
  {
   "cell_type": "code",
   "execution_count": 40,
   "id": "ac6beffa",
   "metadata": {},
   "outputs": [
    {
     "name": "stdout",
     "output_type": "stream",
     "text": [
      "62.57124978411867\n",
      "254.9220720577968\n",
      "66.39783578139145\n",
      "80.37530081060052\n",
      "102.7199927109824\n"
     ]
    }
   ],
   "source": [
    "# ridge does best, as expected. \n",
    "\n",
    "for i in store_mse_lists_hd_gmc_35: \n",
    "    \n",
    "    print(min(i))"
   ]
  },
  {
   "cell_type": "code",
   "execution_count": 41,
   "id": "5498fc4f",
   "metadata": {},
   "outputs": [
    {
     "data": {
      "text/plain": [
       "array([5, 5, 5, 5, 5, 5, 5, 5, 5, 5, 5, 5, 5, 5, 5, 5, 5, 5, 5, 5, 5, 5,\n",
       "       5, 5, 5, 5, 5, 5, 5, 5, 5, 5, 0, 0, 0])"
      ]
     },
     "execution_count": 41,
     "metadata": {},
     "output_type": "execute_result"
    }
   ],
   "source": [
    "\"\"\"example 2\"\"\"\n",
    "\n",
    "non_zero_betas = [32]\n",
    "zero_betas = [3]\n",
    "\n",
    "true_betas_hd_gmc_1 =  generate_true_betas(non_zero_betas, zero_betas)\n",
    "\n",
    "true_betas_hd_gmc_1[0]"
   ]
  },
  {
   "cell_type": "code",
   "execution_count": 42,
   "id": "13fab363",
   "metadata": {},
   "outputs": [],
   "source": [
    "np.random.seed(900)\n",
    "\n",
    "n = 30\n",
    "p = [17, 15, 13, 11, 9, 7, 5, 3]\n",
    "q = [18, 20, 22, 24, 26, 28, 30, 32]\n",
    "min_cor = 0.70  \n",
    "max_cor = 0.80\n",
    "iterations = 500\n",
    "alphas = np.logspace(-4,1,200)\n",
    "\n",
    "\n",
    "store_X_test = []\n",
    "store_y_test = []\n",
    "\n",
    "\n",
    "for cor_var, uncor_var in zip(p, q): \n",
    "        \n",
    "    y_test, X_test, df_test= get_sim_data(n, cor_var, uncor_var, min_cor, max_cor, true_betas_hd_gmc_1[0]) # get training data\n",
    "    store_X_test.append(X_test)\n",
    "    store_y_test.append(y_test)\n",
    "    \n",
    "\n",
    "df_predictions_hd_gmc_1 = get_predictions(n, p[0], q[0], min_cor, max_cor, true_betas_hd_gmc_1[0], iterations, alphas, store_X_test[0])\n",
    "df_predictions_hd_gmc_2 = get_predictions(n, p[1], q[1], min_cor, max_cor, true_betas_hd_gmc_1[0], iterations, alphas, store_X_test[1])\n",
    "df_predictions_hd_gmc_3 = get_predictions(n, p[2], q[2], min_cor, max_cor, true_betas_hd_gmc_1[0], iterations, alphas, store_X_test[2])\n",
    "df_predictions_hd_gmc_4 = get_predictions(n, p[3], q[3], min_cor, max_cor, true_betas_hd_gmc_1[0], iterations, alphas, store_X_test[3])\n",
    "df_predictions_hd_gmc_5 = get_predictions(n, p[4], q[4], min_cor, max_cor, true_betas_hd_gmc_1[0], iterations, alphas, store_X_test[4])\n",
    "df_predictions_hd_gmc_6 = get_predictions(n, p[5], q[5], min_cor, max_cor, true_betas_hd_gmc_1[0], iterations, alphas, store_X_test[5])\n",
    "df_predictions_hd_gmc_7 = get_predictions(n, p[6], q[6], min_cor, max_cor, true_betas_hd_gmc_1[0], iterations, alphas, store_X_test[6])\n",
    "df_predictions_hd_gmc_8 = get_predictions(n, p[7], q[7], min_cor, max_cor, true_betas_hd_gmc_1[0], iterations, alphas, store_X_test[7])\n",
    "\n"
   ]
  },
  {
   "cell_type": "code",
   "execution_count": 43,
   "id": "d73abe96",
   "metadata": {},
   "outputs": [],
   "source": [
    "store_mse_lists_hd_gmc_1, store_variance_lists_hd_gmc_1, store_bias_sq_lists_hd_gmc_1 = compute_mse(df_predictions_hd_gmc_1, store_y_test[0])\n",
    "store_mse_lists_hd_gmc_2, store_variance_lists_hd_gmc_2, store_bias_sq_lists_hd_gmc_2 = compute_mse(df_predictions_hd_gmc_2, store_y_test[1])\n",
    "store_mse_lists_hd_gmc_3, store_variance_lists_hd_gmc_3, store_bias_sq_lists_hd_gmc_3 = compute_mse(df_predictions_hd_gmc_3, store_y_test[2])\n",
    "store_mse_lists_hd_gmc_4, store_variance_lists_hd_gmc_4, store_bias_sq_lists_hd_gmc_4 = compute_mse(df_predictions_hd_gmc_4, store_y_test[3])\n",
    "store_mse_lists_hd_gmc_5, store_variance_lists_hd_gmc_5, store_bias_sq_lists_hd_gmc_5 = compute_mse(df_predictions_hd_gmc_5, store_y_test[4])\n",
    "store_mse_lists_hd_gmc_6, store_variance_lists_hd_gmc_6, store_bias_sq_lists_hd_gmc_6 = compute_mse(df_predictions_hd_gmc_6, store_y_test[5])\n",
    "store_mse_lists_hd_gmc_7, store_variance_lists_hd_gmc_7, store_bias_sq_lists_hd_gmc_7 = compute_mse(df_predictions_hd_gmc_7, store_y_test[6])\n",
    "store_mse_lists_hd_gmc_8, store_variance_lists_hd_gmc_8, store_bias_sq_lists_hd_gmc_8 = compute_mse(df_predictions_hd_gmc_8, store_y_test[7])\n",
    "\n",
    "\n"
   ]
  },
  {
   "cell_type": "code",
   "execution_count": 44,
   "id": "647aa535",
   "metadata": {},
   "outputs": [
    {
     "name": "stdout",
     "output_type": "stream",
     "text": [
      "16.021890687793732\n",
      "119.8960218270805\n",
      "19.146211344930336\n",
      "22.45692882993281\n",
      "29.098161515086254\n"
     ]
    }
   ],
   "source": [
    "# Ridge does best here in all cases below for example 2 due to low sparsity, no matter how many nonzero \n",
    "# grouped correlation variables are in the data set. \n",
    "\n",
    "for i in store_mse_lists_hd_gmc_1: \n",
    "    \n",
    "    print(min(i))"
   ]
  },
  {
   "cell_type": "code",
   "execution_count": 45,
   "id": "2fcaf2a7",
   "metadata": {},
   "outputs": [
    {
     "name": "stdout",
     "output_type": "stream",
     "text": [
      "16.066285537163314\n",
      "86.30301220755366\n",
      "17.846377501643513\n",
      "21.025353048133024\n",
      "27.325208068916517\n"
     ]
    }
   ],
   "source": [
    "\n",
    "\n",
    "for i in store_mse_lists_hd_gmc_2: \n",
    "    \n",
    "    print(min(i))"
   ]
  },
  {
   "cell_type": "code",
   "execution_count": 46,
   "id": "91d47866",
   "metadata": {},
   "outputs": [
    {
     "name": "stdout",
     "output_type": "stream",
     "text": [
      "39.18526923354009\n",
      "235.50261137450218\n",
      "42.502352068124175\n",
      "49.535552267533674\n",
      "62.83165364090571\n"
     ]
    }
   ],
   "source": [
    "\n",
    "\n",
    "for i in store_mse_lists_hd_gmc_3: \n",
    "    \n",
    "    print(min(i))"
   ]
  },
  {
   "cell_type": "code",
   "execution_count": 47,
   "id": "f9b197e0",
   "metadata": {},
   "outputs": [
    {
     "name": "stdout",
     "output_type": "stream",
     "text": [
      "36.203637424266155\n",
      "201.0944177178302\n",
      "39.38604515604995\n",
      "47.71271462502562\n",
      "60.034460885190185\n"
     ]
    }
   ],
   "source": [
    "\n",
    "for i in store_mse_lists_hd_gmc_4: \n",
    "    \n",
    "    print(min(i))"
   ]
  },
  {
   "cell_type": "code",
   "execution_count": 48,
   "id": "0cefa416",
   "metadata": {},
   "outputs": [
    {
     "name": "stdout",
     "output_type": "stream",
     "text": [
      "45.965000712709355\n",
      "218.64128072888312\n",
      "48.597051567459246\n",
      "57.43005675848876\n",
      "71.89199740604757\n"
     ]
    }
   ],
   "source": [
    "\n",
    "for i in store_mse_lists_hd_gmc_5: \n",
    "    \n",
    "    print(min(i))"
   ]
  },
  {
   "cell_type": "code",
   "execution_count": 49,
   "id": "592bf246",
   "metadata": {},
   "outputs": [
    {
     "name": "stdout",
     "output_type": "stream",
     "text": [
      "68.3273268242294\n",
      "184.93860653371382\n",
      "72.86795519584648\n",
      "83.28672088370614\n",
      "98.24949245806633\n"
     ]
    }
   ],
   "source": [
    "\n",
    "for i in store_mse_lists_hd_gmc_6: \n",
    "    \n",
    "    print(min(i))"
   ]
  },
  {
   "cell_type": "code",
   "execution_count": 50,
   "id": "455255c6",
   "metadata": {},
   "outputs": [
    {
     "name": "stdout",
     "output_type": "stream",
     "text": [
      "115.51148855531906\n",
      "290.55629716919503\n",
      "127.22943103372799\n",
      "146.83018772453838\n",
      "173.59066397405485\n"
     ]
    }
   ],
   "source": [
    "\n",
    "for i in store_mse_lists_hd_gmc_7: \n",
    "    \n",
    "    print(min(i))"
   ]
  },
  {
   "cell_type": "code",
   "execution_count": 51,
   "id": "4e027e14",
   "metadata": {},
   "outputs": [
    {
     "name": "stdout",
     "output_type": "stream",
     "text": [
      "92.942066149154\n",
      "151.92212250584126\n",
      "83.4278236096777\n",
      "90.86096419232479\n",
      "97.87446504960819\n"
     ]
    }
   ],
   "source": [
    "\n",
    "\n",
    "for i in store_mse_lists_hd_gmc_8: \n",
    "    \n",
    "    print(min(i))"
   ]
  },
  {
   "cell_type": "code",
   "execution_count": 52,
   "id": "d8cd5cbb",
   "metadata": {},
   "outputs": [
    {
     "data": {
      "text/plain": [
       "array([5, 5, 5, 5, 5, 5, 5, 5, 5, 5, 5, 5, 5, 5, 5, 5, 5, 5, 5, 5, 0, 0,\n",
       "       0, 0, 0, 0, 0, 0, 0, 0, 0, 0, 0, 0, 0])"
      ]
     },
     "execution_count": 52,
     "metadata": {},
     "output_type": "execute_result"
    }
   ],
   "source": [
    "\"\"\"example 3\"\"\"\n",
    "\n",
    "non_zero_betas = [20]\n",
    "zero_betas = [15]\n",
    "\n",
    "true_betas_hd_gmc_2 =  generate_true_betas(non_zero_betas, zero_betas)\n",
    "\n",
    "true_betas_hd_gmc_2[0]"
   ]
  },
  {
   "cell_type": "code",
   "execution_count": 53,
   "id": "9567e299",
   "metadata": {},
   "outputs": [],
   "source": [
    "np.random.seed(900)\n",
    "\n",
    "n = 30\n",
    "p = [17, 15, 13, 11, 9, 7, 5, 3]\n",
    "q = [18, 20, 22, 24, 26, 28, 30, 32]\n",
    "min_cor = 0.70  \n",
    "max_cor = 0.80\n",
    "iterations = 500\n",
    "alphas = np.logspace(-4,1,200)\n",
    "\n",
    "\n",
    "store_X_test = []\n",
    "store_y_test = []\n",
    "\n",
    "\n",
    "for cor_var, uncor_var in zip(p, q): \n",
    "        \n",
    "    y_test, X_test, df_test= get_sim_data(n, cor_var, uncor_var, min_cor, max_cor, true_betas_hd_gmc_2[0]) # get training data\n",
    "    store_X_test.append(X_test)\n",
    "    store_y_test.append(y_test)\n",
    "    \n",
    "\n",
    "df_predictions_hd_gmc_9 = get_predictions(n, p[0], q[0], min_cor, max_cor, true_betas_hd_gmc_2[0], iterations, alphas, store_X_test[0])\n",
    "df_predictions_hd_gmc_10 = get_predictions(n, p[1], q[1], min_cor, max_cor, true_betas_hd_gmc_2[0], iterations, alphas, store_X_test[1])\n",
    "df_predictions_hd_gmc_11 = get_predictions(n, p[2], q[2], min_cor, max_cor, true_betas_hd_gmc_2[0], iterations, alphas, store_X_test[2])\n",
    "df_predictions_hd_gmc_12 = get_predictions(n, p[3], q[3], min_cor, max_cor, true_betas_hd_gmc_2[0], iterations, alphas, store_X_test[3])\n",
    "df_predictions_hd_gmc_13 = get_predictions(n, p[4], q[4], min_cor, max_cor, true_betas_hd_gmc_2[0], iterations, alphas, store_X_test[4])\n",
    "df_predictions_hd_gmc_14 = get_predictions(n, p[5], q[5], min_cor, max_cor, true_betas_hd_gmc_2[0], iterations, alphas, store_X_test[5])\n",
    "df_predictions_hd_gmc_15 = get_predictions(n, p[6], q[6], min_cor, max_cor, true_betas_hd_gmc_2[0], iterations, alphas, store_X_test[6])\n",
    "df_predictions_hd_gmc_16 = get_predictions(n, p[7], q[7], min_cor, max_cor, true_betas_hd_gmc_2[0], iterations, alphas, store_X_test[7])\n",
    "\n"
   ]
  },
  {
   "cell_type": "code",
   "execution_count": 54,
   "id": "23b2fca3",
   "metadata": {},
   "outputs": [],
   "source": [
    "store_mse_lists_hd_gmc_9, store_variance_lists_hd_gmc_9, store_bias_sq_lists_hd_gmc_9 = compute_mse(df_predictions_hd_gmc_9, store_y_test[0])\n",
    "store_mse_lists_hd_gmc_10, store_variance_lists_hd_gmc_10, store_bias_sq_lists_hd_gmc_10 = compute_mse(df_predictions_hd_gmc_10, store_y_test[1])\n",
    "store_mse_lists_hd_gmc_11, store_variance_lists_hd_gmc_11, store_bias_sq_lists_hd_gmc_11 = compute_mse(df_predictions_hd_gmc_11, store_y_test[2])\n",
    "store_mse_lists_hd_gmc_12, store_variance_lists_hd_gmc_12, store_bias_sq_lists_hd_gmc_12 = compute_mse(df_predictions_hd_gmc_12, store_y_test[3])\n",
    "store_mse_lists_hd_gmc_13, store_variance_lists_hd_gmc_13, store_bias_sq_lists_hd_gmc_13 = compute_mse(df_predictions_hd_gmc_13, store_y_test[4])\n",
    "store_mse_lists_hd_gmc_14, store_variance_lists_hd_gmc_14, store_bias_sq_lists_hd_gmc_14 = compute_mse(df_predictions_hd_gmc_14, store_y_test[5])\n",
    "store_mse_lists_hd_gmc_15, store_variance_lists_hd_gmc_15, store_bias_sq_lists_hd_gmc_15 = compute_mse(df_predictions_hd_gmc_15, store_y_test[6])\n",
    "store_mse_lists_hd_gmc_16, store_variance_lists_hd_gmc_16, store_bias_sq_lists_hd_gmc_16 = compute_mse(df_predictions_hd_gmc_16, store_y_test[7])\n",
    "\n"
   ]
  },
  {
   "cell_type": "code",
   "execution_count": 55,
   "id": "21f9dbc7",
   "metadata": {},
   "outputs": [
    {
     "name": "stdout",
     "output_type": "stream",
     "text": [
      "7.199671986106046\n",
      "12.301312613744868\n",
      "5.025123140194392\n",
      "6.0431399496174585\n",
      "5.424889559261964\n"
     ]
    }
   ],
   "source": [
    "# With higher degree of sparsity, elastic net models do best in all cases below for example 3. \n",
    "\n",
    "for i in store_mse_lists_hd_gmc_9: \n",
    "    \n",
    "    print(min(i))"
   ]
  },
  {
   "cell_type": "code",
   "execution_count": 56,
   "id": "7cf33a13",
   "metadata": {},
   "outputs": [
    {
     "name": "stdout",
     "output_type": "stream",
     "text": [
      "8.22692478403537\n",
      "12.462077139633703\n",
      "7.755314722725552\n",
      "6.516688269039046\n",
      "5.497532327699862\n"
     ]
    }
   ],
   "source": [
    "for i in store_mse_lists_hd_gmc_10: \n",
    "    \n",
    "    print(min(i))"
   ]
  },
  {
   "cell_type": "code",
   "execution_count": 57,
   "id": "8d89a03e",
   "metadata": {},
   "outputs": [
    {
     "name": "stdout",
     "output_type": "stream",
     "text": [
      "22.813757383648575\n",
      "37.14782528243199\n",
      "22.032468288540244\n",
      "18.744831395683313\n",
      "16.394272038680008\n"
     ]
    }
   ],
   "source": [
    "for i in store_mse_lists_hd_gmc_11: \n",
    "    \n",
    "    print(min(i))"
   ]
  },
  {
   "cell_type": "code",
   "execution_count": 58,
   "id": "6a708ad6",
   "metadata": {},
   "outputs": [
    {
     "name": "stdout",
     "output_type": "stream",
     "text": [
      "17.70277263335556\n",
      "36.56057806729067\n",
      "16.96080681026028\n",
      "15.45722782298979\n",
      "14.452684778396483\n"
     ]
    }
   ],
   "source": [
    "for i in store_mse_lists_hd_gmc_12: \n",
    "    \n",
    "    print(min(i))"
   ]
  },
  {
   "cell_type": "code",
   "execution_count": 59,
   "id": "60951be9",
   "metadata": {},
   "outputs": [
    {
     "name": "stdout",
     "output_type": "stream",
     "text": [
      "26.041052288258225\n",
      "48.744153502925926\n",
      "25.11384756398605\n",
      "24.1885949516853\n",
      "23.85801906149417\n"
     ]
    }
   ],
   "source": [
    "for i in store_mse_lists_hd_gmc_13: \n",
    "    \n",
    "    print(min(i))"
   ]
  },
  {
   "cell_type": "code",
   "execution_count": 60,
   "id": "7fee5928",
   "metadata": {},
   "outputs": [
    {
     "name": "stdout",
     "output_type": "stream",
     "text": [
      "40.22511574075901\n",
      "57.05114071995847\n",
      "38.770597269005755\n",
      "37.97014829087451\n",
      "37.66079107972735\n"
     ]
    }
   ],
   "source": [
    "for i in store_mse_lists_hd_gmc_14: \n",
    "    \n",
    "    print(min(i))"
   ]
  },
  {
   "cell_type": "code",
   "execution_count": 61,
   "id": "8de1d022",
   "metadata": {},
   "outputs": [
    {
     "name": "stdout",
     "output_type": "stream",
     "text": [
      "88.2570183628708\n",
      "107.62045787174816\n",
      "88.34652411079507\n",
      "85.7556214854602\n",
      "83.75428826786103\n"
     ]
    }
   ],
   "source": [
    "for i in store_mse_lists_hd_gmc_15: \n",
    "    \n",
    "    print(min(i))"
   ]
  },
  {
   "cell_type": "code",
   "execution_count": 62,
   "id": "a5132d6c",
   "metadata": {},
   "outputs": [
    {
     "name": "stdout",
     "output_type": "stream",
     "text": [
      "65.6701394050137\n",
      "53.60957924356654\n",
      "52.391959800849094\n",
      "51.13013473890614\n",
      "50.04830367450902\n"
     ]
    }
   ],
   "source": [
    "for i in store_mse_lists_hd_gmc_16: \n",
    "    \n",
    "    print(min(i))"
   ]
  },
  {
   "cell_type": "code",
   "execution_count": 63,
   "id": "25fe0bca",
   "metadata": {},
   "outputs": [
    {
     "data": {
      "text/plain": [
       "array([5, 5, 5, 5, 5, 5, 5, 5, 5, 5, 5, 5, 5, 5, 5, 5, 5, 5, 5, 5, 5, 5,\n",
       "       5, 5, 5, 5, 5, 5, 5, 5, 5, 5, 5, 5, 5])"
      ]
     },
     "execution_count": 63,
     "metadata": {},
     "output_type": "execute_result"
    }
   ],
   "source": [
    "\"\"\"example 4\"\"\"\n",
    "\n",
    "non_zero_betas = [35]\n",
    "zero_betas = [0]\n",
    "\n",
    "true_betas_hd_gmc_3 =  generate_true_betas(non_zero_betas, zero_betas)\n",
    "\n",
    "true_betas_hd_gmc_3[0]"
   ]
  },
  {
   "cell_type": "code",
   "execution_count": 74,
   "id": "0ad81c1a",
   "metadata": {},
   "outputs": [],
   "source": [
    "np.random.seed(900)\n",
    "\n",
    "n = 30\n",
    "p = [17, 15, 13, 11, 9, 7, 5, 3, 2]\n",
    "q = [18, 20, 22, 24, 26, 28, 30, 32, 33]\n",
    "min_cor = 0.70  \n",
    "max_cor = 0.80\n",
    "iterations = 500\n",
    "alphas = np.logspace(-4,1,200)\n",
    "\n",
    "\n",
    "store_X_test = []\n",
    "store_y_test = []\n",
    "\n",
    "\n",
    "for cor_var, uncor_var in zip(p, q): \n",
    "        \n",
    "    y_test, X_test, df_test= get_sim_data(n, cor_var, uncor_var, min_cor, max_cor, true_betas_hd_gmc_3[0]) # get training data\n",
    "    store_X_test.append(X_test)\n",
    "    store_y_test.append(y_test)\n",
    "    \n",
    "\n",
    "df_predictions_hd_gmc_17 = get_predictions(n, p[0], q[0], min_cor, max_cor, true_betas_hd_gmc_3[0], iterations, alphas, store_X_test[0])\n",
    "df_predictions_hd_gmc_18 = get_predictions(n, p[1], q[1], min_cor, max_cor, true_betas_hd_gmc_3[0], iterations, alphas, store_X_test[1])\n",
    "df_predictions_hd_gmc_19 = get_predictions(n, p[2], q[2], min_cor, max_cor, true_betas_hd_gmc_3[0], iterations, alphas, store_X_test[2])\n",
    "df_predictions_hd_gmc_20 = get_predictions(n, p[3], q[3], min_cor, max_cor, true_betas_hd_gmc_3[0], iterations, alphas, store_X_test[3])\n",
    "df_predictions_hd_gmc_21 = get_predictions(n, p[4], q[4], min_cor, max_cor, true_betas_hd_gmc_3[0], iterations, alphas, store_X_test[4])\n",
    "df_predictions_hd_gmc_22 = get_predictions(n, p[5], q[5], min_cor, max_cor, true_betas_hd_gmc_3[0], iterations, alphas, store_X_test[5])\n",
    "df_predictions_hd_gmc_23 = get_predictions(n, p[6], q[6], min_cor, max_cor, true_betas_hd_gmc_3[0], iterations, alphas, store_X_test[6])\n",
    "df_predictions_hd_gmc_24 = get_predictions(n, p[7], q[7], min_cor, max_cor, true_betas_hd_gmc_3[0], iterations, alphas, store_X_test[7])\n",
    "df_predictions_hd_gmc_25 = get_predictions(n, p[8], q[8], min_cor, max_cor, true_betas_hd_gmc_3[0], iterations, alphas, store_X_test[8])\n"
   ]
  },
  {
   "cell_type": "code",
   "execution_count": 65,
   "id": "0fcbfd29",
   "metadata": {},
   "outputs": [],
   "source": [
    "store_mse_lists_hd_gmc_17, store_variance_lists_hd_gmc_17, store_bias_sq_lists_hd_gmc_17 = compute_mse(df_predictions_hd_gmc_17, store_y_test[0])\n",
    "store_mse_lists_hd_gmc_18, store_variance_lists_hd_gmc_18, store_bias_sq_lists_hd_gmc_18 = compute_mse(df_predictions_hd_gmc_18, store_y_test[1])\n",
    "store_mse_lists_hd_gmc_19, store_variance_lists_hd_gmc_19, store_bias_sq_lists_hd_gmc_19 = compute_mse(df_predictions_hd_gmc_19, store_y_test[2])\n",
    "store_mse_lists_hd_gmc_20, store_variance_lists_hd_gmc_20, store_bias_sq_lists_hd_gmc_20 = compute_mse(df_predictions_hd_gmc_20, store_y_test[3])\n",
    "store_mse_lists_hd_gmc_21, store_variance_lists_hd_gmc_21, store_bias_sq_lists_hd_gmc_21 = compute_mse(df_predictions_hd_gmc_21, store_y_test[4])\n",
    "store_mse_lists_hd_gmc_22, store_variance_lists_hd_gmc_22, store_bias_sq_lists_hd_gmc_22 = compute_mse(df_predictions_hd_gmc_22, store_y_test[5])\n",
    "store_mse_lists_hd_gmc_23, store_variance_lists_hd_gmc_23, store_bias_sq_lists_hd_gmc_23 = compute_mse(df_predictions_hd_gmc_23, store_y_test[6])\n",
    "store_mse_lists_hd_gmc_24, store_variance_lists_hd_gmc_24, store_bias_sq_lists_hd_gmc_24 = compute_mse(df_predictions_hd_gmc_24, store_y_test[7])\n",
    "store_mse_lists_hd_gmc_25, store_variance_lists_hd_gmc_25, store_bias_sq_lists_hd_gmc_25 = compute_mse(df_predictions_hd_gmc_25, store_y_test[8])\n",
    "\n"
   ]
  },
  {
   "cell_type": "code",
   "execution_count": 66,
   "id": "c29004e3",
   "metadata": {},
   "outputs": [
    {
     "name": "stdout",
     "output_type": "stream",
     "text": [
      "19.575213870076624\n",
      "150.09843553212173\n",
      "24.2605488301216\n",
      "29.872057470319138\n",
      "40.74747631334646\n"
     ]
    }
   ],
   "source": [
    "# Ridge does best here in nearly all cases below for example 4 due to low sparsity, no matter how many nonzero \n",
    "# grouped correlation variables are in the data set. \n",
    "\n",
    "for i in store_mse_lists_hd_gmc_17: \n",
    "    \n",
    "    print(min(i))"
   ]
  },
  {
   "cell_type": "code",
   "execution_count": 67,
   "id": "8085f608",
   "metadata": {},
   "outputs": [
    {
     "name": "stdout",
     "output_type": "stream",
     "text": [
      "18.31376922410225\n",
      "151.68859458699944\n",
      "21.517679614878144\n",
      "27.091179976916617\n",
      "37.65106025053665\n"
     ]
    }
   ],
   "source": [
    "for i in store_mse_lists_hd_gmc_18: \n",
    "    \n",
    "    print(min(i))"
   ]
  },
  {
   "cell_type": "code",
   "execution_count": 68,
   "id": "1e00f8ea",
   "metadata": {},
   "outputs": [
    {
     "name": "stdout",
     "output_type": "stream",
     "text": [
      "53.77943563815102\n",
      "364.05127119865887\n",
      "59.22406786665623\n",
      "74.09817996331124\n",
      "101.23628244519196\n"
     ]
    }
   ],
   "source": [
    "for i in store_mse_lists_hd_gmc_19: \n",
    "    \n",
    "    print(min(i))"
   ]
  },
  {
   "cell_type": "code",
   "execution_count": 69,
   "id": "7329363f",
   "metadata": {},
   "outputs": [
    {
     "name": "stdout",
     "output_type": "stream",
     "text": [
      "38.9903465073314\n",
      "242.2082421955163\n",
      "42.756315836934604\n",
      "53.706654572756115\n",
      "71.29088611898742\n"
     ]
    }
   ],
   "source": [
    "for i in store_mse_lists_hd_gmc_20: \n",
    "    \n",
    "    print(min(i))"
   ]
  },
  {
   "cell_type": "code",
   "execution_count": 70,
   "id": "7a644bae",
   "metadata": {},
   "outputs": [
    {
     "name": "stdout",
     "output_type": "stream",
     "text": [
      "47.1327669054527\n",
      "234.6420385975631\n",
      "50.489714781495984\n",
      "61.72651259377571\n",
      "80.3448546661622\n"
     ]
    }
   ],
   "source": [
    "for i in store_mse_lists_hd_gmc_21: \n",
    "    \n",
    "    print(min(i))"
   ]
  },
  {
   "cell_type": "code",
   "execution_count": 71,
   "id": "53301621",
   "metadata": {},
   "outputs": [
    {
     "name": "stdout",
     "output_type": "stream",
     "text": [
      "81.69727361314241\n",
      "239.86265702809138\n",
      "90.24752978002748\n",
      "105.74039985160637\n",
      "126.89389722899284\n"
     ]
    }
   ],
   "source": [
    "for i in store_mse_lists_hd_gmc_22: \n",
    "    \n",
    "    print(min(i))"
   ]
  },
  {
   "cell_type": "code",
   "execution_count": 72,
   "id": "c26eb5ee",
   "metadata": {},
   "outputs": [
    {
     "name": "stdout",
     "output_type": "stream",
     "text": [
      "120.35786463831903\n",
      "328.5724990398514\n",
      "133.73153835203755\n",
      "158.6650913427631\n",
      "190.45250565598047\n"
     ]
    }
   ],
   "source": [
    "for i in store_mse_lists_hd_gmc_23: \n",
    "    \n",
    "    print(min(i))"
   ]
  },
  {
   "cell_type": "code",
   "execution_count": 73,
   "id": "04a93c17",
   "metadata": {},
   "outputs": [
    {
     "name": "stdout",
     "output_type": "stream",
     "text": [
      "103.07325107248451\n",
      "82.52709223081911\n",
      "23.954412636909094\n",
      "27.043280111672708\n",
      "31.43349261438252\n"
     ]
    }
   ],
   "source": [
    "# This case is an exception. Not ridge, but elastic net that does best. Why?\n",
    "\n",
    "for i in store_mse_lists_hd_gmc_24: \n",
    "    \n",
    "    print(min(i))"
   ]
  },
  {
   "cell_type": "code",
   "execution_count": 76,
   "id": "409f49e0",
   "metadata": {},
   "outputs": [
    {
     "name": "stdout",
     "output_type": "stream",
     "text": [
      "111.59041499639466\n",
      "198.14048640668375\n",
      "113.60779197574846\n",
      "128.03980933450728\n",
      "145.47388069383862\n"
     ]
    }
   ],
   "source": [
    "\n",
    "for i in store_mse_lists_hd_gmc_25: \n",
    "    \n",
    "    print(min(i))"
   ]
  },
  {
   "cell_type": "code",
   "execution_count": 47,
   "id": "1a5b9d5f",
   "metadata": {},
   "outputs": [],
   "source": [
    "\"\"\"Example 5\"\"\"\n",
    "\n",
    "non_zero_betas = [10]\n",
    "zero_betas = [25]\n",
    "\n",
    "true_betas_high_spar = generate_true_betas(non_zero_betas, zero_betas)\n",
    "true_betas_high_spar\n",
    "\n",
    "\n",
    "np.random.seed(900)\n",
    "\n",
    "n = 30\n",
    "p = 5\n",
    "q = 30\n",
    "min_cor = [0, 0.1, 0.3, 0.5, 0.7] \n",
    "max_cor = [0, 0.2, 0.4, 0.6, 0.8]\n",
    "iterations = 500\n",
    "alphas = np.logspace(-4,1,200)\n",
    "\n",
    "store_X_test = []\n",
    "store_y_test = []\n",
    "\n",
    "\n",
    "for mini, maxi in zip(min_cor, max_cor): \n",
    "        \n",
    "    y_test, X_test, df_test= get_sim_data(n, p, q, mini, maxi, true_betas_high_spar[0]) # get training data\n",
    "    store_X_test.append(X_test)\n",
    "    store_y_test.append(y_test)\n",
    "    \n",
    "\n",
    "df_predictions_mc_grouped1 = get_predictions(n, p, q, min_cor[0], max_cor[0], true_betas_high_spar[0], iterations, alphas, store_X_test[0])\n",
    "df_predictions_mc_grouped2 = get_predictions(n, p, q, min_cor[1], max_cor[1], true_betas_high_spar[0], iterations, alphas, store_X_test[1])\n",
    "df_predictions_mc_grouped3 = get_predictions(n, p, q, min_cor[2], max_cor[2], true_betas_high_spar[0], iterations, alphas, store_X_test[2])\n",
    "df_predictions_mc_grouped4 = get_predictions(n, p, q, min_cor[3], max_cor[3], true_betas_high_spar[0], iterations, alphas, store_X_test[3])\n",
    "df_predictions_mc_grouped5 = get_predictions(n, p, q, min_cor[4], max_cor[4], true_betas_high_spar[0], iterations, alphas, store_X_test[4])\n",
    "\n"
   ]
  },
  {
   "cell_type": "code",
   "execution_count": 48,
   "id": "888a0bc0",
   "metadata": {},
   "outputs": [],
   "source": [
    "store_mse_lists_mc_grouped1, store_variance_lists_mc_grouped1, store_bias_sq_lists_mc_grouped1 = compute_mse(df_predictions_mc_grouped1, store_y_test[0])\n",
    "store_mse_lists_mc_grouped2, store_variance_lists_mc_grouped2, store_bias_sq_lists_mc_grouped2 = compute_mse(df_predictions_mc_grouped2, store_y_test[1])\n",
    "store_mse_lists_mc_grouped3, store_variance_lists_mc_grouped3, store_bias_sq_lists_mc_grouped3 = compute_mse(df_predictions_mc_grouped3, store_y_test[2])\n",
    "store_mse_lists_mc_grouped4, store_variance_lists_mc_grouped4, store_bias_sq_lists_mc_grouped4 = compute_mse(df_predictions_mc_grouped4, store_y_test[3])\n",
    "store_mse_lists_mc_grouped5, store_variance_lists_mc_grouped5, store_bias_sq_lists_mc_grouped5 = compute_mse(df_predictions_mc_grouped5, store_y_test[4])\n",
    "\n",
    "\n"
   ]
  },
  {
   "cell_type": "code",
   "execution_count": 49,
   "id": "00a5e96d",
   "metadata": {},
   "outputs": [
    {
     "name": "stdout",
     "output_type": "stream",
     "text": [
      "28.666299155794608\n",
      "2.9079972356732586\n",
      "17.700598202775716\n",
      "15.444203832798182\n",
      "11.982917199012133\n"
     ]
    }
   ],
   "source": [
    "for i in store_mse_lists_mc_grouped1: \n",
    "    \n",
    "    print(min(i))"
   ]
  },
  {
   "cell_type": "code",
   "execution_count": 50,
   "id": "ac04f537",
   "metadata": {},
   "outputs": [
    {
     "name": "stdout",
     "output_type": "stream",
     "text": [
      "36.10843868918105\n",
      "4.0770084405767015\n",
      "26.376516479067345\n",
      "22.158529631032724\n",
      "14.142012441146573\n"
     ]
    }
   ],
   "source": [
    "for i in store_mse_lists_mc_grouped2: \n",
    "    \n",
    "    print(min(i))"
   ]
  },
  {
   "cell_type": "code",
   "execution_count": 51,
   "id": "52651dd6",
   "metadata": {},
   "outputs": [
    {
     "name": "stdout",
     "output_type": "stream",
     "text": [
      "35.54622992244552\n",
      "4.057048444729396\n",
      "23.90724726244011\n",
      "19.962871938885094\n",
      "13.970963547392191\n"
     ]
    }
   ],
   "source": [
    "for i in store_mse_lists_mc_grouped3: \n",
    "    \n",
    "    print(min(i))"
   ]
  },
  {
   "cell_type": "code",
   "execution_count": 52,
   "id": "89ca5f1f",
   "metadata": {},
   "outputs": [
    {
     "name": "stdout",
     "output_type": "stream",
     "text": [
      "20.178857280819134\n",
      "2.0183188710530047\n",
      "17.04907341377664\n",
      "11.324473273340876\n",
      "6.775554193435526\n"
     ]
    }
   ],
   "source": [
    "for i in store_mse_lists_mc_grouped4: \n",
    "    \n",
    "    print(min(i))"
   ]
  },
  {
   "cell_type": "code",
   "execution_count": 53,
   "id": "cf297cdf",
   "metadata": {},
   "outputs": [
    {
     "name": "stdout",
     "output_type": "stream",
     "text": [
      "16.218315231486653\n",
      "3.9295508988143837\n",
      "13.915172909210119\n",
      "9.581248343353378\n",
      "6.323273831032595\n"
     ]
    }
   ],
   "source": [
    "for i in store_mse_lists_mc_grouped5: \n",
    "    \n",
    "    print(min(i))"
   ]
  },
  {
   "cell_type": "code",
   "execution_count": null,
   "id": "04bc6283",
   "metadata": {},
   "outputs": [],
   "source": []
  },
  {
   "cell_type": "code",
   "execution_count": null,
   "id": "e394e35e",
   "metadata": {},
   "outputs": [],
   "source": []
  },
  {
   "cell_type": "markdown",
   "id": "19f2a0ef",
   "metadata": {},
   "source": [
    "# Edo and Carolina"
   ]
  },
  {
   "cell_type": "code",
   "execution_count": 91,
   "id": "430f91d5",
   "metadata": {},
   "outputs": [
    {
     "data": {
      "text/html": [
       "<div>\n",
       "<style scoped>\n",
       "    .dataframe tbody tr th:only-of-type {\n",
       "        vertical-align: middle;\n",
       "    }\n",
       "\n",
       "    .dataframe tbody tr th {\n",
       "        vertical-align: top;\n",
       "    }\n",
       "\n",
       "    .dataframe thead th {\n",
       "        text-align: right;\n",
       "    }\n",
       "</style>\n",
       "<table border=\"1\" class=\"dataframe\">\n",
       "  <thead>\n",
       "    <tr style=\"text-align: right;\">\n",
       "      <th></th>\n",
       "      <th>0</th>\n",
       "      <th>1</th>\n",
       "      <th>2</th>\n",
       "      <th>3</th>\n",
       "      <th>4</th>\n",
       "      <th>5</th>\n",
       "      <th>6</th>\n",
       "      <th>7</th>\n",
       "      <th>8</th>\n",
       "      <th>9</th>\n",
       "      <th>...</th>\n",
       "      <th>28</th>\n",
       "      <th>29</th>\n",
       "      <th>30</th>\n",
       "      <th>31</th>\n",
       "      <th>32</th>\n",
       "      <th>33</th>\n",
       "      <th>34</th>\n",
       "      <th>35</th>\n",
       "      <th>36</th>\n",
       "      <th>37</th>\n",
       "    </tr>\n",
       "  </thead>\n",
       "  <tbody>\n",
       "    <tr>\n",
       "      <th>0</th>\n",
       "      <td>7.629869</td>\n",
       "      <td>7.629858</td>\n",
       "      <td>7.629760</td>\n",
       "      <td>7.628775</td>\n",
       "      <td>7.618944</td>\n",
       "      <td>7.608044</td>\n",
       "      <td>7.575493</td>\n",
       "      <td>7.553916</td>\n",
       "      <td>7.532438</td>\n",
       "      <td>7.521736</td>\n",
       "      <td>...</td>\n",
       "      <td>1.889872</td>\n",
       "      <td>1.773390</td>\n",
       "      <td>1.667526</td>\n",
       "      <td>1.570992</td>\n",
       "      <td>1.482695</td>\n",
       "      <td>1.401696</td>\n",
       "      <td>0.858908</td>\n",
       "      <td>0.575549</td>\n",
       "      <td>0.406992</td>\n",
       "      <td>0.297585</td>\n",
       "    </tr>\n",
       "    <tr>\n",
       "      <th>1</th>\n",
       "      <td>-21.516466</td>\n",
       "      <td>-21.516451</td>\n",
       "      <td>-21.516316</td>\n",
       "      <td>-21.514963</td>\n",
       "      <td>-21.501445</td>\n",
       "      <td>-21.486447</td>\n",
       "      <td>-21.441584</td>\n",
       "      <td>-21.411785</td>\n",
       "      <td>-21.382074</td>\n",
       "      <td>-21.367252</td>\n",
       "      <td>...</td>\n",
       "      <td>-10.730219</td>\n",
       "      <td>-10.393565</td>\n",
       "      <td>-10.078308</td>\n",
       "      <td>-9.782453</td>\n",
       "      <td>-9.504243</td>\n",
       "      <td>-9.242133</td>\n",
       "      <td>-7.266704</td>\n",
       "      <td>-6.012446</td>\n",
       "      <td>-5.144488</td>\n",
       "      <td>-4.507863</td>\n",
       "    </tr>\n",
       "    <tr>\n",
       "      <th>2</th>\n",
       "      <td>20.676138</td>\n",
       "      <td>20.676132</td>\n",
       "      <td>20.676078</td>\n",
       "      <td>20.675536</td>\n",
       "      <td>20.670114</td>\n",
       "      <td>20.664091</td>\n",
       "      <td>20.646030</td>\n",
       "      <td>20.633997</td>\n",
       "      <td>20.621969</td>\n",
       "      <td>20.615957</td>\n",
       "      <td>...</td>\n",
       "      <td>13.926955</td>\n",
       "      <td>13.618982</td>\n",
       "      <td>13.323932</td>\n",
       "      <td>13.041070</td>\n",
       "      <td>12.769709</td>\n",
       "      <td>12.509206</td>\n",
       "      <td>10.386433</td>\n",
       "      <td>8.881254</td>\n",
       "      <td>7.761593</td>\n",
       "      <td>6.897260</td>\n",
       "    </tr>\n",
       "    <tr>\n",
       "      <th>3</th>\n",
       "      <td>7.356998</td>\n",
       "      <td>7.356993</td>\n",
       "      <td>7.356951</td>\n",
       "      <td>7.356523</td>\n",
       "      <td>7.352255</td>\n",
       "      <td>7.347517</td>\n",
       "      <td>7.333340</td>\n",
       "      <td>7.323919</td>\n",
       "      <td>7.314522</td>\n",
       "      <td>7.309832</td>\n",
       "      <td>...</td>\n",
       "      <td>3.670711</td>\n",
       "      <td>3.545933</td>\n",
       "      <td>3.428519</td>\n",
       "      <td>3.317830</td>\n",
       "      <td>3.213300</td>\n",
       "      <td>3.114424</td>\n",
       "      <td>2.356835</td>\n",
       "      <td>1.864383</td>\n",
       "      <td>1.518382</td>\n",
       "      <td>1.261884</td>\n",
       "    </tr>\n",
       "    <tr>\n",
       "      <th>4</th>\n",
       "      <td>-5.969915</td>\n",
       "      <td>-5.969908</td>\n",
       "      <td>-5.969841</td>\n",
       "      <td>-5.969176</td>\n",
       "      <td>-5.962530</td>\n",
       "      <td>-5.955160</td>\n",
       "      <td>-5.933137</td>\n",
       "      <td>-5.918527</td>\n",
       "      <td>-5.903975</td>\n",
       "      <td>-5.896721</td>\n",
       "      <td>...</td>\n",
       "      <td>-1.828748</td>\n",
       "      <td>-1.744939</td>\n",
       "      <td>-1.669480</td>\n",
       "      <td>-1.601368</td>\n",
       "      <td>-1.539745</td>\n",
       "      <td>-1.483870</td>\n",
       "      <td>-1.134023</td>\n",
       "      <td>-0.981375</td>\n",
       "      <td>-0.909710</td>\n",
       "      <td>-0.875701</td>\n",
       "    </tr>\n",
       "    <tr>\n",
       "      <th>5</th>\n",
       "      <td>-9.358015</td>\n",
       "      <td>-9.358009</td>\n",
       "      <td>-9.357960</td>\n",
       "      <td>-9.357471</td>\n",
       "      <td>-9.352576</td>\n",
       "      <td>-9.347145</td>\n",
       "      <td>-9.330899</td>\n",
       "      <td>-9.320108</td>\n",
       "      <td>-9.309349</td>\n",
       "      <td>-9.303980</td>\n",
       "      <td>...</td>\n",
       "      <td>-5.310871</td>\n",
       "      <td>-5.175483</td>\n",
       "      <td>-5.047908</td>\n",
       "      <td>-4.927461</td>\n",
       "      <td>-4.813539</td>\n",
       "      <td>-4.705607</td>\n",
       "      <td>-3.871603</td>\n",
       "      <td>-3.320874</td>\n",
       "      <td>-2.928787</td>\n",
       "      <td>-2.634988</td>\n",
       "    </tr>\n",
       "    <tr>\n",
       "      <th>6</th>\n",
       "      <td>24.394871</td>\n",
       "      <td>24.394862</td>\n",
       "      <td>24.394781</td>\n",
       "      <td>24.393974</td>\n",
       "      <td>24.385907</td>\n",
       "      <td>24.376944</td>\n",
       "      <td>24.350063</td>\n",
       "      <td>24.332148</td>\n",
       "      <td>24.314239</td>\n",
       "      <td>24.305287</td>\n",
       "      <td>...</td>\n",
       "      <td>15.221899</td>\n",
       "      <td>14.855220</td>\n",
       "      <td>14.507607</td>\n",
       "      <td>14.177650</td>\n",
       "      <td>13.864067</td>\n",
       "      <td>13.565692</td>\n",
       "      <td>11.224364</td>\n",
       "      <td>9.651326</td>\n",
       "      <td>8.522279</td>\n",
       "      <td>7.672553</td>\n",
       "    </tr>\n",
       "    <tr>\n",
       "      <th>7</th>\n",
       "      <td>21.151819</td>\n",
       "      <td>21.151803</td>\n",
       "      <td>21.151657</td>\n",
       "      <td>21.150199</td>\n",
       "      <td>21.135627</td>\n",
       "      <td>21.119461</td>\n",
       "      <td>21.071115</td>\n",
       "      <td>21.039013</td>\n",
       "      <td>21.007012</td>\n",
       "      <td>20.991050</td>\n",
       "      <td>...</td>\n",
       "      <td>9.926215</td>\n",
       "      <td>9.587090</td>\n",
       "      <td>9.270070</td>\n",
       "      <td>8.973040</td>\n",
       "      <td>8.694149</td>\n",
       "      <td>8.431768</td>\n",
       "      <td>6.465771</td>\n",
       "      <td>5.227849</td>\n",
       "      <td>4.375832</td>\n",
       "      <td>3.753290</td>\n",
       "    </tr>\n",
       "    <tr>\n",
       "      <th>8</th>\n",
       "      <td>-5.943786</td>\n",
       "      <td>-5.943783</td>\n",
       "      <td>-5.943754</td>\n",
       "      <td>-5.943469</td>\n",
       "      <td>-5.940615</td>\n",
       "      <td>-5.937445</td>\n",
       "      <td>-5.927942</td>\n",
       "      <td>-5.921614</td>\n",
       "      <td>-5.915290</td>\n",
       "      <td>-5.912131</td>\n",
       "      <td>...</td>\n",
       "      <td>-2.914704</td>\n",
       "      <td>-2.799588</td>\n",
       "      <td>-2.690829</td>\n",
       "      <td>-2.587929</td>\n",
       "      <td>-2.490435</td>\n",
       "      <td>-2.397942</td>\n",
       "      <td>-1.681325</td>\n",
       "      <td>-1.208948</td>\n",
       "      <td>-0.874361</td>\n",
       "      <td>-0.624987</td>\n",
       "    </tr>\n",
       "    <tr>\n",
       "      <th>9</th>\n",
       "      <td>-1.148733</td>\n",
       "      <td>-1.148734</td>\n",
       "      <td>-1.148741</td>\n",
       "      <td>-1.148818</td>\n",
       "      <td>-1.149587</td>\n",
       "      <td>-1.150442</td>\n",
       "      <td>-1.153009</td>\n",
       "      <td>-1.154720</td>\n",
       "      <td>-1.156433</td>\n",
       "      <td>-1.157290</td>\n",
       "      <td>...</td>\n",
       "      <td>-2.000025</td>\n",
       "      <td>-2.028931</td>\n",
       "      <td>-2.055803</td>\n",
       "      <td>-2.080821</td>\n",
       "      <td>-2.104151</td>\n",
       "      <td>-2.125937</td>\n",
       "      <td>-2.282355</td>\n",
       "      <td>-2.372258</td>\n",
       "      <td>-2.428930</td>\n",
       "      <td>-2.467157</td>\n",
       "    </tr>\n",
       "    <tr>\n",
       "      <th>10</th>\n",
       "      <td>-21.201514</td>\n",
       "      <td>-21.201503</td>\n",
       "      <td>-21.201404</td>\n",
       "      <td>-21.200412</td>\n",
       "      <td>-21.190501</td>\n",
       "      <td>-21.179499</td>\n",
       "      <td>-21.146551</td>\n",
       "      <td>-21.124636</td>\n",
       "      <td>-21.102759</td>\n",
       "      <td>-21.091836</td>\n",
       "      <td>...</td>\n",
       "      <td>-11.711729</td>\n",
       "      <td>-11.367294</td>\n",
       "      <td>-11.042300</td>\n",
       "      <td>-10.735166</td>\n",
       "      <td>-10.444477</td>\n",
       "      <td>-10.168961</td>\n",
       "      <td>-8.042390</td>\n",
       "      <td>-6.648125</td>\n",
       "      <td>-5.664358</td>\n",
       "      <td>-4.933381</td>\n",
       "    </tr>\n",
       "    <tr>\n",
       "      <th>11</th>\n",
       "      <td>4.609486</td>\n",
       "      <td>4.609489</td>\n",
       "      <td>4.609515</td>\n",
       "      <td>4.609779</td>\n",
       "      <td>4.612410</td>\n",
       "      <td>4.615318</td>\n",
       "      <td>4.623954</td>\n",
       "      <td>4.629637</td>\n",
       "      <td>4.635261</td>\n",
       "      <td>4.638051</td>\n",
       "      <td>...</td>\n",
       "      <td>4.417180</td>\n",
       "      <td>4.348615</td>\n",
       "      <td>4.281375</td>\n",
       "      <td>4.215621</td>\n",
       "      <td>4.151457</td>\n",
       "      <td>4.088947</td>\n",
       "      <td>3.554262</td>\n",
       "      <td>3.157092</td>\n",
       "      <td>2.856168</td>\n",
       "      <td>2.621878</td>\n",
       "    </tr>\n",
       "    <tr>\n",
       "      <th>12</th>\n",
       "      <td>-1.920643</td>\n",
       "      <td>-1.920639</td>\n",
       "      <td>-1.920607</td>\n",
       "      <td>-1.920283</td>\n",
       "      <td>-1.917046</td>\n",
       "      <td>-1.913454</td>\n",
       "      <td>-1.902705</td>\n",
       "      <td>-1.895562</td>\n",
       "      <td>-1.888438</td>\n",
       "      <td>-1.884882</td>\n",
       "      <td>...</td>\n",
       "      <td>0.497223</td>\n",
       "      <td>0.555767</td>\n",
       "      <td>0.609018</td>\n",
       "      <td>0.657563</td>\n",
       "      <td>0.701911</td>\n",
       "      <td>0.742506</td>\n",
       "      <td>1.008392</td>\n",
       "      <td>1.136576</td>\n",
       "      <td>1.204684</td>\n",
       "      <td>1.243170</td>\n",
       "    </tr>\n",
       "    <tr>\n",
       "      <th>13</th>\n",
       "      <td>5.836219</td>\n",
       "      <td>5.836215</td>\n",
       "      <td>5.836182</td>\n",
       "      <td>5.835848</td>\n",
       "      <td>5.832507</td>\n",
       "      <td>5.828799</td>\n",
       "      <td>5.817706</td>\n",
       "      <td>5.810336</td>\n",
       "      <td>5.802985</td>\n",
       "      <td>5.799317</td>\n",
       "      <td>...</td>\n",
       "      <td>3.004021</td>\n",
       "      <td>2.909089</td>\n",
       "      <td>2.819761</td>\n",
       "      <td>2.735547</td>\n",
       "      <td>2.656013</td>\n",
       "      <td>2.580772</td>\n",
       "      <td>2.003693</td>\n",
       "      <td>1.627598</td>\n",
       "      <td>1.362642</td>\n",
       "      <td>1.165755</td>\n",
       "    </tr>\n",
       "    <tr>\n",
       "      <th>14</th>\n",
       "      <td>29.551603</td>\n",
       "      <td>29.551583</td>\n",
       "      <td>29.551409</td>\n",
       "      <td>29.549663</td>\n",
       "      <td>29.532218</td>\n",
       "      <td>29.512861</td>\n",
       "      <td>29.454949</td>\n",
       "      <td>29.416474</td>\n",
       "      <td>29.378105</td>\n",
       "      <td>29.358961</td>\n",
       "      <td>...</td>\n",
       "      <td>15.093404</td>\n",
       "      <td>14.623145</td>\n",
       "      <td>14.181669</td>\n",
       "      <td>13.766383</td>\n",
       "      <td>13.375002</td>\n",
       "      <td>13.005498</td>\n",
       "      <td>10.196427</td>\n",
       "      <td>8.390357</td>\n",
       "      <td>7.130139</td>\n",
       "      <td>6.200321</td>\n",
       "    </tr>\n",
       "    <tr>\n",
       "      <th>15</th>\n",
       "      <td>-2.624398</td>\n",
       "      <td>-2.624396</td>\n",
       "      <td>-2.624380</td>\n",
       "      <td>-2.624227</td>\n",
       "      <td>-2.622693</td>\n",
       "      <td>-2.620994</td>\n",
       "      <td>-2.615925</td>\n",
       "      <td>-2.612569</td>\n",
       "      <td>-2.609231</td>\n",
       "      <td>-2.607569</td>\n",
       "      <td>...</td>\n",
       "      <td>-1.964476</td>\n",
       "      <td>-1.961686</td>\n",
       "      <td>-1.960042</td>\n",
       "      <td>-1.959349</td>\n",
       "      <td>-1.959450</td>\n",
       "      <td>-1.960211</td>\n",
       "      <td>-1.986801</td>\n",
       "      <td>-2.022869</td>\n",
       "      <td>-2.056616</td>\n",
       "      <td>-2.085973</td>\n",
       "    </tr>\n",
       "    <tr>\n",
       "      <th>16</th>\n",
       "      <td>-9.821946</td>\n",
       "      <td>-9.821943</td>\n",
       "      <td>-9.821911</td>\n",
       "      <td>-9.821596</td>\n",
       "      <td>-9.818448</td>\n",
       "      <td>-9.814948</td>\n",
       "      <td>-9.804447</td>\n",
       "      <td>-9.797443</td>\n",
       "      <td>-9.790438</td>\n",
       "      <td>-9.786934</td>\n",
       "      <td>...</td>\n",
       "      <td>-5.688532</td>\n",
       "      <td>-5.503045</td>\n",
       "      <td>-5.326008</td>\n",
       "      <td>-5.156910</td>\n",
       "      <td>-4.995274</td>\n",
       "      <td>-4.840652</td>\n",
       "      <td>-3.601210</td>\n",
       "      <td>-2.744951</td>\n",
       "      <td>-2.120168</td>\n",
       "      <td>-1.644883</td>\n",
       "    </tr>\n",
       "    <tr>\n",
       "      <th>17</th>\n",
       "      <td>-9.752300</td>\n",
       "      <td>-9.752287</td>\n",
       "      <td>-9.752169</td>\n",
       "      <td>-9.750988</td>\n",
       "      <td>-9.739193</td>\n",
       "      <td>-9.726114</td>\n",
       "      <td>-9.687043</td>\n",
       "      <td>-9.661134</td>\n",
       "      <td>-9.635335</td>\n",
       "      <td>-9.622477</td>\n",
       "      <td>...</td>\n",
       "      <td>-2.478801</td>\n",
       "      <td>-2.317890</td>\n",
       "      <td>-2.170642</td>\n",
       "      <td>-2.035460</td>\n",
       "      <td>-1.910981</td>\n",
       "      <td>-1.796035</td>\n",
       "      <td>-1.001267</td>\n",
       "      <td>-0.560675</td>\n",
       "      <td>-0.284042</td>\n",
       "      <td>-0.095521</td>\n",
       "    </tr>\n",
       "    <tr>\n",
       "      <th>18</th>\n",
       "      <td>6.735141</td>\n",
       "      <td>6.735138</td>\n",
       "      <td>6.735118</td>\n",
       "      <td>6.734918</td>\n",
       "      <td>6.732915</td>\n",
       "      <td>6.730689</td>\n",
       "      <td>6.724014</td>\n",
       "      <td>6.719565</td>\n",
       "      <td>6.715117</td>\n",
       "      <td>6.712894</td>\n",
       "      <td>...</td>\n",
       "      <td>4.350536</td>\n",
       "      <td>4.251065</td>\n",
       "      <td>4.156577</td>\n",
       "      <td>4.066731</td>\n",
       "      <td>3.981212</td>\n",
       "      <td>3.899727</td>\n",
       "      <td>3.257417</td>\n",
       "      <td>2.824164</td>\n",
       "      <td>2.513015</td>\n",
       "      <td>2.278986</td>\n",
       "    </tr>\n",
       "    <tr>\n",
       "      <th>19</th>\n",
       "      <td>9.977338</td>\n",
       "      <td>9.977331</td>\n",
       "      <td>9.977267</td>\n",
       "      <td>9.976634</td>\n",
       "      <td>9.970301</td>\n",
       "      <td>9.963273</td>\n",
       "      <td>9.942242</td>\n",
       "      <td>9.928267</td>\n",
       "      <td>9.914328</td>\n",
       "      <td>9.907372</td>\n",
       "      <td>...</td>\n",
       "      <td>4.634882</td>\n",
       "      <td>4.461159</td>\n",
       "      <td>4.298240</td>\n",
       "      <td>4.145150</td>\n",
       "      <td>4.001027</td>\n",
       "      <td>3.865105</td>\n",
       "      <td>2.837157</td>\n",
       "      <td>2.182200</td>\n",
       "      <td>1.728450</td>\n",
       "      <td>1.395552</td>\n",
       "    </tr>\n",
       "    <tr>\n",
       "      <th>20</th>\n",
       "      <td>-26.672607</td>\n",
       "      <td>-26.672591</td>\n",
       "      <td>-26.672453</td>\n",
       "      <td>-26.671071</td>\n",
       "      <td>-26.657261</td>\n",
       "      <td>-26.641934</td>\n",
       "      <td>-26.596071</td>\n",
       "      <td>-26.565591</td>\n",
       "      <td>-26.535188</td>\n",
       "      <td>-26.520016</td>\n",
       "      <td>...</td>\n",
       "      <td>-14.697158</td>\n",
       "      <td>-14.289761</td>\n",
       "      <td>-13.906287</td>\n",
       "      <td>-13.544668</td>\n",
       "      <td>-13.203075</td>\n",
       "      <td>-12.879875</td>\n",
       "      <td>-10.400836</td>\n",
       "      <td>-8.786895</td>\n",
       "      <td>-7.651750</td>\n",
       "      <td>-6.809619</td>\n",
       "    </tr>\n",
       "    <tr>\n",
       "      <th>21</th>\n",
       "      <td>-8.350413</td>\n",
       "      <td>-8.350412</td>\n",
       "      <td>-8.350400</td>\n",
       "      <td>-8.350282</td>\n",
       "      <td>-8.349100</td>\n",
       "      <td>-8.347781</td>\n",
       "      <td>-8.343788</td>\n",
       "      <td>-8.341097</td>\n",
       "      <td>-8.338383</td>\n",
       "      <td>-8.337017</td>\n",
       "      <td>...</td>\n",
       "      <td>-5.350836</td>\n",
       "      <td>-5.190572</td>\n",
       "      <td>-5.036843</td>\n",
       "      <td>-4.889363</td>\n",
       "      <td>-4.747846</td>\n",
       "      <td>-4.612009</td>\n",
       "      <td>-3.510203</td>\n",
       "      <td>-2.739569</td>\n",
       "      <td>-2.174274</td>\n",
       "      <td>-1.743129</td>\n",
       "    </tr>\n",
       "    <tr>\n",
       "      <th>22</th>\n",
       "      <td>-1.447827</td>\n",
       "      <td>-1.447826</td>\n",
       "      <td>-1.447816</td>\n",
       "      <td>-1.447718</td>\n",
       "      <td>-1.446738</td>\n",
       "      <td>-1.445648</td>\n",
       "      <td>-1.442369</td>\n",
       "      <td>-1.440176</td>\n",
       "      <td>-1.437977</td>\n",
       "      <td>-1.436876</td>\n",
       "      <td>...</td>\n",
       "      <td>-0.242299</td>\n",
       "      <td>-0.202091</td>\n",
       "      <td>-0.164863</td>\n",
       "      <td>-0.130334</td>\n",
       "      <td>-0.098257</td>\n",
       "      <td>-0.068409</td>\n",
       "      <td>0.142624</td>\n",
       "      <td>0.261046</td>\n",
       "      <td>0.334476</td>\n",
       "      <td>0.383426</td>\n",
       "    </tr>\n",
       "    <tr>\n",
       "      <th>23</th>\n",
       "      <td>6.738461</td>\n",
       "      <td>6.738453</td>\n",
       "      <td>6.738383</td>\n",
       "      <td>6.737677</td>\n",
       "      <td>6.730622</td>\n",
       "      <td>6.722801</td>\n",
       "      <td>6.699444</td>\n",
       "      <td>6.683960</td>\n",
       "      <td>6.668546</td>\n",
       "      <td>6.660866</td>\n",
       "      <td>...</td>\n",
       "      <td>2.511352</td>\n",
       "      <td>2.417497</td>\n",
       "      <td>2.331249</td>\n",
       "      <td>2.251714</td>\n",
       "      <td>2.178133</td>\n",
       "      <td>2.109855</td>\n",
       "      <td>1.625246</td>\n",
       "      <td>1.341401</td>\n",
       "      <td>1.153729</td>\n",
       "      <td>1.019825</td>\n",
       "    </tr>\n",
       "    <tr>\n",
       "      <th>24</th>\n",
       "      <td>23.637477</td>\n",
       "      <td>23.637463</td>\n",
       "      <td>23.637333</td>\n",
       "      <td>23.636034</td>\n",
       "      <td>23.623052</td>\n",
       "      <td>23.608644</td>\n",
       "      <td>23.565533</td>\n",
       "      <td>23.536885</td>\n",
       "      <td>23.508309</td>\n",
       "      <td>23.494048</td>\n",
       "      <td>...</td>\n",
       "      <td>12.577477</td>\n",
       "      <td>12.211502</td>\n",
       "      <td>11.867782</td>\n",
       "      <td>11.544340</td>\n",
       "      <td>11.239429</td>\n",
       "      <td>10.951496</td>\n",
       "      <td>8.761432</td>\n",
       "      <td>7.353612</td>\n",
       "      <td>6.372104</td>\n",
       "      <td>5.648609</td>\n",
       "    </tr>\n",
       "    <tr>\n",
       "      <th>25</th>\n",
       "      <td>-11.526134</td>\n",
       "      <td>-11.526125</td>\n",
       "      <td>-11.526041</td>\n",
       "      <td>-11.525198</td>\n",
       "      <td>-11.516777</td>\n",
       "      <td>-11.507438</td>\n",
       "      <td>-11.479528</td>\n",
       "      <td>-11.461010</td>\n",
       "      <td>-11.442563</td>\n",
       "      <td>-11.433366</td>\n",
       "      <td>...</td>\n",
       "      <td>-5.715930</td>\n",
       "      <td>-5.558915</td>\n",
       "      <td>-5.412918</td>\n",
       "      <td>-5.276795</td>\n",
       "      <td>-5.149557</td>\n",
       "      <td>-5.030342</td>\n",
       "      <td>-4.150806</td>\n",
       "      <td>-3.607430</td>\n",
       "      <td>-3.236939</td>\n",
       "      <td>-2.967562</td>\n",
       "    </tr>\n",
       "    <tr>\n",
       "      <th>26</th>\n",
       "      <td>-5.626607</td>\n",
       "      <td>-5.626602</td>\n",
       "      <td>-5.626561</td>\n",
       "      <td>-5.626148</td>\n",
       "      <td>-5.622027</td>\n",
       "      <td>-5.617457</td>\n",
       "      <td>-5.603805</td>\n",
       "      <td>-5.594751</td>\n",
       "      <td>-5.585736</td>\n",
       "      <td>-5.581242</td>\n",
       "      <td>...</td>\n",
       "      <td>-2.874968</td>\n",
       "      <td>-2.801339</td>\n",
       "      <td>-2.732860</td>\n",
       "      <td>-2.669001</td>\n",
       "      <td>-2.609300</td>\n",
       "      <td>-2.553356</td>\n",
       "      <td>-2.140633</td>\n",
       "      <td>-1.886095</td>\n",
       "      <td>-1.713060</td>\n",
       "      <td>-1.587664</td>\n",
       "    </tr>\n",
       "    <tr>\n",
       "      <th>27</th>\n",
       "      <td>-2.068915</td>\n",
       "      <td>-2.068916</td>\n",
       "      <td>-2.068916</td>\n",
       "      <td>-2.068922</td>\n",
       "      <td>-2.068983</td>\n",
       "      <td>-2.069047</td>\n",
       "      <td>-2.069212</td>\n",
       "      <td>-2.069300</td>\n",
       "      <td>-2.069372</td>\n",
       "      <td>-2.069402</td>\n",
       "      <td>...</td>\n",
       "      <td>-1.345534</td>\n",
       "      <td>-1.308119</td>\n",
       "      <td>-1.272801</td>\n",
       "      <td>-1.239443</td>\n",
       "      <td>-1.207918</td>\n",
       "      <td>-1.178103</td>\n",
       "      <td>-0.952195</td>\n",
       "      <td>-0.810621</td>\n",
       "      <td>-0.715074</td>\n",
       "      <td>-0.646802</td>\n",
       "    </tr>\n",
       "    <tr>\n",
       "      <th>28</th>\n",
       "      <td>-6.587181</td>\n",
       "      <td>-6.587182</td>\n",
       "      <td>-6.587190</td>\n",
       "      <td>-6.587273</td>\n",
       "      <td>-6.588097</td>\n",
       "      <td>-6.589006</td>\n",
       "      <td>-6.591682</td>\n",
       "      <td>-6.593427</td>\n",
       "      <td>-6.595140</td>\n",
       "      <td>-6.595985</td>\n",
       "      <td>...</td>\n",
       "      <td>-5.370437</td>\n",
       "      <td>-5.266898</td>\n",
       "      <td>-5.166053</td>\n",
       "      <td>-5.067973</td>\n",
       "      <td>-4.972687</td>\n",
       "      <td>-4.880192</td>\n",
       "      <td>-4.096786</td>\n",
       "      <td>-3.518678</td>\n",
       "      <td>-3.081089</td>\n",
       "      <td>-2.740323</td>\n",
       "    </tr>\n",
       "    <tr>\n",
       "      <th>29</th>\n",
       "      <td>-17.766556</td>\n",
       "      <td>-17.766540</td>\n",
       "      <td>-17.766396</td>\n",
       "      <td>-17.764953</td>\n",
       "      <td>-17.750540</td>\n",
       "      <td>-17.734554</td>\n",
       "      <td>-17.686769</td>\n",
       "      <td>-17.655059</td>\n",
       "      <td>-17.623463</td>\n",
       "      <td>-17.607709</td>\n",
       "      <td>...</td>\n",
       "      <td>-7.734855</td>\n",
       "      <td>-7.469734</td>\n",
       "      <td>-7.224124</td>\n",
       "      <td>-6.995969</td>\n",
       "      <td>-6.783489</td>\n",
       "      <td>-6.585139</td>\n",
       "      <td>-5.147456</td>\n",
       "      <td>-4.286992</td>\n",
       "      <td>-3.715284</td>\n",
       "      <td>-3.308260</td>\n",
       "    </tr>\n",
       "    <tr>\n",
       "      <th>30</th>\n",
       "      <td>-22.992653</td>\n",
       "      <td>-22.992637</td>\n",
       "      <td>-22.992501</td>\n",
       "      <td>-22.991140</td>\n",
       "      <td>-22.977540</td>\n",
       "      <td>-22.962450</td>\n",
       "      <td>-22.917319</td>\n",
       "      <td>-22.887346</td>\n",
       "      <td>-22.857465</td>\n",
       "      <td>-22.842558</td>\n",
       "      <td>...</td>\n",
       "      <td>-12.167748</td>\n",
       "      <td>-11.824420</td>\n",
       "      <td>-11.502189</td>\n",
       "      <td>-11.199109</td>\n",
       "      <td>-10.913475</td>\n",
       "      <td>-10.643783</td>\n",
       "      <td>-8.590129</td>\n",
       "      <td>-7.263077</td>\n",
       "      <td>-6.331990</td>\n",
       "      <td>-5.641553</td>\n",
       "    </tr>\n",
       "    <tr>\n",
       "      <th>31</th>\n",
       "      <td>-3.441346</td>\n",
       "      <td>-3.441344</td>\n",
       "      <td>-3.441327</td>\n",
       "      <td>-3.441158</td>\n",
       "      <td>-3.439464</td>\n",
       "      <td>-3.437584</td>\n",
       "      <td>-3.431957</td>\n",
       "      <td>-3.428217</td>\n",
       "      <td>-3.424486</td>\n",
       "      <td>-3.422624</td>\n",
       "      <td>...</td>\n",
       "      <td>-1.855244</td>\n",
       "      <td>-1.794935</td>\n",
       "      <td>-1.737658</td>\n",
       "      <td>-1.683184</td>\n",
       "      <td>-1.631308</td>\n",
       "      <td>-1.581843</td>\n",
       "      <td>-1.189418</td>\n",
       "      <td>-0.920670</td>\n",
       "      <td>-0.724881</td>\n",
       "      <td>-0.575832</td>\n",
       "    </tr>\n",
       "    <tr>\n",
       "      <th>32</th>\n",
       "      <td>8.839190</td>\n",
       "      <td>8.839185</td>\n",
       "      <td>8.839145</td>\n",
       "      <td>8.838739</td>\n",
       "      <td>8.834688</td>\n",
       "      <td>8.830191</td>\n",
       "      <td>8.816734</td>\n",
       "      <td>8.807791</td>\n",
       "      <td>8.798870</td>\n",
       "      <td>8.794418</td>\n",
       "      <td>...</td>\n",
       "      <td>5.247377</td>\n",
       "      <td>5.120456</td>\n",
       "      <td>5.000589</td>\n",
       "      <td>4.887189</td>\n",
       "      <td>4.779738</td>\n",
       "      <td>4.677769</td>\n",
       "      <td>3.885236</td>\n",
       "      <td>3.358569</td>\n",
       "      <td>2.982638</td>\n",
       "      <td>2.700641</td>\n",
       "    </tr>\n",
       "    <tr>\n",
       "      <th>33</th>\n",
       "      <td>0.071662</td>\n",
       "      <td>0.071663</td>\n",
       "      <td>0.071664</td>\n",
       "      <td>0.071677</td>\n",
       "      <td>0.071810</td>\n",
       "      <td>0.071957</td>\n",
       "      <td>0.072398</td>\n",
       "      <td>0.072690</td>\n",
       "      <td>0.072982</td>\n",
       "      <td>0.073127</td>\n",
       "      <td>...</td>\n",
       "      <td>0.169941</td>\n",
       "      <td>0.172511</td>\n",
       "      <td>0.174882</td>\n",
       "      <td>0.177075</td>\n",
       "      <td>0.179108</td>\n",
       "      <td>0.180999</td>\n",
       "      <td>0.194468</td>\n",
       "      <td>0.202332</td>\n",
       "      <td>0.207486</td>\n",
       "      <td>0.211131</td>\n",
       "    </tr>\n",
       "    <tr>\n",
       "      <th>34</th>\n",
       "      <td>7.077776</td>\n",
       "      <td>7.077771</td>\n",
       "      <td>7.077720</td>\n",
       "      <td>7.077217</td>\n",
       "      <td>7.072193</td>\n",
       "      <td>7.066622</td>\n",
       "      <td>7.049988</td>\n",
       "      <td>7.038962</td>\n",
       "      <td>7.027986</td>\n",
       "      <td>7.022516</td>\n",
       "      <td>...</td>\n",
       "      <td>3.902796</td>\n",
       "      <td>3.819644</td>\n",
       "      <td>3.742056</td>\n",
       "      <td>3.669445</td>\n",
       "      <td>3.601308</td>\n",
       "      <td>3.537211</td>\n",
       "      <td>3.054356</td>\n",
       "      <td>2.744360</td>\n",
       "      <td>2.526323</td>\n",
       "      <td>2.363868</td>\n",
       "    </tr>\n",
       "    <tr>\n",
       "      <th>35</th>\n",
       "      <td>1.516843</td>\n",
       "      <td>1.516842</td>\n",
       "      <td>1.516835</td>\n",
       "      <td>1.516764</td>\n",
       "      <td>1.516053</td>\n",
       "      <td>1.515262</td>\n",
       "      <td>1.512888</td>\n",
       "      <td>1.511303</td>\n",
       "      <td>1.509717</td>\n",
       "      <td>1.508923</td>\n",
       "      <td>...</td>\n",
       "      <td>0.566974</td>\n",
       "      <td>0.525807</td>\n",
       "      <td>0.486667</td>\n",
       "      <td>0.449418</td>\n",
       "      <td>0.413938</td>\n",
       "      <td>0.380110</td>\n",
       "      <td>0.112844</td>\n",
       "      <td>-0.067919</td>\n",
       "      <td>-0.197928</td>\n",
       "      <td>-0.295809</td>\n",
       "    </tr>\n",
       "    <tr>\n",
       "      <th>36</th>\n",
       "      <td>-23.104139</td>\n",
       "      <td>-23.104124</td>\n",
       "      <td>-23.103988</td>\n",
       "      <td>-23.102630</td>\n",
       "      <td>-23.089063</td>\n",
       "      <td>-23.074009</td>\n",
       "      <td>-23.028969</td>\n",
       "      <td>-22.999046</td>\n",
       "      <td>-22.969206</td>\n",
       "      <td>-22.954316</td>\n",
       "      <td>...</td>\n",
       "      <td>-11.661009</td>\n",
       "      <td>-11.277142</td>\n",
       "      <td>-10.915879</td>\n",
       "      <td>-10.575249</td>\n",
       "      <td>-10.253507</td>\n",
       "      <td>-9.949102</td>\n",
       "      <td>-7.613711</td>\n",
       "      <td>-6.091646</td>\n",
       "      <td>-5.019753</td>\n",
       "      <td>-4.223615</td>\n",
       "    </tr>\n",
       "    <tr>\n",
       "      <th>37</th>\n",
       "      <td>22.656964</td>\n",
       "      <td>22.656950</td>\n",
       "      <td>22.656830</td>\n",
       "      <td>22.655622</td>\n",
       "      <td>22.643557</td>\n",
       "      <td>22.630165</td>\n",
       "      <td>22.590080</td>\n",
       "      <td>22.563432</td>\n",
       "      <td>22.536843</td>\n",
       "      <td>22.523571</td>\n",
       "      <td>...</td>\n",
       "      <td>11.872782</td>\n",
       "      <td>11.501758</td>\n",
       "      <td>11.152607</td>\n",
       "      <td>10.823454</td>\n",
       "      <td>10.512630</td>\n",
       "      <td>10.218647</td>\n",
       "      <td>7.968202</td>\n",
       "      <td>6.508659</td>\n",
       "      <td>5.485346</td>\n",
       "      <td>4.728081</td>\n",
       "    </tr>\n",
       "    <tr>\n",
       "      <th>38</th>\n",
       "      <td>12.678671</td>\n",
       "      <td>12.678665</td>\n",
       "      <td>12.678612</td>\n",
       "      <td>12.678082</td>\n",
       "      <td>12.672787</td>\n",
       "      <td>12.666909</td>\n",
       "      <td>12.649315</td>\n",
       "      <td>12.637617</td>\n",
       "      <td>12.625945</td>\n",
       "      <td>12.620118</td>\n",
       "      <td>...</td>\n",
       "      <td>7.658954</td>\n",
       "      <td>7.468860</td>\n",
       "      <td>7.288503</td>\n",
       "      <td>7.117139</td>\n",
       "      <td>6.954099</td>\n",
       "      <td>6.798780</td>\n",
       "      <td>5.571759</td>\n",
       "      <td>4.736977</td>\n",
       "      <td>4.131721</td>\n",
       "      <td>3.672602</td>\n",
       "    </tr>\n",
       "    <tr>\n",
       "      <th>39</th>\n",
       "      <td>-1.567846</td>\n",
       "      <td>-1.567841</td>\n",
       "      <td>-1.567794</td>\n",
       "      <td>-1.567330</td>\n",
       "      <td>-1.562699</td>\n",
       "      <td>-1.557566</td>\n",
       "      <td>-1.542253</td>\n",
       "      <td>-1.532115</td>\n",
       "      <td>-1.522033</td>\n",
       "      <td>-1.517013</td>\n",
       "      <td>...</td>\n",
       "      <td>0.433175</td>\n",
       "      <td>0.441333</td>\n",
       "      <td>0.445989</td>\n",
       "      <td>0.447733</td>\n",
       "      <td>0.447052</td>\n",
       "      <td>0.444351</td>\n",
       "      <td>0.359532</td>\n",
       "      <td>0.246318</td>\n",
       "      <td>0.140784</td>\n",
       "      <td>0.049151</td>\n",
       "    </tr>\n",
       "    <tr>\n",
       "      <th>40</th>\n",
       "      <td>-11.337315</td>\n",
       "      <td>-11.337309</td>\n",
       "      <td>-11.337258</td>\n",
       "      <td>-11.336750</td>\n",
       "      <td>-11.331669</td>\n",
       "      <td>-11.326028</td>\n",
       "      <td>-11.309135</td>\n",
       "      <td>-11.297897</td>\n",
       "      <td>-11.286680</td>\n",
       "      <td>-11.281079</td>\n",
       "      <td>...</td>\n",
       "      <td>-6.224966</td>\n",
       "      <td>-6.024157</td>\n",
       "      <td>-5.833410</td>\n",
       "      <td>-5.651990</td>\n",
       "      <td>-5.479232</td>\n",
       "      <td>-5.314532</td>\n",
       "      <td>-4.010412</td>\n",
       "      <td>-3.121760</td>\n",
       "      <td>-2.477557</td>\n",
       "      <td>-1.989231</td>\n",
       "    </tr>\n",
       "    <tr>\n",
       "      <th>41</th>\n",
       "      <td>-0.908664</td>\n",
       "      <td>-0.908666</td>\n",
       "      <td>-0.908680</td>\n",
       "      <td>-0.908823</td>\n",
       "      <td>-0.910252</td>\n",
       "      <td>-0.911835</td>\n",
       "      <td>-0.916554</td>\n",
       "      <td>-0.919675</td>\n",
       "      <td>-0.922776</td>\n",
       "      <td>-0.924320</td>\n",
       "      <td>...</td>\n",
       "      <td>-1.318347</td>\n",
       "      <td>-1.305541</td>\n",
       "      <td>-1.291986</td>\n",
       "      <td>-1.277875</td>\n",
       "      <td>-1.263363</td>\n",
       "      <td>-1.248578</td>\n",
       "      <td>-1.101310</td>\n",
       "      <td>-0.973378</td>\n",
       "      <td>-0.868259</td>\n",
       "      <td>-0.782160</td>\n",
       "    </tr>\n",
       "    <tr>\n",
       "      <th>42</th>\n",
       "      <td>17.539644</td>\n",
       "      <td>17.539634</td>\n",
       "      <td>17.539539</td>\n",
       "      <td>17.538595</td>\n",
       "      <td>17.529161</td>\n",
       "      <td>17.518692</td>\n",
       "      <td>17.487366</td>\n",
       "      <td>17.466550</td>\n",
       "      <td>17.445788</td>\n",
       "      <td>17.435427</td>\n",
       "      <td>...</td>\n",
       "      <td>9.497903</td>\n",
       "      <td>9.229377</td>\n",
       "      <td>8.976916</td>\n",
       "      <td>8.739106</td>\n",
       "      <td>8.514697</td>\n",
       "      <td>8.302579</td>\n",
       "      <td>6.682077</td>\n",
       "      <td>5.633014</td>\n",
       "      <td>4.897814</td>\n",
       "      <td>4.353733</td>\n",
       "    </tr>\n",
       "    <tr>\n",
       "      <th>43</th>\n",
       "      <td>-24.650446</td>\n",
       "      <td>-24.650425</td>\n",
       "      <td>-24.650238</td>\n",
       "      <td>-24.648365</td>\n",
       "      <td>-24.629654</td>\n",
       "      <td>-24.608898</td>\n",
       "      <td>-24.546855</td>\n",
       "      <td>-24.505678</td>\n",
       "      <td>-24.464647</td>\n",
       "      <td>-24.444187</td>\n",
       "      <td>...</td>\n",
       "      <td>-10.965206</td>\n",
       "      <td>-10.563816</td>\n",
       "      <td>-10.188523</td>\n",
       "      <td>-9.836775</td>\n",
       "      <td>-9.506353</td>\n",
       "      <td>-9.195314</td>\n",
       "      <td>-6.855107</td>\n",
       "      <td>-5.367431</td>\n",
       "      <td>-4.334128</td>\n",
       "      <td>-3.573157</td>\n",
       "    </tr>\n",
       "    <tr>\n",
       "      <th>44</th>\n",
       "      <td>-19.425585</td>\n",
       "      <td>-19.425572</td>\n",
       "      <td>-19.425453</td>\n",
       "      <td>-19.424262</td>\n",
       "      <td>-19.412359</td>\n",
       "      <td>-19.399151</td>\n",
       "      <td>-19.359640</td>\n",
       "      <td>-19.333391</td>\n",
       "      <td>-19.307217</td>\n",
       "      <td>-19.294157</td>\n",
       "      <td>...</td>\n",
       "      <td>-9.795523</td>\n",
       "      <td>-9.494992</td>\n",
       "      <td>-9.213857</td>\n",
       "      <td>-8.950305</td>\n",
       "      <td>-8.702743</td>\n",
       "      <td>-8.469764</td>\n",
       "      <td>-6.723603</td>\n",
       "      <td>-5.626068</td>\n",
       "      <td>-4.872887</td>\n",
       "      <td>-4.324196</td>\n",
       "    </tr>\n",
       "    <tr>\n",
       "      <th>45</th>\n",
       "      <td>-55.726502</td>\n",
       "      <td>-55.726468</td>\n",
       "      <td>-55.726164</td>\n",
       "      <td>-55.723127</td>\n",
       "      <td>-55.692774</td>\n",
       "      <td>-55.659088</td>\n",
       "      <td>-55.558272</td>\n",
       "      <td>-55.491264</td>\n",
       "      <td>-55.424418</td>\n",
       "      <td>-55.391055</td>\n",
       "      <td>...</td>\n",
       "      <td>-29.154485</td>\n",
       "      <td>-28.251546</td>\n",
       "      <td>-27.402208</td>\n",
       "      <td>-26.601830</td>\n",
       "      <td>-25.846291</td>\n",
       "      <td>-25.131921</td>\n",
       "      <td>-19.670318</td>\n",
       "      <td>-16.134093</td>\n",
       "      <td>-13.657379</td>\n",
       "      <td>-11.825938</td>\n",
       "    </tr>\n",
       "    <tr>\n",
       "      <th>46</th>\n",
       "      <td>2.183210</td>\n",
       "      <td>2.183210</td>\n",
       "      <td>2.183206</td>\n",
       "      <td>2.183164</td>\n",
       "      <td>2.182750</td>\n",
       "      <td>2.182294</td>\n",
       "      <td>2.180944</td>\n",
       "      <td>2.180060</td>\n",
       "      <td>2.179190</td>\n",
       "      <td>2.178759</td>\n",
       "      <td>...</td>\n",
       "      <td>2.276151</td>\n",
       "      <td>2.284470</td>\n",
       "      <td>2.292118</td>\n",
       "      <td>2.299140</td>\n",
       "      <td>2.305580</td>\n",
       "      <td>2.311483</td>\n",
       "      <td>2.348880</td>\n",
       "      <td>2.363690</td>\n",
       "      <td>2.368595</td>\n",
       "      <td>2.368972</td>\n",
       "    </tr>\n",
       "    <tr>\n",
       "      <th>47</th>\n",
       "      <td>17.982386</td>\n",
       "      <td>17.982373</td>\n",
       "      <td>17.982255</td>\n",
       "      <td>17.981076</td>\n",
       "      <td>17.969291</td>\n",
       "      <td>17.956216</td>\n",
       "      <td>17.917109</td>\n",
       "      <td>17.891136</td>\n",
       "      <td>17.865240</td>\n",
       "      <td>17.852322</td>\n",
       "      <td>...</td>\n",
       "      <td>8.706918</td>\n",
       "      <td>8.420987</td>\n",
       "      <td>8.153310</td>\n",
       "      <td>7.902159</td>\n",
       "      <td>7.666023</td>\n",
       "      <td>7.443569</td>\n",
       "      <td>5.766320</td>\n",
       "      <td>4.698889</td>\n",
       "      <td>3.957924</td>\n",
       "      <td>3.412779</td>\n",
       "    </tr>\n",
       "    <tr>\n",
       "      <th>48</th>\n",
       "      <td>0.869773</td>\n",
       "      <td>0.869772</td>\n",
       "      <td>0.869766</td>\n",
       "      <td>0.869703</td>\n",
       "      <td>0.869071</td>\n",
       "      <td>0.868372</td>\n",
       "      <td>0.866288</td>\n",
       "      <td>0.864910</td>\n",
       "      <td>0.863541</td>\n",
       "      <td>0.862860</td>\n",
       "      <td>...</td>\n",
       "      <td>0.750045</td>\n",
       "      <td>0.760970</td>\n",
       "      <td>0.772142</td>\n",
       "      <td>0.783465</td>\n",
       "      <td>0.794861</td>\n",
       "      <td>0.806268</td>\n",
       "      <td>0.913860</td>\n",
       "      <td>1.002833</td>\n",
       "      <td>1.074248</td>\n",
       "      <td>1.131907</td>\n",
       "    </tr>\n",
       "    <tr>\n",
       "      <th>49</th>\n",
       "      <td>-4.427219</td>\n",
       "      <td>-4.427213</td>\n",
       "      <td>-4.427153</td>\n",
       "      <td>-4.426557</td>\n",
       "      <td>-4.420600</td>\n",
       "      <td>-4.413994</td>\n",
       "      <td>-4.394260</td>\n",
       "      <td>-4.381172</td>\n",
       "      <td>-4.368138</td>\n",
       "      <td>-4.361641</td>\n",
       "      <td>...</td>\n",
       "      <td>-0.692778</td>\n",
       "      <td>-0.609620</td>\n",
       "      <td>-0.533643</td>\n",
       "      <td>-0.464014</td>\n",
       "      <td>-0.400022</td>\n",
       "      <td>-0.341052</td>\n",
       "      <td>0.061766</td>\n",
       "      <td>0.278836</td>\n",
       "      <td>0.411155</td>\n",
       "      <td>0.498796</td>\n",
       "    </tr>\n",
       "  </tbody>\n",
       "</table>\n",
       "<p>50 rows × 38 columns</p>\n",
       "</div>"
      ],
      "text/plain": [
       "           0          1          2          3          4          5   \\\n",
       "0    7.629869   7.629858   7.629760   7.628775   7.618944   7.608044   \n",
       "1  -21.516466 -21.516451 -21.516316 -21.514963 -21.501445 -21.486447   \n",
       "2   20.676138  20.676132  20.676078  20.675536  20.670114  20.664091   \n",
       "3    7.356998   7.356993   7.356951   7.356523   7.352255   7.347517   \n",
       "4   -5.969915  -5.969908  -5.969841  -5.969176  -5.962530  -5.955160   \n",
       "5   -9.358015  -9.358009  -9.357960  -9.357471  -9.352576  -9.347145   \n",
       "6   24.394871  24.394862  24.394781  24.393974  24.385907  24.376944   \n",
       "7   21.151819  21.151803  21.151657  21.150199  21.135627  21.119461   \n",
       "8   -5.943786  -5.943783  -5.943754  -5.943469  -5.940615  -5.937445   \n",
       "9   -1.148733  -1.148734  -1.148741  -1.148818  -1.149587  -1.150442   \n",
       "10 -21.201514 -21.201503 -21.201404 -21.200412 -21.190501 -21.179499   \n",
       "11   4.609486   4.609489   4.609515   4.609779   4.612410   4.615318   \n",
       "12  -1.920643  -1.920639  -1.920607  -1.920283  -1.917046  -1.913454   \n",
       "13   5.836219   5.836215   5.836182   5.835848   5.832507   5.828799   \n",
       "14  29.551603  29.551583  29.551409  29.549663  29.532218  29.512861   \n",
       "15  -2.624398  -2.624396  -2.624380  -2.624227  -2.622693  -2.620994   \n",
       "16  -9.821946  -9.821943  -9.821911  -9.821596  -9.818448  -9.814948   \n",
       "17  -9.752300  -9.752287  -9.752169  -9.750988  -9.739193  -9.726114   \n",
       "18   6.735141   6.735138   6.735118   6.734918   6.732915   6.730689   \n",
       "19   9.977338   9.977331   9.977267   9.976634   9.970301   9.963273   \n",
       "20 -26.672607 -26.672591 -26.672453 -26.671071 -26.657261 -26.641934   \n",
       "21  -8.350413  -8.350412  -8.350400  -8.350282  -8.349100  -8.347781   \n",
       "22  -1.447827  -1.447826  -1.447816  -1.447718  -1.446738  -1.445648   \n",
       "23   6.738461   6.738453   6.738383   6.737677   6.730622   6.722801   \n",
       "24  23.637477  23.637463  23.637333  23.636034  23.623052  23.608644   \n",
       "25 -11.526134 -11.526125 -11.526041 -11.525198 -11.516777 -11.507438   \n",
       "26  -5.626607  -5.626602  -5.626561  -5.626148  -5.622027  -5.617457   \n",
       "27  -2.068915  -2.068916  -2.068916  -2.068922  -2.068983  -2.069047   \n",
       "28  -6.587181  -6.587182  -6.587190  -6.587273  -6.588097  -6.589006   \n",
       "29 -17.766556 -17.766540 -17.766396 -17.764953 -17.750540 -17.734554   \n",
       "30 -22.992653 -22.992637 -22.992501 -22.991140 -22.977540 -22.962450   \n",
       "31  -3.441346  -3.441344  -3.441327  -3.441158  -3.439464  -3.437584   \n",
       "32   8.839190   8.839185   8.839145   8.838739   8.834688   8.830191   \n",
       "33   0.071662   0.071663   0.071664   0.071677   0.071810   0.071957   \n",
       "34   7.077776   7.077771   7.077720   7.077217   7.072193   7.066622   \n",
       "35   1.516843   1.516842   1.516835   1.516764   1.516053   1.515262   \n",
       "36 -23.104139 -23.104124 -23.103988 -23.102630 -23.089063 -23.074009   \n",
       "37  22.656964  22.656950  22.656830  22.655622  22.643557  22.630165   \n",
       "38  12.678671  12.678665  12.678612  12.678082  12.672787  12.666909   \n",
       "39  -1.567846  -1.567841  -1.567794  -1.567330  -1.562699  -1.557566   \n",
       "40 -11.337315 -11.337309 -11.337258 -11.336750 -11.331669 -11.326028   \n",
       "41  -0.908664  -0.908666  -0.908680  -0.908823  -0.910252  -0.911835   \n",
       "42  17.539644  17.539634  17.539539  17.538595  17.529161  17.518692   \n",
       "43 -24.650446 -24.650425 -24.650238 -24.648365 -24.629654 -24.608898   \n",
       "44 -19.425585 -19.425572 -19.425453 -19.424262 -19.412359 -19.399151   \n",
       "45 -55.726502 -55.726468 -55.726164 -55.723127 -55.692774 -55.659088   \n",
       "46   2.183210   2.183210   2.183206   2.183164   2.182750   2.182294   \n",
       "47  17.982386  17.982373  17.982255  17.981076  17.969291  17.956216   \n",
       "48   0.869773   0.869772   0.869766   0.869703   0.869071   0.868372   \n",
       "49  -4.427219  -4.427213  -4.427153  -4.426557  -4.420600  -4.413994   \n",
       "\n",
       "           6          7          8          9   ...         28         29  \\\n",
       "0    7.575493   7.553916   7.532438   7.521736  ...   1.889872   1.773390   \n",
       "1  -21.441584 -21.411785 -21.382074 -21.367252  ... -10.730219 -10.393565   \n",
       "2   20.646030  20.633997  20.621969  20.615957  ...  13.926955  13.618982   \n",
       "3    7.333340   7.323919   7.314522   7.309832  ...   3.670711   3.545933   \n",
       "4   -5.933137  -5.918527  -5.903975  -5.896721  ...  -1.828748  -1.744939   \n",
       "5   -9.330899  -9.320108  -9.309349  -9.303980  ...  -5.310871  -5.175483   \n",
       "6   24.350063  24.332148  24.314239  24.305287  ...  15.221899  14.855220   \n",
       "7   21.071115  21.039013  21.007012  20.991050  ...   9.926215   9.587090   \n",
       "8   -5.927942  -5.921614  -5.915290  -5.912131  ...  -2.914704  -2.799588   \n",
       "9   -1.153009  -1.154720  -1.156433  -1.157290  ...  -2.000025  -2.028931   \n",
       "10 -21.146551 -21.124636 -21.102759 -21.091836  ... -11.711729 -11.367294   \n",
       "11   4.623954   4.629637   4.635261   4.638051  ...   4.417180   4.348615   \n",
       "12  -1.902705  -1.895562  -1.888438  -1.884882  ...   0.497223   0.555767   \n",
       "13   5.817706   5.810336   5.802985   5.799317  ...   3.004021   2.909089   \n",
       "14  29.454949  29.416474  29.378105  29.358961  ...  15.093404  14.623145   \n",
       "15  -2.615925  -2.612569  -2.609231  -2.607569  ...  -1.964476  -1.961686   \n",
       "16  -9.804447  -9.797443  -9.790438  -9.786934  ...  -5.688532  -5.503045   \n",
       "17  -9.687043  -9.661134  -9.635335  -9.622477  ...  -2.478801  -2.317890   \n",
       "18   6.724014   6.719565   6.715117   6.712894  ...   4.350536   4.251065   \n",
       "19   9.942242   9.928267   9.914328   9.907372  ...   4.634882   4.461159   \n",
       "20 -26.596071 -26.565591 -26.535188 -26.520016  ... -14.697158 -14.289761   \n",
       "21  -8.343788  -8.341097  -8.338383  -8.337017  ...  -5.350836  -5.190572   \n",
       "22  -1.442369  -1.440176  -1.437977  -1.436876  ...  -0.242299  -0.202091   \n",
       "23   6.699444   6.683960   6.668546   6.660866  ...   2.511352   2.417497   \n",
       "24  23.565533  23.536885  23.508309  23.494048  ...  12.577477  12.211502   \n",
       "25 -11.479528 -11.461010 -11.442563 -11.433366  ...  -5.715930  -5.558915   \n",
       "26  -5.603805  -5.594751  -5.585736  -5.581242  ...  -2.874968  -2.801339   \n",
       "27  -2.069212  -2.069300  -2.069372  -2.069402  ...  -1.345534  -1.308119   \n",
       "28  -6.591682  -6.593427  -6.595140  -6.595985  ...  -5.370437  -5.266898   \n",
       "29 -17.686769 -17.655059 -17.623463 -17.607709  ...  -7.734855  -7.469734   \n",
       "30 -22.917319 -22.887346 -22.857465 -22.842558  ... -12.167748 -11.824420   \n",
       "31  -3.431957  -3.428217  -3.424486  -3.422624  ...  -1.855244  -1.794935   \n",
       "32   8.816734   8.807791   8.798870   8.794418  ...   5.247377   5.120456   \n",
       "33   0.072398   0.072690   0.072982   0.073127  ...   0.169941   0.172511   \n",
       "34   7.049988   7.038962   7.027986   7.022516  ...   3.902796   3.819644   \n",
       "35   1.512888   1.511303   1.509717   1.508923  ...   0.566974   0.525807   \n",
       "36 -23.028969 -22.999046 -22.969206 -22.954316  ... -11.661009 -11.277142   \n",
       "37  22.590080  22.563432  22.536843  22.523571  ...  11.872782  11.501758   \n",
       "38  12.649315  12.637617  12.625945  12.620118  ...   7.658954   7.468860   \n",
       "39  -1.542253  -1.532115  -1.522033  -1.517013  ...   0.433175   0.441333   \n",
       "40 -11.309135 -11.297897 -11.286680 -11.281079  ...  -6.224966  -6.024157   \n",
       "41  -0.916554  -0.919675  -0.922776  -0.924320  ...  -1.318347  -1.305541   \n",
       "42  17.487366  17.466550  17.445788  17.435427  ...   9.497903   9.229377   \n",
       "43 -24.546855 -24.505678 -24.464647 -24.444187  ... -10.965206 -10.563816   \n",
       "44 -19.359640 -19.333391 -19.307217 -19.294157  ...  -9.795523  -9.494992   \n",
       "45 -55.558272 -55.491264 -55.424418 -55.391055  ... -29.154485 -28.251546   \n",
       "46   2.180944   2.180060   2.179190   2.178759  ...   2.276151   2.284470   \n",
       "47  17.917109  17.891136  17.865240  17.852322  ...   8.706918   8.420987   \n",
       "48   0.866288   0.864910   0.863541   0.862860  ...   0.750045   0.760970   \n",
       "49  -4.394260  -4.381172  -4.368138  -4.361641  ...  -0.692778  -0.609620   \n",
       "\n",
       "           30         31         32         33         34         35  \\\n",
       "0    1.667526   1.570992   1.482695   1.401696   0.858908   0.575549   \n",
       "1  -10.078308  -9.782453  -9.504243  -9.242133  -7.266704  -6.012446   \n",
       "2   13.323932  13.041070  12.769709  12.509206  10.386433   8.881254   \n",
       "3    3.428519   3.317830   3.213300   3.114424   2.356835   1.864383   \n",
       "4   -1.669480  -1.601368  -1.539745  -1.483870  -1.134023  -0.981375   \n",
       "5   -5.047908  -4.927461  -4.813539  -4.705607  -3.871603  -3.320874   \n",
       "6   14.507607  14.177650  13.864067  13.565692  11.224364   9.651326   \n",
       "7    9.270070   8.973040   8.694149   8.431768   6.465771   5.227849   \n",
       "8   -2.690829  -2.587929  -2.490435  -2.397942  -1.681325  -1.208948   \n",
       "9   -2.055803  -2.080821  -2.104151  -2.125937  -2.282355  -2.372258   \n",
       "10 -11.042300 -10.735166 -10.444477 -10.168961  -8.042390  -6.648125   \n",
       "11   4.281375   4.215621   4.151457   4.088947   3.554262   3.157092   \n",
       "12   0.609018   0.657563   0.701911   0.742506   1.008392   1.136576   \n",
       "13   2.819761   2.735547   2.656013   2.580772   2.003693   1.627598   \n",
       "14  14.181669  13.766383  13.375002  13.005498  10.196427   8.390357   \n",
       "15  -1.960042  -1.959349  -1.959450  -1.960211  -1.986801  -2.022869   \n",
       "16  -5.326008  -5.156910  -4.995274  -4.840652  -3.601210  -2.744951   \n",
       "17  -2.170642  -2.035460  -1.910981  -1.796035  -1.001267  -0.560675   \n",
       "18   4.156577   4.066731   3.981212   3.899727   3.257417   2.824164   \n",
       "19   4.298240   4.145150   4.001027   3.865105   2.837157   2.182200   \n",
       "20 -13.906287 -13.544668 -13.203075 -12.879875 -10.400836  -8.786895   \n",
       "21  -5.036843  -4.889363  -4.747846  -4.612009  -3.510203  -2.739569   \n",
       "22  -0.164863  -0.130334  -0.098257  -0.068409   0.142624   0.261046   \n",
       "23   2.331249   2.251714   2.178133   2.109855   1.625246   1.341401   \n",
       "24  11.867782  11.544340  11.239429  10.951496   8.761432   7.353612   \n",
       "25  -5.412918  -5.276795  -5.149557  -5.030342  -4.150806  -3.607430   \n",
       "26  -2.732860  -2.669001  -2.609300  -2.553356  -2.140633  -1.886095   \n",
       "27  -1.272801  -1.239443  -1.207918  -1.178103  -0.952195  -0.810621   \n",
       "28  -5.166053  -5.067973  -4.972687  -4.880192  -4.096786  -3.518678   \n",
       "29  -7.224124  -6.995969  -6.783489  -6.585139  -5.147456  -4.286992   \n",
       "30 -11.502189 -11.199109 -10.913475 -10.643783  -8.590129  -7.263077   \n",
       "31  -1.737658  -1.683184  -1.631308  -1.581843  -1.189418  -0.920670   \n",
       "32   5.000589   4.887189   4.779738   4.677769   3.885236   3.358569   \n",
       "33   0.174882   0.177075   0.179108   0.180999   0.194468   0.202332   \n",
       "34   3.742056   3.669445   3.601308   3.537211   3.054356   2.744360   \n",
       "35   0.486667   0.449418   0.413938   0.380110   0.112844  -0.067919   \n",
       "36 -10.915879 -10.575249 -10.253507  -9.949102  -7.613711  -6.091646   \n",
       "37  11.152607  10.823454  10.512630  10.218647   7.968202   6.508659   \n",
       "38   7.288503   7.117139   6.954099   6.798780   5.571759   4.736977   \n",
       "39   0.445989   0.447733   0.447052   0.444351   0.359532   0.246318   \n",
       "40  -5.833410  -5.651990  -5.479232  -5.314532  -4.010412  -3.121760   \n",
       "41  -1.291986  -1.277875  -1.263363  -1.248578  -1.101310  -0.973378   \n",
       "42   8.976916   8.739106   8.514697   8.302579   6.682077   5.633014   \n",
       "43 -10.188523  -9.836775  -9.506353  -9.195314  -6.855107  -5.367431   \n",
       "44  -9.213857  -8.950305  -8.702743  -8.469764  -6.723603  -5.626068   \n",
       "45 -27.402208 -26.601830 -25.846291 -25.131921 -19.670318 -16.134093   \n",
       "46   2.292118   2.299140   2.305580   2.311483   2.348880   2.363690   \n",
       "47   8.153310   7.902159   7.666023   7.443569   5.766320   4.698889   \n",
       "48   0.772142   0.783465   0.794861   0.806268   0.913860   1.002833   \n",
       "49  -0.533643  -0.464014  -0.400022  -0.341052   0.061766   0.278836   \n",
       "\n",
       "           36         37  \n",
       "0    0.406992   0.297585  \n",
       "1   -5.144488  -4.507863  \n",
       "2    7.761593   6.897260  \n",
       "3    1.518382   1.261884  \n",
       "4   -0.909710  -0.875701  \n",
       "5   -2.928787  -2.634988  \n",
       "6    8.522279   7.672553  \n",
       "7    4.375832   3.753290  \n",
       "8   -0.874361  -0.624987  \n",
       "9   -2.428930  -2.467157  \n",
       "10  -5.664358  -4.933381  \n",
       "11   2.856168   2.621878  \n",
       "12   1.204684   1.243170  \n",
       "13   1.362642   1.165755  \n",
       "14   7.130139   6.200321  \n",
       "15  -2.056616  -2.085973  \n",
       "16  -2.120168  -1.644883  \n",
       "17  -0.284042  -0.095521  \n",
       "18   2.513015   2.278986  \n",
       "19   1.728450   1.395552  \n",
       "20  -7.651750  -6.809619  \n",
       "21  -2.174274  -1.743129  \n",
       "22   0.334476   0.383426  \n",
       "23   1.153729   1.019825  \n",
       "24   6.372104   5.648609  \n",
       "25  -3.236939  -2.967562  \n",
       "26  -1.713060  -1.587664  \n",
       "27  -0.715074  -0.646802  \n",
       "28  -3.081089  -2.740323  \n",
       "29  -3.715284  -3.308260  \n",
       "30  -6.331990  -5.641553  \n",
       "31  -0.724881  -0.575832  \n",
       "32   2.982638   2.700641  \n",
       "33   0.207486   0.211131  \n",
       "34   2.526323   2.363868  \n",
       "35  -0.197928  -0.295809  \n",
       "36  -5.019753  -4.223615  \n",
       "37   5.485346   4.728081  \n",
       "38   4.131721   3.672602  \n",
       "39   0.140784   0.049151  \n",
       "40  -2.477557  -1.989231  \n",
       "41  -0.868259  -0.782160  \n",
       "42   4.897814   4.353733  \n",
       "43  -4.334128  -3.573157  \n",
       "44  -4.872887  -4.324196  \n",
       "45 -13.657379 -11.825938  \n",
       "46   2.368595   2.368972  \n",
       "47   3.957924   3.412779  \n",
       "48   1.074248   1.131907  \n",
       "49   0.411155   0.498796  \n",
       "\n",
       "[50 rows x 38 columns]"
      ]
     },
     "execution_count": 91,
     "metadata": {},
     "output_type": "execute_result"
    }
   ],
   "source": [
    "np.random.seed(900)\n",
    "\n",
    "n = 200\n",
    "p = 10\n",
    "min_cor = 0  # we have not included multicollinearity in our analysis yet.\n",
    "max_cor = 0 \n",
    "true_betas = np.repeat(5, p) \n",
    "iterations = 50\n",
    "\n",
    "#y_true, y_noise, X, df= get_sim_data(p, n, min_cor, max_cor, true_betas) # getting the whole dataset\n",
    "alphas = np.array([0, 0.0001, 0.001, 0.01, 0.1, 0.2, 0.5, 0.7, 0.9, 1, 2, 3, 5, 10, 15, 20, 30, 40, 50, 60, 70, 80, 90,\n",
    "                  100, 110, 120, 130, 140, 150, 160, 170, 180, 190, 200, 300, 400, 500, 600])\n",
    " \n",
    "\n",
    "store_predictions_list = []\n",
    "\n",
    "for i in range(iterations):\n",
    "    \n",
    "    store_predictions = []\n",
    "    y_true, y_noise, X, df= get_sim_data(p, n, min_cor, max_cor, true_betas)\n",
    "    X_train, X_test, y_train, y_test = train_test_split(X, y_noise, test_size=0.2, random_state=1000) # get test data \n",
    "\n",
    "    for a in alphas: \n",
    "\n",
    "        ridge = Ridge(alpha=a).fit(X_train, y_train)\n",
    "        ridge_predict = ridge.predict(X_test)\n",
    "        ridge_predict_select = ridge_predict[17]\n",
    "        store_predictions.append(ridge_predict_select) \n",
    "    \n",
    "    store_predictions_list.append(store_predictions)\n",
    "        \n",
    "store_predictions_df = pd.DataFrame(store_predictions_list)\n",
    "    \n",
    "    \n",
    "\n",
    "store_predictions_df"
   ]
  },
  {
   "cell_type": "code",
   "execution_count": 92,
   "id": "e942dd67",
   "metadata": {},
   "outputs": [],
   "source": [
    "store_mse = []\n",
    "store_variance = []\n",
    "store_bias_sq = []\n",
    "\n",
    "for i in store_predictions_df.columns:\n",
    "\n",
    "    mse = np.sum((np.asarray(store_predictions_df.iloc[:,i]) - y_test.iloc[17])**2) / iterations\n",
    "    variance = np.mean((np.mean(store_predictions_df.iloc[:,i]) - np.asarray(store_predictions_df.iloc[:,i]))**2)\n",
    "    bias_squared = (np.mean(store_predictions_df.iloc[:,i]) - y_test.iloc[17])**2\n",
    "    \n",
    "    store_mse.append(mse)\n",
    "    store_variance.append(variance)\n",
    "    store_bias_sq.append(bias_squared)\n",
    "    \n",
    "#store_mse"
   ]
  },
  {
   "cell_type": "code",
   "execution_count": 82,
   "id": "8dffb623",
   "metadata": {},
   "outputs": [
    {
     "data": {
      "text/plain": [
       "[254.78436280175447,\n",
       " 254.78405869642904,\n",
       " 254.78132177617073,\n",
       " 254.75395531271252,\n",
       " 254.48056432874776,\n",
       " 254.17737900110725,\n",
       " 253.2714843584966,\n",
       " 251.77376022602036,\n",
       " 248.8229204275258,\n",
       " 245.93017412801805,\n",
       " 240.31258894611113,\n",
       " 227.17955487608108,\n",
       " 215.21688864060903,\n",
       " 204.2830991311434,\n",
       " 185.04058410896556,\n",
       " 168.68725888086723,\n",
       " 154.6547409911162,\n",
       " 142.51183181720626,\n",
       " 131.92561955743327,\n",
       " 122.63514420939659,\n",
       " 114.43310898863007,\n",
       " 107.15289753129717,\n",
       " 100.65917878560917,\n",
       " 94.84099184251278,\n",
       " 89.60657865868791]"
      ]
     },
     "execution_count": 82,
     "metadata": {},
     "output_type": "execute_result"
    }
   ],
   "source": [
    "store_mse"
   ]
  },
  {
   "cell_type": "code",
   "execution_count": 83,
   "id": "f4b34af0",
   "metadata": {},
   "outputs": [
    {
     "data": {
      "text/plain": [
       "[249.67527982042037,\n",
       " 249.67496918828874,\n",
       " 249.67217352707812,\n",
       " 249.6442196841121,\n",
       " 249.36495790556484,\n",
       " 249.05525586660474,\n",
       " 248.12985140031233,\n",
       " 246.59974482472663,\n",
       " 243.58463908586052,\n",
       " 240.62828600018474,\n",
       " 234.8854353361363,\n",
       " 221.45025911638865,\n",
       " 209.20046985008773,\n",
       " 197.9936912093364,\n",
       " 178.24424391048052,\n",
       " 161.43089296353236,\n",
       " 146.97970892121492,\n",
       " 134.45464770495778,\n",
       " 123.51858870306788,\n",
       " 113.90692351242942,\n",
       " 105.40919249677881,\n",
       " 97.8560337071076,\n",
       " 91.10972772907385,\n",
       " 85.05723074093311,\n",
       " 79.60496307234429]"
      ]
     },
     "execution_count": 83,
     "metadata": {},
     "output_type": "execute_result"
    }
   ],
   "source": [
    "store_variance"
   ]
  },
  {
   "cell_type": "code",
   "execution_count": 84,
   "id": "510241a1",
   "metadata": {},
   "outputs": [
    {
     "data": {
      "text/plain": [
       "[5.109082981334113,\n",
       " 5.109089508140279,\n",
       " 5.109148249092642,\n",
       " 5.10973562860043,\n",
       " 5.115606423182875,\n",
       " 5.122123134502498,\n",
       " 5.141632958184289,\n",
       " 5.174015401293664,\n",
       " 5.238281341665303,\n",
       " 5.301888127833325,\n",
       " 5.427153609974867,\n",
       " 5.729295759692413,\n",
       " 6.016418790521348,\n",
       " 6.289407921807025,\n",
       " 6.796340198485084,\n",
       " 7.256365917334903,\n",
       " 7.6750320699012775,\n",
       " 8.05718411224846,\n",
       " 8.407030854365415,\n",
       " 8.728220696967158,\n",
       " 9.023916491851255,\n",
       " 9.296863824189604,\n",
       " 9.549451056535286,\n",
       " 9.783761101579657,\n",
       " 10.001615586343615]"
      ]
     },
     "execution_count": 84,
     "metadata": {},
     "output_type": "execute_result"
    }
   ],
   "source": [
    "store_bias_sq"
   ]
  },
  {
   "cell_type": "code",
   "execution_count": 93,
   "id": "0a29cdbc",
   "metadata": {},
   "outputs": [
    {
     "data": {
      "text/plain": [
       "<matplotlib.legend.Legend at 0x2aff41fe6d0>"
      ]
     },
     "execution_count": 93,
     "metadata": {},
     "output_type": "execute_result"
    },
    {
     "data": {
      "image/png": "[encoded data removed]",
      "text/plain": [
       "<Figure size 432x288 with 1 Axes>"
      ]
     },
     "metadata": {
      "needs_background": "light"
     },
     "output_type": "display_data"
    }
   ],
   "source": [
    "ax = plt.subplot(1,1,1)\n",
    "variance = ax.plot(alphas, store_variance)\n",
    "mse = ax.plot(alphas, store_mse)\n",
    "bias = ax.plot(alphas, store_bias_sq)\n",
    "ax.legend([\"variance\",\"mse\",\"bias\"])"
   ]
  },
  {
   "cell_type": "code",
   "execution_count": 94,
   "id": "1f7ce41f",
   "metadata": {},
   "outputs": [
    {
     "data": {
      "text/plain": [
       "array([254.7843628 , 254.7840587 , 254.78132178, 254.75395531,\n",
       "       254.48056433, 254.177379  , 253.27148436, 252.6705883 ,\n",
       "       252.07210307, 251.77376023, 248.82292043, 245.93017413,\n",
       "       240.31258895, 227.17955488, 215.21688864, 204.28309913,\n",
       "       185.04058411, 168.68725888, 154.65474099, 142.51183182,\n",
       "       131.92561956, 122.63514421, 114.43310899, 107.15289753,\n",
       "       100.65917879,  94.84099184,  89.60657866,  84.87947024,\n",
       "        80.59548579,  76.70040619,  73.14815198,  69.89934309,\n",
       "        66.92015063,  64.18137428,  45.74001451,  36.15362636,\n",
       "        30.54756386,  26.99446099])"
      ]
     },
     "execution_count": 94,
     "metadata": {},
     "output_type": "execute_result"
    }
   ],
   "source": [
    "np.asarray(store_bias_sq) + np.asarray(store_variance)"
   ]
  },
  {
   "cell_type": "code",
   "execution_count": 95,
   "id": "9a254458",
   "metadata": {},
   "outputs": [
    {
     "data": {
      "text/plain": [
       "[254.78436280175447,\n",
       " 254.78405869642904,\n",
       " 254.78132177617073,\n",
       " 254.75395531271252,\n",
       " 254.48056432874776,\n",
       " 254.17737900110725,\n",
       " 253.2714843584966,\n",
       " 252.67058829827195,\n",
       " 252.07210306804274,\n",
       " 251.77376022602036,\n",
       " 248.8229204275258,\n",
       " 245.93017412801805,\n",
       " 240.31258894611113,\n",
       " 227.17955487608108,\n",
       " 215.21688864060903,\n",
       " 204.2830991311434,\n",
       " 185.04058410896556,\n",
       " 168.68725888086723,\n",
       " 154.6547409911162,\n",
       " 142.51183181720626,\n",
       " 131.92561955743327,\n",
       " 122.63514420939659,\n",
       " 114.43310898863007,\n",
       " 107.15289753129717,\n",
       " 100.65917878560917,\n",
       " 94.84099184251278,\n",
       " 89.60657865868791,\n",
       " 84.87947024031759,\n",
       " 80.59548578882273,\n",
       " 76.70040619132901,\n",
       " 73.14815198102576,\n",
       " 69.89934308944261,\n",
       " 66.92015063339687,\n",
       " 64.1813742760766,\n",
       " 45.74001450666923,\n",
       " 36.153626356879606,\n",
       " 30.547563856606235,\n",
       " 26.994460989674607]"
      ]
     },
     "execution_count": 95,
     "metadata": {},
     "output_type": "execute_result"
    }
   ],
   "source": [
    "store_mse"
   ]
  },
  {
   "cell_type": "code",
   "execution_count": 149,
   "id": "384490f7",
   "metadata": {},
   "outputs": [
    {
     "data": {
      "text/html": [
       "<div>\n",
       "<style scoped>\n",
       "    .dataframe tbody tr th:only-of-type {\n",
       "        vertical-align: middle;\n",
       "    }\n",
       "\n",
       "    .dataframe tbody tr th {\n",
       "        vertical-align: top;\n",
       "    }\n",
       "\n",
       "    .dataframe thead th {\n",
       "        text-align: right;\n",
       "    }\n",
       "</style>\n",
       "<table border=\"1\" class=\"dataframe\">\n",
       "  <thead>\n",
       "    <tr style=\"text-align: right;\">\n",
       "      <th></th>\n",
       "      <th>0</th>\n",
       "      <th>1</th>\n",
       "      <th>2</th>\n",
       "      <th>3</th>\n",
       "      <th>4</th>\n",
       "    </tr>\n",
       "  </thead>\n",
       "  <tbody>\n",
       "    <tr>\n",
       "      <th>0</th>\n",
       "      <td>-62.075190</td>\n",
       "      <td>-61.654233</td>\n",
       "      <td>-48.222980</td>\n",
       "      <td>-10.858354</td>\n",
       "      <td>0.102535</td>\n",
       "    </tr>\n",
       "    <tr>\n",
       "      <th>1</th>\n",
       "      <td>40.364995</td>\n",
       "      <td>36.412719</td>\n",
       "      <td>13.661858</td>\n",
       "      <td>-4.042328</td>\n",
       "      <td>-3.309266</td>\n",
       "    </tr>\n",
       "    <tr>\n",
       "      <th>2</th>\n",
       "      <td>8.631548</td>\n",
       "      <td>9.592696</td>\n",
       "      <td>13.105364</td>\n",
       "      <td>10.792129</td>\n",
       "      <td>7.451119</td>\n",
       "    </tr>\n",
       "    <tr>\n",
       "      <th>3</th>\n",
       "      <td>45.635264</td>\n",
       "      <td>40.909748</td>\n",
       "      <td>26.537828</td>\n",
       "      <td>9.199347</td>\n",
       "      <td>6.644703</td>\n",
       "    </tr>\n",
       "    <tr>\n",
       "      <th>4</th>\n",
       "      <td>-13.235210</td>\n",
       "      <td>-12.811209</td>\n",
       "      <td>-19.445092</td>\n",
       "      <td>-3.454516</td>\n",
       "      <td>-0.320613</td>\n",
       "    </tr>\n",
       "    <tr>\n",
       "      <th>...</th>\n",
       "      <td>...</td>\n",
       "      <td>...</td>\n",
       "      <td>...</td>\n",
       "      <td>...</td>\n",
       "      <td>...</td>\n",
       "    </tr>\n",
       "    <tr>\n",
       "      <th>95</th>\n",
       "      <td>4.512203</td>\n",
       "      <td>5.240249</td>\n",
       "      <td>16.606613</td>\n",
       "      <td>4.514650</td>\n",
       "      <td>-1.179857</td>\n",
       "    </tr>\n",
       "    <tr>\n",
       "      <th>96</th>\n",
       "      <td>5.277486</td>\n",
       "      <td>7.810615</td>\n",
       "      <td>20.699757</td>\n",
       "      <td>7.762004</td>\n",
       "      <td>1.183322</td>\n",
       "    </tr>\n",
       "    <tr>\n",
       "      <th>97</th>\n",
       "      <td>2.714789</td>\n",
       "      <td>1.667599</td>\n",
       "      <td>6.114161</td>\n",
       "      <td>3.702587</td>\n",
       "      <td>5.221732</td>\n",
       "    </tr>\n",
       "    <tr>\n",
       "      <th>98</th>\n",
       "      <td>13.458842</td>\n",
       "      <td>12.796154</td>\n",
       "      <td>-0.591157</td>\n",
       "      <td>-8.830208</td>\n",
       "      <td>-5.150850</td>\n",
       "    </tr>\n",
       "    <tr>\n",
       "      <th>99</th>\n",
       "      <td>-6.062480</td>\n",
       "      <td>-5.271668</td>\n",
       "      <td>-4.956198</td>\n",
       "      <td>-6.424428</td>\n",
       "      <td>-7.131030</td>\n",
       "    </tr>\n",
       "  </tbody>\n",
       "</table>\n",
       "<p>100 rows × 5 columns</p>\n",
       "</div>"
      ],
      "text/plain": [
       "            0          1          2          3         4\n",
       "0  -62.075190 -61.654233 -48.222980 -10.858354  0.102535\n",
       "1   40.364995  36.412719  13.661858  -4.042328 -3.309266\n",
       "2    8.631548   9.592696  13.105364  10.792129  7.451119\n",
       "3   45.635264  40.909748  26.537828   9.199347  6.644703\n",
       "4  -13.235210 -12.811209 -19.445092  -3.454516 -0.320613\n",
       "..        ...        ...        ...        ...       ...\n",
       "95   4.512203   5.240249  16.606613   4.514650 -1.179857\n",
       "96   5.277486   7.810615  20.699757   7.762004  1.183322\n",
       "97   2.714789   1.667599   6.114161   3.702587  5.221732\n",
       "98  13.458842  12.796154  -0.591157  -8.830208 -5.150850\n",
       "99  -6.062480  -5.271668  -4.956198  -6.424428 -7.131030\n",
       "\n",
       "[100 rows x 5 columns]"
      ]
     },
     "execution_count": 149,
     "metadata": {},
     "output_type": "execute_result"
    }
   ],
   "source": [
    "np.random.seed(5)\n",
    "\n",
    "n = 50\n",
    "p = 45\n",
    "min_cor = 0  # we have not included multicollinearity in our analysis yet.\n",
    "max_cor = 0 \n",
    "true_betas = np.repeat(5, p) \n",
    "iterations = 100\n",
    "\n",
    "#y_true, y_noise, X, df= get_sim_data(p, n, min_cor, max_cor, true_betas) # getting the whole dataset\n",
    "#alphas = np.array([0, 0.0001, 0.001, 0.01, 0.1, 0.2, 0.5, 0.7, 0.9, 1, 2, 3, 5, 10, 15, 20, 30, 40, 50, 60, 70, 80, 90,\n",
    "                  #100])\n",
    "alphas = np.logspace(-2,4,5)\n",
    "\n",
    "store_predictions_list = []\n",
    "\n",
    "for i in range(iterations):\n",
    "    \n",
    "    store_predictions = []\n",
    "    y_true, y_noise, X, df= get_sim_data(p, n, min_cor, max_cor, true_betas)\n",
    "    X_train, X_test, y_train, y_test = train_test_split(X, y_noise, test_size=0.2, random_state=1000) # get test data \n",
    "\n",
    "    for a in alphas: \n",
    "\n",
    "        ridge = Ridge(alpha=a).fit(X_train, y_train)\n",
    "        ridge_predict = ridge.predict(X_test)\n",
    "        ridge_predict_select = ridge_predict[8]\n",
    "        store_predictions.append(ridge_predict_select) \n",
    "    \n",
    "    store_predictions_list.append(store_predictions)\n",
    "        \n",
    "store_predictions_df = pd.DataFrame(store_predictions_list)\n",
    "    \n",
    "    \n",
    "\n",
    "store_predictions_df"
   ]
  },
  {
   "cell_type": "code",
   "execution_count": 150,
   "id": "ed68d626",
   "metadata": {},
   "outputs": [],
   "source": [
    "store_mse = []\n",
    "store_variance = []\n",
    "store_bias_sq = []\n",
    "\n",
    "for i in store_predictions_df.columns:\n",
    "\n",
    "    mse = np.sum((np.asarray(store_predictions_df.iloc[:,i]) - y_test.iloc[8])**2) / iterations\n",
    "    variance = np.mean((np.mean(store_predictions_df.iloc[:,i]) - np.asarray(store_predictions_df.iloc[:,i]))**2)\n",
    "    bias_squared = (np.mean(store_predictions_df.iloc[:,i]) - y_test.iloc[8])**2\n",
    "    \n",
    "    store_mse.append(mse)\n",
    "    store_variance.append(variance)\n",
    "    store_bias_sq.append(bias_squared)\n",
    "    \n",
    "#store_mse"
   ]
  },
  {
   "cell_type": "code",
   "execution_count": 151,
   "id": "9c5746fb",
   "metadata": {},
   "outputs": [
    {
     "data": {
      "text/plain": [
       "<matplotlib.legend.Legend at 0x2aff2fc7220>"
      ]
     },
     "execution_count": 151,
     "metadata": {},
     "output_type": "execute_result"
    },
    {
     "data": {
      "image/png": "[encoded data removed]",
      "text/plain": [
       "<Figure size 432x288 with 1 Axes>"
      ]
     },
     "metadata": {
      "needs_background": "light"
     },
     "output_type": "display_data"
    }
   ],
   "source": [
    "ax = plt.subplot(1,1,1)\n",
    "variance = ax.plot(alphas, store_variance)\n",
    "mse = ax.plot(alphas, store_mse)\n",
    "bias = ax.plot(alphas, store_bias_sq)\n",
    "ax.legend([\"variance\",\"mse\",\"bias squared\"])"
   ]
  },
  {
   "cell_type": "code",
   "execution_count": 152,
   "id": "dc7bc98b",
   "metadata": {},
   "outputs": [
    {
     "data": {
      "text/plain": [
       "[1069.294561674904,\n",
       " 988.2069557957312,\n",
       " 541.7810277140334,\n",
       " 98.35783787600032,\n",
       " 79.36774127319835]"
      ]
     },
     "execution_count": 152,
     "metadata": {},
     "output_type": "execute_result"
    }
   ],
   "source": [
    "store_mse"
   ]
  },
  {
   "cell_type": "markdown",
   "id": "307265f7",
   "metadata": {},
   "source": [
    "# Exercise Ends here. "
   ]
  },
  {
   "cell_type": "markdown",
   "id": "006d2bad",
   "metadata": {},
   "source": [
    "## Sandbox"
   ]
  },
  {
   "cell_type": "code",
   "execution_count": null,
   "id": "758a6d6e",
   "metadata": {},
   "outputs": [],
   "source": [
    "def get_sim_data(p, n, min_cor, max_cor, true_betas): # generate simulated data\n",
    "    \n",
    "    sd_vec = np.ones(p) \n",
    "    mean = np.zeros(p)\n",
    "    cor_matrix = np.zeros((p,p))\n",
    "\n",
    "    correlation = np.random.uniform(min_cor, max_cor, int(p * (p - 1) / 2))\n",
    "    cor_matrix[np.triu_indices(p, 1)] = correlation\n",
    "    cor_matrix[np.tril_indices(p, -1)] = cor_matrix.T[np.tril_indices(p, -1)]\n",
    "    np.fill_diagonal(cor_matrix, 1)\n",
    "\n",
    "\n",
    "    D = np.diag(sd_vec)\n",
    "    sigma = D.dot(cor_matrix).dot(D)\n",
    "\n",
    "    X = np.random.multivariate_normal(mean, sigma, n)\n",
    "    eps = np.random.normal(0, 1, n)\n",
    "    \n",
    "    y_true = X.dot(true_betas)\n",
    "    y_true = pd.Series(y_true, name = 'y_true')\n",
    "\n",
    "    y_noise = y_true + eps \n",
    "    y_noise = pd.Series(y_noise, name = 'y_noise')\n",
    "    \n",
    "    column_names = []\n",
    "    \n",
    "    for value in range(1, p + 1): \n",
    "        \n",
    "        column = f\"X_{value}\"\n",
    "        column_names.append(column)\n",
    "        \n",
    "    \n",
    "    X = pd.DataFrame(X, columns = column_names)\n",
    "    \n",
    "    df = pd.concat([y_noise, X], axis = 1)\n",
    "    \n",
    "    return y_true, y_noise, X, df"
   ]
  },
  {
   "cell_type": "code",
   "execution_count": null,
   "id": "c3b9e2e3",
   "metadata": {},
   "outputs": [],
   "source": [
    "y_test, X_test, df_test= get_sim_data(n, p, q, min_cor, max_cor, true_betas) # get training data\n",
    "alphas = np.logspace(-13,1,100)\n",
    " \n",
    "\n",
    "store_predictions_list = []\n",
    "\n",
    "for i in range(iterations):\n",
    "    \n",
    "    store_predictions = []\n",
    "    \n",
    "    y_train, X_train, df_train = get_sim_data(n, p, q, min_cor, max_cor, true_betas) # get test data \n",
    "\n",
    "    for a in alphas: \n",
    "\n",
    "        ridge = Ridge(alpha=a).fit(X_train, y_train)\n",
    "        ridge_predict = ridge.predict(X_test)\n",
    "        ridge_predict_select = ridge_predict[14]\n",
    "        store_predictions.append(ridge_predict_select) \n",
    "    \n",
    "    store_predictions_list.append(store_predictions)\n",
    "        \n",
    "    store_predictions_df = pd.DataFrame(store_predictions_list)\n",
    "    \n",
    "    \n",
    "\n",
    "store_predictions_df"
   ]
  },
  {
   "cell_type": "code",
   "execution_count": null,
   "id": "bbface9f",
   "metadata": {},
   "outputs": [],
   "source": [
    "store_mse = []\n",
    "store_variance = []\n",
    "store_bias_sq = []\n",
    "\n",
    "for i in store_predictions_df.columns:\n",
    "\n",
    "    mse = np.sum((np.asarray(store_predictions_df.iloc[:,i]) - y_true_test.iloc[14])**2) / iterations\n",
    "    variance = np.mean((np.mean(store_predictions_df.iloc[:,i]) - np.asarray(store_predictions_df.iloc[:,i]))**2)\n",
    "    bias_squared = (np.mean(store_predictions_df.iloc[:,i]) - y_true_test.iloc[14])**2\n",
    "    \n",
    "    store_mse.append(mse)\n",
    "    store_variance.append(variance)\n",
    "    store_bias_sq.append(bias_squared)\n",
    "    \n",
    "#store_mse"
   ]
  },
  {
   "cell_type": "code",
   "execution_count": null,
   "id": "9ca42ae7",
   "metadata": {},
   "outputs": [],
   "source": [
    "store_predictions_list_ridge = []\n",
    "store_predictions_list_lasso = []\n",
    "store_predictions_list_elnet_20 = []\n",
    "store_predictions_list_elnet_50 = []\n",
    "store_predictions_list_elnet_70 = []\n",
    "\n",
    "for i in range(iterations):\n",
    "    \n",
    "    store_predictions_ridge = []\n",
    "    store_predictions_lasso = []\n",
    "    store_predictions_elnet_20 = []\n",
    "    store_predictions_elnet_50 = []\n",
    "    store_predictions_elnet_70 = []\n",
    "    \n",
    "    y_train, X_train, df_train = get_sim_data(n, p, q, min_cor, max_cor, true_betas) # get test data \n",
    "\n",
    "    for a in alphas: \n",
    "\n",
    "        ridge = Ridge(alpha=a, fit_intercept=False).fit(X_train, y_train)\n",
    "        ridge_predict = ridge.predict(X_test)\n",
    "        ridge_predict_select = ridge_predict[14]\n",
    "        store_predictions_ridge.append(ridge_predict_select) \n",
    "        \n",
    "        lasso = Lasso(alpha=a, fit_intercept=False).fit(X_train, y_train)\n",
    "        lasso_predict = lasso.predict(X_test)\n",
    "        lasso_predict_select = lasso_predict[14]\n",
    "        store_predictions_lasso.append(lasso_predict_select) \n",
    "        \n",
    "        elnet_20 = ElasticNet(alpha=a, l1_ratio=0.2, fit_intercept=False).fit(X_train, y_train)\n",
    "        elnet_20_predict = elnet_20.predict(X_test)\n",
    "        elnet_20_predict_select = elnet_20_predict[14]\n",
    "        store_predictions_elnet_20.append(elnet_20_predict_select)\n",
    "        \n",
    "        elnet_50 = ElasticNet(alpha=a, l1_ratio=0.5, fit_intercept=False).fit(X_train, y_train)\n",
    "        elnet_50_predict = elnet_50.predict(X_test)\n",
    "        elnet_50_predict_select = elnet_50_predict[14]\n",
    "        store_predictions_elnet_50.append(elnet_50_predict_select)\n",
    "        \n",
    "        elnet_70 = ElasticNet(alpha=a, l1_ratio=0.7, fit_intercept=False).fit(X_train, y_train)\n",
    "        elnet_70_predict = elnet_70.predict(X_test)\n",
    "        elnet_70_predict_select = elnet_70_predict[14]\n",
    "        store_predictions_elnet_70.append(elnet_70_predict_select)\n",
    "    \n",
    "    store_predictions_list_ridge.append(store_predictions_ridge)\n",
    "    store_predictions_list_lasso.append(store_predictions_lasso)\n",
    "    store_predictions_list_elnet_20.append(store_predictions_elnet_20)\n",
    "    store_predictions_list_elnet_50.append(store_predictions_elnet_50)\n",
    "    store_predictions_list_elnet_70.append(store_predictions_elnet_70)\n",
    "        \n",
    "    store_predictions_df_ridge = pd.DataFrame(store_predictions_list_ridge)\n",
    "    store_predictions_df_lasso = pd.DataFrame(store_predictions_list_lasso)\n",
    "    store_predictions_df_elnet_20 = pd.DataFrame(store_predictions_list_elnet_20)\n",
    "    store_predictions_df_elnet_50 = pd.DataFrame(store_predictions_list_elnet_50)\n",
    "    store_predictions_df_elnet_70 = pd.DataFrame(store_predictions_list_elnet_70)\n",
    "\n"
   ]
  },
  {
   "cell_type": "code",
   "execution_count": null,
   "id": "a84c39b3",
   "metadata": {},
   "outputs": [],
   "source": [
    "predictions_df_list = [store_predictions_df_ridge, store_predictions_df_lasso, store_predictions_df_elnet_20, \n",
    "                       store_predictions_df_elnet_50, store_predictions_df_elnet_70]"
   ]
  }
 ],
 "metadata": {
  "kernelspec": {
   "display_name": "Python 3",
   "language": "python",
   "name": "python3"
  },
  "language_info": {
   "codemirror_mode": {
    "name": "ipython",
    "version": 3
   },
   "file_extension": ".py",
   "mimetype": "text/x-python",
   "name": "python",
   "nbconvert_exporter": "python",
   "pygments_lexer": "ipython3",
   "version": "3.8.8"
  }
 },
 "nbformat": 4,
 "nbformat_minor": 5
}
