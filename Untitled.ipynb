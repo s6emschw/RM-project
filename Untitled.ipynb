{
 "cells": [
  {
   "cell_type": "code",
   "execution_count": 1,
   "id": "b0ab9203",
   "metadata": {},
   "outputs": [],
   "source": [
    "import numpy as np \n",
    "import pandas as pd \n",
    "from sklearn.linear_model import LinearRegression, Ridge, ElasticNet, Lasso\n",
    "from sklearn.preprocessing import StandardScaler\n",
    "from functools import reduce  \n",
    "import matplotlib.pyplot as plt\n",
    "import statsmodels.api as sm\n",
    "import seaborn as sns\n",
    "from mlxtend.evaluate import bias_variance_decomp\n",
    "from sklearn import metrics\n",
    "from sklearn.model_selection import train_test_split\n",
    "\n",
    "import warnings\n",
    "warnings.filterwarnings('ignore')"
   ]
  },
  {
   "cell_type": "code",
   "execution_count": 2,
   "id": "4a0ad620",
   "metadata": {},
   "outputs": [],
   "source": [
    "from auxiliary_files.auxiliary_plots import * \n",
    "from auxiliary_files.auxiliary_analysis import * \n",
    "from auxiliary_files.auxiliary_tables import *"
   ]
  },
  {
   "cell_type": "code",
   "execution_count": 6,
   "id": "e785cc3b",
   "metadata": {},
   "outputs": [],
   "source": [
    "#np.random.seed(123)\n",
    "#np.random.seed(190)\n",
    "#np.random.seed(200)\n",
    "np.random.seed(210)\n",
    "#np.random.seed(66)\n",
    "\n",
    "\n",
    "n = 20 \n",
    "p = 8 \n",
    "true_betas = [3, 1.5, 0, 0, 2, 0, 0, 0]\n",
    "cor_factor = [0, 0.1, 0.3, 0.5, 0.7, 0.8]\n",
    "iterations = 500\n",
    "alphas = np.logspace(-4,1,200)\n",
    "\n",
    "store_X_test = []\n",
    "store_y_test = []\n",
    "\n",
    "\n",
    "for i in cor_factor: \n",
    "\n",
    "    y_test, X_test, df_test= get_sim_data(n, p, i, true_betas) # get training data\n",
    "    store_X_test.append(X_test)\n",
    "    store_y_test.append(y_test)\n",
    "\n",
    "df_predictions_1 = get_predictions(n, p, true_betas, cor_factor[0], iterations, alphas, store_X_test[0])\n",
    "df_predictions_2 = get_predictions(n, p, true_betas, cor_factor[1], iterations, alphas, store_X_test[1])\n",
    "df_predictions_3 = get_predictions(n, p, true_betas, cor_factor[2], iterations, alphas, store_X_test[2])\n",
    "df_predictions_4 = get_predictions(n, p, true_betas, cor_factor[3], iterations, alphas, store_X_test[3])\n",
    "df_predictions_5 = get_predictions(n, p, true_betas, cor_factor[4], iterations, alphas, store_X_test[4])\n",
    "df_predictions_6 = get_predictions(n, p, true_betas, cor_factor[5], iterations, alphas, store_X_test[5])\n",
    "\n",
    "\n",
    "store_mse_1, store_variance_1, store_bias_sq_1 = compute_mse(df_predictions_1, store_y_test[0])\n",
    "store_mse_2, store_variance_2, store_bias_sq_2 = compute_mse(df_predictions_2, store_y_test[1])\n",
    "store_mse_3, store_variance_3, store_bias_sq_3 = compute_mse(df_predictions_3, store_y_test[2])\n",
    "store_mse_4, store_variance_4, store_bias_sq_4 = compute_mse(df_predictions_4, store_y_test[3])\n",
    "store_mse_5, store_variance_5, store_bias_sq_5 = compute_mse(df_predictions_5, store_y_test[4])\n",
    "store_mse_6, store_variance_6, store_bias_sq_6 = compute_mse(df_predictions_6, store_y_test[5])\n",
    "\n"
   ]
  },
  {
   "cell_type": "code",
   "execution_count": 7,
   "id": "16763b51",
   "metadata": {},
   "outputs": [
    {
     "name": "stdout",
     "output_type": "stream",
     "text": [
      "1.294973556133842 0\n",
      "1.2951180617502536 0\n",
      "1.2962359060542044 0\n",
      "1.2958158266056012 0\n",
      "1.2951455563509326 0\n"
     ]
    }
   ],
   "source": [
    "for i in store_mse_1: \n",
    "    \n",
    "    print(min(i), np.argmin(i))"
   ]
  },
  {
   "cell_type": "code",
   "execution_count": 8,
   "id": "78b1ed94",
   "metadata": {},
   "outputs": [
    {
     "name": "stdout",
     "output_type": "stream",
     "text": [
      "1.2380474762671343 151\n",
      "0.5989540600341798 125\n",
      "1.160345900187367 106\n",
      "0.9793690331635143 116\n",
      "0.6130707112546397 125\n"
     ]
    }
   ],
   "source": [
    "for i in store_mse_2: \n",
    "    \n",
    "    print(min(i), np.argmin(i))"
   ]
  },
  {
   "cell_type": "code",
   "execution_count": 9,
   "id": "f137939f",
   "metadata": {},
   "outputs": [
    {
     "name": "stdout",
     "output_type": "stream",
     "text": [
      "2.0706833810097005 128\n",
      "1.3398163289517586 132\n",
      "2.0337815376364103 91\n",
      "1.8967791340267053 107\n",
      "1.3696791518626947 132\n"
     ]
    }
   ],
   "source": [
    "for i in store_mse_3: \n",
    "    \n",
    "    print(min(i), np.argmin(i))"
   ]
  },
  {
   "cell_type": "code",
   "execution_count": 10,
   "id": "1f82542e",
   "metadata": {},
   "outputs": [
    {
     "name": "stdout",
     "output_type": "stream",
     "text": [
      "0.6754013861143037 170\n",
      "0.6269705722939336 135\n",
      "0.631904903217388 120\n",
      "0.5794044196240361 125\n",
      "0.6188576862400641 134\n"
     ]
    }
   ],
   "source": [
    "#only setting where elastic net outperforms lasso and ridge. (for l1 = 0.5 and 0.7)\n",
    "\n",
    "for i in store_mse_4: \n",
    "    \n",
    "    print(min(i), np.argmin(i))"
   ]
  },
  {
   "cell_type": "code",
   "execution_count": 11,
   "id": "90e76061",
   "metadata": {},
   "outputs": [
    {
     "name": "stdout",
     "output_type": "stream",
     "text": [
      "0.9047012166206374 151\n",
      "0.8286202879153189 111\n",
      "0.8893109032297652 101\n",
      "0.8644077122487904 105\n",
      "0.8295943841382927 111\n"
     ]
    }
   ],
   "source": [
    "for i in store_mse_5: \n",
    "    \n",
    "    print(min(i), np.argmin(i))"
   ]
  },
  {
   "cell_type": "code",
   "execution_count": 12,
   "id": "14148bc2",
   "metadata": {},
   "outputs": [
    {
     "name": "stdout",
     "output_type": "stream",
     "text": [
      "0.6731623057226193 164\n",
      "0.521129891650058 125\n",
      "0.6376483053664417 114\n",
      "0.5839160663984087 117\n",
      "0.521873694062772 125\n"
     ]
    }
   ],
   "source": [
    "for i in store_mse_6: \n",
    "    \n",
    "    print(min(i), np.argmin(i))"
   ]
  },
  {
   "cell_type": "code",
   "execution_count": 13,
   "id": "d9d22512",
   "metadata": {},
   "outputs": [],
   "source": [
    "\"\"\"ridge should do best here in all cases\"\"\"\n",
    "\n",
    "np.random.seed(123)\n",
    "#np.random.seed(190)\n",
    "#np.random.seed(200)\n",
    "#np.random.seed(210)\n",
    "#np.random.seed(66)\n",
    "\n",
    "\n",
    "n = 20 \n",
    "p = 8 \n",
    "true_betas = np.repeat(0.85, 8)\n",
    "cor_factor = [0, 0.1, 0.3, 0.5, 0.7, 0.8]\n",
    "iterations = 500\n",
    "alphas = np.logspace(-4,1,200)\n",
    "\n",
    "store_X_test = []\n",
    "store_y_test = []\n",
    "\n",
    "\n",
    "for i in cor_factor: \n",
    "\n",
    "    y_test, X_test, df_test= get_sim_data(n, p, i, true_betas) # get training data\n",
    "    store_X_test.append(X_test)\n",
    "    store_y_test.append(y_test)\n",
    "\n",
    "df_predictions_ls_1 = get_predictions(n, p, true_betas, cor_factor[0], iterations, alphas, store_X_test[0])\n",
    "df_predictions_ls_2 = get_predictions(n, p, true_betas, cor_factor[1], iterations, alphas, store_X_test[1])\n",
    "df_predictions_ls_3 = get_predictions(n, p, true_betas, cor_factor[2], iterations, alphas, store_X_test[2])\n",
    "df_predictions_ls_4 = get_predictions(n, p, true_betas, cor_factor[3], iterations, alphas, store_X_test[3])\n",
    "df_predictions_ls_5 = get_predictions(n, p, true_betas, cor_factor[4], iterations, alphas, store_X_test[4])\n",
    "df_predictions_ls_6 = get_predictions(n, p, true_betas, cor_factor[5], iterations, alphas, store_X_test[5])\n",
    "\n",
    "\n",
    "store_mse_ls_1, store_variance_ls_1, store_bias_sq_ls_1 = compute_mse(df_predictions_ls_1, store_y_test[0])\n",
    "store_mse_ls_2, store_variance_ls_2, store_bias_sq_ls_2 = compute_mse(df_predictions_ls_2, store_y_test[1])\n",
    "store_mse_ls_3, store_variance_ls_3, store_bias_sq_ls_3 = compute_mse(df_predictions_ls_3, store_y_test[2])\n",
    "store_mse_ls_4, store_variance_ls_4, store_bias_sq_ls_4 = compute_mse(df_predictions_ls_4, store_y_test[3])\n",
    "store_mse_ls_5, store_variance_ls_5, store_bias_sq_ls_5 = compute_mse(df_predictions_ls_5, store_y_test[4])\n",
    "store_mse_ls_6, store_variance_ls_6, store_bias_sq_ls_6 = compute_mse(df_predictions_ls_6, store_y_test[5])\n",
    "\n",
    "\n"
   ]
  },
  {
   "cell_type": "code",
   "execution_count": 14,
   "id": "82890eb8",
   "metadata": {},
   "outputs": [
    {
     "name": "stdout",
     "output_type": "stream",
     "text": [
      "0.6328685732064164 199\n",
      "0.4157596358523855 181\n",
      "0.41282818752350364 192\n",
      "0.4161886833783439 193\n",
      "0.4160358786171014 187\n"
     ]
    }
   ],
   "source": [
    "for i in store_mse_ls_1: \n",
    "    \n",
    "    print(min(i), np.argmin(i))"
   ]
  },
  {
   "cell_type": "code",
   "execution_count": 15,
   "id": "bfe8ae42",
   "metadata": {},
   "outputs": [
    {
     "name": "stdout",
     "output_type": "stream",
     "text": [
      "2.4708848617041204 155\n",
      "2.547768294838287 0\n",
      "2.506256624737217 96\n",
      "2.5418651874153566 79\n",
      "2.5475430695676624 0\n"
     ]
    }
   ],
   "source": [
    "for i in store_mse_ls_2: \n",
    "    \n",
    "    print(min(i), np.argmin(i))"
   ]
  },
  {
   "cell_type": "code",
   "execution_count": 16,
   "id": "c50646d3",
   "metadata": {},
   "outputs": [
    {
     "name": "stdout",
     "output_type": "stream",
     "text": [
      "0.5214577708046586 199\n",
      "1.532239001309111 134\n",
      "0.585327762543371 153\n",
      "0.8819700161134203 147\n",
      "1.1238047450280437 143\n"
     ]
    }
   ],
   "source": [
    "for i in store_mse_ls_3: \n",
    "    \n",
    "    print(min(i), np.argmin(i))"
   ]
  },
  {
   "cell_type": "code",
   "execution_count": 17,
   "id": "fa0192a4",
   "metadata": {},
   "outputs": [
    {
     "name": "stdout",
     "output_type": "stream",
     "text": [
      "0.30673624106238695 194\n",
      "0.69148109757708 106\n",
      "0.35408706097896225 140\n",
      "0.45618938410309 135\n",
      "0.5566821256918226 129\n"
     ]
    }
   ],
   "source": [
    "for i in store_mse_ls_4: \n",
    "    \n",
    "    print(min(i), np.argmin(i))"
   ]
  },
  {
   "cell_type": "code",
   "execution_count": 18,
   "id": "824dfcb7",
   "metadata": {},
   "outputs": [
    {
     "name": "stdout",
     "output_type": "stream",
     "text": [
      "0.7364908724774366 166\n",
      "0.9055901649901404 81\n",
      "0.7721661835330006 112\n",
      "0.8317379452284769 105\n",
      "0.8669102900869129 98\n"
     ]
    }
   ],
   "source": [
    "for i in store_mse_ls_5: \n",
    "    \n",
    "    print(min(i), np.argmin(i))"
   ]
  },
  {
   "cell_type": "code",
   "execution_count": 19,
   "id": "38a48c58",
   "metadata": {},
   "outputs": [
    {
     "name": "stdout",
     "output_type": "stream",
     "text": [
      "0.1425766264124557 193\n",
      "0.5245712202852323 125\n",
      "0.1628614311142402 140\n",
      "0.21961946470192778 137\n",
      "0.2992716975351493 135\n"
     ]
    }
   ],
   "source": [
    "for i in store_mse_ls_6: \n",
    "    \n",
    "    print(min(i), np.argmin(i))"
   ]
  },
  {
   "cell_type": "markdown",
   "id": "d573a110",
   "metadata": {},
   "source": [
    "# High Dimensionality, sparsity, varying correlation"
   ]
  },
  {
   "cell_type": "code",
   "execution_count": 20,
   "id": "b776f2af",
   "metadata": {},
   "outputs": [],
   "source": [
    "def compute_mse(predictions_df_list, y_test, iterations):\n",
    "\n",
    "    store_mse_lists = []\n",
    "    store_variance_lists = []\n",
    "    store_bias_sq_lists = []\n",
    "\n",
    "    for df in enumerate(predictions_df_list):\n",
    "    \n",
    "        store_mse = []\n",
    "        store_variance = []\n",
    "        store_bias_sq = []\n",
    "    \n",
    "        for i in df[1].columns: \n",
    "\n",
    "            mse = np.sum((np.asarray(df[1].iloc[:,i]) - y_test.iloc[14])**2) / iterations\n",
    "            variance = np.mean((np.mean(df[1].iloc[:,i]) - np.asarray(df[1].iloc[:,i]))**2)\n",
    "            bias_squared = (np.mean(df[1].iloc[:,i]) - y_test.iloc[14])**2\n",
    "    \n",
    "            store_mse.append(mse)\n",
    "            store_variance.append(variance)\n",
    "            store_bias_sq.append(bias_squared)\n",
    "    \n",
    "        store_mse_lists.append(store_mse)\n",
    "        store_variance_lists.append(store_variance)\n",
    "        store_bias_sq_lists.append(store_bias_sq)\n",
    "    \n",
    "    return store_mse_lists, store_variance_lists, store_bias_sq_lists"
   ]
  },
  {
   "cell_type": "code",
   "execution_count": 5,
   "id": "4005d7ad",
   "metadata": {},
   "outputs": [
    {
     "data": {
      "text/plain": [
       "35"
      ]
     },
     "execution_count": 5,
     "metadata": {},
     "output_type": "execute_result"
    }
   ],
   "source": [
    "non_zero_betas = [10]\n",
    "zero_betas = [25]\n",
    "\n",
    "true_betas_hd = generate_true_betas(non_zero_betas, zero_betas, size_non_zero)\n",
    "\n",
    "len(true_betas_hd[0])"
   ]
  },
  {
   "cell_type": "code",
   "execution_count": 8,
   "id": "519c736d",
   "metadata": {},
   "outputs": [
    {
     "ename": "NameError",
     "evalue": "name 'iterations' is not defined",
     "output_type": "error",
     "traceback": [
      "\u001b[0;31m---------------------------------------------------------------------------\u001b[0m",
      "\u001b[0;31mNameError\u001b[0m                                 Traceback (most recent call last)",
      "\u001b[0;32m<ipython-input-8-47a9f8fdbfd5>\u001b[0m in \u001b[0;36m<module>\u001b[0;34m\u001b[0m\n\u001b[1;32m     36\u001b[0m \u001b[0;34m\u001b[0m\u001b[0m\n\u001b[1;32m     37\u001b[0m \u001b[0;34m\u001b[0m\u001b[0m\n\u001b[0;32m---> 38\u001b[0;31m \u001b[0mstore_mse_hd_1\u001b[0m\u001b[0;34m,\u001b[0m \u001b[0mstore_variance_hd_1\u001b[0m\u001b[0;34m,\u001b[0m \u001b[0mstore_bias_sq_hd_1\u001b[0m \u001b[0;34m=\u001b[0m \u001b[0mcompute_mse\u001b[0m\u001b[0;34m(\u001b[0m\u001b[0mdf_predictions_hd_1\u001b[0m\u001b[0;34m,\u001b[0m \u001b[0mstore_y_test\u001b[0m\u001b[0;34m[\u001b[0m\u001b[0;36m0\u001b[0m\u001b[0;34m]\u001b[0m\u001b[0;34m)\u001b[0m\u001b[0;34m\u001b[0m\u001b[0;34m\u001b[0m\u001b[0m\n\u001b[0m\u001b[1;32m     39\u001b[0m \u001b[0mstore_mse_hd_2\u001b[0m\u001b[0;34m,\u001b[0m \u001b[0mstore_variance_hd_2\u001b[0m\u001b[0;34m,\u001b[0m \u001b[0mstore_bias_sq_hd_2\u001b[0m \u001b[0;34m=\u001b[0m \u001b[0mcompute_mse\u001b[0m\u001b[0;34m(\u001b[0m\u001b[0mdf_predictions_hd_2\u001b[0m\u001b[0;34m,\u001b[0m \u001b[0mstore_y_test\u001b[0m\u001b[0;34m[\u001b[0m\u001b[0;36m1\u001b[0m\u001b[0;34m]\u001b[0m\u001b[0;34m)\u001b[0m\u001b[0;34m\u001b[0m\u001b[0;34m\u001b[0m\u001b[0m\n\u001b[1;32m     40\u001b[0m \u001b[0mstore_mse_hd_3\u001b[0m\u001b[0;34m,\u001b[0m \u001b[0mstore_variance_hd_3\u001b[0m\u001b[0;34m,\u001b[0m \u001b[0mstore_bias_sq_hd_3\u001b[0m \u001b[0;34m=\u001b[0m \u001b[0mcompute_mse\u001b[0m\u001b[0;34m(\u001b[0m\u001b[0mdf_predictions_hd_3\u001b[0m\u001b[0;34m,\u001b[0m \u001b[0mstore_y_test\u001b[0m\u001b[0;34m[\u001b[0m\u001b[0;36m2\u001b[0m\u001b[0;34m]\u001b[0m\u001b[0;34m)\u001b[0m\u001b[0;34m\u001b[0m\u001b[0;34m\u001b[0m\u001b[0m\n",
      "\u001b[0;32m~/Desktop/Stats&Metrics_RM/RM-project/auxiliary_files/auxiliary_analysis.py\u001b[0m in \u001b[0;36mcompute_mse\u001b[0;34m(predictions_df_list, y_test)\u001b[0m\n\u001b[1;32m    405\u001b[0m         \u001b[0mstore_bias_sq\u001b[0m \u001b[0;34m=\u001b[0m \u001b[0;34m[\u001b[0m\u001b[0;34m]\u001b[0m\u001b[0;34m\u001b[0m\u001b[0;34m\u001b[0m\u001b[0m\n\u001b[1;32m    406\u001b[0m \u001b[0;34m\u001b[0m\u001b[0m\n\u001b[0;32m--> 407\u001b[0;31m         \u001b[0;32mfor\u001b[0m \u001b[0mi\u001b[0m \u001b[0;32min\u001b[0m \u001b[0mdf\u001b[0m\u001b[0;34m[\u001b[0m\u001b[0;36m1\u001b[0m\u001b[0;34m]\u001b[0m\u001b[0;34m.\u001b[0m\u001b[0mcolumns\u001b[0m\u001b[0;34m:\u001b[0m\u001b[0;34m\u001b[0m\u001b[0;34m\u001b[0m\u001b[0m\n\u001b[0m\u001b[1;32m    408\u001b[0m \u001b[0;34m\u001b[0m\u001b[0m\n\u001b[1;32m    409\u001b[0m             \u001b[0mmse\u001b[0m \u001b[0;34m=\u001b[0m \u001b[0mnp\u001b[0m\u001b[0;34m.\u001b[0m\u001b[0msum\u001b[0m\u001b[0;34m(\u001b[0m\u001b[0;34m(\u001b[0m\u001b[0mnp\u001b[0m\u001b[0;34m.\u001b[0m\u001b[0masarray\u001b[0m\u001b[0;34m(\u001b[0m\u001b[0mdf\u001b[0m\u001b[0;34m[\u001b[0m\u001b[0;36m1\u001b[0m\u001b[0;34m]\u001b[0m\u001b[0;34m.\u001b[0m\u001b[0miloc\u001b[0m\u001b[0;34m[\u001b[0m\u001b[0;34m:\u001b[0m\u001b[0;34m,\u001b[0m\u001b[0mi\u001b[0m\u001b[0;34m]\u001b[0m\u001b[0;34m)\u001b[0m \u001b[0;34m-\u001b[0m \u001b[0my_test\u001b[0m\u001b[0;34m.\u001b[0m\u001b[0miloc\u001b[0m\u001b[0;34m[\u001b[0m\u001b[0;36m14\u001b[0m\u001b[0;34m]\u001b[0m\u001b[0;34m)\u001b[0m\u001b[0;34m**\u001b[0m\u001b[0;36m2\u001b[0m\u001b[0;34m)\u001b[0m \u001b[0;34m/\u001b[0m \u001b[0miterations\u001b[0m\u001b[0;34m\u001b[0m\u001b[0;34m\u001b[0m\u001b[0m\n",
      "\u001b[0;31mNameError\u001b[0m: name 'iterations' is not defined"
     ]
    }
   ],
   "source": [
    "#np.random.seed(123) works fine! \n",
    "np.random.seed(190)\n",
    "#np.random.seed(200)\n",
    "#np.random.seed(210)\n",
    "#np.random.seed(66)\n",
    "\n",
    "non_zero_betas = [10]\n",
    "zero_betas = [25]\n",
    "size_non_zero = 2\n",
    "true_betas_hd = generate_true_betas(non_zero_betas, zero_betas, size_non_zero)\n",
    "\n",
    "n = 30\n",
    "p = 35 \n",
    "cor_factor = [0, 0.1, 0.3, 0.5, 0.6, 0.7, 0.75, 0.8, 0.9]\n",
    "iterations = 500\n",
    "alphas = np.logspace(-4,1,200)\n",
    "\n",
    "store_X_test = []\n",
    "store_y_test = []\n",
    "\n",
    "for i in cor_factor: \n",
    "\n",
    "    y_test, X_test, df_test= get_sim_data(n, p, i, true_betas_hd[0]) # get training data\n",
    "    store_X_test.append(X_test)\n",
    "    store_y_test.append(y_test)\n",
    "\n",
    "df_predictions_hd_1 = get_predictions(n, p, true_betas_hd[0], cor_factor[0], iterations, alphas, store_X_test[0])\n",
    "df_predictions_hd_2 = get_predictions(n, p, true_betas_hd[0], cor_factor[1], iterations, alphas, store_X_test[1])\n",
    "df_predictions_hd_3 = get_predictions(n, p, true_betas_hd[0], cor_factor[2], iterations, alphas, store_X_test[2])\n",
    "df_predictions_hd_4 = get_predictions(n, p, true_betas_hd[0], cor_factor[3], iterations, alphas, store_X_test[3])\n",
    "df_predictions_hd_5 = get_predictions(n, p, true_betas_hd[0], cor_factor[4], iterations, alphas, store_X_test[4])\n",
    "df_predictions_hd_6 = get_predictions(n, p, true_betas_hd[0], cor_factor[5], iterations, alphas, store_X_test[5])\n",
    "df_predictions_hd_7 = get_predictions(n, p, true_betas_hd[0], cor_factor[6], iterations, alphas, store_X_test[6])\n",
    "df_predictions_hd_8 = get_predictions(n, p, true_betas_hd[0], cor_factor[7], iterations, alphas, store_X_test[7])\n",
    "df_predictions_hd_9 = get_predictions(n, p, true_betas_hd[0], cor_factor[8], iterations, alphas, store_X_test[8])\n",
    "\n",
    "\n",
    "store_mse_hd_1, store_variance_hd_1, store_bias_sq_hd_1 = compute_mse(df_predictions_hd_1, store_y_test[0], iterations)\n",
    "store_mse_hd_2, store_variance_hd_2, store_bias_sq_hd_2 = compute_mse(df_predictions_hd_2, store_y_test[1], iterations)\n",
    "store_mse_hd_3, store_variance_hd_3, store_bias_sq_hd_3 = compute_mse(df_predictions_hd_3, store_y_test[2], iterations)\n",
    "store_mse_hd_4, store_variance_hd_4, store_bias_sq_hd_4 = compute_mse(df_predictions_hd_4, store_y_test[3], iterations)\n",
    "store_mse_hd_5, store_variance_hd_5, store_bias_sq_hd_5 = compute_mse(df_predictions_hd_5, store_y_test[4], iterations)\n",
    "store_mse_hd_6, store_variance_hd_6, store_bias_sq_hd_6 = compute_mse(df_predictions_hd_6, store_y_test[5], iterations)\n",
    "store_mse_hd_7, store_variance_hd_7, store_bias_sq_hd_7 = compute_mse(df_predictions_hd_7, store_y_test[6], iterations)\n",
    "store_mse_hd_8, store_variance_hd_8, store_bias_sq_hd_8 = compute_mse(df_predictions_hd_8, store_y_test[7], iterations)\n",
    "store_mse_hd_9, store_variance_hd_9, store_bias_sq_hd_9 = compute_mse(df_predictions_hd_9, store_y_test[8], iterations)\n"
   ]
  },
  {
   "cell_type": "code",
   "execution_count": 22,
   "id": "e6e65375",
   "metadata": {},
   "outputs": [
    {
     "name": "stdout",
     "output_type": "stream",
     "text": [
      "5.722529553607648 189\n",
      "1.9477681259102655 120\n",
      "4.7110870312262465 124\n",
      "3.368037086637932 118\n",
      "2.668716815920924 117\n"
     ]
    }
   ],
   "source": [
    "#2.98\n",
    "\n",
    "for i in store_mse_hd_1: \n",
    "    \n",
    "    print(min(i), np.argmin(i))"
   ]
  },
  {
   "cell_type": "code",
   "execution_count": 23,
   "id": "ae6e0037",
   "metadata": {},
   "outputs": [
    {
     "name": "stdout",
     "output_type": "stream",
     "text": [
      "9.411593333421497 169\n",
      "4.078711445913463 119\n",
      "7.931813540195717 112\n",
      "6.049486716970318 114\n",
      "5.1215344065827 113\n"
     ]
    }
   ],
   "source": [
    "# 5.07\n",
    "\n",
    "for i in store_mse_hd_2: \n",
    "    \n",
    "    print(min(i), np.argmin(i))"
   ]
  },
  {
   "cell_type": "code",
   "execution_count": 24,
   "id": "cdee64f1",
   "metadata": {},
   "outputs": [
    {
     "name": "stdout",
     "output_type": "stream",
     "text": [
      "15.714047611249931 135\n",
      "6.57466636625762 103\n",
      "11.092029259535344 20\n",
      "10.504714116071582 91\n",
      "8.569909531192156 97\n"
     ]
    }
   ],
   "source": [
    "#9.42\n",
    "\n",
    "for i in store_mse_hd_3: \n",
    "    \n",
    "    print(min(i), np.argmin(i))"
   ]
  },
  {
   "cell_type": "code",
   "execution_count": 25,
   "id": "01f847c7",
   "metadata": {},
   "outputs": [
    {
     "name": "stdout",
     "output_type": "stream",
     "text": [
      "4.973013440888867 176\n",
      "1.6970645917525118 128\n",
      "3.8193329846314747 124\n",
      "2.562492063331387 129\n",
      "2.0390959927532215 131\n"
     ]
    }
   ],
   "source": [
    "#2.18\n",
    "\n",
    "for i in store_mse_hd_4: \n",
    "    \n",
    "    print(min(i), np.argmin(i))"
   ]
  },
  {
   "cell_type": "code",
   "execution_count": 26,
   "id": "5cca8975",
   "metadata": {},
   "outputs": [
    {
     "name": "stdout",
     "output_type": "stream",
     "text": [
      "2.6407831326971545 168\n",
      "1.346996941609988 122\n",
      "2.0678403886953127 112\n",
      "1.514983664737439 117\n",
      "1.2995911852931374 120\n"
     ]
    }
   ],
   "source": [
    "# 1.33 \n",
    "\n",
    "for i in store_mse_hd_5: \n",
    "    \n",
    "    print(min(i), np.argmin(i))"
   ]
  },
  {
   "cell_type": "code",
   "execution_count": 27,
   "id": "41ce5c9a",
   "metadata": {},
   "outputs": [
    {
     "name": "stdout",
     "output_type": "stream",
     "text": [
      "3.2632563671166532 164\n",
      "1.7160947171621663 123\n",
      "2.659132100675153 111\n",
      "1.8822090239682039 119\n",
      "1.588781290366569 122\n"
     ]
    }
   ],
   "source": [
    "#1.48\n",
    "\n",
    "for i in store_mse_hd_6: \n",
    "    \n",
    "    print(min(i), np.argmin(i))"
   ]
  },
  {
   "cell_type": "code",
   "execution_count": 28,
   "id": "8307f3aa",
   "metadata": {},
   "outputs": [
    {
     "name": "stdout",
     "output_type": "stream",
     "text": [
      "1.0757929804698305 182\n",
      "0.7343055682549087 128\n",
      "0.8052974368154648 128\n",
      "0.5374601099992359 132\n",
      "0.4921354430580525 132\n"
     ]
    }
   ],
   "source": [
    "# 0.40\n",
    "\n",
    "for i in store_mse_hd_7: \n",
    "    \n",
    "    print(min(i), np.argmin(i))"
   ]
  },
  {
   "cell_type": "code",
   "execution_count": 29,
   "id": "8093ff47",
   "metadata": {},
   "outputs": [
    {
     "name": "stdout",
     "output_type": "stream",
     "text": [
      "1.976905220337567 175\n",
      "1.2760203084945747 128\n",
      "1.6124881253648364 122\n",
      "1.151750704656661 128\n",
      "1.045683234003479 130\n"
     ]
    }
   ],
   "source": [
    "for i in store_mse_hd_8: \n",
    "    \n",
    "    print(min(i), np.argmin(i))"
   ]
  },
  {
   "cell_type": "code",
   "execution_count": 30,
   "id": "66be2614",
   "metadata": {},
   "outputs": [
    {
     "name": "stdout",
     "output_type": "stream",
     "text": [
      "1.3562858581845878 180\n",
      "1.7139667625002597 120\n",
      "1.0570625744241764 127\n",
      "0.8140912690392613 136\n",
      "0.8605410173064758 139\n"
     ]
    }
   ],
   "source": [
    "for i in store_mse_hd_9: \n",
    "    \n",
    "    print(min(i), np.argmin(i))"
   ]
  },
  {
   "cell_type": "code",
   "execution_count": null,
   "id": "0e0d5c43",
   "metadata": {},
   "outputs": [],
   "source": []
  }
 ],
 "metadata": {
  "kernelspec": {
   "display_name": "Python 3",
   "language": "python",
   "name": "python3"
  },
  "language_info": {
   "codemirror_mode": {
    "name": "ipython",
    "version": 3
   },
   "file_extension": ".py",
   "mimetype": "text/x-python",
   "name": "python",
   "nbconvert_exporter": "python",
   "pygments_lexer": "ipython3",
   "version": "3.8.8"
  }
 },
 "nbformat": 4,
 "nbformat_minor": 5
}
