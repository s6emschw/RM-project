{
 "cells": [
  {
   "cell_type": "code",
   "execution_count": 1,
   "id": "b0ab9203",
   "metadata": {},
   "outputs": [],
   "source": [
    "import numpy as np \n",
    "import pandas as pd \n",
    "from sklearn.linear_model import LinearRegression, Ridge, ElasticNet, Lasso\n",
    "from sklearn.preprocessing import StandardScaler\n",
    "from functools import reduce  \n",
    "import matplotlib.pyplot as plt\n",
    "import statsmodels.api as sm\n",
    "import seaborn as sns\n",
    "from mlxtend.evaluate import bias_variance_decomp\n",
    "from sklearn import metrics\n",
    "from sklearn.model_selection import train_test_split\n",
    "\n",
    "import warnings\n",
    "warnings.filterwarnings('ignore')"
   ]
  },
  {
   "cell_type": "code",
   "execution_count": 2,
   "id": "4a0ad620",
   "metadata": {},
   "outputs": [],
   "source": [
    "from auxiliary_files.auxiliary_plots import * \n",
    "from auxiliary_files.auxiliary_analysis import * \n",
    "from auxiliary_files.auxiliary_tables import *"
   ]
  },
  {
   "cell_type": "markdown",
   "id": "9a4c3e29",
   "metadata": {},
   "source": [
    "# 1. High Dimensionality, No Multicollinearity, Varying Sparsity\n",
    "\n",
    "Decreasing sparsity. We expect lasso to initially do better first. As sparsity declines ridge will begin doing better."
   ]
  },
  {
   "cell_type": "code",
   "execution_count": 3,
   "id": "6c1887c6",
   "metadata": {},
   "outputs": [],
   "source": [
    "non_zero_betas = [5, 10, 20, 30, 35]\n",
    "zero_betas = [30, 25, 15, 5, 0]\n",
    "size_non_zero = 2\n",
    "\n",
    "true_betas_list = generate_true_betas(non_zero_betas, zero_betas, size_non_zero)"
   ]
  },
  {
   "cell_type": "code",
   "execution_count": 4,
   "id": "ea4ce8cb",
   "metadata": {},
   "outputs": [],
   "source": [
    "np.random.seed(900)\n",
    "\n",
    "n = 30\n",
    "p = 35\n",
    "cor_factor = 0 # we have not introduced multicollinearity yet. \n",
    "iterations = 500\n",
    "alphas = np.logspace(-4,1,200)\n",
    "\n",
    "store_X_test = []\n",
    "store_y_test = []\n",
    "\n",
    "\n",
    "for i in true_betas_list: \n",
    "        \n",
    "    y_test, X_test, df_test= get_sim_data(n, p, cor_factor, i) # get training data\n",
    "    store_X_test.append(X_test)\n",
    "    store_y_test.append(y_test)\n",
    "    \n",
    "\n",
    "df_predictions_case_1_5 = get_predictions(n, p, true_betas_list[0], cor_factor, iterations, alphas, store_X_test[0])\n",
    "df_predictions_case_1_10 = get_predictions(n, p, true_betas_list[1], cor_factor, iterations, alphas, store_X_test[1])\n",
    "df_predictions_case_1_20 = get_predictions(n, p, true_betas_list[2], cor_factor, iterations, alphas, store_X_test[2])\n",
    "df_predictions_case_1_30 = get_predictions(n, p, true_betas_list[3], cor_factor, iterations, alphas, store_X_test[3])\n",
    "df_predictions_case_1_35 = get_predictions(n, p, true_betas_list[4], cor_factor, iterations, alphas, store_X_test[4])\n",
    "\n"
   ]
  },
  {
   "cell_type": "code",
   "execution_count": 5,
   "id": "f7b29702",
   "metadata": {},
   "outputs": [],
   "source": [
    "store_mse_case_1_5, store_variance_case_1_5, store_bias_sq_case_1_5 = compute_mse(df_predictions_case_1_5, store_y_test[0], iterations)\n",
    "store_mse_case_1_10, store_variance_case_1_10, store_bias_sq_case_1_10 = compute_mse(df_predictions_case_1_10, store_y_test[1], iterations)\n",
    "store_mse_case_1_20, store_variance_case_1_20, store_bias_sq_case_1_20 = compute_mse(df_predictions_case_1_20, store_y_test[2], iterations)\n",
    "store_mse_case_1_30, store_variance_case_1_30, store_bias_sq_case_1_30 = compute_mse(df_predictions_case_1_30, store_y_test[3], iterations)\n",
    "store_mse_case_1_35, store_variance_case_1_35, store_bias_sq_case_1_35 = compute_mse(df_predictions_case_1_35, store_y_test[4], iterations)"
   ]
  },
  {
   "cell_type": "code",
   "execution_count": 8,
   "id": "565d23cb",
   "metadata": {},
   "outputs": [
    {
     "name": "stdout",
     "output_type": "stream",
     "text": [
      "3.7626561864334027 10.0 199\n",
      "0.8472838834411287 5.291978735958447 188\n",
      "0.8436058071235312 10.0 199\n",
      "0.8439125130725295 6.294988990221888 191\n",
      "0.8472808871872038 5.94113398496504 190\n"
     ]
    }
   ],
   "source": [
    "# lasso does best, which is what we expect!\n",
    "\n",
    "for i in store_mse_case_1_5: \n",
    "    \n",
    "    print(min(i), alphas[np.argmin(i)], np.argmin(i))\n"
   ]
  },
  {
   "cell_type": "code",
   "execution_count": 9,
   "id": "5995a7cb",
   "metadata": {},
   "outputs": [
    {
     "name": "stdout",
     "output_type": "stream",
     "text": [
      "12.543674012019405 0.3489101213406774 141\n",
      "5.903202553744391 0.03872038781812557 103\n",
      "10.182073639411025 0.0003001835813575589 19\n",
      "8.759536147085697 0.01933891750455232 91\n",
      "7.421212303358962 0.025826187606826773 96\n"
     ]
    }
   ],
   "source": [
    "# lasso does best, which is what we expect!\n",
    "\n",
    "for i in store_mse_case_1_10: \n",
    "    \n",
    "    print(min(i), alphas[np.argmin(i)], np.argmin(i))\n"
   ]
  },
  {
   "cell_type": "code",
   "execution_count": 10,
   "id": "844b124e",
   "metadata": {},
   "outputs": [
    {
     "name": "stdout",
     "output_type": "stream",
     "text": [
      "23.894818675387025 0.3489101213406774 141\n",
      "24.090341930569554 0.00045005576757004977 26\n",
      "21.36041182993634 0.00045005576757004977 26\n",
      "21.686878385127415 0.0005672426068491978 30\n",
      "22.379635965038165 0.0005672426068491978 30\n"
     ]
    }
   ],
   "source": [
    "# lasso starts doing not so well as sparsity decreases. Here, one of the elastic net models would be best. \n",
    "\n",
    "for i in store_mse_case_1_20: \n",
    "    \n",
    "    print(min(i), alphas[np.argmin(i)], np.argmin(i))\n"
   ]
  },
  {
   "cell_type": "code",
   "execution_count": 11,
   "id": "e6a0a4ba",
   "metadata": {},
   "outputs": [
    {
     "name": "stdout",
     "output_type": "stream",
     "text": [
      "19.776455662265025 1.5702901247293775 167\n",
      "37.99722978906514 0.0004008806328898465 24\n",
      "22.259370475573437 0.05170920242896761 108\n",
      "28.107538310508048 0.0690551352016233 113\n",
      "31.786594832226868 0.0007149428986597577 34\n"
     ]
    }
   ],
   "source": [
    "# lasso starts doing not so well as sparsity decreases. Here, one of the elastic net models would be best. \n",
    "\n",
    "for i in store_mse_case_1_30: \n",
    "    \n",
    "    print(min(i), alphas[np.argmin(i)], np.argmin(i))\n",
    "\n"
   ]
  },
  {
   "cell_type": "code",
   "execution_count": 12,
   "id": "3bb2fdba",
   "metadata": {},
   "outputs": [
    {
     "name": "stdout",
     "output_type": "stream",
     "text": [
      "36.0744567030203 0.5872786613189482 150\n",
      "60.17020876915898 0.0003180625692794119 20\n",
      "40.36581850751137 0.018251834943190444 90\n",
      "46.96128315783719 0.0007575250258771912 35\n",
      "52.04609512071966 0.0006010276782070381 31\n"
     ]
    }
   ],
   "source": [
    "# ridge does best as we would expect!\n",
    "\n",
    "for i in store_mse_case_1_35: \n",
    "    \n",
    "    print(min(i), alphas[np.argmin(i)], np.argmin(i))"
   ]
  },
  {
   "cell_type": "markdown",
   "id": "f9bf1f80",
   "metadata": {},
   "source": [
    "# 2. Low Dimensionality, Moderate to High Multicollineary, Varying Sparsity"
   ]
  },
  {
   "cell_type": "code",
   "execution_count": 3,
   "id": "f3a34b1d",
   "metadata": {},
   "outputs": [
    {
     "data": {
      "text/plain": [
       "[array([2, 2, 2, 0, 0, 0, 0, 0, 0, 0]),\n",
       " array([2, 2, 2, 2, 2, 0, 0, 0, 0, 0]),\n",
       " array([2, 2, 2, 2, 2, 2, 0, 0, 0, 0]),\n",
       " array([2, 2, 2, 2, 2, 2, 2, 0, 0, 0]),\n",
       " array([2, 2, 2, 2, 2, 2, 2, 2, 2, 2])]"
      ]
     },
     "execution_count": 3,
     "metadata": {},
     "output_type": "execute_result"
    }
   ],
   "source": [
    "non_zero_betas_2 = [3, 5, 6, 7, 10]\n",
    "zero_betas_2 = [7, 5, 4, 3, 0]\n",
    "size_non_zero = 2\n",
    "\n",
    "true_betas_list_2 = generate_true_betas(non_zero_betas_2, zero_betas_2, size_non_zero)\n",
    "true_betas_list_2"
   ]
  },
  {
   "cell_type": "code",
   "execution_count": 4,
   "id": "398e9184",
   "metadata": {},
   "outputs": [],
   "source": [
    "np.random.seed(900)\n",
    "\n",
    "n = 30\n",
    "p = 10\n",
    "cor_factor = 0.8 \n",
    "iterations = 500\n",
    "alphas = np.logspace(-4,1,200)\n",
    "\n",
    "store_X_test = []\n",
    "store_y_test = []\n",
    "\n",
    "\n",
    "for i in true_betas_list_2: \n",
    "        \n",
    "    y_test, X_test, df_test= get_sim_data(n, p, cor_factor, i) # get training data\n",
    "    store_X_test.append(X_test)\n",
    "    store_y_test.append(y_test)\n",
    "    \n",
    "\n",
    "df_predictions_case_2_3 = get_predictions(n, p, true_betas_list_2[0], cor_factor, iterations, alphas, store_X_test[0])\n",
    "df_predictions_case_2_5 = get_predictions(n, p, true_betas_list_2[1], cor_factor, iterations, alphas, store_X_test[1])\n",
    "df_predictions_case_2_6 = get_predictions(n, p, true_betas_list_2[2], cor_factor, iterations, alphas, store_X_test[2])\n",
    "df_predictions_case_2_7 = get_predictions(n, p, true_betas_list_2[3], cor_factor, iterations, alphas, store_X_test[3])\n",
    "df_predictions_case_2_10 = get_predictions(n, p, true_betas_list_2[4], cor_factor, iterations, alphas, store_X_test[4])\n",
    "\n"
   ]
  },
  {
   "cell_type": "code",
   "execution_count": 5,
   "id": "80c27d1c",
   "metadata": {},
   "outputs": [],
   "source": [
    "store_mse_case_2_3, store_variance_case_2_3, store_bias_sq_case_2_3 = compute_mse(df_predictions_case_2_3, store_y_test[0], iterations)\n",
    "store_mse_case_2_5, store_variance_case_2_5, store_bias_sq_case_2_5 = compute_mse(df_predictions_case_2_5, store_y_test[1], iterations)\n",
    "store_mse_case_2_6, store_variance_case_2_6, store_bias_sq_case_2_6 = compute_mse(df_predictions_case_2_6, store_y_test[2], iterations)\n",
    "store_mse_case_2_7, store_variance_case_2_7, store_bias_sq_case_2_7 = compute_mse(df_predictions_case_2_7, store_y_test[3], iterations)\n",
    "store_mse_case_2_10, store_variance_case_2_10, store_bias_sq_case_2_10 = compute_mse(df_predictions_case_2_10, store_y_test[4], iterations)"
   ]
  },
  {
   "cell_type": "code",
   "execution_count": 53,
   "id": "a6db0647",
   "metadata": {},
   "outputs": [
    {
     "data": {
      "text/plain": [
       "<matplotlib.legend.Legend at 0x7ff2edb18eb0>"
      ]
     },
     "execution_count": 53,
     "metadata": {},
     "output_type": "execute_result"
    },
    {
     "data": {
      "image/png": "[encoded data removed]",
      "text/plain": [
       "<Figure size 720x720 with 1 Axes>"
      ]
     },
     "metadata": {
      "needs_background": "light"
     },
     "output_type": "display_data"
    }
   ],
   "source": [
    "plt.figure(figsize = (10,10))\n",
    "\n",
    "ax = plt.gca()\n",
    "\n",
    "mse = ax.plot(alphas, store_mse_case_2_3[0], label = \"mse\")\n",
    "variance = ax.plot(alphas, store_variance_case_2_3[0], label = \"variance\")\n",
    "bias_sq = ax.plot(alphas, store_bias_sq_case_2_3[0], label = \"squared bias\")\n",
    "ax.set_xscale(\"log\")\n",
    "#ax.set_xlim(ax.get_xlim()[::-1]) \n",
    "plt.xlabel(f\"$\\lambda$\", fontsize = 20)\n",
    "plt.ylabel(\"MSE\", fontsize = 20)\n",
    "ax.tick_params(axis='both', which='major', labelsize = 20)\n",
    "plt.axis(\"tight\")\n",
    "plt.title(\"Bias-Variance Tradeoff\", fontsize = 28)\n",
    "ax.legend([\"mse\", \"variance\", \"squared bias\"], fontsize=15)\n",
    "\n",
    "#plt.savefig(\"bias_var_tradeoff.png\", bbox_inches='tight')\n",
    "\n",
    "\n"
   ]
  },
  {
   "cell_type": "code",
   "execution_count": 23,
   "id": "551aa14e",
   "metadata": {},
   "outputs": [
    {
     "name": "stdout",
     "output_type": "stream",
     "text": [
      "0.5703931985552084 2.4945081352303164 175\n",
      "0.6074652841180656 0.04605922041145108 106\n",
      "0.5716626424916842 0.07752597488629465 115\n",
      "0.5769390653348312 0.073168071434272 114\n",
      "0.5518238460909465 0.7401959996915645 154\n"
     ]
    }
   ],
   "source": [
    "# 3\n",
    "\n",
    "for i in store_mse_case_2_3: \n",
    "    \n",
    "    print(min(i), alphas[np.argmin(i)], np.argmin(i))"
   ]
  },
  {
   "cell_type": "code",
   "execution_count": 7,
   "id": "ef0b00bd",
   "metadata": {},
   "outputs": [
    {
     "name": "stdout",
     "output_type": "stream",
     "text": [
      "1.8523734468086095 1.4820207057988601 166\n",
      "0.8862729834565379 0.6222570836730231 151\n",
      "0.8595717044745932 1.8679135990207847 170\n",
      "0.5717964775342641 1.3200884008314195 164\n",
      "0.43286704469473125 1.1097524964120722 161\n"
     ]
    }
   ],
   "source": [
    "# 5\n",
    "\n",
    "for i in store_mse_case_2_5: \n",
    "    \n",
    "    print(min(i), alphas[np.argmin(i)], np.argmin(i))"
   ]
  },
  {
   "cell_type": "code",
   "execution_count": 8,
   "id": "82e7076a",
   "metadata": {},
   "outputs": [
    {
     "name": "stdout",
     "output_type": "stream",
     "text": [
      "1.4558216239730732 0.3696912707195028 142\n",
      "1.3803763503136328 0.04605922041145108 106\n",
      "1.4453774001587134 0.015343684089300131 87\n",
      "1.4223773696361466 0.025826187606826773 96\n",
      "1.397206756162786 0.04880251583654434 107\n"
     ]
    }
   ],
   "source": [
    "# 6\n",
    "\n",
    "for i in store_mse_case_2_6: \n",
    "    \n",
    "    print(min(i), alphas[np.argmin(i)], np.argmin(i))"
   ]
  },
  {
   "cell_type": "code",
   "execution_count": 9,
   "id": "b889eab5",
   "metadata": {},
   "outputs": [
    {
     "name": "stdout",
     "output_type": "stream",
     "text": [
      "0.2698842216431751 1.9791668678535574 171\n",
      "0.29752310018936234 0.2072921779595372 132\n",
      "0.2648188839540474 0.08703591361485166 117\n",
      "0.24571522201177226 0.2465811075822604 135\n",
      "0.21781489512742527 0.3696912707195028 142\n"
     ]
    }
   ],
   "source": [
    "# 7\n",
    "\n",
    "for i in store_mse_case_2_7: \n",
    "    \n",
    "    print(min(i), alphas[np.argmin(i)], np.argmin(i))"
   ]
  },
  {
   "cell_type": "code",
   "execution_count": 10,
   "id": "5a82398f",
   "metadata": {},
   "outputs": [
    {
     "name": "stdout",
     "output_type": "stream",
     "text": [
      "1.1400072512415527 0.29331662783900453 138\n",
      "1.1663384501815308 0.0001 0\n",
      "1.149327159830785 0.009115888299750819 78\n",
      "1.163597480028371 0.004552935074866948 66\n",
      "1.166022067453524 0.0001 0\n"
     ]
    }
   ],
   "source": [
    "# 10\n",
    "\n",
    "for i in store_mse_case_2_10: \n",
    "    \n",
    "    print(min(i), alphas[np.argmin(i)], np.argmin(i))"
   ]
  },
  {
   "cell_type": "markdown",
   "id": "afdf6b3a",
   "metadata": {},
   "source": [
    "# 3. Low Dimensionality, High Sparsity, Varying Degrees of Multicollineary "
   ]
  },
  {
   "cell_type": "code",
   "execution_count": 22,
   "id": "e785cc3b",
   "metadata": {},
   "outputs": [],
   "source": [
    "#np.random.seed(123)\n",
    "#np.random.seed(190)\n",
    "#np.random.seed(200)\n",
    "np.random.seed(210)\n",
    "#np.random.seed(66)\n",
    "\n",
    "\n",
    "n = 20 \n",
    "p = 8 \n",
    "true_betas = [3, 1.5, 0, 0, 2, 0, 0, 0]\n",
    "cor_factor = [0, 0.1, 0.3, 0.5, 0.7, 0.8]\n",
    "iterations = 500\n",
    "alphas = np.logspace(-4,1,200)\n",
    "\n",
    "store_X_test = []\n",
    "store_y_test = []\n",
    "\n",
    "\n",
    "for i in cor_factor: \n",
    "\n",
    "    y_test, X_test, df_test= get_sim_data(n, p, i, true_betas) # get training data\n",
    "    store_X_test.append(X_test)\n",
    "    store_y_test.append(y_test)\n",
    "\n",
    "df_predictions_case_3_1 = get_predictions(n, p, true_betas, cor_factor[0], iterations, alphas, store_X_test[0])\n",
    "df_predictions_case_3_2 = get_predictions(n, p, true_betas, cor_factor[1], iterations, alphas, store_X_test[1])\n",
    "df_predictions_case_3_3 = get_predictions(n, p, true_betas, cor_factor[2], iterations, alphas, store_X_test[2])\n",
    "df_predictions_case_3_4 = get_predictions(n, p, true_betas, cor_factor[3], iterations, alphas, store_X_test[3])\n",
    "df_predictions_case_3_5 = get_predictions(n, p, true_betas, cor_factor[4], iterations, alphas, store_X_test[4])\n",
    "df_predictions_case_3_6 = get_predictions(n, p, true_betas, cor_factor[5], iterations, alphas, store_X_test[5])\n"
   ]
  },
  {
   "cell_type": "code",
   "execution_count": 23,
   "id": "631d64e7",
   "metadata": {},
   "outputs": [],
   "source": [
    "store_mse_case_3_1, store_variance_case_3_1, store_bias_sq_case_3_1 = compute_mse(df_predictions_case_3_1, store_y_test[0], iterations)\n",
    "store_mse_case_3_2, store_variance_case_3_2, store_bias_sq_case_3_2 = compute_mse(df_predictions_case_3_2, store_y_test[1], iterations)\n",
    "store_mse_case_3_3, store_variance_case_3_3, store_bias_sq_case_3_3 = compute_mse(df_predictions_case_3_3, store_y_test[2], iterations)\n",
    "store_mse_case_3_4, store_variance_case_3_4, store_bias_sq_case_3_4 = compute_mse(df_predictions_case_3_4, store_y_test[3], iterations)\n",
    "store_mse_case_3_5, store_variance_case_3_5, store_bias_sq_case_3_5 = compute_mse(df_predictions_case_3_5, store_y_test[4], iterations)\n",
    "store_mse_case_3_6, store_variance_case_3_6, store_bias_sq_case_3_6 = compute_mse(df_predictions_case_3_6, store_y_test[5], iterations)"
   ]
  },
  {
   "cell_type": "code",
   "execution_count": 24,
   "id": "16763b51",
   "metadata": {},
   "outputs": [
    {
     "name": "stdout",
     "output_type": "stream",
     "text": [
      "1.294973556133842 0.0001 0\n",
      "1.2951180617502536 0.0001 0\n",
      "1.2962359060542044 0.0001 0\n",
      "1.2958158266056012 0.0001 0\n",
      "1.2955371805807807 0.0001 0\n"
     ]
    }
   ],
   "source": [
    "# 0\n",
    "\n",
    "for i in store_mse_case_3_1: \n",
    "    \n",
    "    print(min(i), alphas[np.argmin(i)], np.argmin(i))"
   ]
  },
  {
   "cell_type": "code",
   "execution_count": 25,
   "id": "78b1ed94",
   "metadata": {},
   "outputs": [
    {
     "name": "stdout",
     "output_type": "stream",
     "text": [
      "1.2380474762671343 0.6222570836730231 151\n",
      "0.5989540600341798 0.13826221737646563 125\n",
      "1.160345900187367 0.04605922041145108 106\n",
      "0.9793690331635143 0.0821434358491943 116\n",
      "0.8277329228882556 0.10353218432956626 120\n"
     ]
    }
   ],
   "source": [
    "# 0.1\n",
    "\n",
    "for i in store_mse_case_3_2: \n",
    "    \n",
    "    print(min(i), alphas[np.argmin(i)], np.argmin(i))"
   ]
  },
  {
   "cell_type": "code",
   "execution_count": 26,
   "id": "f137939f",
   "metadata": {},
   "outputs": [
    {
     "name": "stdout",
     "output_type": "stream",
     "text": [
      "2.0706833810097005 0.16446761779946645 128\n",
      "1.3398163289517586 0.2072921779595372 132\n",
      "2.0337815376364103 0.01933891750455232 91\n",
      "1.8967791340267053 0.04880251583654434 107\n",
      "1.723655168568804 0.09221978823334331 118\n"
     ]
    }
   ],
   "source": [
    "# 0.3\n",
    "\n",
    "for i in store_mse_case_3_3: \n",
    "    \n",
    "    print(min(i), alphas[np.argmin(i)], np.argmin(i))"
   ]
  },
  {
   "cell_type": "code",
   "execution_count": 27,
   "id": "1f82542e",
   "metadata": {},
   "outputs": [
    {
     "name": "stdout",
     "output_type": "stream",
     "text": [
      "0.6754013861143037 1.8679135990207847 170\n",
      "0.6269705722939336 0.2465811075822604 135\n",
      "0.631904903217388 0.10353218432956626 120\n",
      "0.5794044196240361 0.13826221737646563 125\n",
      "0.5660720725963433 0.16446761779946645 128\n"
     ]
    }
   ],
   "source": [
    "# 0.5\n",
    "#only setting where elastic net outperforms lasso and ridge. (for l1 = 0.5 and 0.7)\n",
    "\n",
    "for i in store_mse_case_3_4: \n",
    "    \n",
    "    print(min(i), alphas[np.argmin(i)], np.argmin(i))"
   ]
  },
  {
   "cell_type": "code",
   "execution_count": 28,
   "id": "90e76061",
   "metadata": {},
   "outputs": [
    {
     "name": "stdout",
     "output_type": "stream",
     "text": [
      "0.9047012166206374 0.6222570836730231 151\n",
      "0.8286202879153189 0.06150985788580504 111\n",
      "0.8893109032297652 0.0344896226040576 101\n",
      "0.8644077122487904 0.043470131581250265 105\n",
      "0.8505712698861405 0.04880251583654434 107\n"
     ]
    }
   ],
   "source": [
    "# 0.7\n",
    "\n",
    "for i in store_mse_case_3_5: \n",
    "    \n",
    "    print(min(i), alphas[np.argmin(i)], np.argmin(i))"
   ]
  },
  {
   "cell_type": "code",
   "execution_count": 29,
   "id": "14148bc2",
   "metadata": {},
   "outputs": [
    {
     "name": "stdout",
     "output_type": "stream",
     "text": [
      "0.6731623057226193 1.3200884008314195 164\n",
      "0.521129891650058 0.13826221737646563 125\n",
      "0.6376483053664417 0.073168071434272 114\n",
      "0.5839160663984087 0.08703591361485166 117\n",
      "0.5518261290727996 0.10353218432956626 120\n"
     ]
    }
   ],
   "source": [
    "# 0.8\n",
    "for i in store_mse_case_3_6: \n",
    "    \n",
    "    print(min(i), alphas[np.argmin(i)], np.argmin(i))"
   ]
  },
  {
   "cell_type": "markdown",
   "id": "1c4f5206",
   "metadata": {},
   "source": [
    "# 4. Same in Case 3, but all betas are set to 0.85"
   ]
  },
  {
   "cell_type": "code",
   "execution_count": 30,
   "id": "d9d22512",
   "metadata": {},
   "outputs": [],
   "source": [
    "\"\"\"ridge should do best here in all cases\"\"\"\n",
    "\n",
    "np.random.seed(123)\n",
    "#np.random.seed(190)\n",
    "#np.random.seed(200)\n",
    "#np.random.seed(210)\n",
    "#np.random.seed(66)\n",
    "\n",
    "\n",
    "n = 20 \n",
    "p = 8 \n",
    "true_betas = np.repeat(0.85, 8)\n",
    "cor_factor = [0, 0.1, 0.3, 0.5, 0.7, 0.8]\n",
    "iterations = 500\n",
    "alphas = np.logspace(-4,1,200)\n",
    "\n",
    "store_X_test = []\n",
    "store_y_test = []\n",
    "\n",
    "\n",
    "for i in cor_factor: \n",
    "\n",
    "    y_test, X_test, df_test= get_sim_data(n, p, i, true_betas) # get training data\n",
    "    store_X_test.append(X_test)\n",
    "    store_y_test.append(y_test)\n",
    "\n",
    "df_predictions_case_4_1 = get_predictions(n, p, true_betas, cor_factor[0], iterations, alphas, store_X_test[0])\n",
    "df_predictions_case_4_2 = get_predictions(n, p, true_betas, cor_factor[1], iterations, alphas, store_X_test[1])\n",
    "df_predictions_case_4_3 = get_predictions(n, p, true_betas, cor_factor[2], iterations, alphas, store_X_test[2])\n",
    "df_predictions_case_4_4 = get_predictions(n, p, true_betas, cor_factor[3], iterations, alphas, store_X_test[3])\n",
    "df_predictions_case_4_5 = get_predictions(n, p, true_betas, cor_factor[4], iterations, alphas, store_X_test[4])\n",
    "df_predictions_case_4_6 = get_predictions(n, p, true_betas, cor_factor[5], iterations, alphas, store_X_test[5])\n"
   ]
  },
  {
   "cell_type": "code",
   "execution_count": 31,
   "id": "440a18ce",
   "metadata": {},
   "outputs": [],
   "source": [
    "store_mse_case_4_1, store_variance_case_4_1, store_bias_sq_case_4_1 = compute_mse(df_predictions_case_4_1, store_y_test[0], iterations)\n",
    "store_mse_case_4_2, store_variance_case_4_2, store_bias_sq_case_4_2 = compute_mse(df_predictions_case_4_2, store_y_test[1], iterations)\n",
    "store_mse_case_4_3, store_variance_case_4_3, store_bias_sq_case_4_3 = compute_mse(df_predictions_case_4_3, store_y_test[2], iterations)\n",
    "store_mse_case_4_4, store_variance_case_4_4, store_bias_sq_case_4_4 = compute_mse(df_predictions_case_4_4, store_y_test[3], iterations)\n",
    "store_mse_case_4_5, store_variance_case_4_5, store_bias_sq_case_4_5 = compute_mse(df_predictions_case_4_5, store_y_test[4], iterations)\n",
    "store_mse_case_4_6, store_variance_case_4_6, store_bias_sq_case_4_6 = compute_mse(df_predictions_case_4_6, store_y_test[5], iterations)\n"
   ]
  },
  {
   "cell_type": "code",
   "execution_count": 32,
   "id": "82890eb8",
   "metadata": {},
   "outputs": [
    {
     "name": "stdout",
     "output_type": "stream",
     "text": [
      "0.6328685732064164 10.0 199\n",
      "0.4157596358523855 3.52970730273065 181\n",
      "0.41282818752350364 6.669919663030129 192\n",
      "0.4161886833783439 7.067181273927491 193\n",
      "0.4160358786171014 4.99450511585514 187\n"
     ]
    }
   ],
   "source": [
    "for i in store_mse_case_4_1: \n",
    "    \n",
    "    print(min(i), alphas[np.argmin(i)], np.argmin(i))"
   ]
  },
  {
   "cell_type": "code",
   "execution_count": 33,
   "id": "bfe8ae42",
   "metadata": {},
   "outputs": [
    {
     "name": "stdout",
     "output_type": "stream",
     "text": [
      "2.4708848617041204 0.7842822061337682 155\n",
      "2.547768294838287 0.0001 0\n",
      "2.506256624737217 0.025826187606826773 96\n",
      "2.5418651874153566 0.009658832241158708 79\n",
      "2.5475430695676624 0.0001 0\n"
     ]
    }
   ],
   "source": [
    "# \n",
    "\n",
    "for i in store_mse_case_4_2: \n",
    "    \n",
    "    print(min(i), alphas[np.argmin(i)], np.argmin(i))"
   ]
  },
  {
   "cell_type": "code",
   "execution_count": 34,
   "id": "c50646d3",
   "metadata": {},
   "outputs": [
    {
     "name": "stdout",
     "output_type": "stream",
     "text": [
      "0.5214577708046586 10.0 199\n",
      "1.532239001309111 0.23272024789604098 134\n",
      "0.585327762543371 0.698587974678525 153\n",
      "0.8819700161134203 0.4937047852839004 147\n",
      "1.1238047450280437 0.39171014908092605 143\n"
     ]
    }
   ],
   "source": [
    "#\n",
    "\n",
    "for i in store_mse_case_4_3: \n",
    "    \n",
    "    print(min(i), alphas[np.argmin(i)], np.argmin(i))"
   ]
  },
  {
   "cell_type": "code",
   "execution_count": 35,
   "id": "fa0192a4",
   "metadata": {},
   "outputs": [
    {
     "name": "stdout",
     "output_type": "stream",
     "text": [
      "0.30673624106238695 7.488103857590031 194\n",
      "0.69148109757708 0.04605922041145108 106\n",
      "0.35408706097896225 0.3292971255097151 140\n",
      "0.45618938410309 0.2465811075822604 135\n",
      "0.5566821256918226 0.17426333860096507 129\n"
     ]
    }
   ],
   "source": [
    "for i in store_mse_case_4_4: \n",
    "    \n",
    "    print(min(i), alphas[np.argmin(i)], np.argmin(i))"
   ]
  },
  {
   "cell_type": "code",
   "execution_count": 36,
   "id": "824dfcb7",
   "metadata": {},
   "outputs": [
    {
     "name": "stdout",
     "output_type": "stream",
     "text": [
      "0.7364908724774366 1.4820207057988601 166\n",
      "0.9055901649901404 0.010843659686896108 81\n",
      "0.7721661835330006 0.06517339604882427 112\n",
      "0.8317379452284769 0.043470131581250265 105\n",
      "0.8669102900869129 0.02899422853882878 98\n"
     ]
    }
   ],
   "source": [
    "#\n",
    "\n",
    "for i in store_mse_case_4_5: \n",
    "    \n",
    "    print(min(i), alphas[np.argmin(i)], np.argmin(i))"
   ]
  },
  {
   "cell_type": "code",
   "execution_count": 37,
   "id": "38a48c58",
   "metadata": {},
   "outputs": [
    {
     "name": "stdout",
     "output_type": "stream",
     "text": [
      "0.1425766264124557 7.067181273927491 193\n",
      "0.5245712202852323 0.13826221737646563 125\n",
      "0.1628614311142402 0.3292971255097151 140\n",
      "0.21961946470192778 0.27682866303920667 137\n",
      "0.2992716975351493 0.2465811075822604 135\n"
     ]
    }
   ],
   "source": [
    "for i in store_mse_case_4_6: \n",
    "    \n",
    "    print(min(i), alphas[np.argmin(i)], np.argmin(i))"
   ]
  },
  {
   "cell_type": "markdown",
   "id": "d573a110",
   "metadata": {},
   "source": [
    "# 5. High Dimensionality, High Sparsity, Varying Multicollinearity"
   ]
  },
  {
   "cell_type": "code",
   "execution_count": 38,
   "id": "519c736d",
   "metadata": {},
   "outputs": [],
   "source": [
    "#np.random.seed(123) works fine! \n",
    "np.random.seed(190)\n",
    "#np.random.seed(200)\n",
    "#np.random.seed(210)\n",
    "#np.random.seed(66)\n",
    "\n",
    "non_zero_betas = [10]\n",
    "zero_betas = [25]\n",
    "size_non_zero = 2\n",
    "true_betas_hd = generate_true_betas(non_zero_betas, zero_betas, size_non_zero)\n",
    "\n",
    "n = 30\n",
    "p = 35 \n",
    "cor_factor = [0, 0.1, 0.3, 0.5, 0.6, 0.7, 0.75, 0.8, 0.9]\n",
    "iterations = 500\n",
    "alphas = np.logspace(-4,1,200)\n",
    "\n",
    "store_X_test = []\n",
    "store_y_test = []\n",
    "\n",
    "for i in cor_factor: \n",
    "\n",
    "    y_test, X_test, df_test= get_sim_data(n, p, i, true_betas_hd[0]) # get training data\n",
    "    store_X_test.append(X_test)\n",
    "    store_y_test.append(y_test)\n",
    "\n",
    "df_predictions_case_5_1 = get_predictions(n, p, true_betas_hd[0], cor_factor[0], iterations, alphas, store_X_test[0])\n",
    "df_predictions_case_5_2 = get_predictions(n, p, true_betas_hd[0], cor_factor[1], iterations, alphas, store_X_test[1])\n",
    "df_predictions_case_5_3 = get_predictions(n, p, true_betas_hd[0], cor_factor[2], iterations, alphas, store_X_test[2])\n",
    "df_predictions_case_5_4 = get_predictions(n, p, true_betas_hd[0], cor_factor[3], iterations, alphas, store_X_test[3])\n",
    "df_predictions_case_5_5 = get_predictions(n, p, true_betas_hd[0], cor_factor[4], iterations, alphas, store_X_test[4])\n",
    "df_predictions_case_5_6 = get_predictions(n, p, true_betas_hd[0], cor_factor[5], iterations, alphas, store_X_test[5])\n",
    "df_predictions_case_5_7 = get_predictions(n, p, true_betas_hd[0], cor_factor[6], iterations, alphas, store_X_test[6])\n",
    "df_predictions_case_5_8 = get_predictions(n, p, true_betas_hd[0], cor_factor[7], iterations, alphas, store_X_test[7])\n",
    "df_predictions_case_5_9 = get_predictions(n, p, true_betas_hd[0], cor_factor[8], iterations, alphas, store_X_test[8])\n"
   ]
  },
  {
   "cell_type": "code",
   "execution_count": 39,
   "id": "fcda3220",
   "metadata": {},
   "outputs": [],
   "source": [
    "store_mse_case_5_1, store_variance_case_5_1, store_bias_sq_case_5_1 = compute_mse(df_predictions_case_5_1, store_y_test[0], iterations)\n",
    "store_mse_case_5_2, store_variance_case_5_2, store_bias_sq_case_5_2 = compute_mse(df_predictions_case_5_2, store_y_test[1], iterations)\n",
    "store_mse_case_5_3, store_variance_case_5_3, store_bias_sq_case_5_3 = compute_mse(df_predictions_case_5_3, store_y_test[2], iterations)\n",
    "store_mse_case_5_4, store_variance_case_5_4, store_bias_sq_case_5_4 = compute_mse(df_predictions_case_5_4, store_y_test[3], iterations)\n",
    "store_mse_case_5_5, store_variance_case_5_5, store_bias_sq_case_5_5 = compute_mse(df_predictions_case_5_5, store_y_test[4], iterations)\n",
    "store_mse_case_5_6, store_variance_case_5_6, store_bias_sq_case_5_6 = compute_mse(df_predictions_case_5_6, store_y_test[5], iterations)\n",
    "store_mse_case_5_7, store_variance_case_5_7, store_bias_sq_case_5_7 = compute_mse(df_predictions_case_5_7, store_y_test[6], iterations)\n",
    "store_mse_case_5_8, store_variance_case_5_8, store_bias_sq_case_5_8 = compute_mse(df_predictions_case_5_8, store_y_test[7], iterations)\n",
    "store_mse_case_5_9, store_variance_case_5_9, store_bias_sq_case_5_9 = compute_mse(df_predictions_case_5_9, store_y_test[8], iterations)"
   ]
  },
  {
   "cell_type": "code",
   "execution_count": 40,
   "id": "e6e65375",
   "metadata": {},
   "outputs": [
    {
     "name": "stdout",
     "output_type": "stream",
     "text": [
      "5.722529553607648 5.607169938205458 189\n",
      "1.9477681259102655 0.10353218432956626 120\n",
      "4.7110870312262465 0.1304901978014403 124\n",
      "3.368037086637932 0.09221978823334331 118\n",
      "2.668716815920924 0.08703591361485166 117\n"
     ]
    }
   ],
   "source": [
    "\n",
    "for i in store_mse_case_5_1: \n",
    "    \n",
    "    print(min(i), alphas[np.argmin(i)], np.argmin(i))"
   ]
  },
  {
   "cell_type": "code",
   "execution_count": 41,
   "id": "ae6e0037",
   "metadata": {},
   "outputs": [
    {
     "name": "stdout",
     "output_type": "stream",
     "text": [
      "9.411593333421497 1.762914118095948 169\n",
      "4.078711445913463 0.09771241535346502 119\n",
      "7.931813540195717 0.06517339604882427 112\n",
      "6.049486716970318 0.073168071434272 114\n",
      "5.1215344065827 0.0690551352016233 113\n"
     ]
    }
   ],
   "source": [
    "#\n",
    "for i in store_mse_case_5_2: \n",
    "    \n",
    "    print(min(i), alphas[np.argmin(i)], np.argmin(i))"
   ]
  },
  {
   "cell_type": "code",
   "execution_count": 42,
   "id": "cdee64f1",
   "metadata": {},
   "outputs": [
    {
     "name": "stdout",
     "output_type": "stream",
     "text": [
      "15.714047611249931 0.2465811075822604 135\n",
      "6.57466636625762 0.03872038781812557 103\n",
      "11.092029259535344 0.0003180625692794119 20\n",
      "10.504714116071582 0.01933891750455232 91\n",
      "8.569909531192156 0.02736439997074672 97\n"
     ]
    }
   ],
   "source": [
    "#\n",
    "for i in store_mse_case_5_3: \n",
    "    \n",
    "    print(min(i), alphas[np.argmin(i)], np.argmin(i))"
   ]
  },
  {
   "cell_type": "code",
   "execution_count": 43,
   "id": "01f847c7",
   "metadata": {},
   "outputs": [
    {
     "name": "stdout",
     "output_type": "stream",
     "text": [
      "4.973013440888867 2.643081486974108 176\n",
      "1.6970645917525118 0.16446761779946645 128\n",
      "3.8193329846314747 0.1304901978014403 124\n",
      "2.562492063331387 0.17426333860096507 129\n",
      "2.0390959927532215 0.19563983435170648 131\n"
     ]
    }
   ],
   "source": [
    "\n",
    "for i in store_mse_case_5_4: \n",
    "    \n",
    "    print(min(i), alphas[np.argmin(i)], np.argmin(i))"
   ]
  },
  {
   "cell_type": "code",
   "execution_count": 44,
   "id": "5cca8975",
   "metadata": {},
   "outputs": [
    {
     "name": "stdout",
     "output_type": "stream",
     "text": [
      "2.6407831326971545 1.6638168860761307 168\n",
      "1.346996941609988 0.1162322468679853 122\n",
      "2.0678403886953127 0.06517339604882427 112\n",
      "1.514983664737439 0.08703591361485166 117\n",
      "1.2995911852931374 0.10353218432956626 120\n"
     ]
    }
   ],
   "source": [
    "\n",
    "for i in store_mse_case_5_5: \n",
    "    \n",
    "    print(min(i), alphas[np.argmin(i)], np.argmin(i))"
   ]
  },
  {
   "cell_type": "code",
   "execution_count": 45,
   "id": "41ce5c9a",
   "metadata": {},
   "outputs": [
    {
     "name": "stdout",
     "output_type": "stream",
     "text": [
      "3.2632563671166532 1.3200884008314195 164\n",
      "1.7160947171621663 0.12315506032928261 123\n",
      "2.659132100675153 0.06150985788580504 111\n",
      "1.8822090239682039 0.09771241535346502 119\n",
      "1.588781290366569 0.1162322468679853 122\n"
     ]
    }
   ],
   "source": [
    "#\n",
    "for i in store_mse_case_5_6: \n",
    "    \n",
    "    print(min(i), alphas[np.argmin(i)], np.argmin(i))"
   ]
  },
  {
   "cell_type": "code",
   "execution_count": 46,
   "id": "8307f3aa",
   "metadata": {},
   "outputs": [
    {
     "name": "stdout",
     "output_type": "stream",
     "text": [
      "1.0757929804698305 3.7399373024788014 182\n",
      "0.7343055682549087 0.16446761779946645 128\n",
      "0.8052974368154648 0.16446761779946645 128\n",
      "0.5374601099992359 0.2072921779595372 132\n",
      "0.4921354430580525 0.2072921779595372 132\n"
     ]
    }
   ],
   "source": [
    "\n",
    "\n",
    "for i in store_mse_case_5_7: \n",
    "    \n",
    "    print(min(i), alphas[np.argmin(i)], np.argmin(i))"
   ]
  },
  {
   "cell_type": "code",
   "execution_count": 47,
   "id": "8093ff47",
   "metadata": {},
   "outputs": [
    {
     "name": "stdout",
     "output_type": "stream",
     "text": [
      "1.976905220337567 2.4945081352303164 175\n",
      "1.2760203084945747 0.16446761779946645 128\n",
      "1.6124881253648364 0.1162322468679853 122\n",
      "1.151750704656661 0.16446761779946645 128\n",
      "1.045683234003479 0.18464249428955445 130\n"
     ]
    }
   ],
   "source": [
    "for i in store_mse_case_5_8: \n",
    "    \n",
    "    print(min(i), alphas[np.argmin(i)], np.argmin(i))"
   ]
  },
  {
   "cell_type": "code",
   "execution_count": 48,
   "id": "66be2614",
   "metadata": {},
   "outputs": [
    {
     "name": "stdout",
     "output_type": "stream",
     "text": [
      "1.3562858581845878 3.331294787934677 180\n",
      "1.7139667625002597 0.10353218432956626 120\n",
      "1.0570625744241764 0.1552225357427048 127\n",
      "0.8140912690392613 0.2612675225563329 136\n",
      "0.8605410173064758 0.3107866187782014 139\n"
     ]
    }
   ],
   "source": [
    "for i in store_mse_case_5_9: \n",
    "    \n",
    "    print(min(i), alphas[np.argmin(i)], np.argmin(i))"
   ]
  },
  {
   "cell_type": "code",
   "execution_count": null,
   "id": "0e0d5c43",
   "metadata": {},
   "outputs": [],
   "source": []
  }
 ],
 "metadata": {
  "kernelspec": {
   "display_name": "Python 3",
   "language": "python",
   "name": "python3"
  },
  "language_info": {
   "codemirror_mode": {
    "name": "ipython",
    "version": 3
   },
   "file_extension": ".py",
   "mimetype": "text/x-python",
   "name": "python",
   "nbconvert_exporter": "python",
   "pygments_lexer": "ipython3",
   "version": "3.8.8"
  }
 },
 "nbformat": 4,
 "nbformat_minor": 5
}
